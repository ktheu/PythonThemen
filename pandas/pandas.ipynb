{
 "cells": [
  {
   "cell_type": "markdown",
   "id": "75466093-c1c5-41fb-aa6e-78d73578a55f",
   "metadata": {},
   "source": [
    "### Pandas\n",
    "\n",
    "**pandas** ist eine Python-Bibliothek für Datenanalyse und Datenmanipulation. pandas macht es sehr einfach, strukturierte Daten (wie Excel-Tabellen) in Python zu bearbeiten.\n",
    "\n"
   ]
  },
  {
   "cell_type": "code",
   "execution_count": 1,
   "id": "8ea1be8a-f6a3-4eae-83cb-b53169475484",
   "metadata": {},
   "outputs": [],
   "source": [
    "import pandas as pd"
   ]
  },
  {
   "cell_type": "markdown",
   "id": "632d1f88-fbde-42c2-afbb-301ddb713174",
   "metadata": {},
   "source": [
    "Die zwei wichtigsten Datenstrukturen sind\n",
    "\n",
    "- Series\n",
    "- Dataframes\n",
    "\n",
    "\n",
    "1. Series (eindimensional)\n",
    "Eine Series ist wie eine Spalte in Excel:"
   ]
  },
  {
   "cell_type": "code",
   "execution_count": 2,
   "id": "44c7b380-44ab-41ba-b1ae-bd9d312b095c",
   "metadata": {},
   "outputs": [
    {
     "name": "stdout",
     "output_type": "stream",
     "text": [
      "0    1.5\n",
      "1    2.0\n",
      "2    1.7\n",
      "3    2.3\n",
      "4    1.9\n",
      "dtype: float64\n"
     ]
    }
   ],
   "source": [
    "# Series erstellen\n",
    "noten = pd.Series([1.5, 2.0, 1.7, 2.3, 1.9])\n",
    "print(noten)"
   ]
  },
  {
   "cell_type": "markdown",
   "id": "c87ccd08-ebbc-4b8c-8838-952b022a63ce",
   "metadata": {},
   "source": [
    "Der Spalte können wir einen Namen geben, der taucht dann auf, wenn wir die Series in ein dataframe umwandeln."
   ]
  },
  {
   "cell_type": "code",
   "execution_count": 13,
   "id": "d532b608-f1ec-4fb9-8232-e43c4c131a83",
   "metadata": {},
   "outputs": [],
   "source": [
    "noten.name = 'Note'"
   ]
  },
  {
   "cell_type": "markdown",
   "id": "d1496e31-1439-46bb-a621-e4671d518719",
   "metadata": {},
   "source": [
    "Wir können den Index verändern."
   ]
  },
  {
   "cell_type": "code",
   "execution_count": 14,
   "id": "ff5550ba-3354-45d8-b9b4-fec2540ad8e7",
   "metadata": {},
   "outputs": [],
   "source": [
    "noten.index = ['Anna', 'Ben', 'Clara', 'David', 'Emma']"
   ]
  },
  {
   "cell_type": "code",
   "execution_count": 15,
   "id": "e9cdaf24-fac9-4809-8c2b-f12f4abbb18c",
   "metadata": {},
   "outputs": [
    {
     "data": {
      "text/plain": [
       "Anna     1.5\n",
       "Ben      2.0\n",
       "Clara    1.7\n",
       "David    2.3\n",
       "Emma     1.9\n",
       "Name: Note, dtype: float64"
      ]
     },
     "execution_count": 15,
     "metadata": {},
     "output_type": "execute_result"
    }
   ],
   "source": [
    "noten"
   ]
  },
  {
   "cell_type": "markdown",
   "id": "d43059de-8fde-412b-a044-f34117b536fd",
   "metadata": {},
   "source": [
    "Eine Series können wir uns vorstellen wie ein dictionary, das für die Datenanalyse zusätzliche Funktionen hat."
   ]
  },
  {
   "cell_type": "markdown",
   "id": "4e266593-5864-4ec7-9807-e523fa2df8d4",
   "metadata": {},
   "source": [
    "#### Dataframe\n",
    "\n",
    "Ein DataFrame ist wie eine komplette Excel-Tabelle."
   ]
  },
  {
   "cell_type": "code",
   "execution_count": 60,
   "id": "2cbe66f5-bc57-42e6-9357-0a4c5b102d45",
   "metadata": {},
   "outputs": [
    {
     "data": {
      "text/html": [
       "<div>\n",
       "<style scoped>\n",
       "    .dataframe tbody tr th:only-of-type {\n",
       "        vertical-align: middle;\n",
       "    }\n",
       "\n",
       "    .dataframe tbody tr th {\n",
       "        vertical-align: top;\n",
       "    }\n",
       "\n",
       "    .dataframe thead th {\n",
       "        text-align: right;\n",
       "    }\n",
       "</style>\n",
       "<table border=\"1\" class=\"dataframe\">\n",
       "  <thead>\n",
       "    <tr style=\"text-align: right;\">\n",
       "      <th></th>\n",
       "      <th>Name</th>\n",
       "      <th>Alter</th>\n",
       "      <th>Mathe</th>\n",
       "      <th>Deutsch</th>\n",
       "    </tr>\n",
       "  </thead>\n",
       "  <tbody>\n",
       "    <tr>\n",
       "      <th>0</th>\n",
       "      <td>Anna</td>\n",
       "      <td>16</td>\n",
       "      <td>1.5</td>\n",
       "      <td>2.1</td>\n",
       "    </tr>\n",
       "    <tr>\n",
       "      <th>1</th>\n",
       "      <td>Ben</td>\n",
       "      <td>17</td>\n",
       "      <td>2.0</td>\n",
       "      <td>1.8</td>\n",
       "    </tr>\n",
       "    <tr>\n",
       "      <th>2</th>\n",
       "      <td>Clara</td>\n",
       "      <td>16</td>\n",
       "      <td>1.7</td>\n",
       "      <td>1.5</td>\n",
       "    </tr>\n",
       "    <tr>\n",
       "      <th>3</th>\n",
       "      <td>David</td>\n",
       "      <td>17</td>\n",
       "      <td>2.3</td>\n",
       "      <td>2.0</td>\n",
       "    </tr>\n",
       "    <tr>\n",
       "      <th>4</th>\n",
       "      <td>Emma</td>\n",
       "      <td>16</td>\n",
       "      <td>1.9</td>\n",
       "      <td>1.7</td>\n",
       "    </tr>\n",
       "  </tbody>\n",
       "</table>\n",
       "</div>"
      ],
      "text/plain": [
       "    Name  Alter  Mathe  Deutsch\n",
       "0   Anna     16    1.5      2.1\n",
       "1    Ben     17    2.0      1.8\n",
       "2  Clara     16    1.7      1.5\n",
       "3  David     17    2.3      2.0\n",
       "4   Emma     16    1.9      1.7"
      ]
     },
     "execution_count": 60,
     "metadata": {},
     "output_type": "execute_result"
    }
   ],
   "source": [
    "# DataFrame aus Dictionary erstellen\n",
    "schuelerdaten = {\n",
    "    'Name': ['Anna', 'Ben', 'Clara', 'David', 'Emma'],\n",
    "    'Alter': [16, 17, 16, 17, 16],\n",
    "    'Mathe': [1.5, 2.0, 1.7, 2.3, 1.9],\n",
    "    'Deutsch': [2.1, 1.8, 1.5, 2.0, 1.7]\n",
    "}\n",
    "df = pd.DataFrame(schuelerdaten)\n",
    "df"
   ]
  },
  {
   "cell_type": "markdown",
   "id": "a7b6c99e-04dd-4633-ab5d-163d9f1d4f90",
   "metadata": {},
   "source": [
    "### Die wichtigsten Funktionen\n",
    "\n",
    "#### Dateien laden und speichern"
   ]
  },
  {
   "cell_type": "code",
   "execution_count": 61,
   "id": "139919e1-cf93-43bd-a39c-5a14370c3d29",
   "metadata": {},
   "outputs": [
    {
     "data": {
      "text/html": [
       "<div>\n",
       "<style scoped>\n",
       "    .dataframe tbody tr th:only-of-type {\n",
       "        vertical-align: middle;\n",
       "    }\n",
       "\n",
       "    .dataframe tbody tr th {\n",
       "        vertical-align: top;\n",
       "    }\n",
       "\n",
       "    .dataframe thead th {\n",
       "        text-align: right;\n",
       "    }\n",
       "</style>\n",
       "<table border=\"1\" class=\"dataframe\">\n",
       "  <thead>\n",
       "    <tr style=\"text-align: right;\">\n",
       "      <th></th>\n",
       "      <th>Name</th>\n",
       "      <th>Alter</th>\n",
       "      <th>Klasse</th>\n",
       "      <th>Mathe</th>\n",
       "      <th>Deutsch</th>\n",
       "      <th>Englisch</th>\n",
       "      <th>Lieblingsfach</th>\n",
       "    </tr>\n",
       "  </thead>\n",
       "  <tbody>\n",
       "    <tr>\n",
       "      <th>0</th>\n",
       "      <td>Anna</td>\n",
       "      <td>16</td>\n",
       "      <td>11a</td>\n",
       "      <td>1.5</td>\n",
       "      <td>2.1</td>\n",
       "      <td>1.8</td>\n",
       "      <td>Mathe</td>\n",
       "    </tr>\n",
       "    <tr>\n",
       "      <th>1</th>\n",
       "      <td>Ben</td>\n",
       "      <td>17</td>\n",
       "      <td>11a</td>\n",
       "      <td>2.0</td>\n",
       "      <td>1.8</td>\n",
       "      <td>2.2</td>\n",
       "      <td>Deutsch</td>\n",
       "    </tr>\n",
       "    <tr>\n",
       "      <th>2</th>\n",
       "      <td>Clara</td>\n",
       "      <td>16</td>\n",
       "      <td>11b</td>\n",
       "      <td>1.7</td>\n",
       "      <td>1.5</td>\n",
       "      <td>1.3</td>\n",
       "      <td>Englisch</td>\n",
       "    </tr>\n",
       "    <tr>\n",
       "      <th>3</th>\n",
       "      <td>David</td>\n",
       "      <td>17</td>\n",
       "      <td>11a</td>\n",
       "      <td>2.3</td>\n",
       "      <td>2.0</td>\n",
       "      <td>1.9</td>\n",
       "      <td>Sport</td>\n",
       "    </tr>\n",
       "    <tr>\n",
       "      <th>4</th>\n",
       "      <td>Emma</td>\n",
       "      <td>16</td>\n",
       "      <td>11b</td>\n",
       "      <td>1.9</td>\n",
       "      <td>1.7</td>\n",
       "      <td>2.0</td>\n",
       "      <td>Mathe</td>\n",
       "    </tr>\n",
       "    <tr>\n",
       "      <th>5</th>\n",
       "      <td>Felix</td>\n",
       "      <td>17</td>\n",
       "      <td>11b</td>\n",
       "      <td>2.8</td>\n",
       "      <td>2.2</td>\n",
       "      <td>2.5</td>\n",
       "      <td>Kunst</td>\n",
       "    </tr>\n",
       "    <tr>\n",
       "      <th>6</th>\n",
       "      <td>Greta</td>\n",
       "      <td>16</td>\n",
       "      <td>11a</td>\n",
       "      <td>1.3</td>\n",
       "      <td>1.9</td>\n",
       "      <td>1.6</td>\n",
       "      <td>Mathe</td>\n",
       "    </tr>\n",
       "    <tr>\n",
       "      <th>7</th>\n",
       "      <td>Hannah</td>\n",
       "      <td>17</td>\n",
       "      <td>11b</td>\n",
       "      <td>2.1</td>\n",
       "      <td>1.4</td>\n",
       "      <td>1.7</td>\n",
       "      <td>Deutsch</td>\n",
       "    </tr>\n",
       "    <tr>\n",
       "      <th>8</th>\n",
       "      <td>Igor</td>\n",
       "      <td>16</td>\n",
       "      <td>11a</td>\n",
       "      <td>1.8</td>\n",
       "      <td>2.3</td>\n",
       "      <td>2.1</td>\n",
       "      <td>Informatik</td>\n",
       "    </tr>\n",
       "    <tr>\n",
       "      <th>9</th>\n",
       "      <td>Julia</td>\n",
       "      <td>17</td>\n",
       "      <td>11b</td>\n",
       "      <td>2.4</td>\n",
       "      <td>1.6</td>\n",
       "      <td>1.9</td>\n",
       "      <td>Biologie</td>\n",
       "    </tr>\n",
       "  </tbody>\n",
       "</table>\n",
       "</div>"
      ],
      "text/plain": [
       "     Name  Alter Klasse  Mathe  Deutsch  Englisch Lieblingsfach\n",
       "0    Anna     16    11a    1.5      2.1       1.8         Mathe\n",
       "1     Ben     17    11a    2.0      1.8       2.2       Deutsch\n",
       "2   Clara     16    11b    1.7      1.5       1.3      Englisch\n",
       "3   David     17    11a    2.3      2.0       1.9         Sport\n",
       "4    Emma     16    11b    1.9      1.7       2.0         Mathe\n",
       "5   Felix     17    11b    2.8      2.2       2.5         Kunst\n",
       "6   Greta     16    11a    1.3      1.9       1.6         Mathe\n",
       "7  Hannah     17    11b    2.1      1.4       1.7       Deutsch\n",
       "8    Igor     16    11a    1.8      2.3       2.1    Informatik\n",
       "9   Julia     17    11b    2.4      1.6       1.9      Biologie"
      ]
     },
     "execution_count": 61,
     "metadata": {},
     "output_type": "execute_result"
    }
   ],
   "source": [
    "# csv-Datei laden\n",
    "df = pd.read_csv('noten.csv')\n",
    "df"
   ]
  },
  {
   "cell_type": "markdown",
   "id": "16599ffc-1556-426d-881b-cab49e56e33a",
   "metadata": {},
   "source": [
    "Die Ziffern in der ersten Spalte (den Index) wollen wir nicht speichern."
   ]
  },
  {
   "cell_type": "code",
   "execution_count": 62,
   "id": "b19a2e54-8ed0-432b-a329-8fd559dce06e",
   "metadata": {},
   "outputs": [],
   "source": [
    "df.to_csv('noten_neu.csv', index=False)"
   ]
  },
  {
   "cell_type": "markdown",
   "id": "021e70ee-d0cc-408f-80c9-87c911a5bcfd",
   "metadata": {},
   "source": [
    "#### Daten erkunden"
   ]
  },
  {
   "cell_type": "code",
   "execution_count": 63,
   "id": "f72d4ae3-6303-41c8-81c5-5b4513f42d63",
   "metadata": {},
   "outputs": [
    {
     "name": "stdout",
     "output_type": "stream",
     "text": [
      "<class 'pandas.core.frame.DataFrame'>\n",
      "RangeIndex: 10 entries, 0 to 9\n",
      "Data columns (total 7 columns):\n",
      " #   Column         Non-Null Count  Dtype  \n",
      "---  ------         --------------  -----  \n",
      " 0   Name           10 non-null     object \n",
      " 1   Alter          10 non-null     int64  \n",
      " 2   Klasse         10 non-null     object \n",
      " 3   Mathe          10 non-null     float64\n",
      " 4   Deutsch        10 non-null     float64\n",
      " 5   Englisch       10 non-null     float64\n",
      " 6   Lieblingsfach  10 non-null     object \n",
      "dtypes: float64(3), int64(1), object(3)\n",
      "memory usage: 692.0+ bytes\n"
     ]
    },
    {
     "data": {
      "text/plain": [
       "Index(['Name', 'Alter', 'Klasse', 'Mathe', 'Deutsch', 'Englisch',\n",
       "       'Lieblingsfach'],\n",
       "      dtype='object')"
      ]
     },
     "execution_count": 63,
     "metadata": {},
     "output_type": "execute_result"
    }
   ],
   "source": [
    "# Erste/letzte Zeilen anzeigen\n",
    "df.head()        # Erste 5 Zeilen\n",
    "df.tail(3)       # Letzte 3 Zeilen\n",
    "\n",
    "# Grundlegende Informationen\n",
    "df.info()        # Datentypen und fehlende Werte\n",
    "df.describe()    # Statistische Zusammenfassung\n",
    "df.shape         # Anzahl Zeilen und Spalten\n",
    "df.columns       # Spaltennamen"
   ]
  },
  {
   "cell_type": "markdown",
   "id": "d27f108c-1b88-46a7-89a1-cdac69e1559a",
   "metadata": {},
   "source": [
    "#### Daten auswählen"
   ]
  },
  {
   "cell_type": "code",
   "execution_count": 64,
   "id": "8456bfe7-5686-4bf0-9a42-256d8933eeb5",
   "metadata": {},
   "outputs": [
    {
     "data": {
      "text/html": [
       "<div>\n",
       "<style scoped>\n",
       "    .dataframe tbody tr th:only-of-type {\n",
       "        vertical-align: middle;\n",
       "    }\n",
       "\n",
       "    .dataframe tbody tr th {\n",
       "        vertical-align: top;\n",
       "    }\n",
       "\n",
       "    .dataframe thead th {\n",
       "        text-align: right;\n",
       "    }\n",
       "</style>\n",
       "<table border=\"1\" class=\"dataframe\">\n",
       "  <thead>\n",
       "    <tr style=\"text-align: right;\">\n",
       "      <th></th>\n",
       "      <th>Name</th>\n",
       "      <th>Alter</th>\n",
       "      <th>Klasse</th>\n",
       "      <th>Mathe</th>\n",
       "      <th>Deutsch</th>\n",
       "      <th>Englisch</th>\n",
       "      <th>Lieblingsfach</th>\n",
       "    </tr>\n",
       "  </thead>\n",
       "  <tbody>\n",
       "    <tr>\n",
       "      <th>0</th>\n",
       "      <td>Anna</td>\n",
       "      <td>16</td>\n",
       "      <td>11a</td>\n",
       "      <td>1.5</td>\n",
       "      <td>2.1</td>\n",
       "      <td>1.8</td>\n",
       "      <td>Mathe</td>\n",
       "    </tr>\n",
       "    <tr>\n",
       "      <th>1</th>\n",
       "      <td>Ben</td>\n",
       "      <td>17</td>\n",
       "      <td>11a</td>\n",
       "      <td>2.0</td>\n",
       "      <td>1.8</td>\n",
       "      <td>2.2</td>\n",
       "      <td>Deutsch</td>\n",
       "    </tr>\n",
       "    <tr>\n",
       "      <th>2</th>\n",
       "      <td>Clara</td>\n",
       "      <td>16</td>\n",
       "      <td>11b</td>\n",
       "      <td>1.7</td>\n",
       "      <td>1.5</td>\n",
       "      <td>1.3</td>\n",
       "      <td>Englisch</td>\n",
       "    </tr>\n",
       "  </tbody>\n",
       "</table>\n",
       "</div>"
      ],
      "text/plain": [
       "    Name  Alter Klasse  Mathe  Deutsch  Englisch Lieblingsfach\n",
       "0   Anna     16    11a    1.5      2.1       1.8         Mathe\n",
       "1    Ben     17    11a    2.0      1.8       2.2       Deutsch\n",
       "2  Clara     16    11b    1.7      1.5       1.3      Englisch"
      ]
     },
     "execution_count": 64,
     "metadata": {},
     "output_type": "execute_result"
    }
   ],
   "source": [
    "# Spalte auswählen\n",
    "df['Name']                   # Eine Spalte\n",
    "df[['Name', 'Alter']]        # Mehrere Spalten\n",
    "\n",
    "# Zeilen auswählen\n",
    "df.iloc[0]                   # Erste Zeile (nach Position)\n",
    "df.loc[0]                    # Erste Zeile (nach Index)\n",
    "df.iloc[0:3]                 # Erste 3 Zeilen"
   ]
  },
  {
   "cell_type": "markdown",
   "id": "f2c6c142-6f16-4008-acbf-0a3692001261",
   "metadata": {},
   "source": [
    "#### Unterschied zwischen iloc und loc\n",
    "\n",
    "- iloc - Position wird ab 0 wie bei einer Liste bestimmt\n",
    "- loc - Position wird wie bei einem Dictionary über den Label des Index bestimmt. "
   ]
  },
  {
   "cell_type": "code",
   "execution_count": 65,
   "id": "1d66cb1a-5a8e-4d2f-880f-6f04bff340aa",
   "metadata": {},
   "outputs": [
    {
     "data": {
      "text/html": [
       "<div>\n",
       "<style scoped>\n",
       "    .dataframe tbody tr th:only-of-type {\n",
       "        vertical-align: middle;\n",
       "    }\n",
       "\n",
       "    .dataframe tbody tr th {\n",
       "        vertical-align: top;\n",
       "    }\n",
       "\n",
       "    .dataframe thead th {\n",
       "        text-align: right;\n",
       "    }\n",
       "</style>\n",
       "<table border=\"1\" class=\"dataframe\">\n",
       "  <thead>\n",
       "    <tr style=\"text-align: right;\">\n",
       "      <th></th>\n",
       "      <th>Name</th>\n",
       "      <th>Alter</th>\n",
       "      <th>Note</th>\n",
       "    </tr>\n",
       "  </thead>\n",
       "  <tbody>\n",
       "    <tr>\n",
       "      <th>A</th>\n",
       "      <td>Anna</td>\n",
       "      <td>16</td>\n",
       "      <td>1.5</td>\n",
       "    </tr>\n",
       "    <tr>\n",
       "      <th>B</th>\n",
       "      <td>Ben</td>\n",
       "      <td>17</td>\n",
       "      <td>2.0</td>\n",
       "    </tr>\n",
       "    <tr>\n",
       "      <th>C</th>\n",
       "      <td>Clara</td>\n",
       "      <td>16</td>\n",
       "      <td>1.7</td>\n",
       "    </tr>\n",
       "    <tr>\n",
       "      <th>D</th>\n",
       "      <td>David</td>\n",
       "      <td>17</td>\n",
       "      <td>2.3</td>\n",
       "    </tr>\n",
       "  </tbody>\n",
       "</table>\n",
       "</div>"
      ],
      "text/plain": [
       "    Name  Alter  Note\n",
       "A   Anna     16   1.5\n",
       "B    Ben     17   2.0\n",
       "C  Clara     16   1.7\n",
       "D  David     17   2.3"
      ]
     },
     "execution_count": 65,
     "metadata": {},
     "output_type": "execute_result"
    }
   ],
   "source": [
    "\n",
    "# DataFrame erstellen\n",
    "df = pd.DataFrame({\n",
    "    'Name': ['Anna', 'Ben', 'Clara', 'David'],\n",
    "    'Alter': [16, 17, 16, 17],\n",
    "    'Note': [1.5, 2.0, 1.7, 2.3]\n",
    "}, index=['A', 'B', 'C', 'D'])  \n",
    "\n",
    "df"
   ]
  },
  {
   "cell_type": "code",
   "execution_count": 66,
   "id": "b4eb15c2-e633-411c-999d-59e51c699181",
   "metadata": {},
   "outputs": [
    {
     "data": {
      "text/plain": [
       "Name     Ben\n",
       "Alter     17\n",
       "Note     2.0\n",
       "Name: B, dtype: object"
      ]
     },
     "execution_count": 66,
     "metadata": {},
     "output_type": "execute_result"
    }
   ],
   "source": [
    "df.iloc[1]"
   ]
  },
  {
   "cell_type": "code",
   "execution_count": 67,
   "id": "f184ff99-0a7b-411f-847d-950a450eee8b",
   "metadata": {},
   "outputs": [
    {
     "data": {
      "text/plain": [
       "Name     Ben\n",
       "Alter     17\n",
       "Note     2.0\n",
       "Name: B, dtype: object"
      ]
     },
     "execution_count": 67,
     "metadata": {},
     "output_type": "execute_result"
    }
   ],
   "source": [
    "df.loc['B']"
   ]
  },
  {
   "cell_type": "markdown",
   "id": "2ad8aacf-5a29-499c-9a8b-dbbbcb1db7b6",
   "metadata": {},
   "source": [
    "#### Daten filtern"
   ]
  },
  {
   "cell_type": "code",
   "execution_count": 68,
   "id": "7c706dc2-a806-4c59-8955-ea51f5f3d62a",
   "metadata": {},
   "outputs": [
    {
     "data": {
      "text/html": [
       "<div>\n",
       "<style scoped>\n",
       "    .dataframe tbody tr th:only-of-type {\n",
       "        vertical-align: middle;\n",
       "    }\n",
       "\n",
       "    .dataframe tbody tr th {\n",
       "        vertical-align: top;\n",
       "    }\n",
       "\n",
       "    .dataframe thead th {\n",
       "        text-align: right;\n",
       "    }\n",
       "</style>\n",
       "<table border=\"1\" class=\"dataframe\">\n",
       "  <thead>\n",
       "    <tr style=\"text-align: right;\">\n",
       "      <th></th>\n",
       "      <th>Name</th>\n",
       "      <th>Alter</th>\n",
       "      <th>Klasse</th>\n",
       "      <th>Mathe</th>\n",
       "      <th>Deutsch</th>\n",
       "      <th>Englisch</th>\n",
       "      <th>Lieblingsfach</th>\n",
       "    </tr>\n",
       "  </thead>\n",
       "  <tbody>\n",
       "    <tr>\n",
       "      <th>6</th>\n",
       "      <td>Greta</td>\n",
       "      <td>16</td>\n",
       "      <td>11a</td>\n",
       "      <td>1.3</td>\n",
       "      <td>1.9</td>\n",
       "      <td>1.6</td>\n",
       "      <td>Mathe</td>\n",
       "    </tr>\n",
       "    <tr>\n",
       "      <th>0</th>\n",
       "      <td>Anna</td>\n",
       "      <td>16</td>\n",
       "      <td>11a</td>\n",
       "      <td>1.5</td>\n",
       "      <td>2.1</td>\n",
       "      <td>1.8</td>\n",
       "      <td>Mathe</td>\n",
       "    </tr>\n",
       "    <tr>\n",
       "      <th>2</th>\n",
       "      <td>Clara</td>\n",
       "      <td>16</td>\n",
       "      <td>11b</td>\n",
       "      <td>1.7</td>\n",
       "      <td>1.5</td>\n",
       "      <td>1.3</td>\n",
       "      <td>Englisch</td>\n",
       "    </tr>\n",
       "    <tr>\n",
       "      <th>8</th>\n",
       "      <td>Igor</td>\n",
       "      <td>16</td>\n",
       "      <td>11a</td>\n",
       "      <td>1.8</td>\n",
       "      <td>2.3</td>\n",
       "      <td>2.1</td>\n",
       "      <td>Informatik</td>\n",
       "    </tr>\n",
       "    <tr>\n",
       "      <th>4</th>\n",
       "      <td>Emma</td>\n",
       "      <td>16</td>\n",
       "      <td>11b</td>\n",
       "      <td>1.9</td>\n",
       "      <td>1.7</td>\n",
       "      <td>2.0</td>\n",
       "      <td>Mathe</td>\n",
       "    </tr>\n",
       "    <tr>\n",
       "      <th>1</th>\n",
       "      <td>Ben</td>\n",
       "      <td>17</td>\n",
       "      <td>11a</td>\n",
       "      <td>2.0</td>\n",
       "      <td>1.8</td>\n",
       "      <td>2.2</td>\n",
       "      <td>Deutsch</td>\n",
       "    </tr>\n",
       "    <tr>\n",
       "      <th>7</th>\n",
       "      <td>Hannah</td>\n",
       "      <td>17</td>\n",
       "      <td>11b</td>\n",
       "      <td>2.1</td>\n",
       "      <td>1.4</td>\n",
       "      <td>1.7</td>\n",
       "      <td>Deutsch</td>\n",
       "    </tr>\n",
       "    <tr>\n",
       "      <th>3</th>\n",
       "      <td>David</td>\n",
       "      <td>17</td>\n",
       "      <td>11a</td>\n",
       "      <td>2.3</td>\n",
       "      <td>2.0</td>\n",
       "      <td>1.9</td>\n",
       "      <td>Sport</td>\n",
       "    </tr>\n",
       "    <tr>\n",
       "      <th>9</th>\n",
       "      <td>Julia</td>\n",
       "      <td>17</td>\n",
       "      <td>11b</td>\n",
       "      <td>2.4</td>\n",
       "      <td>1.6</td>\n",
       "      <td>1.9</td>\n",
       "      <td>Biologie</td>\n",
       "    </tr>\n",
       "    <tr>\n",
       "      <th>5</th>\n",
       "      <td>Felix</td>\n",
       "      <td>17</td>\n",
       "      <td>11b</td>\n",
       "      <td>2.8</td>\n",
       "      <td>2.2</td>\n",
       "      <td>2.5</td>\n",
       "      <td>Kunst</td>\n",
       "    </tr>\n",
       "  </tbody>\n",
       "</table>\n",
       "</div>"
      ],
      "text/plain": [
       "     Name  Alter Klasse  Mathe  Deutsch  Englisch Lieblingsfach\n",
       "6   Greta     16    11a    1.3      1.9       1.6         Mathe\n",
       "0    Anna     16    11a    1.5      2.1       1.8         Mathe\n",
       "2   Clara     16    11b    1.7      1.5       1.3      Englisch\n",
       "8    Igor     16    11a    1.8      2.3       2.1    Informatik\n",
       "4    Emma     16    11b    1.9      1.7       2.0         Mathe\n",
       "1     Ben     17    11a    2.0      1.8       2.2       Deutsch\n",
       "7  Hannah     17    11b    2.1      1.4       1.7       Deutsch\n",
       "3   David     17    11a    2.3      2.0       1.9         Sport\n",
       "9   Julia     17    11b    2.4      1.6       1.9      Biologie\n",
       "5   Felix     17    11b    2.8      2.2       2.5         Kunst"
      ]
     },
     "execution_count": 68,
     "metadata": {},
     "output_type": "execute_result"
    }
   ],
   "source": [
    "df = pd.read_csv('noten.csv')\n",
    "\n",
    "# Nach Werten filtern\n",
    "df[df['Mathe'] < 2.0]\n",
    "\n",
    "# Mehrere Bedingungen\n",
    "df[(df['Alter'] >= 17) & (df['Mathe'] <= 2.0)]\n",
    "\n",
    "# Sortieren\n",
    "df.sort_values('Mathe')                    # Aufsteigend\n",
    "df.sort_values('Mathe', ascending=False)   # Absteigend\n",
    "df.sort_values(['Alter', 'Mathe'])         # Nach mehreren Spalten"
   ]
  },
  {
   "cell_type": "markdown",
   "id": "04df9459-8eab-4ad5-9046-277d5bbb6758",
   "metadata": {},
   "source": [
    "#### Neue Spalte erstellen"
   ]
  },
  {
   "cell_type": "code",
   "execution_count": 69,
   "id": "b2cb65b6-b2fc-46e2-92d7-afbddb992c31",
   "metadata": {},
   "outputs": [],
   "source": [
    "# Neue Spalte berechnen\n",
    "df['Notendurchschnitt'] = ((df['Mathe'] + df['Deutsch'] + df['Englisch']) / 3).round(2)\n",
    "\n",
    "# Bedingte Spalte\n",
    "df['Bestanden'] = df['Notendurchschnitt'] <= 4.0"
   ]
  },
  {
   "cell_type": "code",
   "execution_count": 70,
   "id": "15f08b6f-dd3b-4e80-87fe-144f837deeeb",
   "metadata": {},
   "outputs": [
    {
     "data": {
      "text/html": [
       "<div>\n",
       "<style scoped>\n",
       "    .dataframe tbody tr th:only-of-type {\n",
       "        vertical-align: middle;\n",
       "    }\n",
       "\n",
       "    .dataframe tbody tr th {\n",
       "        vertical-align: top;\n",
       "    }\n",
       "\n",
       "    .dataframe thead th {\n",
       "        text-align: right;\n",
       "    }\n",
       "</style>\n",
       "<table border=\"1\" class=\"dataframe\">\n",
       "  <thead>\n",
       "    <tr style=\"text-align: right;\">\n",
       "      <th></th>\n",
       "      <th>Name</th>\n",
       "      <th>Alter</th>\n",
       "      <th>Klasse</th>\n",
       "      <th>Mathe</th>\n",
       "      <th>Deutsch</th>\n",
       "      <th>Englisch</th>\n",
       "      <th>Lieblingsfach</th>\n",
       "      <th>Notendurchschnitt</th>\n",
       "      <th>Bestanden</th>\n",
       "    </tr>\n",
       "  </thead>\n",
       "  <tbody>\n",
       "    <tr>\n",
       "      <th>0</th>\n",
       "      <td>Anna</td>\n",
       "      <td>16</td>\n",
       "      <td>11a</td>\n",
       "      <td>1.5</td>\n",
       "      <td>2.1</td>\n",
       "      <td>1.8</td>\n",
       "      <td>Mathe</td>\n",
       "      <td>1.80</td>\n",
       "      <td>True</td>\n",
       "    </tr>\n",
       "    <tr>\n",
       "      <th>1</th>\n",
       "      <td>Ben</td>\n",
       "      <td>17</td>\n",
       "      <td>11a</td>\n",
       "      <td>2.0</td>\n",
       "      <td>1.8</td>\n",
       "      <td>2.2</td>\n",
       "      <td>Deutsch</td>\n",
       "      <td>2.00</td>\n",
       "      <td>True</td>\n",
       "    </tr>\n",
       "    <tr>\n",
       "      <th>2</th>\n",
       "      <td>Clara</td>\n",
       "      <td>16</td>\n",
       "      <td>11b</td>\n",
       "      <td>1.7</td>\n",
       "      <td>1.5</td>\n",
       "      <td>1.3</td>\n",
       "      <td>Englisch</td>\n",
       "      <td>1.50</td>\n",
       "      <td>True</td>\n",
       "    </tr>\n",
       "    <tr>\n",
       "      <th>3</th>\n",
       "      <td>David</td>\n",
       "      <td>17</td>\n",
       "      <td>11a</td>\n",
       "      <td>2.3</td>\n",
       "      <td>2.0</td>\n",
       "      <td>1.9</td>\n",
       "      <td>Sport</td>\n",
       "      <td>2.07</td>\n",
       "      <td>True</td>\n",
       "    </tr>\n",
       "    <tr>\n",
       "      <th>4</th>\n",
       "      <td>Emma</td>\n",
       "      <td>16</td>\n",
       "      <td>11b</td>\n",
       "      <td>1.9</td>\n",
       "      <td>1.7</td>\n",
       "      <td>2.0</td>\n",
       "      <td>Mathe</td>\n",
       "      <td>1.87</td>\n",
       "      <td>True</td>\n",
       "    </tr>\n",
       "    <tr>\n",
       "      <th>5</th>\n",
       "      <td>Felix</td>\n",
       "      <td>17</td>\n",
       "      <td>11b</td>\n",
       "      <td>2.8</td>\n",
       "      <td>2.2</td>\n",
       "      <td>2.5</td>\n",
       "      <td>Kunst</td>\n",
       "      <td>2.50</td>\n",
       "      <td>True</td>\n",
       "    </tr>\n",
       "    <tr>\n",
       "      <th>6</th>\n",
       "      <td>Greta</td>\n",
       "      <td>16</td>\n",
       "      <td>11a</td>\n",
       "      <td>1.3</td>\n",
       "      <td>1.9</td>\n",
       "      <td>1.6</td>\n",
       "      <td>Mathe</td>\n",
       "      <td>1.60</td>\n",
       "      <td>True</td>\n",
       "    </tr>\n",
       "    <tr>\n",
       "      <th>7</th>\n",
       "      <td>Hannah</td>\n",
       "      <td>17</td>\n",
       "      <td>11b</td>\n",
       "      <td>2.1</td>\n",
       "      <td>1.4</td>\n",
       "      <td>1.7</td>\n",
       "      <td>Deutsch</td>\n",
       "      <td>1.73</td>\n",
       "      <td>True</td>\n",
       "    </tr>\n",
       "    <tr>\n",
       "      <th>8</th>\n",
       "      <td>Igor</td>\n",
       "      <td>16</td>\n",
       "      <td>11a</td>\n",
       "      <td>1.8</td>\n",
       "      <td>2.3</td>\n",
       "      <td>2.1</td>\n",
       "      <td>Informatik</td>\n",
       "      <td>2.07</td>\n",
       "      <td>True</td>\n",
       "    </tr>\n",
       "    <tr>\n",
       "      <th>9</th>\n",
       "      <td>Julia</td>\n",
       "      <td>17</td>\n",
       "      <td>11b</td>\n",
       "      <td>2.4</td>\n",
       "      <td>1.6</td>\n",
       "      <td>1.9</td>\n",
       "      <td>Biologie</td>\n",
       "      <td>1.97</td>\n",
       "      <td>True</td>\n",
       "    </tr>\n",
       "  </tbody>\n",
       "</table>\n",
       "</div>"
      ],
      "text/plain": [
       "     Name  Alter Klasse  Mathe  Deutsch  Englisch Lieblingsfach  \\\n",
       "0    Anna     16    11a    1.5      2.1       1.8         Mathe   \n",
       "1     Ben     17    11a    2.0      1.8       2.2       Deutsch   \n",
       "2   Clara     16    11b    1.7      1.5       1.3      Englisch   \n",
       "3   David     17    11a    2.3      2.0       1.9         Sport   \n",
       "4    Emma     16    11b    1.9      1.7       2.0         Mathe   \n",
       "5   Felix     17    11b    2.8      2.2       2.5         Kunst   \n",
       "6   Greta     16    11a    1.3      1.9       1.6         Mathe   \n",
       "7  Hannah     17    11b    2.1      1.4       1.7       Deutsch   \n",
       "8    Igor     16    11a    1.8      2.3       2.1    Informatik   \n",
       "9   Julia     17    11b    2.4      1.6       1.9      Biologie   \n",
       "\n",
       "   Notendurchschnitt  Bestanden  \n",
       "0               1.80       True  \n",
       "1               2.00       True  \n",
       "2               1.50       True  \n",
       "3               2.07       True  \n",
       "4               1.87       True  \n",
       "5               2.50       True  \n",
       "6               1.60       True  \n",
       "7               1.73       True  \n",
       "8               2.07       True  \n",
       "9               1.97       True  "
      ]
     },
     "execution_count": 70,
     "metadata": {},
     "output_type": "execute_result"
    }
   ],
   "source": [
    "df"
   ]
  },
  {
   "cell_type": "markdown",
   "id": "2b2d9ecb-56c5-4925-bf48-5ca363917007",
   "metadata": {},
   "source": [
    "#### Statistische Funktionen"
   ]
  },
  {
   "cell_type": "code",
   "execution_count": 71,
   "id": "231bedf3-e5b0-40e8-a173-960a950c066d",
   "metadata": {},
   "outputs": [
    {
     "data": {
      "text/plain": [
       "Alter\n",
       "16    5\n",
       "17    5\n",
       "Name: count, dtype: int64"
      ]
     },
     "execution_count": 71,
     "metadata": {},
     "output_type": "execute_result"
    }
   ],
   "source": [
    "# Grundlegende Statistiken\n",
    "df['Mathe'].mean()      # Durchschnitt\n",
    "df['Mathe'].median()    # Median\n",
    "df['Mathe'].std()       # Standardabweichung\n",
    "df['Mathe'].min()       # Minimum\n",
    "df['Mathe'].max()       # Maximum\n",
    "\n",
    "# Häufigkeiten zählen\n",
    "df['Alter'].value_counts()"
   ]
  },
  {
   "cell_type": "markdown",
   "id": "322ca976-9e7e-4664-b75f-b7917dbced7f",
   "metadata": {},
   "source": [
    "#### Daten gruppieren"
   ]
  },
  {
   "cell_type": "code",
   "execution_count": 72,
   "id": "0c4673cb-db61-401d-85f8-453d7dc26ed0",
   "metadata": {},
   "outputs": [
    {
     "data": {
      "text/plain": [
       "Alter\n",
       "16    1.64\n",
       "17    2.32\n",
       "Name: Mathe, dtype: float64"
      ]
     },
     "execution_count": 72,
     "metadata": {},
     "output_type": "execute_result"
    }
   ],
   "source": [
    "# Nach Alter gruppieren\n",
    "nach_alter = df.groupby('Alter')\n",
    "nach_alter['Mathe'].mean()    # Durchschnittsnote Mathe nach Alter gruppiert"
   ]
  },
  {
   "cell_type": "markdown",
   "id": "23e1dc6d-4456-4cc5-8937-108be1c24c18",
   "metadata": {},
   "source": [
    "#### Dataframes verknüpfen\n",
    "\n",
    "Mit *merge* können wir zwei Dataframes verknüpfen. 'how'=left bedeutet, dass alle Datensätze der linken Tabelle übernommen werden, auch wenn rechts keine Schlüssel gefunden werden."
   ]
  },
  {
   "cell_type": "code",
   "execution_count": 73,
   "id": "c8a33199-2092-460b-bc59-7ec3ac492ab5",
   "metadata": {},
   "outputs": [
    {
     "data": {
      "text/html": [
       "<div>\n",
       "<style scoped>\n",
       "    .dataframe tbody tr th:only-of-type {\n",
       "        vertical-align: middle;\n",
       "    }\n",
       "\n",
       "    .dataframe tbody tr th {\n",
       "        vertical-align: top;\n",
       "    }\n",
       "\n",
       "    .dataframe thead th {\n",
       "        text-align: right;\n",
       "    }\n",
       "</style>\n",
       "<table border=\"1\" class=\"dataframe\">\n",
       "  <thead>\n",
       "    <tr style=\"text-align: right;\">\n",
       "      <th></th>\n",
       "      <th>Vorname</th>\n",
       "      <th>Nachname</th>\n",
       "      <th>Klasse</th>\n",
       "    </tr>\n",
       "  </thead>\n",
       "  <tbody>\n",
       "    <tr>\n",
       "      <th>0</th>\n",
       "      <td>Anna</td>\n",
       "      <td>Schmidt</td>\n",
       "      <td>8c</td>\n",
       "    </tr>\n",
       "    <tr>\n",
       "      <th>1</th>\n",
       "      <td>Ben</td>\n",
       "      <td>Müller</td>\n",
       "      <td>7a</td>\n",
       "    </tr>\n",
       "    <tr>\n",
       "      <th>2</th>\n",
       "      <td>Clara</td>\n",
       "      <td>Meier</td>\n",
       "      <td>7a</td>\n",
       "    </tr>\n",
       "    <tr>\n",
       "      <th>3</th>\n",
       "      <td>David</td>\n",
       "      <td>Schneider</td>\n",
       "      <td>8b</td>\n",
       "    </tr>\n",
       "    <tr>\n",
       "      <th>4</th>\n",
       "      <td>Eva</td>\n",
       "      <td>Fischer</td>\n",
       "      <td>8c</td>\n",
       "    </tr>\n",
       "  </tbody>\n",
       "</table>\n",
       "</div>"
      ],
      "text/plain": [
       "  Vorname   Nachname Klasse \n",
       "0    Anna    Schmidt      8c\n",
       "1     Ben     Müller      7a\n",
       "2   Clara      Meier      7a\n",
       "3   David  Schneider      8b\n",
       "4     Eva    Fischer      8c"
      ]
     },
     "execution_count": 73,
     "metadata": {},
     "output_type": "execute_result"
    }
   ],
   "source": [
    "df = pd.read_csv('namen.csv')\n",
    "df"
   ]
  },
  {
   "cell_type": "code",
   "execution_count": 74,
   "id": "69385c51-91a9-48b7-a9e4-282aaed910a5",
   "metadata": {},
   "outputs": [
    {
     "data": {
      "text/html": [
       "<div>\n",
       "<style scoped>\n",
       "    .dataframe tbody tr th:only-of-type {\n",
       "        vertical-align: middle;\n",
       "    }\n",
       "\n",
       "    .dataframe tbody tr th {\n",
       "        vertical-align: top;\n",
       "    }\n",
       "\n",
       "    .dataframe thead th {\n",
       "        text-align: right;\n",
       "    }\n",
       "</style>\n",
       "<table border=\"1\" class=\"dataframe\">\n",
       "  <thead>\n",
       "    <tr style=\"text-align: right;\">\n",
       "      <th></th>\n",
       "      <th>Vorname</th>\n",
       "      <th>Nachname</th>\n",
       "      <th>E-Mail</th>\n",
       "    </tr>\n",
       "  </thead>\n",
       "  <tbody>\n",
       "    <tr>\n",
       "      <th>0</th>\n",
       "      <td>Anna</td>\n",
       "      <td>Schmidt</td>\n",
       "      <td>anna.schmidt@schule.de</td>\n",
       "    </tr>\n",
       "    <tr>\n",
       "      <th>1</th>\n",
       "      <td>Ben</td>\n",
       "      <td>Müller</td>\n",
       "      <td>ben.mueller@schule.de</td>\n",
       "    </tr>\n",
       "    <tr>\n",
       "      <th>2</th>\n",
       "      <td>Clara</td>\n",
       "      <td>Meier</td>\n",
       "      <td>clara.meier@schule.de</td>\n",
       "    </tr>\n",
       "    <tr>\n",
       "      <th>3</th>\n",
       "      <td>David</td>\n",
       "      <td>Schneider</td>\n",
       "      <td>david.schneider@schule.de</td>\n",
       "    </tr>\n",
       "    <tr>\n",
       "      <th>4</th>\n",
       "      <td>Eva</td>\n",
       "      <td>Fischer</td>\n",
       "      <td>eva.fischer@schule.de</td>\n",
       "    </tr>\n",
       "    <tr>\n",
       "      <th>5</th>\n",
       "      <td>N</td>\n",
       "      <td>N</td>\n",
       "      <td>n.n@schule.de</td>\n",
       "    </tr>\n",
       "  </tbody>\n",
       "</table>\n",
       "</div>"
      ],
      "text/plain": [
       "  Vorname   Nachname                    E-Mail \n",
       "0    Anna    Schmidt     anna.schmidt@schule.de\n",
       "1     Ben     Müller      ben.mueller@schule.de\n",
       "2   Clara      Meier      clara.meier@schule.de\n",
       "3   David  Schneider  david.schneider@schule.de\n",
       "4     Eva    Fischer      eva.fischer@schule.de\n",
       "5       N          N              n.n@schule.de"
      ]
     },
     "execution_count": 74,
     "metadata": {},
     "output_type": "execute_result"
    }
   ],
   "source": [
    "email = pd.read_csv('email.csv')\n",
    "email"
   ]
  },
  {
   "cell_type": "code",
   "execution_count": 75,
   "id": "30fb9173-3dc2-4590-989f-057395a9b2a7",
   "metadata": {},
   "outputs": [
    {
     "data": {
      "text/html": [
       "<div>\n",
       "<style scoped>\n",
       "    .dataframe tbody tr th:only-of-type {\n",
       "        vertical-align: middle;\n",
       "    }\n",
       "\n",
       "    .dataframe tbody tr th {\n",
       "        vertical-align: top;\n",
       "    }\n",
       "\n",
       "    .dataframe thead th {\n",
       "        text-align: right;\n",
       "    }\n",
       "</style>\n",
       "<table border=\"1\" class=\"dataframe\">\n",
       "  <thead>\n",
       "    <tr style=\"text-align: right;\">\n",
       "      <th></th>\n",
       "      <th>Vorname</th>\n",
       "      <th>Nachname</th>\n",
       "      <th>Klasse</th>\n",
       "      <th>E-Mail</th>\n",
       "    </tr>\n",
       "  </thead>\n",
       "  <tbody>\n",
       "    <tr>\n",
       "      <th>0</th>\n",
       "      <td>Anna</td>\n",
       "      <td>Schmidt</td>\n",
       "      <td>8c</td>\n",
       "      <td>anna.schmidt@schule.de</td>\n",
       "    </tr>\n",
       "    <tr>\n",
       "      <th>1</th>\n",
       "      <td>Ben</td>\n",
       "      <td>Müller</td>\n",
       "      <td>7a</td>\n",
       "      <td>ben.mueller@schule.de</td>\n",
       "    </tr>\n",
       "    <tr>\n",
       "      <th>2</th>\n",
       "      <td>Clara</td>\n",
       "      <td>Meier</td>\n",
       "      <td>7a</td>\n",
       "      <td>clara.meier@schule.de</td>\n",
       "    </tr>\n",
       "    <tr>\n",
       "      <th>3</th>\n",
       "      <td>David</td>\n",
       "      <td>Schneider</td>\n",
       "      <td>8b</td>\n",
       "      <td>david.schneider@schule.de</td>\n",
       "    </tr>\n",
       "    <tr>\n",
       "      <th>4</th>\n",
       "      <td>Eva</td>\n",
       "      <td>Fischer</td>\n",
       "      <td>8c</td>\n",
       "      <td>eva.fischer@schule.de</td>\n",
       "    </tr>\n",
       "  </tbody>\n",
       "</table>\n",
       "</div>"
      ],
      "text/plain": [
       "  Vorname   Nachname Klasse                     E-Mail \n",
       "0    Anna    Schmidt      8c     anna.schmidt@schule.de\n",
       "1     Ben     Müller      7a      ben.mueller@schule.de\n",
       "2   Clara      Meier      7a      clara.meier@schule.de\n",
       "3   David  Schneider      8b  david.schneider@schule.de\n",
       "4     Eva    Fischer      8c      eva.fischer@schule.de"
      ]
     },
     "execution_count": 75,
     "metadata": {},
     "output_type": "execute_result"
    }
   ],
   "source": [
    "df = df.merge(email,on=['Vorname','Nachname'],how='left')\n",
    "df"
   ]
  }
 ],
 "metadata": {
  "kernelspec": {
   "display_name": "Python 3 (ipykernel)",
   "language": "python",
   "name": "python3"
  },
  "language_info": {
   "codemirror_mode": {
    "name": "ipython",
    "version": 3
   },
   "file_extension": ".py",
   "mimetype": "text/x-python",
   "name": "python",
   "nbconvert_exporter": "python",
   "pygments_lexer": "ipython3",
   "version": "3.12.8"
  }
 },
 "nbformat": 4,
 "nbformat_minor": 5
}
