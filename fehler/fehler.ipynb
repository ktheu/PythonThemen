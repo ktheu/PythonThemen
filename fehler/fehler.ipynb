{
 "cells": [
  {
   "cell_type": "markdown",
   "id": "b5f9c7b7-a341-46eb-8b58-bc53bbc71ca1",
   "metadata": {},
   "source": [
    "### Fehler\n",
    "\n",
    "[Video](https://youtu.be/wle6BdHjqqI)\n",
    "\n",
    "Wir unterscheiden drei Typen von Fehlern\n",
    "\n",
    "* Syntax Fehler: Das Programm kann nicht gestartet werden.\n",
    "* Laufzeit Fehler: Das Program startet, bricht dann mit einer Fehlermeldung ab.\n",
    "* Logische Fehler: Das Program startet, kommt zum Ende, liefert aber das falsche Ergebnis.\n",
    "\n"
   ]
  },
  {
   "cell_type": "markdown",
   "id": "a2bf35a5-c5e3-4c8e-a840-d3ea0df0bfc3",
   "metadata": {},
   "source": [
    "#### Syntax Fehler \n",
    "\n",
    "    * SyntaxError: z.B. Klammer, Hochkomma oder Doppelpunkt fehlt \n",
    "    * IndentationError: Einrückung falsch\n",
    "\n",
    "Wir bekommen einen Hinweis auf die Zeile und eine (hoffentlich) aussagekräftige Beschreibung, was falsch ist."
   ]
  },
  {
   "cell_type": "code",
   "execution_count": null,
   "id": "19bfc9ec-1c91-4edc-9243-994fbf8f2eb5",
   "metadata": {},
   "outputs": [],
   "source": [
    "print(\"Hello World\""
   ]
  },
  {
   "cell_type": "code",
   "execution_count": null,
   "id": "dc14664d-154b-4461-a90e-c774703e13e1",
   "metadata": {},
   "outputs": [],
   "source": [
    "s = 'Montag"
   ]
  },
  {
   "cell_type": "code",
   "execution_count": null,
   "id": "ca5f97c4-fcfb-4027-ac75-1a3b163e32ad",
   "metadata": {},
   "outputs": [],
   "source": [
    "def greet()\n",
    "    print(\"Hello\")   "
   ]
  },
  {
   "cell_type": "code",
   "execution_count": null,
   "id": "a61322fe-9565-416b-b0b4-fb9426d98a8f",
   "metadata": {},
   "outputs": [],
   "source": [
    "def greet():\n",
    "print(\"Hello\")             "
   ]
  },
  {
   "cell_type": "code",
   "execution_count": null,
   "id": "ceae2701-9c4c-4e6b-b356-36ef5d782a7c",
   "metadata": {},
   "outputs": [],
   "source": [
    "1x = 'Hallo'"
   ]
  },
  {
   "cell_type": "code",
   "execution_count": null,
   "id": "cbb4f7ff-260d-4448-b0c3-21c62f3ee110",
   "metadata": {},
   "outputs": [],
   "source": [
    "import log from math\n",
    "print(log(1024,2))"
   ]
  },
  {
   "cell_type": "markdown",
   "id": "15a5fb50-6904-469f-b63a-79206bc63309",
   "metadata": {},
   "source": [
    "#### Laufzeitfehler\n",
    "\n",
    "Bei einem Laufzeitfehler bekommen wir als Fehlermeldung einen traceback. Der zeigt die Abfolge der letzten Anweisungen vor dem Fehler und gibt uns eine Zeilennummer als Hinweis. Bei der Fehlersuche sollte man auch die unmittelbar davor liegenden Zeilen im Blick haben.\n",
    "\n",
    "* IndexError, z.B. ungültiger Index verwendet\n",
    "* TypeError, ungültige Operation für die beteiligten Typen\n",
    "* NameError, z.B. Variable wurde nicht definiert\n",
    "* KeyError,  z.B. Zugriff auf dictionary mit nicht vorhandenem Schlüssel\n",
    "* ValueError, z.B. Argument einer Funktion ist zwar vom richtigen Typ, aber hat ungültigen Wert\n",
    "* ZeroDivisionError: Division durch Null"
   ]
  },
  {
   "cell_type": "code",
   "execution_count": null,
   "id": "143dd299-0f82-448a-9b43-ad712094f87a",
   "metadata": {},
   "outputs": [],
   "source": [
    "a = [1, 2, 3]\n",
    "print(a[3])  "
   ]
  },
  {
   "cell_type": "code",
   "execution_count": null,
   "id": "e5a2afdc-d59a-47aa-9dd9-3b7123a4fdbe",
   "metadata": {},
   "outputs": [],
   "source": [
    "x = 5 + \"10\"                    "
   ]
  },
  {
   "cell_type": "code",
   "execution_count": null,
   "id": "e5588f1c-dc7d-40e5-9686-783cfe76a6fb",
   "metadata": {},
   "outputs": [],
   "source": [
    "print(message)"
   ]
  },
  {
   "cell_type": "code",
   "execution_count": null,
   "id": "dce650c3-ebc9-4563-82a1-1ebcfa02adf5",
   "metadata": {},
   "outputs": [],
   "source": [
    "d = {\"Alice\": 2}\n",
    "print(d[\"Bob\"])   "
   ]
  },
  {
   "cell_type": "code",
   "execution_count": null,
   "id": "c2b6fdb5-3183-44f8-91e4-f07d5ac6175d",
   "metadata": {
    "scrolled": true
   },
   "outputs": [],
   "source": [
    "x = int(\"abc\") "
   ]
  },
  {
   "cell_type": "code",
   "execution_count": null,
   "id": "e853c772-2a49-4787-a30a-1c73eac739bc",
   "metadata": {},
   "outputs": [],
   "source": [
    "x = 5 / 0   "
   ]
  },
  {
   "cell_type": "markdown",
   "id": "8e99da68-1873-4f2d-9d2a-749cd25dbd18",
   "metadata": {},
   "source": [
    "#### Logische Fehler\n",
    "\n",
    "Logische Fehler sind manchmal schwierig zu finden. \n",
    "\n",
    "Häufig können wir durch geeignet platzierte print-Anweisungen den Fehler finden.\n",
    "Manchmal müssen wir einen Debugger benutzen, um den Ablauf des Programms zu verfolgen."
   ]
  },
  {
   "cell_type": "code",
   "execution_count": 99,
   "id": "1438d715-b245-4170-bf1c-0820e191ee4f",
   "metadata": {},
   "outputs": [
    {
     "data": {
      "text/plain": [
       "20.0"
      ]
     },
     "execution_count": 99,
     "metadata": {},
     "output_type": "execute_result"
    }
   ],
   "source": [
    "# Durchschnitt von 10 + 20 berechnen\n",
    "durchschnitt = 10 + 20 / 2 \n",
    "durchschnitt"
   ]
  },
  {
   "cell_type": "code",
   "execution_count": 100,
   "id": "4db7cef4-50cc-4759-8758-039198fc3783",
   "metadata": {},
   "outputs": [
    {
     "name": "stdout",
     "output_type": "stream",
     "text": [
      "hello\n",
      "hello\n",
      "hello\n",
      "hello\n"
     ]
    }
   ],
   "source": [
    "# Eine Schleife 5 mal durchlaufen\n",
    "for i in range(1,5):\n",
    "    print('hello')"
   ]
  },
  {
   "cell_type": "code",
   "execution_count": 101,
   "id": "b446fc05-a5b2-4f42-af36-acdd4ba8ebcf",
   "metadata": {},
   "outputs": [
    {
     "name": "stdout",
     "output_type": "stream",
     "text": [
      "Maximum value: 0\n"
     ]
    }
   ],
   "source": [
    "# Das Maximum in einer Liste finden\n",
    "def find_maximum(a):\n",
    "    best = 0\n",
    "    for x in a:\n",
    "        if x > best:\n",
    "            best = x\n",
    "    return best\n",
    "\n",
    "numbers = [-10, -3, -20, -5]\n",
    "result = find_maximum(numbers)\n",
    "print(\"Maximum value:\", result)   "
   ]
  },
  {
   "cell_type": "code",
   "execution_count": null,
   "id": "f1a09e4b-8cd1-4639-ba78-0ca6ff80284d",
   "metadata": {},
   "outputs": [],
   "source": []
  }
 ],
 "metadata": {
  "kernelspec": {
   "display_name": "Python 3 (ipykernel)",
   "language": "python",
   "name": "python3"
  },
  "language_info": {
   "codemirror_mode": {
    "name": "ipython",
    "version": 3
   },
   "file_extension": ".py",
   "mimetype": "text/x-python",
   "name": "python",
   "nbconvert_exporter": "python",
   "pygments_lexer": "ipython3",
   "version": "3.12.8"
  }
 },
 "nbformat": 4,
 "nbformat_minor": 5
}
