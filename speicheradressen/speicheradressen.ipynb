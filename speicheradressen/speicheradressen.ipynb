{
 "cells": [
  {
   "cell_type": "markdown",
   "id": "8b6e9db6-d0f3-4217-af96-70e9c3dea5af",
   "metadata": {},
   "source": [
    "## Speicheradressen (memory address)\n",
    "\n",
    "[Video](https://youtu.be/YLPw6zjepsM)\n",
    "\n",
    "Den Computerspeicher stellen wir uns vor als eine riesige Sammlung von Bits (0 und 1). 8 Bits werden zu einem Byte zusammengefasst und jedes Byte im Speicher hat eine Adresse. Über die Adressen können wir an bestimmte Stellen des Speichers springen. \n",
    "Adressen sind selbst Zahlen, die üblicherweise hexadezimal angegeben werden. In einem 32-Bit Betriebssystem darf eine Zahl, die eine Speicheradresse sein soll, höchstens 32 Bit lang sein. \n",
    "\n",
    "In einem 32-Bit Betriebssystem gibt es $2^{32}$ Adressen, von 0 bis $2^{32}-1$ (0x00000000 - 0xFFFFFFFF)."
   ]
  },
  {
   "cell_type": "code",
   "execution_count": null,
   "id": "6515367e-4b63-416c-a0bb-bf2aec4280a0",
   "metadata": {},
   "outputs": [],
   "source": [
    "2**32-1"
   ]
  },
  {
   "cell_type": "code",
   "execution_count": null,
   "id": "a819b6a2-c22a-4b72-92b0-567c045a6a30",
   "metadata": {},
   "outputs": [],
   "source": [
    "int('FFFFFFFF',16)"
   ]
  },
  {
   "cell_type": "code",
   "execution_count": null,
   "id": "360f24de-17bf-4ef6-9219-9bdc2c9522b2",
   "metadata": {},
   "outputs": [],
   "source": [
    "# Hier wird Kilo mit 1024 benutzt, wie in diesem Zusammenhang üblich \n",
    "bdict = {1:'KiloByte', 2:'MegaByte', 3:'GigaByte', 4:'TeraByte', 5:'PetaByte', 6:'ExaByte'}\n",
    "x = 2**32\n",
    "for k in bdict:\n",
    "    print(f'{x} Byte = {x//(1024**k)} {bdict[k]}')\n",
    "    if k == 3: break"
   ]
  },
  {
   "cell_type": "markdown",
   "id": "e93ab02d-7e64-443e-8ac1-9bf99df0bfe7",
   "metadata": {},
   "source": [
    "Ein 32-Bit Betriebssystem kann einen Speicherbereich bis 4 GB Speicher verwalten. Diese Begrenzung war einer der Hauptgründe für die Einführung von 64-Bit Betriebssystemen. "
   ]
  },
  {
   "cell_type": "code",
   "execution_count": null,
   "id": "7c97f5db-e642-4019-8831-573ce8a54dfb",
   "metadata": {},
   "outputs": [],
   "source": [
    "x = 2**64\n",
    "for k in bdict:\n",
    "    print(f'{x} Byte = {x//(1024**k)} {bdict[k]}')"
   ]
  },
  {
   "cell_type": "markdown",
   "id": "f7901129-925b-4671-bb21-efe1b6c13476",
   "metadata": {},
   "source": [
    "Ein 64-Bit Betriebssystem kann einen Speicherbereich bis 16 ExaByte Speicher verwalten. "
   ]
  },
  {
   "cell_type": "markdown",
   "id": "6a9f7aa0-eba1-4e9f-9464-80133fdc0d9b",
   "metadata": {},
   "source": [
    "#### Darstellung des Speichers\n",
    "\n",
    "Im folgenden stellen wir uns den Speicher wie in der Abbildung als eine lange Kette von Bytes vor. Jedes Byte hat eine Adresse. In den Bytes können wir die binäre Darstellung von Objekten speichern. In der Abbildung benötigt Objekt $x_1$ nur 1 Byte. Das Objekt $x_2$ beginnt bei Speicheradresse 0x1001 und benötigt 3 Byte. Der nächste freie Speicherplatz ist also 0x1004.\n",
    "\n",
    "![](speicher.png)"
   ]
  },
  {
   "cell_type": "markdown",
   "id": "991fad0f-deba-480c-b168-eaf5d181d55a",
   "metadata": {},
   "source": [
    "Bei der Zuweisung ```a = 2```erzeugt der Python Memory Manager in einem freien Speicherbereich ein Objekt mit dem Inhalt 2 und a ist ein Name für die Adresse, an der dieses Objekt im Speicher beginnt. Genau genommen ist a also nicht identisch mit der 2, sondern mit der Startadresse, an der die 2 gespeichert wurden. Man sagt dazu auch: *a ist ein Zeiger auf die 2*. **Alle Variablen in Python sind Zeiger auf Speicheradressen.** Die Adresse, auf die eine Variable zeigt, kann man sich mit der Funktion *id()* ausgeben lassen.\n",
    "\n",
    "In den meisten Fälle sagen wir weiterhin: *In der Variablen a speichern wir die 2*, auch wenn damit eigentlich gemeint ist: *Die Adresse, an der die 2 im Speicher steht, nennen wir a*.\n",
    "\n",
    "![](speicher2.png)"
   ]
  },
  {
   "cell_type": "markdown",
   "id": "31321c66-8346-425b-ad61-c3cecededd23",
   "metadata": {},
   "source": [
    "Anmerkung: Manchmal wird gesagt, dass Variablen *labels* oder *tags* für die Objekte sind und keine *Zeiger*. Der Begriff *Zeiger* ist dann für solche Fälle reserviert, wo die Sprache gezielte Änderungen an den Adressen zulässt. In Python gibt es keine *pointer-arithmetic* wie in C oder C++, aber ansonsten finde ich das Bild vom Zeiger zutreffend. "
   ]
  },
  {
   "cell_type": "code",
   "execution_count": null,
   "id": "5be34010-c05c-4c14-a830-17476dfb1656",
   "metadata": {},
   "outputs": [],
   "source": [
    "a = 2\n",
    "hex(id(a))"
   ]
  },
  {
   "cell_type": "markdown",
   "id": "0a4ca665-739c-4f87-8eb8-1c4fc2ded2c1",
   "metadata": {},
   "source": [
    "Die Anweisung ```b = a``` bewirkt, dass b auf dieselbe Adresse zeigt, auf die a zeigt. Die Gleichheit der Adressen können wir mit ```is``` bzw. ```is not``` überprüfen."
   ]
  },
  {
   "cell_type": "code",
   "execution_count": null,
   "id": "511f4507-b6de-4875-9a97-fd66145f8790",
   "metadata": {},
   "outputs": [],
   "source": [
    "b = a\n",
    "hex(id(b))"
   ]
  },
  {
   "cell_type": "code",
   "execution_count": null,
   "id": "b1133466-b217-4d28-9d54-0cdb89010857",
   "metadata": {},
   "outputs": [],
   "source": [
    "a is b"
   ]
  },
  {
   "cell_type": "markdown",
   "id": "d97e2bdd-52bf-4486-94f3-2c7e01996d4d",
   "metadata": {},
   "source": [
    "#### Interning\n",
    "\n",
    "*Interning* verwendet Python als eine Maßnahme zur Speicheroptimierung. Dabei werden Objekte, die schon existieren, wiederverwendet. \n",
    "Dazu gehören alle Zahlen von -5 bis 256 und Strings, die so aussehen, als könnten sie Variablennamen sein. \n",
    "\n",
    "![](interning.png)"
   ]
  },
  {
   "cell_type": "code",
   "execution_count": null,
   "id": "1c959a6d-bfae-4c47-b3e6-3302c0f2dac5",
   "metadata": {},
   "outputs": [],
   "source": [
    "# Das Objekt 5 wird nur einmal erzeugt.\n",
    "a = 5\n",
    "b = 5\n",
    "print(hex(id(a)))\n",
    "print(hex(id(b)))\n"
   ]
  },
  {
   "cell_type": "code",
   "execution_count": null,
   "id": "024f0b96-64e4-4930-b94d-dddebda1b3ff",
   "metadata": {},
   "outputs": [],
   "source": [
    "print(a is b)\n",
    "print(a == b)"
   ]
  },
  {
   "cell_type": "code",
   "execution_count": null,
   "id": "80c2488a-92b0-4877-85f7-c2292de9bc8f",
   "metadata": {},
   "outputs": [],
   "source": [
    "# Das Objekt 500 wird zweimal erzeugt.\n",
    "a = 500\n",
    "b = 500\n",
    "print(hex(id(a)))\n",
    "print(hex(id(b)))"
   ]
  },
  {
   "cell_type": "code",
   "execution_count": null,
   "id": "250e9195-4907-4fed-b17f-42fea9d41cfb",
   "metadata": {},
   "outputs": [],
   "source": [
    "print(a is b)\n",
    "print(a == b)"
   ]
  },
  {
   "cell_type": "code",
   "execution_count": null,
   "id": "f0d7789c-1374-45dc-a122-e351db7ac694",
   "metadata": {},
   "outputs": [],
   "source": [
    "# Das Objekt 'Hallo' wird nur einmal erzeugt\n",
    "a = 'Hallo'\n",
    "b = 'Hallo'\n",
    "print(hex(id(a)))\n",
    "print(hex(id(b)))"
   ]
  },
  {
   "cell_type": "code",
   "execution_count": null,
   "id": "a1fc5a9f-42e4-45fd-93ef-d3612b952181",
   "metadata": {},
   "outputs": [],
   "source": [
    "print(a is b)\n",
    "print(a == b)"
   ]
  },
  {
   "cell_type": "code",
   "execution_count": null,
   "id": "8ee89ae5-5776-4bed-a02d-6e4782e973bd",
   "metadata": {},
   "outputs": [],
   "source": [
    "# Das Objekt 'Hallo Welt' wird zweimal erzeugt\n",
    "a = 'Hallo Welt'\n",
    "b = 'Hallo Welt'\n",
    "print(hex(id(a)))\n",
    "print(hex(id(b)))"
   ]
  },
  {
   "cell_type": "code",
   "execution_count": null,
   "id": "979145d3-72fe-4617-a4d2-e2bd6ab80d8f",
   "metadata": {},
   "outputs": [],
   "source": [
    "print(a is b)\n",
    "print(a == b)"
   ]
  },
  {
   "cell_type": "markdown",
   "id": "da0328a4-47c3-4c73-9fd3-7cb574ba375b",
   "metadata": {},
   "source": [
    "Das Interning ist eine Implementationsentscheidung der jeweiligen Python-Version (CPython). Deshalb sollte der *is*-Operator nicht zum Abfragen der Gleichheit von Objekten benutzt werden, sondern der *==* - Operator. Ausnahme: Das Objekt None.\n"
   ]
  },
  {
   "cell_type": "markdown",
   "id": "5272ca93-192d-4a99-bbca-ebef2a37953d",
   "metadata": {},
   "source": [
    "#### None\n",
    "\n",
    "Auch None ist ein Objekt. Es hat einen eigenen Typ."
   ]
  },
  {
   "cell_type": "code",
   "execution_count": null,
   "id": "67313e13-7c3d-4d93-9556-99e14bfe3f31",
   "metadata": {},
   "outputs": [],
   "source": [
    "type(None)"
   ]
  },
  {
   "cell_type": "markdown",
   "id": "72a7915a-da4e-47b4-af8c-d03c8a4bdff0",
   "metadata": {},
   "source": [
    "Das Objekt None ist ein *Singleton*. Es gibt nur ein Objekt von Typ NoneType. Ein zweites lässt sich nicht erzeugen. Alle Variablen, die auf None gesetzt werden, zeigen auf die gleiche Speicheradresse. Deswegen kann die Abfrage auf None mit dem *is*-Operator bzw. *is not*-Operator durchgeführt werden."
   ]
  },
  {
   "cell_type": "code",
   "execution_count": null,
   "id": "911a35d7-7a24-4705-9d19-b0d27d16bd65",
   "metadata": {},
   "outputs": [],
   "source": [
    "a = None\n",
    "b = None \n",
    "\n",
    "print(hex(id(a)))\n",
    "print(hex(id(b)))"
   ]
  },
  {
   "cell_type": "code",
   "execution_count": null,
   "id": "23764590-5ada-4a5d-9a52-b0d656b10f41",
   "metadata": {},
   "outputs": [],
   "source": [
    "a is None"
   ]
  },
  {
   "cell_type": "code",
   "execution_count": null,
   "id": "5256a6cf-faec-4d69-b2f9-3f2370b27338",
   "metadata": {},
   "outputs": [],
   "source": [
    "d = 5\n",
    "d is not None"
   ]
  }
 ],
 "metadata": {
  "kernelspec": {
   "display_name": "Python 3 (ipykernel)",
   "language": "python",
   "name": "python3"
  },
  "language_info": {
   "codemirror_mode": {
    "name": "ipython",
    "version": 3
   },
   "file_extension": ".py",
   "mimetype": "text/x-python",
   "name": "python",
   "nbconvert_exporter": "python",
   "pygments_lexer": "ipython3",
   "version": "3.11.2"
  }
 },
 "nbformat": 4,
 "nbformat_minor": 5
}
