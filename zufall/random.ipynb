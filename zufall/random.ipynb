{
 "cells": [
  {
   "cell_type": "markdown",
   "metadata": {},
   "source": [
    "### Random\n",
    "\n",
    "[Video](https://youtu.be/joryg2Wv2Rw)\n",
    "\n",
    "Das Modul random erzeugt Pseudozufallszahlen mit dem Mersenne-Twister-Algorithmus. Sie sehen zufällig aus, aber nach $2^{19937}-1$ Zahlen wiederholen sie sich.\n",
    "\n",
    " [W3Schools](https://www.w3schools.com/python/module_random.asp)"
   ]
  },
  {
   "cell_type": "code",
   "execution_count": 88,
   "metadata": {},
   "outputs": [],
   "source": [
    "import random "
   ]
  },
  {
   "cell_type": "code",
   "execution_count": 34,
   "metadata": {},
   "outputs": [
    {
     "name": "stdout",
     "output_type": "stream",
     "text": [
      "0.12640017441210394\n",
      "0.4792999070835585\n",
      "0.6535075966447582\n",
      "0.615870554851763\n",
      "0.07414007395669364\n",
      "0.21240024952113756\n",
      "0.914947898715577\n",
      "0.7489851118369012\n",
      "0.06915432415302036\n",
      "0.4114265624113792\n"
     ]
    }
   ],
   "source": [
    "for i in range(10):\n",
    "    x = random.random()       # 0 <= x < 1\n",
    "    print(x)"
   ]
  },
  {
   "cell_type": "markdown",
   "metadata": {},
   "source": [
    "Mit der Funktion **seed** lässt sich der Zufallsgenerator initialisieren. Er erzeugt dann, je nach seed, immer die gleiche Zahlenfolge."
   ]
  },
  {
   "cell_type": "code",
   "execution_count": 49,
   "metadata": {},
   "outputs": [
    {
     "name": "stdout",
     "output_type": "stream",
     "text": [
      "0.4745706786885481\n",
      "0.6574725026572553\n",
      "0.6664104711248381\n",
      "0.14260035292536777\n",
      "0.01086044309006795\n",
      "0.3747544920633644\n",
      "0.2740481394783314\n",
      "0.8103480522350838\n",
      "0.6905926530386846\n",
      "0.6014570387277332\n"
     ]
    }
   ],
   "source": [
    "random.seed(12)\n",
    "for i in range(10):\n",
    "    x = random.random()       # 0 <= x < 1\n",
    "    print(x)"
   ]
  },
  {
   "cell_type": "markdown",
   "metadata": {},
   "source": [
    "#### Zufällige ganze Zahlen"
   ]
  },
  {
   "cell_type": "code",
   "execution_count": 60,
   "metadata": {},
   "outputs": [
    {
     "data": {
      "text/plain": [
       "3"
      ]
     },
     "execution_count": 60,
     "metadata": {},
     "output_type": "execute_result"
    }
   ],
   "source": [
    "random.randint(0,10)          #  ganze Zahl n: 0 <= n <= 10 "
   ]
  },
  {
   "cell_type": "code",
   "execution_count": 97,
   "metadata": {},
   "outputs": [
    {
     "data": {
      "text/plain": [
       "16"
      ]
     },
     "execution_count": 97,
     "metadata": {},
     "output_type": "execute_result"
    }
   ],
   "source": [
    "random.randrange(0, 50, 2)    #  gerade Zahl n: 0 <= n < 50"
   ]
  },
  {
   "cell_type": "markdown",
   "metadata": {},
   "source": [
    "#### Zufällige Dezimalzahlen"
   ]
  },
  {
   "cell_type": "code",
   "execution_count": 98,
   "metadata": {},
   "outputs": [
    {
     "data": {
      "text/plain": [
       "0.30193249869640726"
      ]
     },
     "execution_count": 98,
     "metadata": {},
     "output_type": "execute_result"
    }
   ],
   "source": [
    "random.random()              #  Dezimalzahl x:  0 <= x < 1"
   ]
  },
  {
   "cell_type": "code",
   "execution_count": 99,
   "metadata": {},
   "outputs": [
    {
     "data": {
      "text/plain": [
       "3.4345861012902166"
      ]
     },
     "execution_count": 99,
     "metadata": {},
     "output_type": "execute_result"
    }
   ],
   "source": [
    "random.uniform(2,10)          #  Dezimalzahl x: 2 <= x <= 10"
   ]
  },
  {
   "cell_type": "markdown",
   "metadata": {},
   "source": [
    "#### Zufallsoperationen auf sequentiellen Datentypen \n",
    "\n",
    "Sequentielle Datentypen sind: list, tuple, range, strings."
   ]
  },
  {
   "cell_type": "code",
   "execution_count": 100,
   "metadata": {},
   "outputs": [
    {
     "data": {
      "text/plain": [
       "22"
      ]
     },
     "execution_count": 100,
     "metadata": {},
     "output_type": "execute_result"
    }
   ],
   "source": [
    "random.choice([17,4,12,22,42])    # ein Element wird zufällig gewählt, für list, tuple, range, strings"
   ]
  },
  {
   "cell_type": "code",
   "execution_count": 102,
   "metadata": {},
   "outputs": [
    {
     "data": {
      "text/plain": [
       "'A'"
      ]
     },
     "execution_count": 102,
     "metadata": {},
     "output_type": "execute_result"
    }
   ],
   "source": [
    "random.choice(('A','B','C'))"
   ]
  },
  {
   "cell_type": "code",
   "execution_count": 105,
   "metadata": {},
   "outputs": [
    {
     "data": {
      "text/plain": [
       "5"
      ]
     },
     "execution_count": 105,
     "metadata": {},
     "output_type": "execute_result"
    }
   ],
   "source": [
    "random.choice(range(1,11))        # wie random.randrange(1,11)"
   ]
  },
  {
   "cell_type": "code",
   "execution_count": 113,
   "metadata": {},
   "outputs": [
    {
     "data": {
      "text/plain": [
       "'b'"
      ]
     },
     "execution_count": 113,
     "metadata": {},
     "output_type": "execute_result"
    }
   ],
   "source": [
    "random.choice('rbbbb')  "
   ]
  },
  {
   "cell_type": "code",
   "execution_count": 120,
   "metadata": {},
   "outputs": [
    {
     "data": {
      "text/plain": [
       "[42, 12, 4]"
      ]
     },
     "execution_count": 120,
     "metadata": {},
     "output_type": "execute_result"
    }
   ],
   "source": [
    "a = [17,4,12,22,42]\n",
    "random.sample(a, 3)                 # drei Elemente werden zufällig gewählt: Ziehen ohne Zurücklegen"
   ]
  },
  {
   "cell_type": "code",
   "execution_count": 132,
   "metadata": {},
   "outputs": [
    {
     "data": {
      "text/plain": [
       "[3, 14, 22, 45, 7, 28]"
      ]
     },
     "execution_count": 132,
     "metadata": {},
     "output_type": "execute_result"
    }
   ],
   "source": [
    "random.sample(range(1,50),6)        # Lotto-Ziehung"
   ]
  },
  {
   "cell_type": "code",
   "execution_count": 146,
   "metadata": {},
   "outputs": [
    {
     "data": {
      "text/plain": [
       "['b', 'b']"
      ]
     },
     "execution_count": 146,
     "metadata": {},
     "output_type": "execute_result"
    }
   ],
   "source": [
    "random.sample('rrbbbb', 2)          # 2 Kugeln aus Urne mit 2 roten und 4 blauen Kugeln     "
   ]
  },
  {
   "cell_type": "markdown",
   "metadata": {},
   "source": [
    "#### Mischen von Listen"
   ]
  },
  {
   "cell_type": "code",
   "execution_count": 172,
   "metadata": {},
   "outputs": [
    {
     "data": {
      "text/plain": [
       "[4, 7, 6, 9, 5, 3, 2, 1, 10, 8]"
      ]
     },
     "execution_count": 172,
     "metadata": {},
     "output_type": "execute_result"
    }
   ],
   "source": [
    "a = list(range(1,11))\n",
    "random.shuffle(a)                   # die Elemente von a werden gemischt, nur für list\n",
    "a"
   ]
  },
  {
   "cell_type": "markdown",
   "metadata": {},
   "source": [
    "#### Die wichtigsten Befehle"
   ]
  },
  {
   "cell_type": "code",
   "execution_count": 279,
   "metadata": {},
   "outputs": [
    {
     "data": {
      "text/plain": [
       "[4, 2]"
      ]
     },
     "execution_count": 279,
     "metadata": {},
     "output_type": "execute_result"
    }
   ],
   "source": [
    "import random\n",
    "random.random()       # float Zufallszahl x, 0 <= x < 1\n",
    "random.uniform(0,10)  # float Zufallszahl x, 0 <= x <= 10\n",
    "random.randint(0,20)  # int Zufallszahl k, 0 <= k <= 20\n",
    "random.randrange(2, 101, 2)   # eine gerade Zahl zwischen 2 und 100   \n",
    "random.seed(x)        # x irgendeine Zahl, setzt den random-seed für reproduzierbare Ergebnisse\n",
    "random.choice(a)      # ein zufälliges Element der Liste a\n",
    "random.shuffle(a)     # mischt die Elemente der Liste a\n",
    "random.sample(a, 2)   # 2 zufällige Elemente aus Liste a"
   ]
  }
 ],
 "metadata": {
  "kernelspec": {
   "display_name": "Python 3 (ipykernel)",
   "language": "python",
   "name": "python3"
  },
  "language_info": {
   "codemirror_mode": {
    "name": "ipython",
    "version": 3
   },
   "file_extension": ".py",
   "mimetype": "text/x-python",
   "name": "python",
   "nbconvert_exporter": "python",
   "pygments_lexer": "ipython3",
   "version": "3.12.8"
  }
 },
 "nbformat": 4,
 "nbformat_minor": 4
}
