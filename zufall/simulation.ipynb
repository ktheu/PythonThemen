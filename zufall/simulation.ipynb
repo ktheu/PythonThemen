{
 "cells": [
  {
   "cell_type": "markdown",
   "metadata": {},
   "source": [
    "### Simulation von Zufallsexperimenten\n",
    "\n",
    "[Video](https://youtu.be/0oWSj-S5xaI)\n"
   ]
  },
  {
   "cell_type": "code",
   "execution_count": null,
   "metadata": {},
   "outputs": [],
   "source": [
    "import random \n",
    "import math"
   ]
  },
  {
   "cell_type": "markdown",
   "metadata": {},
   "source": [
    "#### Beispiel 1\n",
    "\n",
    "In einer Urne liegen 10 rote, 3 blaue und 7 gelbe Kugeln. Wie groß ist die Wahrscheinlichkeit, bei 5 Zügen (ohne Zurücklegen) genau eine blaue und eine gelbe Kugel gezogen zu haben.\n",
    "\n",
    "Berechneter Wert: 0.16254\n",
    "\n"
   ]
  },
  {
   "cell_type": "code",
   "execution_count": null,
   "metadata": {},
   "outputs": [],
   "source": [
    "urne = 10*'r'+3*'b'+7*'g'\n",
    "urne"
   ]
  },
  {
   "cell_type": "code",
   "execution_count": null,
   "metadata": {},
   "outputs": [],
   "source": [
    "z = random.sample(urne,5)\n",
    "z"
   ]
  },
  {
   "cell_type": "code",
   "execution_count": null,
   "metadata": {},
   "outputs": [],
   "source": [
    "z.count('b')  "
   ]
  },
  {
   "cell_type": "code",
   "execution_count": null,
   "metadata": {},
   "outputs": [],
   "source": [
    "z.count('b') == 1 and z.count('g') == 1"
   ]
  },
  {
   "cell_type": "code",
   "execution_count": null,
   "metadata": {},
   "outputs": [],
   "source": [
    "# Simulation\n",
    "def experiment():\n",
    "    z = random.sample(urne,5)\n",
    "    return z.count('b') == 1 and z.count('g') == 1\n",
    "\n",
    "urne = 10*'r'+3*'b'+7*'g'\n",
    "anzahlExperimente = 500000\n",
    "treffer = 0\n",
    "for i in range(anzahlExperimente):\n",
    "    if experiment(): \n",
    "        treffer+=1\n",
    "p = treffer/anzahlExperimente\n",
    "print(f'{p=:.5f}')"
   ]
  },
  {
   "cell_type": "markdown",
   "metadata": {},
   "source": [
    "#### Beispiel 2\n",
    "\n",
    "Wie Beispiel 1, nur mit Zurücklegen\n",
    "\n",
    "Berechneter Wert: p=0.13125"
   ]
  },
  {
   "cell_type": "code",
   "execution_count": null,
   "metadata": {},
   "outputs": [],
   "source": [
    "# Simulation\n",
    "def experiment():\n",
    "    urne = 10*'r'+3*'b'+7*'g'\n",
    "    z = []\n",
    "    for i in range(5):\n",
    "        z.append(random.choice(urne))\n",
    "    return z.count('b') == 1 and z.count('g') == 1\n",
    "    \n",
    "anzahlExperimente = 500000\n",
    "treffer = 0\n",
    "for i in range(anzahlExperimente):\n",
    "    if experiment(): \n",
    "        treffer+=1\n",
    "p = treffer/anzahlExperimente\n",
    "print(f'{p=:.5f}')"
   ]
  },
  {
   "cell_type": "markdown",
   "metadata": {},
   "source": [
    "#### Beispiel 3\n",
    "Von 752 Schülerinnen und Schüler besuchen 48 die Kajak-AG. Wie groß ist die Wahrscheinlichkeit, dass von 25 zufällig ausgewählten Schülerinnen und Schüler \n",
    "\n",
    "* weniger als drei die Kajak-AG besuchen\n",
    "* keiner die Kajak-AG besucht\n",
    "* mehr als einer und höchstens fünf die Kajak-AG besuchen?\n",
    "\n",
    "Berechnete Werte: 0.78807, 0.19225, 0.47588"
   ]
  },
  {
   "cell_type": "code",
   "execution_count": null,
   "metadata": {},
   "outputs": [],
   "source": [
    "a = [1]*48+[0]*704\n",
    "print(a)"
   ]
  },
  {
   "cell_type": "code",
   "execution_count": null,
   "metadata": {},
   "outputs": [],
   "source": [
    "z = random.sample(a,25)\n",
    "z"
   ]
  },
  {
   "cell_type": "code",
   "execution_count": null,
   "metadata": {},
   "outputs": [],
   "source": [
    "sum(z)"
   ]
  },
  {
   "cell_type": "code",
   "execution_count": null,
   "metadata": {},
   "outputs": [],
   "source": [
    "def experiment():\n",
    "    z = random.sample(a,25)\n",
    "    # return sum(z) < 3         \n",
    "    # return sum(z) == 0\n",
    "    return 1 < sum(z) <= 5\n",
    "\n",
    "a = [1]*48+[0]*704\n",
    "anzahlExperimente = 500000\n",
    "treffer = 0\n",
    "for i in range(anzahlExperimente):\n",
    "    if experiment():\n",
    "        treffer += 1\n",
    "p = treffer/anzahlExperimente\n",
    "print(f'{p=:.5f}')"
   ]
  },
  {
   "cell_type": "markdown",
   "metadata": {},
   "source": [
    "#### Beispiel 4\n",
    "\n",
    "In einer Urne liegen drei rote, zwei grüne und eine blaue Kugel. Es werden so lange nacheinander einzelne Kugeln gezogen und zur Seite gelegt, bis man eine rote Kugel erhält. Bestimme die Wahrscheinlichkeit dafür, dass man höchstens drei Kugeln zieht.\n",
    "\n",
    "Berechneter Wert: p=0.95\n"
   ]
  },
  {
   "cell_type": "code",
   "execution_count": null,
   "metadata": {},
   "outputs": [],
   "source": [
    "urne = list(3*'r'+2*'g'+1*'b')\n",
    "urne"
   ]
  },
  {
   "cell_type": "code",
   "execution_count": null,
   "metadata": {},
   "outputs": [],
   "source": [
    "gezogen = random.choice(urne)\n",
    "gezogen"
   ]
  },
  {
   "cell_type": "code",
   "execution_count": null,
   "metadata": {},
   "outputs": [],
   "source": [
    "urne.remove(gezogen)\n",
    "urne"
   ]
  },
  {
   "cell_type": "code",
   "execution_count": null,
   "metadata": {},
   "outputs": [],
   "source": [
    "# Simulation\n",
    "def experiment():\n",
    "    urne = list(3*'r'+2*'g'+1*'b')\n",
    "    anzKugeln = 0\n",
    "    gezogen = None\n",
    "    while gezogen != 'r':\n",
    "        gezogen = random.choice(urne)\n",
    "        anzKugeln += 1\n",
    "        urne.remove(gezogen)\n",
    "    return anzKugeln <= 3\n",
    "\n",
    "anzahlExperimente = 1000000\n",
    "treffer = 0\n",
    "for i in range(anzahlExperimente):\n",
    "    if experiment():\n",
    "        treffer += 1\n",
    "p = treffer/anzahlExperimente\n",
    "print(f'{p=:.5f}')"
   ]
  },
  {
   "cell_type": "markdown",
   "metadata": {},
   "source": [
    "#### Beispiel 5\n",
    "\n",
    "Das Glücksrad wird 5 mal gedreht. Bestimme die Wahrscheinlichkeit das genau zweimal in Folge das rote Feld erscheint.\n",
    "\n",
    "<img src='gluecksrad.png' width='200'>\n",
    "\n",
    "Berechneter Wert: p=0.10547"
   ]
  },
  {
   "cell_type": "code",
   "execution_count": null,
   "metadata": {},
   "outputs": [],
   "source": [
    "winkel = random.uniform(0,360) \n",
    "winkel"
   ]
  },
  {
   "cell_type": "code",
   "execution_count": null,
   "metadata": {},
   "outputs": [],
   "source": [
    "270 <= winkel < 360 "
   ]
  },
  {
   "cell_type": "code",
   "execution_count": null,
   "metadata": {},
   "outputs": [],
   "source": [
    "drehen = [random.uniform(0,360) for i in range(5)]\n",
    "drehen"
   ]
  },
  {
   "cell_type": "code",
   "execution_count": null,
   "metadata": {},
   "outputs": [],
   "source": [
    "drehen = [270 <= random.uniform(0,360) < 360 for i in range(5)]\n",
    "drehen"
   ]
  },
  {
   "cell_type": "code",
   "execution_count": null,
   "metadata": {},
   "outputs": [],
   "source": [
    "sum(drehen)"
   ]
  },
  {
   "cell_type": "code",
   "execution_count": null,
   "metadata": {},
   "outputs": [],
   "source": [
    "drehen = [random.random() < 0.25 for i in range(5)]\n",
    "drehen"
   ]
  },
  {
   "cell_type": "code",
   "execution_count": null,
   "metadata": {},
   "outputs": [],
   "source": [
    "# Simulation\n",
    "def experiment():\n",
    "    drehen = [270 <= random.uniform(0,360) < 360 for i in range(5)]\n",
    "    \n",
    "    if sum(drehen) != 2: return False            # nicht genau zweimal in den roten Bereich\n",
    "    for i in range(4):\n",
    "        if drehen[i] and drehen[i+1]:            # die zweimal waren hintereinander\n",
    "            return True\n",
    "    return False\n",
    "\n",
    "anzahlExperimente = 1000000\n",
    "treffer = 0\n",
    "for i in range(anzahlExperimente):\n",
    "    if experiment():\n",
    "        treffer += 1\n",
    "p = treffer/anzahlExperimente\n",
    "print(f'{p=:.5f}')"
   ]
  },
  {
   "cell_type": "markdown",
   "metadata": {},
   "source": [
    "#### Beispiel 6\n",
    "\n",
    "Pokerkarten bestehen aus 52 Karten von vier verschiedenen Farben (Kreuz, Pik, Herz, Karo) und dreizehn Werten (2 bis 10 − Bube − Dame − König − Ass).\n",
    "Eine Pokerhand besteht aus 5 Karten.\n",
    "\n",
    "* Wie groß ist die Wahrscheinlichkeit für genau einen Zwilling?\n",
    "* Wie groß ist die Wahrscheinlichkeit für full house (= 1 Zwilling, 1 Drilling)?\n",
    "\n",
    "Berechnete Werte: 0.42257, 0.00144"
   ]
  },
  {
   "cell_type": "code",
   "execution_count": null,
   "metadata": {},
   "outputs": [],
   "source": [
    "farben = [\"Karo\", \"Herz\", \"Pik\", \"Kreuz\"]\n",
    "werte = [\"2\", \"3\", \"4\", \"5\", \"6\", \"7\", \"8\", \"9\", \"10\", \"Bube\", \"Dame\", \"König\", \"Ass\"]                             # die Farben der Karten"
   ]
  },
  {
   "cell_type": "code",
   "execution_count": null,
   "metadata": {},
   "outputs": [],
   "source": [
    "karten = [(f,w) for f in farben for w in werte]\n",
    "len(karten)"
   ]
  },
  {
   "cell_type": "code",
   "execution_count": null,
   "metadata": {},
   "outputs": [],
   "source": [
    "hand = random.sample(karten,5)\n",
    "hand"
   ]
  },
  {
   "cell_type": "code",
   "execution_count": null,
   "metadata": {},
   "outputs": [],
   "source": [
    "hf = dict()     # Häufigkeit eines Werts\n",
    "for k in hand:\n",
    "    if k[1] in hf:\n",
    "        hf[k[1]] += 1\n",
    "    else:\n",
    "        hf[k[1]] = 1\n",
    "\n",
    "hf"
   ]
  },
  {
   "cell_type": "code",
   "execution_count": null,
   "metadata": {},
   "outputs": [],
   "source": [
    "list(hf.values())"
   ]
  },
  {
   "cell_type": "code",
   "execution_count": null,
   "metadata": {},
   "outputs": [],
   "source": [
    "list(hf.values()).count(2)"
   ]
  },
  {
   "cell_type": "code",
   "execution_count": null,
   "metadata": {},
   "outputs": [],
   "source": [
    "def experiment():\n",
    "    hand = random.sample(karten,5)\n",
    "    hf = dict()     # Häufigkeit eines Werts\n",
    "    for k in hand:\n",
    "        if k[1] in hf:\n",
    "            hf[k[1]] += 1\n",
    "        else:\n",
    "            hf[k[1]] = 1\n",
    "    #return list(hf.values()).count(2) == 1 and list(hf.values()).count(1) == 3    # Zwilling\n",
    "    return list(hf.values()).count(3) == 1 and list(hf.values()).count(2) == 1    # Full House"
   ]
  },
  {
   "cell_type": "code",
   "execution_count": null,
   "metadata": {},
   "outputs": [],
   "source": [
    "# Simulation\n",
    "anzahl = 500000\n",
    "treffer = 0\n",
    "for i in range(anzahl):\n",
    "    if experiment():\n",
    "        treffer +=1\n",
    "p = treffer/anzahl\n",
    "print(f'{p=:.5f}')    "
   ]
  },
  {
   "cell_type": "markdown",
   "metadata": {},
   "source": [
    "#### Beispiel 7\n",
    "\n",
    "Bei einem Glücksspiel wird das abgebildete Glücksrad verwendet. Die Mittelpunktswinkel betragen 180, 120 und 60 Grad. Als Einsatz bezahlt man\n",
    "zwei Euro. Das Glücksrad wird einmal gedreht. Man erhält den Betrag ausbezahlt, in dessen Sektor der Zeiger zu stehen kommt. Ermittle den Erwartungswert für den Gewinn.\n",
    "\n",
    "<img src='gluecksrad3.png' width='200'>\n",
    "\n",
    "Berechneter Wert: E = 0.16667"
   ]
  },
  {
   "cell_type": "code",
   "execution_count": 331,
   "metadata": {},
   "outputs": [
    {
     "name": "stdout",
     "output_type": "stream",
     "text": [
      "E=0.16351\n"
     ]
    }
   ],
   "source": [
    "# Simulation\n",
    "def experiment():\n",
    "    geld = -2\n",
    "    drehen = random.random()\n",
    "    if drehen < 1/6:\n",
    "        geld+=4\n",
    "    elif 1/6 <= drehen < 3/6:\n",
    "        geld+=3\n",
    "    else:\n",
    "        geld+=1\n",
    "    return geld\n",
    "\n",
    "anzahlExperimente = 1000000\n",
    "summe = 0\n",
    "for i in range(anzahlExperimente):\n",
    "    summe += experiment()\n",
    "E = summe/anzahlExperimente\n",
    "print(f'{E=:.5f}')"
   ]
  },
  {
   "cell_type": "markdown",
   "metadata": {},
   "source": [
    "#### Aufgaben\n",
    "\n",
    "Ermittle eine Näherung der gesuchten Wahrscheinlichkeiten durch ein geeignetes Zufallsexperiment.\n",
    "Die berechneten Werte dienen zur Kontrolle - es sollten (nach Rundung) mindestens die ersten beiden Kommastellen übereinstimmen."
   ]
  },
  {
   "cell_type": "markdown",
   "metadata": {},
   "source": [
    "#### A1\n",
    "In einer Urne befinden sich 2 grüne, 3 rote und 5 blaue Kugeln. Es werden 2 Kugeln ohne Zurücklegen gezogen. Ermittle die Wahrscheinlichkeiten für folgende Ereignisse:\n",
    "\n",
    "* A: Es werden eine grüne und eine rote Kugel gezogen \n",
    "* B: Er wird keine blaue Kugel gezogen\n",
    "\n",
    "Berechnete Werte: 0.13333, 0.22222\n",
    "\n"
   ]
  },
  {
   "cell_type": "markdown",
   "metadata": {},
   "source": [
    "#### A2\n",
    "In einer Urne befinden sich 4 rote, 3 weiße und 2 gelbe Kugeln. Es werden 2 Kugeln ohne Zurücklegen gezogen. Ermittle die Wahrscheinlichkeiten für folgende Ereignisse:\n",
    "\n",
    "* A: Es werden eine weiße und eine gelbe Kugel gezogen\n",
    "* B: Er wird keine weiße Kugel gezogen\n",
    " \n",
    "Berechnete Werte: 0.14815, 0.44444"
   ]
  },
  {
   "cell_type": "markdown",
   "metadata": {},
   "source": [
    "#### A3\n",
    "In einem Gefäß G1 befinden sich 2 rote und 3 blaue Kugeln, in einem Gefäß G2 sind 2 rote und 4 blaue Kugeln.\n",
    "\n",
    "* A: Aus G1 werden 2 Kugeln mit Zurücklegen gezogen, anschließend wird aus G2 eine Kugel gezogen. Ermittle die Wahrscheinlichkeit,\n",
    "  dass mindestens 2 rote Kugeln gezogen wurden\n",
    "* B: Aus G1 werde 2 Kugeln ohne Zurücklegen gezogen und ins Gefäß G2 gelegt, anschließend wird aus G2 eine Kugel gezogen. Ermittle die\n",
    "  Wahrscheinlichkeit, dass genau 1 rote Kugel gezogen wurde.\n",
    " \n",
    "Berechnete Werte: 0.32, 0.45"
   ]
  },
  {
   "cell_type": "markdown",
   "metadata": {},
   "source": [
    "#### A4\n",
    "Die Buchstaben des Wortes ANANAS werden geschüttelt und neu angeordnet. Ermittle die Wahrscheinlichkeit für\n",
    "\n",
    "* A: Es entsteht wieder das Wort ANANAS\n",
    "* B: Die Buchstabenkombination beginnt mit AAA\n",
    "* C: Es entsteht ein Wort mit dreifachem AAA direkt hintereinander\n",
    "\n",
    "Berechnete Werte: 0.01667, 0.05, 0.2\n"
   ]
  },
  {
   "cell_type": "markdown",
   "metadata": {},
   "source": [
    "#### A5\n",
    "Ein Glücksrad hat die Sektoren A, B, C mit den folgenden Wahrscheinlichkeiten: 0.3, 0.5, 0.2. Der Spieler zahlt einen Einsatz von 4 Euro. Dann wird das Glücksrad zweimal gedreht. Sind die zwei ermittelten Buchstaben gleich, erhält der Spieler 10 Euro. Sonst erhält der Spieler nicht. Prüfe, ob das Spiel fair ist.\n",
    "\n",
    "Berechneter Erwartungswert: -0.2 Euro, das Spiel ist nicht fair."
   ]
  },
  {
   "cell_type": "markdown",
   "metadata": {},
   "source": [
    "#### A6\n",
    "Ermittle die Wahrscheinlichkeit im Poker für\n",
    "\n",
    "* Vierling\n",
    "* Strasse (Straight) = 5 aufeinanderfolgende Karten in der Reihenfolge A,2-10,B,D,K,A  (Ass kann vorne oder hinten sein)\n",
    " \n",
    "\n",
    "Berechnete Werte:  0.00024, 0.003925"
   ]
  }
 ],
 "metadata": {
  "kernelspec": {
   "display_name": "Python 3 (ipykernel)",
   "language": "python",
   "name": "python3"
  },
  "language_info": {
   "codemirror_mode": {
    "name": "ipython",
    "version": 3
   },
   "file_extension": ".py",
   "mimetype": "text/x-python",
   "name": "python",
   "nbconvert_exporter": "python",
   "pygments_lexer": "ipython3",
   "version": "3.12.8"
  }
 },
 "nbformat": 4,
 "nbformat_minor": 4
}
