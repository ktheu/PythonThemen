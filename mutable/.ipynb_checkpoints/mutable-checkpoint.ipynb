{
 "cells": [
  {
   "cell_type": "markdown",
   "id": "cb99afb6-3de0-434f-8ad4-a89d612239a5",
   "metadata": {},
   "source": [
    "## Veränderbare und unveränderbare Objekte in Python\n",
    "\n",
    "[Video](https://youtu.be/JcNHEZA38qU)\n",
    "\n",
    "Jedes Objekt in Python hat einen *Typ* und die binären Daten, die zu dem Objekt gehören, sind an einer bestimmten Adresse gespeichert. Wir nennen diese Daten des Objekts den *internal state* des Objekts. Wenn wir den internal state eines Objekts ändern können, dann nennen wir das Objekt *veränderbar (mutable)*, sonst *unveränderbar (immutable)*.\n"
   ]
  },
  {
   "cell_type": "markdown",
   "id": "13ccbfb8-6c80-4056-a336-312e3879b542",
   "metadata": {},
   "source": [
    "#### Lists sind mutable \n",
    "\n",
    "Eine Liste ist ein veränderbares Objekt. Mit der Methode *append* verändern wir den internal state des Objekts. \n",
    "Im abgebildeten Beispiel ändert sich die Variable b, obwohl wir nur a ändern. Das nennt man einen *Seiteneffekt*. Unerwünschte Seiteneffekt können unangenehme Fehlerquellen sein.\n",
    "\n",
    "![](veraenderbar1.png)"
   ]
  },
  {
   "cell_type": "code",
   "execution_count": 1,
   "id": "578ee3d7-0813-49f3-9a6f-7dd36d1e5b72",
   "metadata": {},
   "outputs": [
    {
     "name": "stdout",
     "output_type": "stream",
     "text": [
      "[1, 2, 3, 7]\n",
      "[1, 2, 3, 7]\n"
     ]
    }
   ],
   "source": [
    "a = [1,2,3]\n",
    "b = a\n",
    "a.append(7)\n",
    "print(a)\n",
    "print(b)"
   ]
  },
  {
   "cell_type": "markdown",
   "id": "c20e0034-a46d-4eac-8a8f-7938d477bfa4",
   "metadata": {},
   "source": [
    "#### Strings sind immutable\n",
    "\n",
    "\n",
    "Strings sind unveränderbar (immutable). Wenn wir einen String durch Anfügen eines Zeichens ändern, wird ein neuer String an anderer Stelle erstellt.\n",
    "Bei Strings können keine Seiteneffekte auftreten.\n",
    "\n",
    "![](veraenderbar2.png)"
   ]
  },
  {
   "cell_type": "code",
   "execution_count": 2,
   "id": "d647f204-fe1c-474f-9427-a60637db4731",
   "metadata": {},
   "outputs": [
    {
     "name": "stdout",
     "output_type": "stream",
     "text": [
      "1234\n",
      "123\n"
     ]
    }
   ],
   "source": [
    "a = '123'\n",
    "b = a\n",
    "a = a + '4'\n",
    "print(a)\n",
    "print(b)"
   ]
  },
  {
   "cell_type": "markdown",
   "id": "ea43f982-84f5-4e71-89ce-15d359a2817a",
   "metadata": {},
   "source": [
    "Wird eine Liste nicht mit append sondern mit + erweitert, dann wird, wie in dem String-Beispiel, eine neue Liste erzeugt. "
   ]
  },
  {
   "cell_type": "code",
   "execution_count": 3,
   "id": "dd438ff2-d800-4146-9ab8-e7fc6b7b5806",
   "metadata": {},
   "outputs": [
    {
     "name": "stdout",
     "output_type": "stream",
     "text": [
      "[1, 2, 3, 7]\n",
      "[1, 2, 3]\n"
     ]
    }
   ],
   "source": [
    "a = [1,2,3]\n",
    "b = a\n",
    "a = a + [7]\n",
    "print(a)\n",
    "print(b)"
   ]
  },
  {
   "cell_type": "markdown",
   "id": "1e459ab1-f081-485c-8d02-19454e0a0b9c",
   "metadata": {},
   "source": [
    "#### Tuples sind immutable\n",
    "\n",
    "Tuples sind unveränderbar. Alles, was bei Listen den internal state ändert, ist bei Tuples nicht möglich."
   ]
  },
  {
   "cell_type": "code",
   "execution_count": null,
   "id": "fa56ab22-622e-4a90-a998-f39eeb4d5fe9",
   "metadata": {},
   "outputs": [],
   "source": [
    "t = (1,2,3)\n",
    "t.append(7)      # nicht möglich "
   ]
  },
  {
   "cell_type": "code",
   "execution_count": 6,
   "id": "e7bb04c8-6a51-4c48-8d8d-5a75f1bbcdc6",
   "metadata": {},
   "outputs": [
    {
     "name": "stdout",
     "output_type": "stream",
     "text": [
      "(1, 2, 3, 7)\n"
     ]
    }
   ],
   "source": [
    "t = (1,2,3)\n",
    "t = t + (7,)     # möglich\n",
    "print(t)"
   ]
  },
  {
   "cell_type": "code",
   "execution_count": null,
   "id": "c0ea25f2-135e-4551-8239-11bfa5f01d34",
   "metadata": {},
   "outputs": [],
   "source": [
    "t = (1,2,3)\n",
    "t[1] = 7         # nicht möglich"
   ]
  },
  {
   "cell_type": "markdown",
   "id": "9daea8a4-1c32-404e-8d02-b01ef90ccc34",
   "metadata": {},
   "source": [
    "Aber wenn die Elemente der Tuples aus veränderbaren Objekten bestehen, dann kann sich doch von außen gesehen der Inhalt des Tuples ändern. \n",
    "\n",
    "![](veraenderbar3.png)"
   ]
  },
  {
   "cell_type": "code",
   "execution_count": 7,
   "id": "ef2e6db8-c09b-44d0-9994-b9895d2399d0",
   "metadata": {},
   "outputs": [
    {
     "name": "stdout",
     "output_type": "stream",
     "text": [
      "([1, 2], [3, 4])\n"
     ]
    }
   ],
   "source": [
    "a = [1,2]\n",
    "b = [3,4]\n",
    "t = (a,b)\n",
    "print(t)"
   ]
  },
  {
   "cell_type": "code",
   "execution_count": 8,
   "id": "23a25244-c8c4-45f1-be4c-502d26d6e575",
   "metadata": {},
   "outputs": [
    {
     "name": "stdout",
     "output_type": "stream",
     "text": [
      "([1, 2, 7], [3, 4])\n"
     ]
    }
   ],
   "source": [
    "a.append(7)\n",
    "print(t)"
   ]
  },
  {
   "cell_type": "markdown",
   "id": "6998969e-ae31-45bb-b43e-d27e25416ae6",
   "metadata": {},
   "source": [
    "#### Mutable und Immutable Datentypen"
   ]
  },
  {
   "cell_type": "markdown",
   "id": "7d42ce0e-c9f2-4283-a5c2-e4252cc0e3f4",
   "metadata": {},
   "source": [
    "Zu den veränderbaren (mutable) Objekten gehören: Listen, Dictionaries, Sets <br>\n",
    "Zu den unveränderbare (immutable) Objekten gehören: Ints, Floats, Strings, Tuples"
   ]
  },
  {
   "cell_type": "markdown",
   "id": "ce45aae8-69be-410e-a83d-a89f46a5c47f",
   "metadata": {},
   "source": [
    "#### Funktionsaufrufe\n",
    "\n",
    "Bei einem Funktionsaufruf wird der Parameter zu einem Zeiger auf die Adresse, auf die das Argument zeigt. \n",
    "\n",
    "![](aufruf1.png)\n",
    "\n",
    "Die Übergabe des Arguments an den Parameter können wir uns wie eine Zuweisung vorstellen. Diesen Mechanismus bezeichnet man mit\n",
    "*call by assignment* oder *call by object reference*."
   ]
  },
  {
   "cell_type": "code",
   "execution_count": 9,
   "id": "a0269063-14d3-4dc9-be47-c9ba2125b1ac",
   "metadata": {},
   "outputs": [
    {
     "name": "stdout",
     "output_type": "stream",
     "text": [
      "0x12e85d28bf0\n",
      "0x12e85d28bf0\n"
     ]
    }
   ],
   "source": [
    "def func(x):\n",
    "    print(hex(id(x)))\n",
    "\n",
    "k = 500\n",
    "print(hex(id(k)))\n",
    "func(k)"
   ]
  },
  {
   "cell_type": "markdown",
   "id": "44f53ff1-ece3-4968-8cb1-5a438257312a",
   "metadata": {},
   "source": [
    "Wenn wir beispielsweise einen langen String an eine Funktion übergeben, wird nicht der lange String (aufwendig) kopiert (das wäre *call by value*), sondern nur die Adresse, an der der String steht. "
   ]
  },
  {
   "cell_type": "code",
   "execution_count": 10,
   "id": "53a08ad0-b417-4302-99ee-7e96d59d1523",
   "metadata": {},
   "outputs": [
    {
     "name": "stdout",
     "output_type": "stream",
     "text": [
      "0x12e85fe4080\n",
      "0x12e85fe4080\n"
     ]
    }
   ],
   "source": [
    "s = 'Dies ist ein langer Text' \n",
    "print(hex(id(s)))\n",
    "func(s)"
   ]
  },
  {
   "cell_type": "markdown",
   "id": "531f89da-a816-4990-8715-c1c747710f26",
   "metadata": {},
   "source": [
    "#### Funktionsaufrufe und Mutability\n",
    "\n",
    "Bei immutable Objekten sind wir (einigermaßen) sicher vor unerwünschten Seiteneffekten. Bei mutable Objekten kann es zu Seiteneffekten kommen.\n",
    "In dem Beispiel wird die Liste a in der Funktion verändert. Wenn wir das verhindern wollen, müssen von wir eine Kopie der Liste entweder beim Funktionsaufruf oder in der Funktion erstellen.\n",
    "\n",
    "![](aufruf2.png)"
   ]
  },
  {
   "cell_type": "code",
   "execution_count": 11,
   "id": "960e7b4c-b03f-4ce8-b69d-2ff0ecb33eaf",
   "metadata": {},
   "outputs": [
    {
     "name": "stdout",
     "output_type": "stream",
     "text": [
      "a [1, 4]\n",
      "a [1, 4, 7]\n",
      "b [1, 4, 7]\n"
     ]
    }
   ],
   "source": [
    "def doit(x):\n",
    "    x.append(7)\n",
    "    return x\n",
    "\n",
    "a = [1,4]\n",
    "print('a',a)\n",
    "b = doit(a)\n",
    "print('a',a)\n",
    "print('b',b)\n"
   ]
  },
  {
   "cell_type": "code",
   "execution_count": 12,
   "id": "afea45b0-6ea1-4443-8616-6a862fddc34f",
   "metadata": {},
   "outputs": [
    {
     "name": "stdout",
     "output_type": "stream",
     "text": [
      "a [1, 4]\n",
      "a [1, 4]\n",
      "b [1, 4, 7]\n"
     ]
    }
   ],
   "source": [
    "def doit(x):\n",
    "    x.append(7)\n",
    "    return x\n",
    "\n",
    "a = [1,4]\n",
    "print('a',a)\n",
    "b = doit(a.copy())        # Kopie beim Aufruf um Seiteneffekte zu verhindern\n",
    "print('a',a)\n",
    "print('b',b)"
   ]
  },
  {
   "cell_type": "code",
   "execution_count": 13,
   "id": "cefe66df-cbd8-4bca-984c-759ba5ad35b5",
   "metadata": {},
   "outputs": [
    {
     "name": "stdout",
     "output_type": "stream",
     "text": [
      "a [1, 4]\n",
      "a [1, 4]\n",
      "b [1, 4, 7]\n"
     ]
    }
   ],
   "source": [
    "def doit(x):\n",
    "    x = x.copy()          # Kopie vor der Veränderung um Seiteneffekte zu verhindern\n",
    "    x.append(7)\n",
    "    return x\n",
    "\n",
    "a = [1,4]\n",
    "print('a',a)\n",
    "b = doit(a)\n",
    "print('a',a)\n",
    "print('b',b)"
   ]
  },
  {
   "cell_type": "markdown",
   "id": "5d8a393b-7df4-48bf-b519-68a80571289d",
   "metadata": {},
   "source": [
    "#### Flache und tiefe Kopie\n",
    "\n",
    "Bei der flachen Kopie einer Liste werden die Inhalte der Liste kopiert. Aber wenn die Elemente der Liste Zeiger zu veränderbaren Objekten sind, kann dies trotzdem zu Seiteneffekten führen. Bei einer tiefen Kopie werden alle veränderbaren Objekte, die irgendwie zur Liste gehören, kopiert.\n",
    "\n",
    "![](deepcopy.png)"
   ]
  },
  {
   "cell_type": "code",
   "execution_count": 14,
   "id": "7f90d56a-3791-468c-b5ee-ee8f6dd572f9",
   "metadata": {},
   "outputs": [
    {
     "name": "stdout",
     "output_type": "stream",
     "text": [
      "[[1, 2, 7], [3, 4]]\n",
      "[[1, 2], [3, 4]]\n"
     ]
    }
   ],
   "source": [
    "from copy import deepcopy\n",
    "\n",
    "a = [1,2]\n",
    "b = [3,4]\n",
    "c = [a,b]\n",
    "d = c.copy()         # flache Kopie von c\n",
    "e = deepcopy(c)      # tiefe Kopie von c\n",
    "\n",
    "a.append(7)\n",
    "print(d)\n",
    "print(e)"
   ]
  }
 ],
 "metadata": {
  "kernelspec": {
   "display_name": "Python 3 (ipykernel)",
   "language": "python",
   "name": "python3"
  },
  "language_info": {
   "codemirror_mode": {
    "name": "ipython",
    "version": 3
   },
   "file_extension": ".py",
   "mimetype": "text/x-python",
   "name": "python",
   "nbconvert_exporter": "python",
   "pygments_lexer": "ipython3",
   "version": "3.11.2"
  }
 },
 "nbformat": 4,
 "nbformat_minor": 5
}
