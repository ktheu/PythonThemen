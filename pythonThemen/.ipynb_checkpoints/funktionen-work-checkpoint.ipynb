{
 "cells": [
  {
   "cell_type": "markdown",
   "metadata": {
    "slideshow": {
     "slide_type": "slide"
    }
   },
   "source": [
    "# Funktionen\n",
    "\n",
    "[Video](https://youtu.be/5qvqujyl90Q)\n",
    "\n",
    "In Funktionen fassen wir Codeabschnitte, die eine definierte Aufgabe erfüllen, zu einer Einheit zusammen. \n",
    "Wir erstellen Funktionen weil \n",
    "\n",
    "- wir einzelne Codeabschnitte besser testen können.\n",
    "- mit sprechenden Funktionsnamen die Programme, in denen wir die Funktionen aufrufen, besser lesbar werden.\n",
    "- wir die Codeabschnitte an anderen Stellen wiederverwenden können.\n",
    "\n",
    "Funktionen beginnen mit dem Schlüsselwort **def**. Sie haben\n",
    " - einen Namen\n",
    " - Parameter (0 oder mehr)\n",
    " - einen Funktionsrumpf \n",
    " - return Anweisungen (0 oder mehr)\n",
    "  \n",
    "Manchmal haben Funktionen einen *docstring*, der beschreibt, wie sie anzuwenden sind.\n"
   ]
  },
  {
   "cell_type": "markdown",
   "metadata": {
    "slideshow": {
     "slide_type": "slide"
    }
   },
   "source": [
    "##  Funktionen ohne return\n",
    "\n",
    "Mit return können Funktionen Werte zurückgeben. Kommen wir im Funktionsrumpf an eine return-Anweisung, dann wird die Funktion sofort verlassen. Wird die Funktion nicht über eine return Anweisung verlassen, dann gibt sie *None* zurück."
   ]
  },
  {
   "cell_type": "code",
   "execution_count": 5,
   "metadata": {
    "slideshow": {
     "slide_type": "fragment"
    }
   },
   "outputs": [
    {
     "name": "stdout",
     "output_type": "stream",
     "text": [
      "*****\n",
      "*****\n"
     ]
    }
   ],
   "source": [
    "# die Funktion tut etwas, aber sie gibt nichts zurück\n",
    "def sterne():\n",
    "    print('*****')\n",
    "\n",
    "sterne()                # die Funktion wird \n",
    "sterne()                # zweimal aufgerufen"
   ]
  },
  {
   "cell_type": "code",
   "execution_count": 7,
   "metadata": {
    "slideshow": {
     "slide_type": "fragment"
    }
   },
   "outputs": [
    {
     "name": "stdout",
     "output_type": "stream",
     "text": [
      "*****\n",
      "None\n"
     ]
    }
   ],
   "source": [
    "a = sterne()            # der Rückgabewert der Funktion wird in der Variablen a gespeichert\n",
    "print(a)                # die Funktion hat None zurückgegeben"
   ]
  },
  {
   "cell_type": "markdown",
   "metadata": {
    "slideshow": {
     "slide_type": "slide"
    }
   },
   "source": [
    "## Funktionen mit return\n",
    "Der Standardfall: Das, was die Funktion berechnet, wird über das return-Statement zurückgegeben.\n"
   ]
  },
  {
   "cell_type": "code",
   "execution_count": 21,
   "metadata": {
    "slideshow": {
     "slide_type": "fragment"
    }
   },
   "outputs": [],
   "source": [
    "def sterne():\n",
    "    return '*****'"
   ]
  },
  {
   "cell_type": "code",
   "execution_count": 22,
   "metadata": {
    "slideshow": {
     "slide_type": "fragment"
    }
   },
   "outputs": [
    {
     "name": "stdout",
     "output_type": "stream",
     "text": [
      "*****\n"
     ]
    }
   ],
   "source": [
    "a = sterne()           \n",
    "print(a)"
   ]
  },
  {
   "cell_type": "markdown",
   "metadata": {
    "slideshow": {
     "slide_type": "slide"
    }
   },
   "source": [
    "## Funktionen mit Parameter\n",
    "Das, was die Funktion für ihre Berechnung an Werten benötigt, teilen wir ihr über Parameter mit.\n",
    "Beim Aufruf der Funktion wird der Parameter durch einen konkreten Wert (das Argument) ersetzt."
   ]
  },
  {
   "cell_type": "code",
   "execution_count": 11,
   "metadata": {
    "slideshow": {
     "slide_type": "fragment"
    }
   },
   "outputs": [
    {
     "name": "stdout",
     "output_type": "stream",
     "text": [
      "*****\n"
     ]
    }
   ],
   "source": [
    "def sterne(k):          # k ist ein Parameter\n",
    "    return k * '*'      \n",
    "\n",
    "b = sterne(5)           # beim Aufruf wird der Parameter k durch das Argument 5 ersetzt.\n",
    "print(b)"
   ]
  },
  {
   "cell_type": "code",
   "execution_count": 24,
   "metadata": {
    "slideshow": {
     "slide_type": "slide"
    }
   },
   "outputs": [
    {
     "name": "stdout",
     "output_type": "stream",
     "text": [
      "************\n",
      "***\n"
     ]
    }
   ],
   "source": [
    "def sterne(k = 3):       # k ist optionaler Paramenter mit default 3 \n",
    "    return k * '*' \n",
    "\n",
    "print(sterne(12)) \n",
    "print(sterne())          # k erhält den default-Wert 3"
   ]
  },
  {
   "cell_type": "markdown",
   "metadata": {
    "slideshow": {
     "slide_type": "slide"
    }
   },
   "source": [
    "Der *docstring* beschreibt die Anforderungen an die Eingabeparameter und was die Funktion zurückgibt."
   ]
  },
  {
   "cell_type": "code",
   "execution_count": 25,
   "metadata": {
    "slideshow": {
     "slide_type": "fragment"
    }
   },
   "outputs": [],
   "source": [
    "def zeichen(k, s):       \n",
    "    '''\n",
    "    k: positive ganze Zahl\n",
    "    s: String \n",
    "    returns: k mal den String\n",
    "    '''\n",
    "    return k * s"
   ]
  },
  {
   "cell_type": "code",
   "execution_count": 26,
   "metadata": {},
   "outputs": [
    {
     "name": "stdout",
     "output_type": "stream",
     "text": [
      "abiabiabiabi\n"
     ]
    }
   ],
   "source": [
    "a = zeichen(4,'abi')\n",
    "print(a)"
   ]
  },
  {
   "cell_type": "markdown",
   "metadata": {},
   "source": [
    "Der *docstring* kann mit *help* angezeigt werden."
   ]
  },
  {
   "cell_type": "code",
   "execution_count": 27,
   "metadata": {
    "slideshow": {
     "slide_type": "fragment"
    }
   },
   "outputs": [
    {
     "name": "stdout",
     "output_type": "stream",
     "text": [
      "Help on function zeichen in module __main__:\n",
      "\n",
      "zeichen(k, s)\n",
      "    k: positive ganze Zahl\n",
      "    s: String \n",
      "    returns: k mal den String\n",
      "\n"
     ]
    }
   ],
   "source": [
    "help(zeichen)"
   ]
  },
  {
   "cell_type": "markdown",
   "metadata": {},
   "source": [
    "Enthält die Parameterliste einer Funktion optionale Parameter, dann müssen die am Ende der Parameterliste stehen."
   ]
  },
  {
   "cell_type": "code",
   "execution_count": 12,
   "metadata": {
    "slideshow": {
     "slide_type": "slide"
    }
   },
   "outputs": [],
   "source": [
    "def zeichen(k, s ='*'):    # optionale Parameter am Ende der Parameterliste\n",
    "    '''\n",
    "    k: positive ganze Zahl\n",
    "    s: String\n",
    "    returns: k mal den String\n",
    "    '''\n",
    "    return k * s"
   ]
  },
  {
   "cell_type": "code",
   "execution_count": 13,
   "metadata": {
    "slideshow": {
     "slide_type": "fragment"
    }
   },
   "outputs": [
    {
     "name": "stdout",
     "output_type": "stream",
     "text": [
      "#*#*#*#*#* ********************\n"
     ]
    }
   ],
   "source": [
    "s1 = zeichen(5,'#*')\n",
    "s2 = zeichen(20)\n",
    "print(s1, s2)"
   ]
  },
  {
   "cell_type": "markdown",
   "metadata": {
    "slideshow": {
     "slide_type": "slide"
    }
   },
   "source": [
    "In einer Funktion kann es mehrere return Anweisungen geben, aber bei der ersten Ausführung von return wird die Funktion sofort verlassen."
   ]
  },
  {
   "cell_type": "code",
   "execution_count": 14,
   "metadata": {
    "slideshow": {
     "slide_type": "fragment"
    }
   },
   "outputs": [],
   "source": [
    "def temperatur(k):\n",
    "    if k >= 30: return 'heiß'\n",
    "    if k >= 15: return 'warm'\n",
    "    return 'kalt'"
   ]
  },
  {
   "cell_type": "code",
   "execution_count": 15,
   "metadata": {
    "slideshow": {
     "slide_type": "fragment"
    }
   },
   "outputs": [
    {
     "name": "stdout",
     "output_type": "stream",
     "text": [
      "heiß\n"
     ]
    }
   ],
   "source": [
    "print(temperatur(45))"
   ]
  },
  {
   "cell_type": "markdown",
   "metadata": {
    "slideshow": {
     "slide_type": "slide"
    }
   },
   "source": [
    "## Mehrere Werte zurückgeben\n",
    "\n",
    "Wir können mit Komma getrennt mehrere Werte zurückgeben. Genauer: Wir können ein Tupel aus mehreren Werten zurückgeben. Mittels *unpacking* können wir die Werte des Tupels einzelnen Variablen zuweisen."
   ]
  },
  {
   "cell_type": "code",
   "execution_count": 32,
   "metadata": {
    "slideshow": {
     "slide_type": "fragment"
    }
   },
   "outputs": [
    {
     "name": "stdout",
     "output_type": "stream",
     "text": [
      "214 durch 70 ist 3 Rest 4.\n"
     ]
    }
   ],
   "source": [
    "def teile(a, b):                  \n",
    "    return a // b, a % b\n",
    "\n",
    "a, b = 214, 70\n",
    "x, y = teile(214, 70)       # unpack Tupel\n",
    "print(f'{a} durch {b} ist {x} Rest {y}.')"
   ]
  },
  {
   "cell_type": "markdown",
   "metadata": {
    "slideshow": {
     "slide_type": "slide"
    }
   },
   "source": [
    "## Wie wir Funktionen schreiben\n",
    "Für die meisten Fälle gilt: **Funktionen sollten alles, was sie für ihre Arbeit benötigen, über Parameter erhalten und alle Ergebnisse mittels return zurückgeben.** Wir werden in der Regel keine input- oder print-Anweisungen innerhalb von Funktionen verwenden. (Ausnahme: Funktionen, deren alleiniger Zweck die Ein- oder Ausgabe ist)."
   ]
  },
  {
   "cell_type": "code",
   "execution_count": null,
   "metadata": {
    "slideshow": {
     "slide_type": "slide"
    }
   },
   "outputs": [],
   "source": [
    "# SO NICHT:\n",
    "def ggt():\n",
    "    a = int(input('Bitte eine positive ganze Zahl eingeben: '))\n",
    "    b = int(input('Bitte noch eine positive ganze Zahl eingeben: '))\n",
    "    while a != b:\n",
    "        if a > b:\n",
    "            a = a - b\n",
    "        else:\n",
    "            b = b - a\n",
    "\n",
    "    print(f'Der größte gemeinsame Teiler beider Zahlen ist {a}.')\n",
    "    \n",
    "ggt()"
   ]
  },
  {
   "cell_type": "code",
   "execution_count": null,
   "metadata": {
    "slideshow": {
     "slide_type": "slide"
    }
   },
   "outputs": [],
   "source": [
    "# SONDERN SO:\n",
    "def ggt(a, b):\n",
    "    '''\n",
    "    a, b: positive ganze Zahl\n",
    "    returns: größten gemeinsamen Teiler von a und b\n",
    "    '''\n",
    "    while a != b:\n",
    "        if a > b:\n",
    "            a = a - b\n",
    "        else:\n",
    "            b = b - a\n",
    "    return a\n",
    "\n",
    "\n",
    "a = int(input('Bitte eine positive ganze Zahl eingeben: '))\n",
    "b = int(input('Bitte noch eine positive ganze Zahl eingeben: '))\n",
    "c = ggt(a,b)\n",
    "print(f'Der größte gemeinsame Teiler beider Zahlen ist {c}.')"
   ]
  },
  {
   "cell_type": "markdown",
   "metadata": {
    "slideshow": {
     "slide_type": "slide"
    }
   },
   "source": [
    "## Lokale und globale Variablen\n"
   ]
  },
  {
   "cell_type": "markdown",
   "metadata": {
    "slideshow": {
     "slide_type": "fragment"
    }
   },
   "source": [
    "Variablen, die außerhalb der Funktionen definiert werden, heißen *globale Variablen* und gehören zum *global frame*. Beim Aufruf einer Funktion entsteht ein neuer *frame* für die *lokalen Variablen*. Dies lässt sich gut im \n",
    "[Python Tutor](http://www.pythontutor.com/visualize.html#mode=edit) verfolgen."
   ]
  },
  {
   "cell_type": "markdown",
   "metadata": {
    "slideshow": {
     "slide_type": "slide"
    }
   },
   "source": [
    "Funktionen können auf globale Variablen lesend zugreifen."
   ]
  },
  {
   "cell_type": "code",
   "execution_count": 35,
   "metadata": {
    "slideshow": {
     "slide_type": "fragment"
    }
   },
   "outputs": [
    {
     "name": "stdout",
     "output_type": "stream",
     "text": [
      "12\n"
     ]
    }
   ],
   "source": [
    "x = 10      # globale Variable\n",
    "def doit():\n",
    "    y = x + 2\n",
    "    return y\n",
    "\n",
    "z = doit()\n",
    "print(z)"
   ]
  },
  {
   "cell_type": "markdown",
   "metadata": {
    "slideshow": {
     "slide_type": "slide"
    }
   },
   "source": [
    "Lokale Variablen verdecken gleichnamige globale Variablen."
   ]
  },
  {
   "cell_type": "code",
   "execution_count": 36,
   "metadata": {
    "slideshow": {
     "slide_type": "fragment"
    }
   },
   "outputs": [
    {
     "name": "stdout",
     "output_type": "stream",
     "text": [
      "7\n",
      "10\n"
     ]
    }
   ],
   "source": [
    "x = 10       \n",
    "def doit():\n",
    "    x = 5  \n",
    "    y = x + 2\n",
    "    return y\n",
    "\n",
    "z = doit()\n",
    "print(z)\n",
    "print(x)"
   ]
  },
  {
   "cell_type": "markdown",
   "metadata": {
    "slideshow": {
     "slide_type": "slide"
    }
   },
   "source": [
    "Ein Parameter wirkt wie eine lokale Variable"
   ]
  },
  {
   "cell_type": "code",
   "execution_count": 37,
   "metadata": {
    "slideshow": {
     "slide_type": "fragment"
    }
   },
   "outputs": [
    {
     "name": "stdout",
     "output_type": "stream",
     "text": [
      "7\n"
     ]
    }
   ],
   "source": [
    "x = 10       \n",
    "def doit(x):\n",
    "    y = x + 2\n",
    "    return y\n",
    "\n",
    "z = doit(5)\n",
    "print(z)"
   ]
  },
  {
   "cell_type": "markdown",
   "metadata": {
    "slideshow": {
     "slide_type": "slide"
    }
   },
   "source": [
    "Um eine globale Variable in einer Funktion zu verändern, müssen wir diese Variable als global deklarieren."
   ]
  },
  {
   "cell_type": "code",
   "execution_count": 38,
   "metadata": {
    "slideshow": {
     "slide_type": "fragment"
    }
   },
   "outputs": [
    {
     "name": "stdout",
     "output_type": "stream",
     "text": [
      "7\n"
     ]
    }
   ],
   "source": [
    "x = 10       \n",
    "def doit():\n",
    "    global x\n",
    "    x = 7\n",
    "\n",
    "doit()    \n",
    "print(x)"
   ]
  },
  {
   "cell_type": "markdown",
   "metadata": {
    "slideshow": {
     "slide_type": "slide"
    }
   },
   "source": [
    "In der Regel gilt: **Funktionen sollten für ihre Arbeit keine globalen Variablen benötigen, sondern nur ihre Parameter.**"
   ]
  },
  {
   "cell_type": "markdown",
   "metadata": {},
   "source": [
    "Manchmal erlauben wir uns (aus Bequemlichkeitsgründen) auch Ausnahmen von dieser Regel."
   ]
  },
  {
   "cell_type": "markdown",
   "metadata": {},
   "source": [
    "## Zusammenfassung\n",
    "\n",
    "- Funktionen sollten alles, was sie für ihre Arbeit benötigen, über Parameter erhalten und alle Ergebnisse mittels return zurückgeben.\n",
    "- Beim Aufruf einer Funktion werden den Parametern die Argumente des Aufrufs zugewiesen. Optionale Parameter kommen ans Ende der Parameterliste.\n",
    "- Wir können innerhalb von Funktionen lokale Variablen erstellen. Diese leben nur solange, bis die Funktion zum Ende gekommen ist.\n",
    "- Auf globale Variablen können wir innerhalb von Funktionen lesend zugreifen, sofern sie nicht durch Parameter oder lokale Variablen verdeckt sind.\n",
    "- Wenn wir innerhalb von Funktionen eine globale Variable ändern wollen, müssen wir sie in der Funktion mit dem Schlüsselwort *global* als global deklarieren.\n",
    "- Wenn wir beim Durchlaufen einer Funktion auf ein return stoßen, wird die Funktion sofort verlassen.\n",
    "- Mit return können wir mehrere Werte zurückgeben."
   ]
  },
  {
   "cell_type": "markdown",
   "metadata": {},
   "source": [
    "## Aufgaben\n",
    "\n",
    "Bei den folgenden Aufgaben ist der docString und Beispielaufrufe angegeben."
   ]
  },
  {
   "cell_type": "code",
   "execution_count": 50,
   "metadata": {},
   "outputs": [
    {
     "name": "stdout",
     "output_type": "stream",
     "text": [
      "x.\n"
     ]
    }
   ],
   "source": [
    "'''\n",
    "Aufgabe 1:  \n",
    "'''\n",
    "def func1():\n",
    "    '''\n",
    "    \n",
    "    returns: None,  Gibt die Zeichenfolge 'x.' aus   \n",
    "\n",
    "    >>> func1()\n",
    "    x.\n",
    "    '''\n",
    "    print('x.')\n",
    " \n",
    "func1()"
   ]
  },
  {
   "cell_type": "code",
   "execution_count": 51,
   "metadata": {},
   "outputs": [
    {
     "name": "stdout",
     "output_type": "stream",
     "text": [
      "x.\n"
     ]
    }
   ],
   "source": [
    "'''\n",
    "Aufgabe 2:  \n",
    "'''\n",
    "def func2():\n",
    "    '''\n",
    "    returns: string, die Zeichenfolge 'x.'\n",
    "\n",
    "    >>> s = func2()\n",
    "    >>> print(s)\n",
    "    x.\n",
    "    '''\n",
    "    return 'x.'\n",
    " \n",
    "s = func2()\n",
    "print(s)"
   ]
  },
  {
   "cell_type": "code",
   "execution_count": 52,
   "metadata": {},
   "outputs": [
    {
     "data": {
      "text/plain": [
       "'x.x.x.x.x.'"
      ]
     },
     "execution_count": 52,
     "metadata": {},
     "output_type": "execute_result"
    }
   ],
   "source": [
    "'''\n",
    "Aufgabe 3:  \n",
    "'''\n",
    "def func3(k):\n",
    "    '''\n",
    "    k: int, k > 0\n",
    "    returns: string, k-mal die Zeichenfolge '.x'\n",
    "\n",
    "    >>> s = func3(5)\n",
    "    >>> print(s)\n",
    "    x.x.x.x.x.\n",
    "    '''\n",
    "    return 'x.'*k\n",
    " \n",
    "func3(5)"
   ]
  },
  {
   "cell_type": "code",
   "execution_count": 54,
   "metadata": {},
   "outputs": [],
   "source": [
    "'''\n",
    "Aufgabe 4:  \n",
    "'''\n",
    "def func4(k, c):\n",
    "    '''\n",
    "    k: int, k > 0\n",
    "    c: str, ein Zeichen\n",
    "    returns: string k-mal die Zeichenfolge: Punkt, gefolgt vom Zeichen c\n",
    "    \n",
    "    >>> func4(3,'#')\n",
    "    .#.#.#\n",
    "    '''\n",
    "    s = '.'+c\n",
    "    return s * k\n",
    "      \n",
    "        "
   ]
  },
  {
   "cell_type": "code",
   "execution_count": 63,
   "metadata": {},
   "outputs": [],
   "source": [
    "'''\n",
    "Aufgabe 5:  \n",
    "Hinweis: der default-Wert ist der Wert, der angenommen wird, wenn für den Parameter kein Wert übergeben wird.\n",
    "'''\n",
    "def func5(k, c='x'):\n",
    "    '''\n",
    "    k: int, k > 0  \n",
    "    c: str, ein Zeichen mit default 'x'\n",
    "    returns: string k-mal die Zeichenfolge: Punkt, gefolgt vom Zeichen c\n",
    "    \n",
    "    >>> func5(3,'#')\n",
    "    .#.#.#\n",
    "\n",
    "    >>> func5(4)\n",
    "    '.x.x.x.x'\n",
    "    '''\n",
    "    s = '.'+c\n",
    "    return s * k"
   ]
  },
  {
   "cell_type": "code",
   "execution_count": 1,
   "metadata": {},
   "outputs": [],
   "source": [
    "'''\n",
    "Aufgabe 6:  Nutze mehrere return-Anweisungen\n",
    "'''\n",
    "def func6(x):\n",
    "    '''\n",
    "    x: int\n",
    "    returns 'A' falls x < 20\n",
    "            'B' falls 20 <= x < 30\n",
    "            'C' falls 30 <= x\n",
    "\n",
    "    >>> func(15)\n",
    "    A\n",
    "    >>> func(25)\n",
    "    B\n",
    "    >>> func(35)\n",
    "    C\n",
    "\n",
    "    '''\n",
    "    if x < 20:\n",
    "        return 'A'\n",
    "    if 20 <= x < 30:\n",
    "        return 'B'\n",
    "    if 30 <= x:\n",
    "        return 'C'\n"
   ]
  },
  {
   "cell_type": "code",
   "execution_count": 10,
   "metadata": {},
   "outputs": [
    {
     "name": "stdout",
     "output_type": "stream",
     "text": [
      "9 11\n"
     ]
    }
   ],
   "source": [
    "'''\n",
    "Aufgabe 7:  Nutze mehrere return-Anweisungen\n",
    "'''\n",
    "def func7(a, b):\n",
    "    '''\n",
    "    a, b: ints\n",
    "    returns: Tupel aus a-b und a+b \n",
    "    >>> x1, x2 = func7(10,1)\n",
    "    print(x1, x2)\n",
    "    9 11\n",
    "    '''\n",
    "    return a-b, a+b\n",
    "\n",
    "x1, x2 = func7(10,1)\n",
    "print(x1, x2) "
   ]
  },
  {
   "cell_type": "code",
   "execution_count": null,
   "metadata": {},
   "outputs": [],
   "source": []
  },
  {
   "cell_type": "code",
   "execution_count": null,
   "metadata": {},
   "outputs": [],
   "source": []
  }
 ],
 "metadata": {
  "celltoolbar": "Slideshow",
  "kernelspec": {
   "display_name": "Python 3 (ipykernel)",
   "language": "python",
   "name": "python3"
  },
  "language_info": {
   "codemirror_mode": {
    "name": "ipython",
    "version": 3
   },
   "file_extension": ".py",
   "mimetype": "text/x-python",
   "name": "python",
   "nbconvert_exporter": "python",
   "pygments_lexer": "ipython3",
   "version": "3.11.2"
  }
 },
 "nbformat": 4,
 "nbformat_minor": 4
}
