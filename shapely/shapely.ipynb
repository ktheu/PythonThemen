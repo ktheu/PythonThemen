{
 "cells": [
  {
   "cell_type": "markdown",
   "id": "83501c48-e287-46ea-bc84-6244e8da9d99",
   "metadata": {},
   "source": [
    "### 2D-Geometrie mit Shapely\n",
    "\n",
    "[Video](https://youtu.be/qlCe7l9ssew)  -  [Shapely-Doku](https://shapely.readthedocs.io/en/stable/manual.html)"
   ]
  },
  {
   "cell_type": "code",
   "execution_count": null,
   "id": "748ec92f-5515-460c-82d0-b36c768b1fb5",
   "metadata": {},
   "outputs": [],
   "source": [
    "from shapely.geometry import Point, LineString, Polygon\n",
    "from shapely import  geometrycollections, shortest_line"
   ]
  },
  {
   "cell_type": "markdown",
   "id": "fce4ddc3-8f1e-4080-a347-4209a8b413f0",
   "metadata": {},
   "source": [
    "#### Points"
   ]
  },
  {
   "cell_type": "code",
   "execution_count": 176,
   "id": "2b1d5d69-ee5f-4935-b857-2a085621b97c",
   "metadata": {},
   "outputs": [
    {
     "name": "stdout",
     "output_type": "stream",
     "text": [
      "POINT (1 2)\n",
      "POINT (2 3)\n"
     ]
    }
   ],
   "source": [
    "p1 = Point(1,2)\n",
    "p2 = Point(2,3)\n",
    "print(p1)\n",
    "print(p2)"
   ]
  },
  {
   "cell_type": "code",
   "execution_count": 177,
   "id": "e0fdf92c-3756-49d4-9198-504d9cde1352",
   "metadata": {},
   "outputs": [
    {
     "data": {
      "text/plain": [
       "1.4142135623730951"
      ]
     },
     "execution_count": 177,
     "metadata": {},
     "output_type": "execute_result"
    }
   ],
   "source": [
    "p1.distance(p2)"
   ]
  },
  {
   "cell_type": "code",
   "execution_count": 178,
   "id": "1e881098-7e12-4912-ba54-c065ff7b2f6d",
   "metadata": {},
   "outputs": [
    {
     "data": {
      "text/plain": [
       "(1.0, 2.0)"
      ]
     },
     "execution_count": 178,
     "metadata": {},
     "output_type": "execute_result"
    }
   ],
   "source": [
    "p1.x, p1.y"
   ]
  },
  {
   "cell_type": "markdown",
   "id": "1692a943-a64d-460b-9df1-682673711bff",
   "metadata": {},
   "source": [
    "#### LineStrings\n",
    "\n",
    "Ein LineString ist eine Folge von Liniensegmenten. Die Segmente können sich schneiden."
   ]
  },
  {
   "cell_type": "code",
   "execution_count": 180,
   "id": "2941ab68-b115-4763-8b03-73693de2e50f",
   "metadata": {},
   "outputs": [
    {
     "data": {
      "image/svg+xml": [
       "<svg xmlns=\"http://www.w3.org/2000/svg\" xmlns:xlink=\"http://www.w3.org/1999/xlink\" width=\"100.0\" height=\"100.0\" viewBox=\"1.88 1.88 3.24 2.24\" preserveAspectRatio=\"xMinYMin meet\"><g transform=\"matrix(1,0,0,-1,0,6.0)\"><polyline fill=\"none\" stroke=\"#66cc99\" stroke-width=\"0.06480000000000001\" points=\"2.0,3.0 3.0,4.0 5.0,2.0\" opacity=\"0.8\" /></g></svg>"
      ],
      "text/plain": [
       "<LINESTRING (2 3, 3 4, 5 2)>"
      ]
     },
     "execution_count": 180,
     "metadata": {},
     "output_type": "execute_result"
    }
   ],
   "source": [
    "from shapely.geometry import LineString\n",
    "line = LineString([(2,3),(3,4),(5,2)])\n",
    "line"
   ]
  },
  {
   "cell_type": "code",
   "execution_count": 181,
   "id": "eb0f5329-244c-4b31-9274-772868859fd0",
   "metadata": {},
   "outputs": [
    {
     "data": {
      "text/plain": [
       "4.242640687119286"
      ]
     },
     "execution_count": 181,
     "metadata": {},
     "output_type": "execute_result"
    }
   ],
   "source": [
    "line.length"
   ]
  },
  {
   "cell_type": "code",
   "execution_count": 182,
   "id": "611bc4a6-9efd-4dd0-af1c-4e26fb076794",
   "metadata": {},
   "outputs": [
    {
     "name": "stdout",
     "output_type": "stream",
     "text": [
      "2.0 3.0\n",
      "3.0 4.0\n",
      "5.0 2.0\n"
     ]
    }
   ],
   "source": [
    "# Die Koordinaten durchlaufen\n",
    "for x, y in line.coords:\n",
    "    print(x,y)"
   ]
  },
  {
   "cell_type": "markdown",
   "id": "531e59db-84a4-4cff-8481-cf3f0833ca4d",
   "metadata": {},
   "source": [
    "#### Schnitt zweier Segmente"
   ]
  },
  {
   "cell_type": "code",
   "execution_count": 183,
   "id": "58b2326f-47b1-4fda-bd31-d684f9c644d2",
   "metadata": {},
   "outputs": [
    {
     "name": "stdout",
     "output_type": "stream",
     "text": [
      "schneidet = True\n",
      "Schnitt POINT (2.142857142857143 2.142857142857143)\n",
      "Abstand 0.0\n"
     ]
    },
    {
     "data": {
      "image/svg+xml": [
       "<svg xmlns=\"http://www.w3.org/2000/svg\" xmlns:xlink=\"http://www.w3.org/1999/xlink\" width=\"100.0\" height=\"100.0\" viewBox=\"-0.2 -0.2 5.4 5.4\" preserveAspectRatio=\"xMinYMin meet\"><g transform=\"matrix(1,0,0,-1,0,5.0)\"><g><polyline fill=\"none\" stroke=\"#66cc99\" stroke-width=\"0.10800000000000001\" points=\"0.0,0.0 5.0,5.0\" opacity=\"0.8\" /><polyline fill=\"none\" stroke=\"#66cc99\" stroke-width=\"0.10800000000000001\" points=\"0.0,3.0 5.0,1.0\" opacity=\"0.8\" /><circle cx=\"2.142857142857143\" cy=\"2.142857142857143\" r=\"0.16200000000000003\" stroke=\"#555555\" stroke-width=\"0.054000000000000006\" fill=\"#66cc99\" opacity=\"0.6\" /></g></g></svg>"
      ],
      "text/plain": [
       "<GEOMETRYCOLLECTION (LINESTRING (0 0, 5 5), LINESTRING (0 3, 5 1), POINT (2....>"
      ]
     },
     "execution_count": 183,
     "metadata": {},
     "output_type": "execute_result"
    }
   ],
   "source": [
    "a = LineString([(0, 0), (5, 5)])\n",
    "b = LineString([(0, 3), (5, 1)])\n",
    "schneidet = a.crosses(b)\n",
    "x = a.intersection(b)\n",
    "d = a.distance(b)\n",
    "print(f'schneidet = {schneidet}')\n",
    "print(f'Schnitt {x}')\n",
    "print(f'Abstand {d}')\n",
    "geometrycollections([a,b,x])"
   ]
  },
  {
   "cell_type": "code",
   "execution_count": 184,
   "id": "26953d68-ad4b-47a7-a5c4-297546678aa2",
   "metadata": {},
   "outputs": [
    {
     "name": "stdout",
     "output_type": "stream",
     "text": [
      "schneidet = False\n",
      "Schnitt LINESTRING EMPTY\n",
      "Abstand 1.0\n"
     ]
    },
    {
     "data": {
      "image/svg+xml": [
       "<svg xmlns=\"http://www.w3.org/2000/svg\" xmlns:xlink=\"http://www.w3.org/1999/xlink\" width=\"100.0\" height=\"100.0\" viewBox=\"-0.2 0.8 5.4 4.4\" preserveAspectRatio=\"xMinYMin meet\"><g transform=\"matrix(1,0,0,-1,0,6.0)\"><g><polyline fill=\"none\" stroke=\"#66cc99\" stroke-width=\"0.10800000000000001\" points=\"0.0,4.0 5.0,5.0\" opacity=\"0.8\" /><polyline fill=\"none\" stroke=\"#66cc99\" stroke-width=\"0.10800000000000001\" points=\"0.0,3.0 5.0,1.0\" opacity=\"0.8\" /><g /></g></g></svg>"
      ],
      "text/plain": [
       "<GEOMETRYCOLLECTION (LINESTRING (0 4, 5 5), LINESTRING (0 3, 5 1), LINESTRIN...>"
      ]
     },
     "execution_count": 184,
     "metadata": {},
     "output_type": "execute_result"
    }
   ],
   "source": [
    "a = LineString([(0, 4), (5, 5)])\n",
    "b = LineString([(0, 3), (5, 1)])\n",
    "schneidet = a.crosses(b)\n",
    "x = a.intersection(b)\n",
    "d = a.distance(b)\n",
    "print(f'schneidet = {schneidet}')\n",
    "print(f'Schnitt {x}')\n",
    "print(f'Abstand {d}')\n",
    "geometrycollections([a,b,x])"
   ]
  },
  {
   "cell_type": "code",
   "execution_count": 185,
   "id": "6a291462-a241-4332-8207-9164156a238c",
   "metadata": {},
   "outputs": [
    {
     "name": "stdout",
     "output_type": "stream",
     "text": [
      "schneidet = False\n",
      "Schnitt LINESTRING (1 1, 3 3)\n",
      "Abstand 0.0\n"
     ]
    },
    {
     "data": {
      "image/svg+xml": [
       "<svg xmlns=\"http://www.w3.org/2000/svg\" xmlns:xlink=\"http://www.w3.org/1999/xlink\" width=\"100.0\" height=\"100.0\" viewBox=\"-0.2 -0.2 5.4 5.4\" preserveAspectRatio=\"xMinYMin meet\"><g transform=\"matrix(1,0,0,-1,0,5.0)\"><g><polyline fill=\"none\" stroke=\"#66cc99\" stroke-width=\"0.10800000000000001\" points=\"0.0,0.0 3.0,3.0\" opacity=\"0.8\" /><polyline fill=\"none\" stroke=\"#66cc99\" stroke-width=\"0.10800000000000001\" points=\"1.0,1.0 5.0,5.0\" opacity=\"0.8\" /><polyline fill=\"none\" stroke=\"#66cc99\" stroke-width=\"0.10800000000000001\" points=\"1.0,1.0 3.0,3.0\" opacity=\"0.8\" /></g></g></svg>"
      ],
      "text/plain": [
       "<GEOMETRYCOLLECTION (LINESTRING (0 0, 3 3), LINESTRING (1 1, 5 5), LINESTRIN...>"
      ]
     },
     "execution_count": 185,
     "metadata": {},
     "output_type": "execute_result"
    }
   ],
   "source": [
    "a = LineString([(0, 0), (3, 3)])\n",
    "b = LineString([(1, 1), (5, 5)])\n",
    "schneidet = a.crosses(b)\n",
    "x = a.intersection(b)\n",
    "d = a.distance(b)\n",
    "print(f'schneidet = {schneidet}')\n",
    "print(f'Schnitt {x}')\n",
    "print(f'Abstand {d}')\n",
    "geometrycollections([a,b,x])"
   ]
  },
  {
   "cell_type": "markdown",
   "id": "80da6e39-ab75-4527-bb59-3df216ade041",
   "metadata": {},
   "source": [
    "#### Abstandslinie"
   ]
  },
  {
   "cell_type": "code",
   "execution_count": 187,
   "id": "baebcead-9e12-4ae8-8958-3ca35c6e1267",
   "metadata": {},
   "outputs": [
    {
     "name": "stdout",
     "output_type": "stream",
     "text": [
      "Shortest LINESTRING (3 1, 2.307692307692308 4.461538461538462)\n",
      "Abstand 3.5301\n"
     ]
    },
    {
     "data": {
      "image/svg+xml": [
       "<svg xmlns=\"http://www.w3.org/2000/svg\" xmlns:xlink=\"http://www.w3.org/1999/xlink\" width=\"100.0\" height=\"100.0\" viewBox=\"-0.2 0.8 5.4 4.4\" preserveAspectRatio=\"xMinYMin meet\"><g transform=\"matrix(1,0,0,-1,0,6.0)\"><g><polyline fill=\"none\" stroke=\"#66cc99\" stroke-width=\"0.10800000000000001\" points=\"0.0,4.0 5.0,5.0\" opacity=\"0.8\" /><circle cx=\"3.0\" cy=\"1.0\" r=\"0.16200000000000003\" stroke=\"#555555\" stroke-width=\"0.054000000000000006\" fill=\"#66cc99\" opacity=\"0.6\" /><polyline fill=\"none\" stroke=\"#66cc99\" stroke-width=\"0.10800000000000001\" points=\"3.0,1.0 2.307692307692308,4.461538461538462\" opacity=\"0.8\" /></g></g></svg>"
      ],
      "text/plain": [
       "<GEOMETRYCOLLECTION (LINESTRING (0 4, 5 5), POINT (3 1), LINESTRING (3 1, 2....>"
      ]
     },
     "execution_count": 187,
     "metadata": {},
     "output_type": "execute_result"
    }
   ],
   "source": [
    "a = LineString([(0, 4), (5, 5)])\n",
    "p = Point(3,1)\n",
    "c = shortest_line(p,a)\n",
    "d = p.distance(a)\n",
    "print(f'Shortest {c}')\n",
    "print(f'Abstand {d:.4f}')\n",
    "geometrycollections([a,p,c])"
   ]
  },
  {
   "cell_type": "code",
   "execution_count": 190,
   "id": "d4d004c2-b9a7-4c60-aae1-b3d8853d7788",
   "metadata": {},
   "outputs": [
    {
     "name": "stdout",
     "output_type": "stream",
     "text": [
      "Shortest LINESTRING (-3 1, 0 4)\n",
      "Abstand 4.242640687119285\n"
     ]
    },
    {
     "data": {
      "image/svg+xml": [
       "<svg xmlns=\"http://www.w3.org/2000/svg\" xmlns:xlink=\"http://www.w3.org/1999/xlink\" width=\"100.0\" height=\"100.0\" viewBox=\"-3.32 0.6799999999999999 8.64 4.640000000000001\" preserveAspectRatio=\"xMinYMin meet\"><g transform=\"matrix(1,0,0,-1,0,6.0)\"><g><polyline fill=\"none\" stroke=\"#66cc99\" stroke-width=\"0.1728\" points=\"0.0,4.0 5.0,5.0\" opacity=\"0.8\" /><circle cx=\"-3.0\" cy=\"1.0\" r=\"0.2592\" stroke=\"#555555\" stroke-width=\"0.0864\" fill=\"#66cc99\" opacity=\"0.6\" /><polyline fill=\"none\" stroke=\"#66cc99\" stroke-width=\"0.1728\" points=\"-3.0,1.0 0.0,4.0\" opacity=\"0.8\" /></g></g></svg>"
      ],
      "text/plain": [
       "<GEOMETRYCOLLECTION (LINESTRING (0 4, 5 5), POINT (-3 1), LINESTRING (-3 1, ...>"
      ]
     },
     "execution_count": 190,
     "metadata": {},
     "output_type": "execute_result"
    }
   ],
   "source": [
    "a = LineString([(0, 4), (5, 5)])\n",
    "p = Point(-3,1)\n",
    "c = shortest_line(p,a)\n",
    "d = p.distance(a)\n",
    "print(f'Shortest {c}')\n",
    "print(f'Abstand {d}')\n",
    "geometrycollections([a,p,c])"
   ]
  },
  {
   "cell_type": "markdown",
   "id": "e98fa51f-3778-444c-93c6-270b2248f29a",
   "metadata": {},
   "source": [
    "#### Polygons"
   ]
  },
  {
   "cell_type": "code",
   "execution_count": 191,
   "id": "f50ae211-e605-4e70-a014-ece62c8084d3",
   "metadata": {},
   "outputs": [
    {
     "data": {
      "image/svg+xml": [
       "<svg xmlns=\"http://www.w3.org/2000/svg\" xmlns:xlink=\"http://www.w3.org/1999/xlink\" width=\"100.0\" height=\"100.0\" viewBox=\"0.92 1.92 2.16 2.16\" preserveAspectRatio=\"xMinYMin meet\"><g transform=\"matrix(1,0,0,-1,0,6.0)\"><path fill-rule=\"evenodd\" fill=\"#66cc99\" stroke=\"#555555\" stroke-width=\"0.0432\" opacity=\"0.6\" d=\"M 1.0,4.0 L 2.0,2.0 L 3.0,3.0 L 2.0,3.0 L 1.0,4.0 z\" /></g></svg>"
      ],
      "text/plain": [
       "<POLYGON ((1 4, 2 2, 3 3, 2 3, 1 4))>"
      ]
     },
     "execution_count": 191,
     "metadata": {},
     "output_type": "execute_result"
    }
   ],
   "source": [
    "pg = Polygon([(1,4),(2,2),(3,3),(2,3)])\n",
    "pg"
   ]
  },
  {
   "cell_type": "code",
   "execution_count": 192,
   "id": "af24abaa-d7db-4c83-a5e3-47cd7d479b4b",
   "metadata": {},
   "outputs": [
    {
     "name": "stdout",
     "output_type": "stream",
     "text": [
      "Fläche 0.5\n",
      "Länge 3.414213562373095\n",
      "Shortest LINESTRING (2 3, 1.7307692307692308 4.346153846153846)\n",
      "Abstand 1.372812945967288\n"
     ]
    },
    {
     "data": {
      "image/svg+xml": [
       "<svg xmlns=\"http://www.w3.org/2000/svg\" xmlns:xlink=\"http://www.w3.org/1999/xlink\" width=\"100.0\" height=\"100.0\" viewBox=\"-0.2 1.8 5.4 3.4000000000000004\" preserveAspectRatio=\"xMinYMin meet\"><g transform=\"matrix(1,0,0,-1,0,7.0)\"><g><polyline fill=\"none\" stroke=\"#66cc99\" stroke-width=\"0.10800000000000001\" points=\"0.0,4.0 5.0,5.0\" opacity=\"0.8\" /><path fill-rule=\"evenodd\" fill=\"#66cc99\" stroke=\"#555555\" stroke-width=\"0.10800000000000001\" opacity=\"0.6\" d=\"M 2.0,2.0 L 3.0,3.0 L 2.0,3.0 L 2.0,2.0 z\" /><polyline fill=\"none\" stroke=\"#66cc99\" stroke-width=\"0.10800000000000001\" points=\"2.0,3.0 1.7307692307692308,4.346153846153846\" opacity=\"0.8\" /></g></g></svg>"
      ],
      "text/plain": [
       "<GEOMETRYCOLLECTION (LINESTRING (0 4, 5 5), POLYGON ((2 2, 3 3, 2 3, 2 2)), ...>"
      ]
     },
     "execution_count": 192,
     "metadata": {},
     "output_type": "execute_result"
    }
   ],
   "source": [
    "a = LineString([(0, 4), (5, 5)])\n",
    "pg = Polygon([(2,2),(3,3),(2,3)])\n",
    "print(f'Fläche {pg.area}')\n",
    "print(f'Länge {pg.length}')\n",
    "c = shortest_line(pg,a)\n",
    "d = pg.distance(a)\n",
    "print(f'Shortest {c}')\n",
    "print(f'Abstand {d}')\n",
    "geometrycollections([a,pg,c])           "
   ]
  },
  {
   "cell_type": "markdown",
   "id": "80d24e04-d873-4cbb-8792-ce76380fa699",
   "metadata": {},
   "source": [
    "#### Plotten"
   ]
  },
  {
   "cell_type": "code",
   "execution_count": 193,
   "id": "b4834e6f-fcd2-40d4-864a-69be61d704ca",
   "metadata": {},
   "outputs": [
    {
     "data": {
      "image/png": "[encoded data removed]",
      "text/plain": [
       "<Figure size 640x480 with 1 Axes>"
      ]
     },
     "metadata": {},
     "output_type": "display_data"
    }
   ],
   "source": [
    "import matplotlib.pyplot as plt\n",
    "from shapely import plotting\n",
    "\n",
    "ls = LineString([(13, 18),(29, 8),(31, 19),(41, 30),(17, 32)])\n",
    "po = Polygon([(23, 19), (31, 25), (21, 27)])\n",
    "\n",
    "c = shortest_line(po,ls)\n",
    "\n",
    "fig, ax = plt.subplots()\n",
    "plotting.plot_line(ls, ax=ax, add_points=False, color=\"blue\",linewidth=1)\n",
    "plotting.plot_polygon(po, ax=ax, add_points=False, facecolor=\"lightgreen\", edgecolor=\"green\", alpha=0.4)\n",
    "plotting.plot_line(c, ax=ax, color=\"red\", linestyle=\"--\",linewidth=1)\n",
    "                  \n",
    "ax.set_aspect(\"equal\")\n",
    "plt.show()"
   ]
  },
  {
   "cell_type": "code",
   "execution_count": null,
   "id": "b5415adf-e4cb-4cd1-801a-04551e8f1754",
   "metadata": {},
   "outputs": [],
   "source": []
  }
 ],
 "metadata": {
  "kernelspec": {
   "display_name": "Python 3 (ipykernel)",
   "language": "python",
   "name": "python3"
  },
  "language_info": {
   "codemirror_mode": {
    "name": "ipython",
    "version": 3
   },
   "file_extension": ".py",
   "mimetype": "text/x-python",
   "name": "python",
   "nbconvert_exporter": "python",
   "pygments_lexer": "ipython3",
   "version": "3.12.8"
  }
 },
 "nbformat": 4,
 "nbformat_minor": 5
}
