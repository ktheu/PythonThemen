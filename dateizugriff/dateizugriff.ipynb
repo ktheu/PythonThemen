{
 "cells": [
  {
   "cell_type": "markdown",
   "id": "9a22ca0d-4c5d-47bd-b6e9-5c479c0da19f",
   "metadata": {},
   "source": [
    "## Dateizugriff\n",
    "\n",
    "[Video](https://youtu.be/vVMqbRQvpvw)\n",
    "\n",
    "Vor dem Lesen oder Schreiben in eine Datei öffnen wir die Datei mit *open*. Nach der Verarbeitung schließen wir die Datei mit *close*."
   ]
  },
  {
   "cell_type": "code",
   "execution_count": 6,
   "id": "c1b92b60-1929-4529-9586-c4caef095ddd",
   "metadata": {},
   "outputs": [
    {
     "name": "stdout",
     "output_type": "stream",
     "text": [
      "Overwriting input1.txt\n"
     ]
    }
   ],
   "source": [
    "%%writefile input1.txt\n",
    "Dies ist Zeile1\n",
    "Dies ist Zeile2\n",
    "Dies ist Zeile3"
   ]
  },
  {
   "cell_type": "markdown",
   "id": "02b60caa-078f-4ac8-a68a-89d6335febd9",
   "metadata": {},
   "source": [
    "### read\n",
    "*read* liest den gesamen Inhalt in einen String. Ein Zeilenvorschub wird als ```\\n``` übernommen."
   ]
  },
  {
   "cell_type": "code",
   "execution_count": 7,
   "id": "03b09693-c079-4608-8c22-25b96d8d8174",
   "metadata": {},
   "outputs": [
    {
     "data": {
      "text/plain": [
       "'Dies ist Zeile1\\nDies ist Zeile2\\nDies ist Zeile3\\n'"
      ]
     },
     "execution_count": 7,
     "metadata": {},
     "output_type": "execute_result"
    }
   ],
   "source": [
    "f = open('input1.txt')    \n",
    "data = f.read()\n",
    "f.close()\n",
    "data"
   ]
  },
  {
   "cell_type": "markdown",
   "id": "67ae4482-ee6e-4521-910b-d051fb86adf1",
   "metadata": {},
   "source": [
    "#### encoding"
   ]
  },
  {
   "cell_type": "code",
   "execution_count": 8,
   "id": "2e1fca90-5321-4c4b-bd1a-905088dbcb5d",
   "metadata": {},
   "outputs": [
    {
     "data": {
      "text/plain": [
       "'Umlaute sind Ã¤,Ã¶,Ã¼.\\nEin scharfes s ist ÃŸ.'"
      ]
     },
     "execution_count": 8,
     "metadata": {},
     "output_type": "execute_result"
    }
   ],
   "source": [
    "f = open('demo1.txt')   \n",
    "data = f.read()\n",
    "f.close()\n",
    "data"
   ]
  },
  {
   "cell_type": "markdown",
   "id": "9008e84f-eb94-4128-8370-53c8c74579b0",
   "metadata": {},
   "source": [
    "Wenn wir seltsame Zeichen sehen, müssen wir vermutlich das encoding ändern. Meist hilft die Angabe von utf-8."
   ]
  },
  {
   "cell_type": "code",
   "execution_count": 9,
   "id": "d17bff8e-ed97-42b7-bf6b-b93fa78630d1",
   "metadata": {},
   "outputs": [
    {
     "data": {
      "text/plain": [
       "'Umlaute sind ä,ö,ü.\\nEin scharfes s ist ß.'"
      ]
     },
     "execution_count": 9,
     "metadata": {},
     "output_type": "execute_result"
    }
   ],
   "source": [
    "f = open('demo1.txt',encoding='utf-8')   \n",
    "data = f.read()\n",
    "f.close()\n",
    "data"
   ]
  },
  {
   "cell_type": "markdown",
   "id": "578f88f4-051b-43a9-9c90-d949addfb10b",
   "metadata": {},
   "source": [
    "#### readlines\n",
    "\n",
    "*readlines* erzeugt eine Liste von Strings, jeder String ist eine Zeile. Der Zeilenvorschub bleibt."
   ]
  },
  {
   "cell_type": "code",
   "execution_count": 10,
   "id": "0a5c80fa-6567-4299-98ff-c027b6de49f7",
   "metadata": {},
   "outputs": [
    {
     "data": {
      "text/plain": [
       "['Dies ist Zeile1\\n', 'Dies ist Zeile2\\n', 'Dies ist Zeile3\\n']"
      ]
     },
     "execution_count": 10,
     "metadata": {},
     "output_type": "execute_result"
    }
   ],
   "source": [
    "f = open('input1.txt')    \n",
    "data = f.readlines()\n",
    "f.close()\n",
    "data"
   ]
  },
  {
   "cell_type": "markdown",
   "id": "66b8f4f5-174a-4924-8631-68076e327977",
   "metadata": {},
   "source": [
    "#### readline\n",
    "\n",
    "*readline* liest eine Zeile als String ein, der Zeilenvorschub bleibt."
   ]
  },
  {
   "cell_type": "code",
   "execution_count": 11,
   "id": "eb60fea6-d271-4324-bab8-d6457846bbd5",
   "metadata": {},
   "outputs": [
    {
     "data": {
      "text/plain": [
       "['Dies ist Zeile1\\n', 'Dies ist Zeile2\\n', 'Dies ist Zeile3\\n']"
      ]
     },
     "execution_count": 11,
     "metadata": {},
     "output_type": "execute_result"
    }
   ],
   "source": [
    "f = open('input1.txt') \n",
    "data = []\n",
    "for i in range(3):\n",
    "    zeile = f.readline()      \n",
    "    data.append(zeile)\n",
    "f.close()\n",
    "data"
   ]
  },
  {
   "cell_type": "code",
   "execution_count": 12,
   "id": "21f9a99f-ef08-49cd-af40-876679588e52",
   "metadata": {},
   "outputs": [
    {
     "data": {
      "text/plain": [
       "['Dies ist Zeile1', 'Dies ist Zeile2', 'Dies ist Zeile3']"
      ]
     },
     "execution_count": 12,
     "metadata": {},
     "output_type": "execute_result"
    }
   ],
   "source": [
    "f = open('input1.txt') \n",
    "data = []\n",
    "for i in range(3):\n",
    "    zeile = f.readline().strip()     # entfernen des Zeilenvorschubs\n",
    "    data.append(zeile)\n",
    "f.close()\n",
    "data"
   ]
  },
  {
   "cell_type": "markdown",
   "id": "57173744-a868-42ea-a1b8-28d072aa161c",
   "metadata": {},
   "source": [
    "#### Fileobjekt als Iterator"
   ]
  },
  {
   "cell_type": "markdown",
   "id": "440ac49d-524b-4606-a873-0abbb431b37a",
   "metadata": {},
   "source": [
    "Das Fileobjekt ist ein Iterator, wir können auch so durch die Zeilen laufen:"
   ]
  },
  {
   "cell_type": "code",
   "execution_count": 13,
   "id": "a1767a3f-3f2b-4366-a230-028ffa735c65",
   "metadata": {},
   "outputs": [
    {
     "data": {
      "text/plain": [
       "['Dies ist Zeile1', 'Dies ist Zeile2', 'Dies ist Zeile3']"
      ]
     },
     "execution_count": 13,
     "metadata": {},
     "output_type": "execute_result"
    }
   ],
   "source": [
    "f = open('input1.txt') \n",
    "data = []\n",
    "for zeile in f:\n",
    "    data.append(zeile.strip())\n",
    "f.close()\n",
    "data"
   ]
  },
  {
   "cell_type": "markdown",
   "id": "9c86a86c-3a3b-452c-bee1-be4c2be9d29e",
   "metadata": {},
   "source": [
    "Mit einer List-Comprehension:"
   ]
  },
  {
   "cell_type": "code",
   "execution_count": 14,
   "id": "c70c3de4-e707-4b1a-8155-d2db809db01f",
   "metadata": {},
   "outputs": [
    {
     "data": {
      "text/plain": [
       "['Dies ist Zeile1', 'Dies ist Zeile2', 'Dies ist Zeile3']"
      ]
     },
     "execution_count": 14,
     "metadata": {},
     "output_type": "execute_result"
    }
   ],
   "source": [
    "f = open('input1.txt') \n",
    "data = [zeile.strip() for zeile in f] \n",
    "f.close()\n",
    "data"
   ]
  },
  {
   "cell_type": "markdown",
   "id": "29d4c2d8-bba7-421d-93f0-2718caa08424",
   "metadata": {},
   "source": [
    "### Beispiele fürs Einlesen"
   ]
  },
  {
   "cell_type": "markdown",
   "id": "22b011af-e4d8-4cfa-a504-fe0c49504dde",
   "metadata": {},
   "source": [
    "##### Beispiel 1\n",
    "\n",
    "Die erste Zahl gibt an, wieviele Zahlen noch folgen."
   ]
  },
  {
   "cell_type": "code",
   "execution_count": 15,
   "id": "9ae712ab-767f-434f-81b2-337ea45d9822",
   "metadata": {},
   "outputs": [
    {
     "name": "stdout",
     "output_type": "stream",
     "text": [
      "Overwriting input2.txt\n"
     ]
    }
   ],
   "source": [
    "%%writefile input2.txt\n",
    "3\n",
    "10\n",
    "20\n",
    "40"
   ]
  },
  {
   "cell_type": "code",
   "execution_count": 16,
   "id": "e8d31a83-f757-4bf0-bb3e-48f5b6dca74b",
   "metadata": {},
   "outputs": [
    {
     "data": {
      "text/plain": [
       "[10, 20, 40]"
      ]
     },
     "execution_count": 16,
     "metadata": {},
     "output_type": "execute_result"
    }
   ],
   "source": [
    "f = open('input2.txt')\n",
    "n = int(f.readline())\n",
    "data = []\n",
    "for i in range(n):\n",
    "    data.append(int(f.readline()))\n",
    "f.close()\n",
    "data"
   ]
  },
  {
   "cell_type": "markdown",
   "id": "2e2d422b-50f6-46a4-a6bc-aa67a7a6a0c9",
   "metadata": {},
   "source": [
    "##### Beispiel2\n",
    "\n",
    "Alle Zahlen stehen in einer Reihe"
   ]
  },
  {
   "cell_type": "code",
   "execution_count": 17,
   "id": "7e70bce1-bc6e-4685-b2db-413ea7b6d8ee",
   "metadata": {},
   "outputs": [
    {
     "name": "stdout",
     "output_type": "stream",
     "text": [
      "Overwriting input2.txt\n"
     ]
    }
   ],
   "source": [
    "%%writefile input2.txt\n",
    "3 10 8 4 -3 14 42 -9"
   ]
  },
  {
   "cell_type": "code",
   "execution_count": 18,
   "id": "eeb93804-b82e-43d2-bc41-20e3bfe9133f",
   "metadata": {},
   "outputs": [
    {
     "data": {
      "text/plain": [
       "[3, 10, 8, 4, -3, 14, 42, -9]"
      ]
     },
     "execution_count": 18,
     "metadata": {},
     "output_type": "execute_result"
    }
   ],
   "source": [
    "f = open('input2.txt')\n",
    "a = f.readline().split()\n",
    "f.close()\n",
    "data = []\n",
    "for x in a:\n",
    "    data.append(int(x))\n",
    "data"
   ]
  },
  {
   "cell_type": "markdown",
   "id": "8da7a786-16b3-42c2-a4ac-c649f177e13d",
   "metadata": {},
   "source": [
    "oder kürzer mit einer list-Comprehension"
   ]
  },
  {
   "cell_type": "code",
   "execution_count": 19,
   "id": "8278feee-ad95-4649-a580-f753069be52f",
   "metadata": {},
   "outputs": [
    {
     "data": {
      "text/plain": [
       "[3, 10, 8, 4, -3, 14, 42, -9]"
      ]
     },
     "execution_count": 19,
     "metadata": {},
     "output_type": "execute_result"
    }
   ],
   "source": [
    "f = open('input2.txt')\n",
    "data = [int(x) for x in f.readline().split()]\n",
    "f.close()\n",
    "data"
   ]
  },
  {
   "cell_type": "markdown",
   "id": "c8b9a38f-43ef-4cf7-8f1b-71f3e1d4f44e",
   "metadata": {},
   "source": [
    "##### Beispiel4"
   ]
  },
  {
   "cell_type": "code",
   "execution_count": 20,
   "id": "2f9084a5-8d01-48ef-a4f7-a03d613c7c36",
   "metadata": {},
   "outputs": [
    {
     "name": "stdout",
     "output_type": "stream",
     "text": [
      "Overwriting input2.txt\n"
     ]
    }
   ],
   "source": [
    "%%writefile input2.txt\n",
    "3\n",
    "10  Lena\n",
    "20  Malte\n",
    "40  Sam"
   ]
  },
  {
   "cell_type": "code",
   "execution_count": 21,
   "id": "aaea50ef-2c99-49a4-90b8-c57722fc006e",
   "metadata": {},
   "outputs": [
    {
     "data": {
      "text/plain": [
       "[(10, 'Lena'), (20, 'Malte'), (40, 'Sam')]"
      ]
     },
     "execution_count": 21,
     "metadata": {},
     "output_type": "execute_result"
    }
   ],
   "source": [
    "f = open('input2.txt')\n",
    "n = int(f.readline())\n",
    "data = []\n",
    "for i in range(n):\n",
    "    k, name = f.readline().split()\n",
    "    data.append((int(k),name))\n",
    "f.close()\n",
    "data"
   ]
  },
  {
   "cell_type": "markdown",
   "id": "823880a2-522d-4091-a9b5-c607e3df7429",
   "metadata": {},
   "source": [
    "##### Beispiel5\n",
    "\n",
    "Einen Text einlesen."
   ]
  },
  {
   "cell_type": "code",
   "execution_count": 22,
   "id": "0f80d59d-2678-4fbd-933f-18da76a03f5c",
   "metadata": {},
   "outputs": [
    {
     "name": "stdout",
     "output_type": "stream",
     "text": [
      "Overwriting input3.txt\n"
     ]
    }
   ],
   "source": [
    "%%writefile input3.txt\n",
    "Wollen wir einen Computer für eine bestimmte Aufgabe einsetzen, dann\n",
    "müssen wir uns nicht nur überlegen, wie der Verarbeitungsablauf in Form eines\n",
    "Programms beschrieben werden kann. Es geht auch darum, das, was eigentlich\n",
    "verarbeitet werden soll, darzustellen. Informationen müssen in Form von Daten\n",
    "verpackt werden. Daten können alles Mögliche repräsentieren, von Zahlen und\n",
    "Texten über Bilder und Tönen bis zu Finanztransaktionen oder Auswertungen\n",
    "von Gesteinsproben. Da jedoch Computer intern nur mit den zwei Symbolen\n",
    "0 und 1 operieren, müssen wir uns überlegen, wie Informationen damit\n",
    "beschrieben werden können. Wie sieht eine Zahl aus, die nur aus Nullen und\n",
    "Einsen besteht – oder ein Text oder ein Bild?"
   ]
  },
  {
   "cell_type": "code",
   "execution_count": 23,
   "id": "5f2bdf52-facb-4d50-9112-f4021d275e08",
   "metadata": {},
   "outputs": [
    {
     "data": {
      "text/plain": [
       "'Wollen wir einen Computer für eine bestimmte Aufgabe einsetzen, dann müssen wir uns nicht nur überlegen, wie der Verarbeitungsablauf in Form eines Programms beschrieben werden kann. Es geht auch darum, das, was eigentlich verarbeitet werden soll, darzustellen. Informationen müssen in Form von Daten verpackt werden. Daten können alles Mögliche repräsentieren, von Zahlen und Texten über Bilder und Tönen bis zu Finanztransaktionen oder Auswertungen von Gesteinsproben. Da jedoch Computer intern nur mit den zwei Symbolen 0 und 1 operieren, müssen wir uns überlegen, wie Informationen damit beschrieben werden können. Wie sieht eine Zahl aus, die nur aus Nullen und Einsen besteht – oder ein Text oder ein Bild? '"
      ]
     },
     "execution_count": 23,
     "metadata": {},
     "output_type": "execute_result"
    }
   ],
   "source": [
    "f = open('input3.txt',encoding='utf-8')    \n",
    "data = f.read().replace('\\n',' ')\n",
    "f.close()\n",
    "data"
   ]
  },
  {
   "cell_type": "markdown",
   "id": "47ab35fa-21e2-44e2-8bbf-00746f4c7762",
   "metadata": {},
   "source": [
    "### write\n",
    "\n",
    "Beim Öffnen einer Datei können wir den Parameter *mode* mitgeben:\n",
    "\n",
    "    * mode='r'     -  Datei wird zum Lesen geöffnet (default)\n",
    "    * mode='w'     -  Datei wird zum Schreiben geöffnet, alter Inhalt wird gelöscht \n",
    "    * mode='a'     -  Datei wird zum Schreiben geöffnet, neuer Inhalt wird angehängt\n",
    "    \n"
   ]
  },
  {
   "cell_type": "code",
   "execution_count": 24,
   "id": "19d2efd4-0436-4a63-b687-eeb595ef7a86",
   "metadata": {},
   "outputs": [],
   "source": [
    "f = open('output1.txt','w')\n",
    "f.write('Montag\\n')\n",
    "f.write('Dienstag\\n')\n",
    "f.close()"
   ]
  },
  {
   "cell_type": "code",
   "execution_count": 25,
   "id": "124bfc00-311e-4235-9beb-abcf0b9807bb",
   "metadata": {},
   "outputs": [
    {
     "data": {
      "text/plain": [
       "'Montag\\nDienstag\\n'"
      ]
     },
     "execution_count": 25,
     "metadata": {},
     "output_type": "execute_result"
    }
   ],
   "source": [
    "f = open('output1.txt')\n",
    "data = f.read()\n",
    "f.close()\n",
    "data"
   ]
  },
  {
   "cell_type": "code",
   "execution_count": 26,
   "id": "e09013d3-ffdc-4b5d-85b7-1c4f344928bb",
   "metadata": {},
   "outputs": [],
   "source": [
    "f = open('output1.txt','a')\n",
    "f.write('Mittwoch\\n')\n",
    "f.close()"
   ]
  },
  {
   "cell_type": "code",
   "execution_count": 27,
   "id": "2e1ae535-5822-40e0-9e2f-3dbda154f095",
   "metadata": {},
   "outputs": [
    {
     "data": {
      "text/plain": [
       "'Montag\\nDienstag\\nMittwoch\\n'"
      ]
     },
     "execution_count": 27,
     "metadata": {},
     "output_type": "execute_result"
    }
   ],
   "source": [
    "f = open('output1.txt')\n",
    "data = f.read()\n",
    "f.close()\n",
    "data"
   ]
  },
  {
   "cell_type": "code",
   "execution_count": 28,
   "id": "648a6533-394d-4f28-b1a0-9197cd96fff1",
   "metadata": {},
   "outputs": [],
   "source": [
    "a = ['Montag','Dienstag','Mittwoch']\n",
    "f = open('output1.txt','w')\n",
    "f.writelines([s+'\\n' for s in a ])\n",
    "f.close()"
   ]
  },
  {
   "cell_type": "code",
   "execution_count": 29,
   "id": "67b2e14f-9bba-41e0-98a3-32b0f66368c0",
   "metadata": {},
   "outputs": [
    {
     "data": {
      "text/plain": [
       "'Montag\\nDienstag\\nMittwoch\\n'"
      ]
     },
     "execution_count": 29,
     "metadata": {},
     "output_type": "execute_result"
    }
   ],
   "source": [
    "f = open('output1.txt')\n",
    "data = f.read()\n",
    "f.close()\n",
    "data"
   ]
  },
  {
   "cell_type": "markdown",
   "id": "cccff706-0c0d-4a7e-8b95-a2ef588f76b5",
   "metadata": {},
   "source": [
    "#### Mit print in Datei schreiben"
   ]
  },
  {
   "cell_type": "code",
   "execution_count": 30,
   "id": "d86c41e2-82f5-442e-b2c2-f346313067eb",
   "metadata": {},
   "outputs": [],
   "source": [
    "a = ['Montag','Dienstag','Mittwoch']\n",
    "f = open('output1.txt','w')\n",
    "for s in a:\n",
    "    print(s,file = f)\n",
    "f.close()"
   ]
  },
  {
   "cell_type": "code",
   "execution_count": 31,
   "id": "f089f640-6a3f-4f52-81c7-f44e32ed2fbd",
   "metadata": {},
   "outputs": [
    {
     "data": {
      "text/plain": [
       "'Montag\\nDienstag\\nMittwoch\\n'"
      ]
     },
     "execution_count": 31,
     "metadata": {},
     "output_type": "execute_result"
    }
   ],
   "source": [
    "f = open('output1.txt')\n",
    "data = f.read()\n",
    "f.close()\n",
    "data"
   ]
  },
  {
   "cell_type": "markdown",
   "id": "a8dabd46-28ff-4130-a489-f3682f57740f",
   "metadata": {},
   "source": [
    "### Context-Manager\n",
    "\n",
    "Warum sollte eine Datei nach der Verarbeitung geschlossen werden?\n",
    "\n",
    "* jede geöffnete Datei verbraucht Systemressourcen\n",
    "* beim Schreiben werden die zu schreibenden Daten häufig zunächst im Speicher portionsweise gesammelt (buffered), mit close wird auch die\n",
    "  letzte Portion in die Datei geschrieben (flushed to disk).\n",
    "* andere Anwendungen können auf die Datei zugreifen.\n",
    "\n",
    "Wenn wir den Context-Manager benutzen, den uns das *open* liefert, müssen wir das *close* nicht mehr codieren. Der Context-Manager sorgt dafür, dass die Datei (auch im Fehlerfall) ordentlich geschlossen wird.  "
   ]
  },
  {
   "cell_type": "code",
   "execution_count": 32,
   "id": "65a7a107-7633-4605-92ba-f76c4563bf14",
   "metadata": {},
   "outputs": [
    {
     "name": "stdout",
     "output_type": "stream",
     "text": [
      "Dies ist Zeile1\n",
      "Dies ist Zeile2\n",
      "Dies ist Zeile3\n",
      "\n"
     ]
    }
   ],
   "source": [
    "with open('input1.txt') as f:\n",
    "    print(f.read())"
   ]
  },
  {
   "cell_type": "markdown",
   "id": "aabe006e-e9b0-4d45-9d03-bf4e73da0c15",
   "metadata": {},
   "source": [
    "Für Programmieranfänger ist häufig das Verfahren *open - read - close* verständlicher, deswegen nutzen wir nicht immer den Context-Manager. "
   ]
  }
 ],
 "metadata": {
  "kernelspec": {
   "display_name": "Python 3 (ipykernel)",
   "language": "python",
   "name": "python3"
  },
  "language_info": {
   "codemirror_mode": {
    "name": "ipython",
    "version": 3
   },
   "file_extension": ".py",
   "mimetype": "text/x-python",
   "name": "python",
   "nbconvert_exporter": "python",
   "pygments_lexer": "ipython3",
   "version": "3.12.8"
  }
 },
 "nbformat": 4,
 "nbformat_minor": 5
}
