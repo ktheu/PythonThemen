{
 "cells": [
  {
   "cell_type": "markdown",
   "id": "614133d0",
   "metadata": {
    "editable": true,
    "slideshow": {
     "slide_type": ""
    },
    "tags": []
   },
   "source": [
    "## Virtual Environments\n",
    "\n",
    "[Video](https://youtu.be/O6tM6LV-noE)\n",
    "\n",
    "#### Python Installation\n",
    "\n",
    "Wenn wir Python von [python.org](https://www.python.org/) installieren, wird für jede Version, die wir installieren, ein Ordner erstellt. \n",
    "\n",
    "Bei der Installation der Versionen 3.12 und 3.13 entstehen z.B. folgende Ordner (Name wir bei der Installation mitgeteilt).\n",
    "\n",
    "    C:\\Users\\khthe\\AppData\\Local\\Programs\\Python\\Python313           \n",
    "    C:\\Users\\khthe\\AppData\\Local\\Programs\\Python\\Python312 \n",
    "\n",
    "In jedem der Ordner gibt es ein File *python.exe* mit dem das jeweilige Python gestartet wird. Wenn wir bei der Installation den Ordner nicht in den Systempfad aufgenommen haben, könnten wir Python 3.12 so starten:\n",
    "\n",
    "     C:\\Users\\khthe\\AppData\\Local\\Programs\\Python\\Python312\\python.exe \n",
    "    \n",
    "\n",
    "\n",
    "#### Python Launcher\n",
    "\n",
    "In Windows gibt es nach einer Python-Installation den Python Launcher *py*. Er ist nach der Installation von Python verfügbar, auch wenn Python nicht in den Systempfad aufgenommen wurde. Er erleichtert den Start verschiedener Python-Versionen."
   ]
  },
  {
   "cell_type": "markdown",
   "id": "90c5fdf2-7100-4cbf-83af-50dfe3e2d334",
   "metadata": {
    "editable": true,
    "slideshow": {
     "slide_type": ""
    },
    "tags": []
   },
   "source": [
    "    py                # startet die neueste der installierten Python-Versionen\n",
    "    \n",
    "    py --version      # zeigt die Python-Version, die standardmäßig gestartet wird\n",
    "     Python 3.13.1\n",
    "\n",
    "    py --list         # installierte Python-Versionen, * = aktuell\n",
    "     -V:3.13 *        Python 3.13 (64-bit)\n",
    "     -V:3.12          Python 3.12 (64-bit)\n",
    "\n",
    "    py --list-paths   # installierte Python-Versionen mit Pfad\n",
    "     -V:3.13 *        C:\\Users\\khthe\\AppData\\Local\\Programs\\Python\\Python313\\python.exe\n",
    "     -V:3.12          C:\\Users\\khthe\\AppData\\Local\\Programs\\Python\\Python312\\python.exe"
   ]
  },
  {
   "cell_type": "markdown",
   "id": "f73cd2af-53c8-499f-930d-7e6b301b058b",
   "metadata": {
    "editable": true,
    "slideshow": {
     "slide_type": ""
    },
    "tags": []
   },
   "source": [
    "Aufruf verschiedener Versionen:\n",
    "\n",
    "    py                   # startet das aktive Python\n",
    "    py -3.12             # startet Python 3.12"
   ]
  },
  {
   "cell_type": "markdown",
   "id": "9c8b2699-fa02-41ed-b2a4-884129516569",
   "metadata": {
    "editable": true,
    "slideshow": {
     "slide_type": ""
    },
    "tags": []
   },
   "source": [
    "#### Virtuelle Umgebungen mit venv"
   ]
  },
  {
   "cell_type": "markdown",
   "id": "5bcc4c1b",
   "metadata": {
    "editable": true,
    "slideshow": {
     "slide_type": ""
    },
    "tags": []
   },
   "source": [
    "Es gibt viele Bibliotheken von Drittanbietern, die weitere Funktionalitäten anbieten. Z.B. **numpy** for numerische Berechnungen oder **matplotlib** für Visualisierungen.\n",
    "\n",
    "Manchmal setzen Bibliotheken von Drittanbietern bestimmte Versionen von Python voraus oder bestimmte Versionen von anderen Bibliotheken von Drittanbietern. \n",
    "\n",
    "<img src=bild1.png width='400'>"
   ]
  },
  {
   "cell_type": "markdown",
   "id": "2d853524",
   "metadata": {
    "editable": true,
    "slideshow": {
     "slide_type": "slide"
    },
    "tags": []
   },
   "source": [
    "Für verschiedene Anwendungsfälle können unterschiedliche Python-Umgebungen nötig sein. Wir könnten verschiedene Ordner für die unterschiedlichen Umgebungen erstellen und die Programme entsprechend aufrufen."
   ]
  },
  {
   "cell_type": "raw",
   "id": "fd050b33",
   "metadata": {
    "editable": true,
    "raw_mimetype": "",
    "slideshow": {
     "slide_type": "fragment"
    },
    "tags": []
   },
   "source": [
    "\\Users\\khtheu\\AppData\\Local\\Programs\\Python\\Python39lib11\\python pgm1.py\n",
    "\\Users\\khtheu\\AppData\\Local\\Programs\\Python\\Python39lib12\\python pgm2.py"
   ]
  },
  {
   "cell_type": "markdown",
   "id": "2c2bcb27",
   "metadata": {
    "editable": true,
    "slideshow": {
     "slide_type": ""
    },
    "tags": []
   },
   "source": [
    "Diese langen Pfade zu tippen ist mühsam. Damit wir nicht den langen Pfad eingeben müssen, könnten wir den gewünschten Pfad dem System-Path hinzufügen. Aber beim Wechsel der Python-Umgebung müssten wir den Pfad im System-Path austauschen."
   ]
  },
  {
   "cell_type": "markdown",
   "id": "6fa88cf4",
   "metadata": {
    "editable": true,
    "slideshow": {
     "slide_type": ""
    },
    "tags": []
   },
   "source": [
    "Mit dem Aktivieren oder Deaktivieren von virtuellen Umgebungen machen wir genau das: wir fügen eine Python-Umgebungen dem System-Path hinzu oder nehmen sie wieder heraus.\n",
    "\n",
    "Virtuelle Umgebungen können mit **venv** oder mit **conda/mamba** erstellt werden. Eine virtuelle Umgebung ist ein Ordner, der eine Kopie einer Python-Version enthält zusammen mit zusätzlich installierte Bibliotheken. Diese zusätzlichen Bibliotheken installieren wir mit dem Programm *pip*."
   ]
  },
  {
   "cell_type": "markdown",
   "id": "4deed281",
   "metadata": {
    "editable": true,
    "slideshow": {
     "slide_type": ""
    },
    "tags": []
   },
   "source": [
    "**Die Installationsordner lassen wir unverändert.** Wir installieren also keine Bibliotheken in die Ordner, die durch den Python-Download entstanden sind:\n",
    "\n",
    "    C:\\Users\\khthe\\AppData\\Local\\Programs\\Python\\Python313           \n",
    "    C:\\Users\\khthe\\AppData\\Local\\Programs\\Python\\Python312 \n",
    "\n",
    "Wir erstellen uns einen Ordner *envs* (Ort beliebig), der unsere virtuellen Umgebungen enthalten soll. \n",
    "Häufig ist es sinnvoll, den Namen der virtuellen Umgebung so zu wählen, dass der Zweck klar ist:\n",
    "\n",
    "    p313lab  - Python 3.13 mit jupyterLab \n",
    "    p313mat  - Python 3.13 mit mathematischen libraries: sympy, scipy, numpy, matplotlib\n",
    "    p312arc  - Python 3.12 mit arcade\n",
    "    p312torch - Python 3.12 mit pytorch\n",
    "\n"
   ]
  },
  {
   "cell_type": "markdown",
   "id": "dc15e9b9-3d0e-4781-a8f6-3551e839ccfb",
   "metadata": {
    "editable": true,
    "slideshow": {
     "slide_type": ""
    },
    "tags": []
   },
   "source": [
    "#### Erstellen der virtuellen Umgebung\n",
    "Wir gehen in den Ordner *envs*, dann:\n",
    "\n",
    "    py -3.13 -m venv p313lab\n",
    "\n",
    "Dadurch entsteht im Ordner *envs* ein weiterer Ordner *p313lab* mit einer Kopie des Installationsordners Python313 und weiteren Files und Order. In dem Ordner Scripts gibt es das file *activate*. Dieses File rufen wir im Command-Prompt aus und sehen, dass sich der Prompt ändert. Die neue Umgebung ist jetzt aktiviert. In diese Umgebung installieren wir unsere zusätzlichen Bibliotheken, z.B:\n",
    "\n",
    "    pip install jupyterlab\n",
    "    pip install matplotlib"
   ]
  },
  {
   "cell_type": "markdown",
   "id": "c07bec17-b78a-4017-a38d-c1a503022e1f",
   "metadata": {
    "editable": true,
    "slideshow": {
     "slide_type": ""
    },
    "tags": []
   },
   "source": [
    "Eine Liste der installierten Bibliotheken erhalten wir mit\n",
    "    \n",
    "    pip list                   # Liste der Bibliotheken mit Version\n",
    "    pip list | findstr numpy   # Version von numpy, falls installiert"
   ]
  },
  {
   "cell_type": "markdown",
   "id": "1e06ee37-f2e4-4d45-a864-06923b2d54fe",
   "metadata": {
    "editable": true,
    "slideshow": {
     "slide_type": ""
    },
    "tags": []
   },
   "source": [
    "Falls der Python-Launcher *py* nicht zur Verfügung steht:\n",
    "\n",
    "    cd \\Users\\khthe\\envs\n",
    "    C:\\Users\\khthe\\AppData\\Local\\Programs\\Python\\Python312\\python.exe -m venv p12math\n",
    "    p12math\\Scripts\\activate\n",
    "    pip install scipy    \n",
    "    pip list | findstr scipy\n",
    "    deactivate"
   ]
  },
  {
   "cell_type": "markdown",
   "id": "527c5ef4-e142-42e9-84d3-bd31abaadad7",
   "metadata": {},
   "source": [
    "#### Virtuelle Umgebungen in VSCode aktivieren\n",
    "\n",
    "In VSCode können wir virtuelle Umgebungen einfach aktivieren."
   ]
  },
  {
   "cell_type": "markdown",
   "id": "5be31cae-2847-4d09-8f48-6da96386cd85",
   "metadata": {},
   "source": [
    "    Strg - Shift - P     # Befehls-Palette\n",
    "    Python: Select Interpreter\n",
    "\n",
    "Falls das Python in unserem venv-Ordner nicht auftaucht, geben wir den Pfad bei *enter interpreter path* ein.\n",
    "\n",
    "Nach der Auswahl des Python-Interpreters:\n",
    "\n",
    "    Terminal - New Terminal\n",
    "\n",
    "Wenn als Terminal das Command Prompt gewählt ist, sollte dort im prompt der Name unserer virtuellen Umgebung auftauchen.\n",
    "    "
   ]
  },
  {
   "cell_type": "markdown",
   "id": "d2d77d57-17bf-4f5a-97ff-c388c34d64a5",
   "metadata": {},
   "source": [
    "#### Virtuelle Umgebungen in VSCode erstellen\n",
    "\n",
    "Statt die verschiedenen virtuellen Umgebungen in einem Ordner *envs* zu sammeln, kann man auch für das jeweilige Programmierprojekt eine virtuelle Umgebung erstellen. Dies wird in VSCode unterstützt. Beispiel:"
   ]
  },
  {
   "cell_type": "markdown",
   "id": "3df5bad7-853d-4d70-97cd-ce7b5d7263f4",
   "metadata": {},
   "source": [
    "\n",
    "    1. Öffne in VSCode, File, Open Folder, lege neuen Ordner stochastik an.\n",
    "    2. Strg+Shift+P, Python: Select Intertreter\n",
    "    3. Create Virtual Environment, Select an Environment Type: venv\n",
    "    4. Select a Python Installation to create a virtual environment \n",
    "    5. Terminal, New Terminal\n",
    "\n",
    "Im Command-Prompt sieht man den Namen *.venv* der erzeugten virtuellen Umgebung. Sie ist bereits aktiviert.\n",
    "\n",
    "    6. pip install scipy\n",
    "\n",
    "Teste mit folgendem Programm:\n",
    "    "
   ]
  },
  {
   "cell_type": "code",
   "execution_count": null,
   "id": "6043d66b-d9a6-41f8-8383-5b5452559b9e",
   "metadata": {},
   "outputs": [],
   "source": [
    "from scipy.stats import binom \n",
    "X = binom(10, 0.5)\n",
    "print(X.pmf(5))  # Wahrscheinlichkeit für genau 5 Erfolge"
   ]
  }
 ],
 "metadata": {
  "celltoolbar": "Slideshow",
  "kernelspec": {
   "display_name": "Python 3 (ipykernel)",
   "language": "python",
   "name": "python3"
  },
  "language_info": {
   "codemirror_mode": {
    "name": "ipython",
    "version": 3
   },
   "file_extension": ".py",
   "mimetype": "text/x-python",
   "name": "python",
   "nbconvert_exporter": "python",
   "pygments_lexer": "ipython3",
   "version": "3.12.8"
  }
 },
 "nbformat": 4,
 "nbformat_minor": 5
}
