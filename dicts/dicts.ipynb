{
 "cells": [
  {
   "cell_type": "markdown",
   "metadata": {},
   "source": [
    "# Dictionaries\n",
    "\n",
    "[video](https://youtu.be/PG8x9i64g8U?si=K2IGpsiyPUsdRMtW)\n",
    "\n",
    "Ein dictionary ist eine Sammlungen von Zuordnungen. Eine Zuordnung besteht darin, dass wir einem Schlüssel (key) einen Wert (value) zuordnen. "
   ]
  },
  {
   "cell_type": "code",
   "execution_count": 6,
   "metadata": {},
   "outputs": [],
   "source": [
    "m = {'A':1, 'B':2, 'C':3}      # key : value"
   ]
  },
  {
   "cell_type": "markdown",
   "metadata": {},
   "source": [
    " Keys sind eindeutig, d.h. es gibt keine 2 Zuordnungen in einem dictionary, die denselben key haben. Values können mehrfach vorkommen."
   ]
  },
  {
   "cell_type": "code",
   "execution_count": 5,
   "metadata": {},
   "outputs": [],
   "source": [
    "noten = {'Lena': 1, 'Max': 1, 'Tim': 2}          # values sind nicht eindeutig"
   ]
  },
  {
   "cell_type": "markdown",
   "metadata": {},
   "source": [
    "Dictionaries können sehr schnell zu einem gegebenen key den gespeicherten value ermitteln. Die Typen für Keys müssen *hashable* sein. Das ist der Fall bei ints, floats, strings, tuples. Lists sind nicht hashable und können also nicht als\n",
    "keys in dictionaries verwendet werden.  Der Typ der values ist beliebig. "
   ]
  },
  {
   "cell_type": "markdown",
   "metadata": {},
   "source": [
    "## Lookup, Update, Insert, Delete\n",
    "\n",
    "Zu einem key können wir den zugeordneten value ermitteln (Lookup)."
   ]
  },
  {
   "cell_type": "code",
   "execution_count": 10,
   "metadata": {},
   "outputs": [
    {
     "data": {
      "text/plain": [
       "2"
      ]
     },
     "execution_count": 10,
     "metadata": {},
     "output_type": "execute_result"
    }
   ],
   "source": [
    "noten = {'Lena': 2, 'Max': 1, 'Tim': 2}\n",
    "noten['Lena'] "
   ]
  },
  {
   "cell_type": "markdown",
   "metadata": {},
   "source": [
    "Wir können den zugeordneten Wert verändern.\n"
   ]
  },
  {
   "cell_type": "code",
   "execution_count": 11,
   "metadata": {},
   "outputs": [
    {
     "data": {
      "text/plain": [
       "{'Lena': 1, 'Max': 1, 'Tim': 2}"
      ]
     },
     "execution_count": 11,
     "metadata": {},
     "output_type": "execute_result"
    }
   ],
   "source": [
    "noten['Lena'] = 1\n",
    "noten"
   ]
  },
  {
   "cell_type": "markdown",
   "metadata": {},
   "source": [
    "Wir können ein neues key-value Paar hinzufügen"
   ]
  },
  {
   "cell_type": "code",
   "execution_count": 12,
   "metadata": {},
   "outputs": [
    {
     "data": {
      "text/plain": [
       "{'Lena': 1, 'Max': 1, 'Tim': 2, 'Malte': 3}"
      ]
     },
     "execution_count": 12,
     "metadata": {},
     "output_type": "execute_result"
    }
   ],
   "source": [
    "noten['Malte'] = 3\n",
    "noten"
   ]
  },
  {
   "cell_type": "markdown",
   "metadata": {},
   "source": [
    "Wir können ein key-value Paar aus dem dictionary löschen"
   ]
  },
  {
   "cell_type": "code",
   "execution_count": 14,
   "metadata": {},
   "outputs": [
    {
     "data": {
      "text/plain": [
       "{'Lena': 1, 'Tim': 2, 'Malte': 3}"
      ]
     },
     "execution_count": 14,
     "metadata": {},
     "output_type": "execute_result"
    }
   ],
   "source": [
    "del noten['Max']\n",
    "noten"
   ]
  },
  {
   "cell_type": "markdown",
   "metadata": {},
   "source": [
    "Fehlersituationen: Wir nutzen einen key, der nicht vorhanden ist. Oder wir versuchen einen key zu löschen, der nicht vorhanden ist. Dies führt zu einer KeyError exception."
   ]
  },
  {
   "cell_type": "code",
   "execution_count": 16,
   "metadata": {},
   "outputs": [
    {
     "ename": "KeyError",
     "evalue": "'Maike'",
     "output_type": "error",
     "traceback": [
      "\u001b[1;31m---------------------------------------------------------------------------\u001b[0m",
      "\u001b[1;31mKeyError\u001b[0m                                  Traceback (most recent call last)",
      "Cell \u001b[1;32mIn[16], line 1\u001b[0m\n\u001b[1;32m----> 1\u001b[0m \u001b[43mnoten\u001b[49m\u001b[43m[\u001b[49m\u001b[38;5;124;43m'\u001b[39;49m\u001b[38;5;124;43mMaike\u001b[39;49m\u001b[38;5;124;43m'\u001b[39;49m\u001b[43m]\u001b[49m\n",
      "\u001b[1;31mKeyError\u001b[0m: 'Maike'"
     ]
    }
   ],
   "source": [
    "noten['Maike']"
   ]
  },
  {
   "cell_type": "markdown",
   "metadata": {},
   "source": [
    "Fehlersituation: Wir wollen einen key verwenden, der nicht hashable ist. Dies führt zu einer TypeError exception."
   ]
  },
  {
   "cell_type": "code",
   "execution_count": 19,
   "metadata": {},
   "outputs": [
    {
     "ename": "TypeError",
     "evalue": "unhashable type: 'list'",
     "output_type": "error",
     "traceback": [
      "\u001b[1;31m---------------------------------------------------------------------------\u001b[0m",
      "\u001b[1;31mTypeError\u001b[0m                                 Traceback (most recent call last)",
      "Cell \u001b[1;32mIn[19], line 1\u001b[0m\n\u001b[1;32m----> 1\u001b[0m m \u001b[38;5;241m=\u001b[39m {[\u001b[38;5;241m1\u001b[39m,\u001b[38;5;241m2\u001b[39m]: \u001b[38;5;124m'\u001b[39m\u001b[38;5;124mA\u001b[39m\u001b[38;5;124m'\u001b[39m}\n",
      "\u001b[1;31mTypeError\u001b[0m: unhashable type: 'list'"
     ]
    }
   ],
   "source": [
    "m = {[1,2]: 'A'}\n",
    " "
   ]
  },
  {
   "cell_type": "markdown",
   "metadata": {},
   "source": [
    "## Liste von keys, values, items erzeugen\n",
    "\n",
    "Wir können uns zu einem gegebenen dict Listen mit den keys, values und items erzeugen. Ein item ist ein zu einem Tupel zusammengefasstes key-value Paar."
   ]
  },
  {
   "cell_type": "code",
   "execution_count": 5,
   "metadata": {},
   "outputs": [
    {
     "data": {
      "text/plain": [
       "['Thorben', 'Soeren', 'Maike']"
      ]
     },
     "execution_count": 5,
     "metadata": {},
     "output_type": "execute_result"
    }
   ],
   "source": [
    "m = {'Thorben':2, 'Soeren':3, 'Maike':2}\n",
    "list(m.keys())"
   ]
  },
  {
   "cell_type": "code",
   "execution_count": 6,
   "metadata": {},
   "outputs": [
    {
     "data": {
      "text/plain": [
       "[2, 3, 2]"
      ]
     },
     "execution_count": 6,
     "metadata": {},
     "output_type": "execute_result"
    }
   ],
   "source": [
    "list(m.values())"
   ]
  },
  {
   "cell_type": "code",
   "execution_count": 7,
   "metadata": {},
   "outputs": [
    {
     "data": {
      "text/plain": [
       "[('Thorben', 2), ('Soeren', 3), ('Maike', 2)]"
      ]
     },
     "execution_count": 7,
     "metadata": {},
     "output_type": "execute_result"
    }
   ],
   "source": [
    "list(m.items())"
   ]
  },
  {
   "cell_type": "markdown",
   "metadata": {},
   "source": [
    "## Mit einer Schleife ein dict durchlaufen\n",
    "\n",
    "Wenn wir mit einer for-Schleife ein dict durchlaufen, dann laufen wir standardmäßig durch die keys."
   ]
  },
  {
   "cell_type": "code",
   "execution_count": 8,
   "metadata": {},
   "outputs": [
    {
     "name": "stdout",
     "output_type": "stream",
     "text": [
      "Thorben\n",
      "Soeren\n",
      "Maike\n"
     ]
    }
   ],
   "source": [
    "m = {'Thorben':2, 'Soeren':3, 'Maike':2}\n",
    "for x in m:                      # alle keys durchlaufen     \n",
    "    print(x) "
   ]
  },
  {
   "cell_type": "code",
   "execution_count": 9,
   "metadata": {},
   "outputs": [
    {
     "name": "stdout",
     "output_type": "stream",
     "text": [
      "Thorben\n",
      "Soeren\n",
      "Maike\n"
     ]
    }
   ],
   "source": [
    "for x in m.keys():               # wie oben: alle keys durchlaufen\n",
    "    print(x) "
   ]
  },
  {
   "cell_type": "code",
   "execution_count": 10,
   "metadata": {},
   "outputs": [
    {
     "name": "stdout",
     "output_type": "stream",
     "text": [
      "2\n",
      "3\n",
      "2\n"
     ]
    }
   ],
   "source": [
    "for x in m.values():             # alle values durchlaufen\n",
    "    print(x)"
   ]
  },
  {
   "cell_type": "code",
   "execution_count": 11,
   "metadata": {},
   "outputs": [
    {
     "name": "stdout",
     "output_type": "stream",
     "text": [
      "Thorben 2\n",
      "Soeren 3\n",
      "Maike 2\n"
     ]
    }
   ],
   "source": [
    "for k,v in m.items():            # alle key-value Tupel durchlaufen mit unpacking\n",
    "    print(k, v)"
   ]
  },
  {
   "cell_type": "markdown",
   "metadata": {},
   "source": [
    "## Datentypen für keys und values\n",
    "\n",
    "* values: kann jeder Datentyp sein, auch doppelte Werte ok. <br>\n",
    "* keys: müssen eindeutig sein, wir verwenden zunächst nur die immutable Typen: int, string, tuple (eigentliche Bedingung: die Typen müssen hashable sein). Insbesondere können Listen nicht als keys für dictionaries verwendet werden.<br>\n",
    "* Seit Python 3.7 ist die Reihenfolge beim Durchlauf der Elemente die Einfügereihenfolge.\n",
    "\n",
    "[dict-Methoden (W3Schools)](https://www.w3schools.com/python/python_ref_dictionary.asp)"
   ]
  },
  {
   "cell_type": "markdown",
   "metadata": {},
   "source": [
    "## Aufgaben"
   ]
  },
  {
   "cell_type": "code",
   "execution_count": null,
   "metadata": {},
   "outputs": [],
   "source": [
    "'''\n",
    "Aufgabe 1:\n",
    "Erstelle ein dict m1, dass den Ländern 'England', 'Frankreich' und 'Italien' ihre Hauptstädte zuordnet.\n",
    "\n",
    ">>> m1['England']\n",
    "'London'\n",
    "\n",
    ">>> m1['Frankreich']\n",
    "'Paris'\n",
    "\n",
    ">>> m1['Italien']\n",
    "'Rom'\n",
    "'''\n",
    "# your code"
   ]
  },
  {
   "cell_type": "code",
   "execution_count": null,
   "metadata": {},
   "outputs": [],
   "source": [
    "'''\n",
    "Aufgabe 2:\n",
    "Erstelle ein dict m2, dass den Städten London, Paris und Rom ihre Länder zuordnet\n",
    "\n",
    ">>> m2['London']\n",
    "'England'\n",
    "\n",
    ">>> m2['Paris']\n",
    "'Frankreich'\n",
    "\n",
    ">>> m2['Rom']\n",
    "'Italien'\n",
    "'''\n",
    "# your code\n"
   ]
  },
  {
   "cell_type": "code",
   "execution_count": null,
   "metadata": {},
   "outputs": [],
   "source": [
    "'''\n",
    "Aufgabe 3:\n",
    "Erstelle ein dict m3, dass jeder Zahl in Zeile 1, die Zahl zuordnet, die unter ihr steht.\n",
    "\n",
    "Zeile1:   3  10  12  101  25  17\n",
    "         19   4   1   -4  99  17\n",
    "\n",
    ">>> m3[3]\n",
    "19\n",
    "\n",
    ">>> m3[101]\n",
    "-4\n",
    "'''\n",
    "# your code"
   ]
  },
  {
   "cell_type": "code",
   "execution_count": null,
   "metadata": {},
   "outputs": [],
   "source": [
    "'''\n",
    "Aufgabe 4:\n",
    "Erstelle ein dictionary m, das jedem kleinen Buchstaben seine Stelle im Alphabet zuordnet.\n",
    "a -> 1, b -> 2, ... z -> 26. \n",
    "Erweitere das dict um folgende Einträge: ä -> 27, ö -> 28, ü -> 29, ß -> 30.\n",
    "\n",
    "Teste ein paar Werte:\n",
    ">>> m['c']\n",
    "3\n",
    ">>> m['o']\n",
    "15\n",
    ">>> m['ö']\n",
    "28\n",
    "'''\n",
    "# your code"
   ]
  }
 ],
 "metadata": {
  "kernelspec": {
   "display_name": "Python 3 (ipykernel)",
   "language": "python",
   "name": "python3"
  },
  "language_info": {
   "codemirror_mode": {
    "name": "ipython",
    "version": 3
   },
   "file_extension": ".py",
   "mimetype": "text/x-python",
   "name": "python",
   "nbconvert_exporter": "python",
   "pygments_lexer": "ipython3",
   "version": "3.11.2"
  }
 },
 "nbformat": 4,
 "nbformat_minor": 4
}
