{
 "cells": [
  {
   "cell_type": "markdown",
   "metadata": {},
   "source": [
    "## Dictionaries\n",
    "\n",
    "[video](https://youtu.be/a4syVjvsHD4)  -  [w3Scools](https://www.w3schools.com/python/python_ref_dictionary.asp)\n",
    "\n",
    "Ein dictionary ist eine Sammlungen von Zuordnungen. Eine Zuordnung besteht darin, dass wir einem Schlüssel (key) einen Wert (value) zuordnen. "
   ]
  },
  {
   "cell_type": "code",
   "execution_count": null,
   "metadata": {},
   "outputs": [],
   "source": [
    "m = {'A':1, 'B':2, 'C':3}      # key : value"
   ]
  },
  {
   "cell_type": "markdown",
   "metadata": {},
   "source": [
    " Keys sind eindeutig, d.h. es gibt keine 2 Zuordnungen in einem dictionary, die denselben key haben. Values können mehrfach vorkommen."
   ]
  },
  {
   "cell_type": "code",
   "execution_count": null,
   "metadata": {},
   "outputs": [],
   "source": [
    "noten = {'Lena': 1, 'Max': 1, 'Tim': 2}          # values sind nicht eindeutig"
   ]
  },
  {
   "cell_type": "markdown",
   "metadata": {},
   "source": [
    "Dictionaries können sehr schnell zu einem gegebenen key den gespeicherten value ermitteln. Die Typen für Keys müssen *hashable* sein. Das ist der Fall bei ints, floats, strings, tuples. Lists sind nicht hashable und können also nicht als\n",
    "keys in dictionaries verwendet werden.  Der Typ der values ist beliebig. "
   ]
  },
  {
   "cell_type": "code",
   "execution_count": null,
   "metadata": {},
   "outputs": [],
   "source": [
    "len(noten)              # Länge des dicts"
   ]
  },
  {
   "cell_type": "code",
   "execution_count": null,
   "metadata": {},
   "outputs": [],
   "source": [
    "m = {}                  # leeres dict\n",
    "m = dict()              # leeres dict\n",
    "m"
   ]
  },
  {
   "cell_type": "markdown",
   "metadata": {},
   "source": [
    "#### Lookup, Update, Insert, Delete\n",
    "\n",
    "Zu einem key können wir den zugeordneten value ermitteln (Lookup)."
   ]
  },
  {
   "cell_type": "code",
   "execution_count": 85,
   "metadata": {},
   "outputs": [
    {
     "data": {
      "text/plain": [
       "2"
      ]
     },
     "execution_count": 85,
     "metadata": {},
     "output_type": "execute_result"
    }
   ],
   "source": [
    "noten = {'Lena': 2, 'Max': 1, 'Tim': 2}\n",
    "noten['Lena'] "
   ]
  },
  {
   "cell_type": "markdown",
   "metadata": {},
   "source": [
    "Wir können den zugeordneten Wert verändern.\n"
   ]
  },
  {
   "cell_type": "code",
   "execution_count": 86,
   "metadata": {},
   "outputs": [
    {
     "data": {
      "text/plain": [
       "{'Lena': 1, 'Max': 1, 'Tim': 2}"
      ]
     },
     "execution_count": 86,
     "metadata": {},
     "output_type": "execute_result"
    }
   ],
   "source": [
    "noten['Lena'] = 1\n",
    "noten"
   ]
  },
  {
   "cell_type": "markdown",
   "metadata": {},
   "source": [
    "Wir können ein neues key-value Paar hinzufügen"
   ]
  },
  {
   "cell_type": "code",
   "execution_count": 87,
   "metadata": {},
   "outputs": [
    {
     "data": {
      "text/plain": [
       "{'Lena': 1, 'Max': 1, 'Tim': 2, 'Malte': 3}"
      ]
     },
     "execution_count": 87,
     "metadata": {},
     "output_type": "execute_result"
    }
   ],
   "source": [
    "noten['Malte'] = 3\n",
    "noten"
   ]
  },
  {
   "cell_type": "markdown",
   "metadata": {},
   "source": [
    "Wir können ein key-value Paar aus dem dictionary auf zwei Arten löschen."
   ]
  },
  {
   "cell_type": "code",
   "execution_count": 88,
   "metadata": {},
   "outputs": [
    {
     "data": {
      "text/plain": [
       "{'Lena': 2, 'Tim': 2}"
      ]
     },
     "execution_count": 88,
     "metadata": {},
     "output_type": "execute_result"
    }
   ],
   "source": [
    "noten = {'Lena': 2, 'Max': 1, 'Tim': 2}\n",
    "del noten['Max']\n",
    "noten"
   ]
  },
  {
   "cell_type": "code",
   "execution_count": 89,
   "metadata": {},
   "outputs": [
    {
     "name": "stdout",
     "output_type": "stream",
     "text": [
      "1\n"
     ]
    },
    {
     "data": {
      "text/plain": [
       "{'Lena': 2, 'Tim': 2}"
      ]
     },
     "execution_count": 89,
     "metadata": {},
     "output_type": "execute_result"
    }
   ],
   "source": [
    "noten = {'Lena': 2, 'Max': 1, 'Tim': 2}\n",
    "x = noten.pop('Max')\n",
    "print(x)\n",
    "noten"
   ]
  },
  {
   "cell_type": "markdown",
   "metadata": {},
   "source": [
    "#### Fehlersituationen"
   ]
  },
  {
   "cell_type": "markdown",
   "metadata": {},
   "source": [
    "Fehlersituation: Wir nutzen einen key, der nicht vorhanden ist. Oder wir versuchen einen key zu löschen, der nicht vorhanden ist. Dies führt zu einer KeyError exception."
   ]
  },
  {
   "cell_type": "code",
   "execution_count": null,
   "metadata": {},
   "outputs": [],
   "source": [
    "noten = {'Lena': 2, 'Max': 1, 'Tim': 2}\n",
    "x = noten['Maike'] "
   ]
  },
  {
   "cell_type": "markdown",
   "metadata": {},
   "source": [
    "Fehlersituation: Wir wollen einen key verwenden, der nicht hashable ist. Dies führt zu einer TypeError exception."
   ]
  },
  {
   "cell_type": "code",
   "execution_count": null,
   "metadata": {},
   "outputs": [],
   "source": [
    "m = {[1,2]: 'A'} "
   ]
  },
  {
   "cell_type": "markdown",
   "metadata": {},
   "source": [
    "#### Abfrage, ob key in dict enthalten ist"
   ]
  },
  {
   "cell_type": "markdown",
   "metadata": {},
   "source": [
    "Mit dem *in*-Operator testen wir, ob ein key in einem dict ist."
   ]
  },
  {
   "cell_type": "code",
   "execution_count": 90,
   "metadata": {},
   "outputs": [
    {
     "name": "stdout",
     "output_type": "stream",
     "text": [
      "Tim 2\n"
     ]
    }
   ],
   "source": [
    "noten = {'Lena': 2, 'Max': 1, 'Tim': 2}\n",
    "namen = ['Malte','Tim']\n",
    "for name in namen:                         #ist key in dict ?\n",
    "    if name in noten:\n",
    "        print(name,noten[name])"
   ]
  },
  {
   "cell_type": "markdown",
   "metadata": {},
   "source": [
    "#### Liste von keys, values, items erzeugen\n",
    "\n",
    "Wir können uns zu einem gegebenen dict Listen mit den keys, values und items erzeugen. Ein item ist ein zu einem Tupel zusammengefasstes key-value Paar."
   ]
  },
  {
   "cell_type": "code",
   "execution_count": null,
   "metadata": {},
   "outputs": [],
   "source": [
    "m = {'Thorben':2, 'Soeren':3, 'Maike':2}\n",
    "list(m.keys())"
   ]
  },
  {
   "cell_type": "code",
   "execution_count": null,
   "metadata": {},
   "outputs": [],
   "source": [
    "list(m.values())"
   ]
  },
  {
   "cell_type": "code",
   "execution_count": null,
   "metadata": {},
   "outputs": [],
   "source": [
    "list(m.items())"
   ]
  },
  {
   "cell_type": "markdown",
   "metadata": {},
   "source": [
    "#### Mit einer Schleife ein dict durchlaufen\n",
    "\n",
    "Wenn wir mit einer for-Schleife ein dict durchlaufen, dann laufen wir standardmäßig durch die keys."
   ]
  },
  {
   "cell_type": "code",
   "execution_count": null,
   "metadata": {},
   "outputs": [],
   "source": [
    "m = {'Thorben':2, 'Soeren':3, 'Maike':2}\n",
    "for x in m:                      # alle keys durchlaufen     \n",
    "    print(x) "
   ]
  },
  {
   "cell_type": "code",
   "execution_count": null,
   "metadata": {},
   "outputs": [],
   "source": [
    "for x in m.keys():               # wie oben: alle keys durchlaufen\n",
    "    print(x) "
   ]
  },
  {
   "cell_type": "code",
   "execution_count": null,
   "metadata": {},
   "outputs": [],
   "source": [
    "for x in m.values():             # alle values durchlaufen\n",
    "    print(x)"
   ]
  },
  {
   "cell_type": "code",
   "execution_count": null,
   "metadata": {},
   "outputs": [],
   "source": [
    "for k,v in m.items():            # alle key-value Tupel durchlaufen mit unpacking\n",
    "    print(k, v)"
   ]
  },
  {
   "cell_type": "markdown",
   "metadata": {},
   "source": [
    "#### Ein dictionary abarbeiten\n",
    "\n",
    "Eine Schleife, die solange ein key-value Paar aus einem dict holt, bis das dict leer ist."
   ]
  },
  {
   "cell_type": "code",
   "execution_count": 3,
   "metadata": {},
   "outputs": [
    {
     "name": "stdout",
     "output_type": "stream",
     "text": [
      "Maike 2\n",
      "Soeren 3\n",
      "Thorben 2\n",
      "{}\n"
     ]
    }
   ],
   "source": [
    "m = {'Thorben':2, 'Soeren':3, 'Maike':2}\n",
    "while m:\n",
    "    k, v = m.popitem()\n",
    "    print(k, v)\n",
    "print(m)"
   ]
  },
  {
   "cell_type": "markdown",
   "metadata": {},
   "source": [
    "#### Zusammenfassung\n",
    "\n",
    "* Ein dictionary ist eine Sammlung von key-value Paaren. <br>\n",
    "* Ein dictionary liefert uns schnell zu einem key den zugeordneten value. <br>\n",
    "* keys müssen eindeutig sein, wir verwenden zunächst nur die immutable Typen: int, string, tuple (eigentliche Bedingung: die Typen müssen hashable sein). Insbesondere können Listen nicht als keys verwendet werden.<br>\n",
    "* values: kann jeder Datentyp sein, auch doppelte Werte ok. <br>\n",
    "* Ein dict durchlaufen bedeutet, seine keys zu durchlaufen. Seit Python 3.7 ist die Reihenfolge beim Durchlauf der keys die Einfügereihenfolge.\n",
    "\n"
   ]
  }
 ],
 "metadata": {
  "kernelspec": {
   "display_name": "Python 3 (ipykernel)",
   "language": "python",
   "name": "python3"
  },
  "language_info": {
   "codemirror_mode": {
    "name": "ipython",
    "version": 3
   },
   "file_extension": ".py",
   "mimetype": "text/x-python",
   "name": "python",
   "nbconvert_exporter": "python",
   "pygments_lexer": "ipython3",
   "version": "3.11.2"
  }
 },
 "nbformat": 4,
 "nbformat_minor": 4
}
