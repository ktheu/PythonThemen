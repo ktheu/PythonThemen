{
 "cells": [
  {
   "cell_type": "markdown",
   "id": "05f8a461-cb62-40c7-b827-9759a0bdb7e7",
   "metadata": {
    "editable": true,
    "slideshow": {
     "slide_type": ""
    },
    "tags": []
   },
   "source": [
    "### Python\n",
    "\n",
    "[Video](https://youtu.be/1sw662K60JM)"
   ]
  },
  {
   "cell_type": "markdown",
   "id": "9ec44373",
   "metadata": {
    "editable": true,
    "slideshow": {
     "slide_type": ""
    },
    "tags": []
   },
   "source": [
    "#### Was ist Python?"
   ]
  },
  {
   "cell_type": "markdown",
   "id": "6f5b80fd-7b06-4775-a44f-12caaf8922cd",
   "metadata": {
    "editable": true,
    "slideshow": {
     "slide_type": ""
    },
    "tags": []
   },
   "source": [
    "Python ist eine **Sprache**, es ist kein **(Anwendungs)-Programm**. "
   ]
  },
  {
   "cell_type": "markdown",
   "id": "7c2153c5",
   "metadata": {
    "editable": true,
    "slideshow": {
     "slide_type": ""
    },
    "tags": []
   },
   "source": [
    " Für diese Sprache ist eine Grammatik definiert und eine Menge von Funktionalität, aber damit ist noch nichts implementiert."
   ]
  },
  {
   "cell_type": "markdown",
   "id": "5c81a9e4-9589-424f-ba8e-24ca5c6d5ff1",
   "metadata": {
    "editable": true,
    "slideshow": {
     "slide_type": ""
    },
    "tags": []
   },
   "source": [
    "Es gibt verschiedene Implementationen der Sprache Python,\n",
    "\n",
    "- CPython (die Standard-Implementation)\n",
    "- PyPy\n",
    "- Jython (eine Implementation der Sprache Python mittels Java)"
   ]
  },
  {
   "cell_type": "markdown",
   "id": "c66b6a0b-e737-4005-900f-f3a04dec5dcb",
   "metadata": {
    "editable": true,
    "slideshow": {
     "slide_type": ""
    },
    "tags": []
   },
   "source": [
    "#### CPython"
   ]
  },
  {
   "cell_type": "markdown",
   "id": "a5c54447-b597-4f00-adc7-6c9d2ea0b688",
   "metadata": {
    "editable": true,
    "slideshow": {
     "slide_type": ""
    },
    "tags": []
   },
   "source": [
    "CPython ist das \"offizielle Python\", es ist das, was man auf https://www.python.org/ downloaden kann. Es ist in C geschrieben und es ist open-source. https://github.com/python/cpython\n",
    "\n"
   ]
  },
  {
   "cell_type": "markdown",
   "id": "af792fcc-df43-4c3b-aa56-f4f814f2b395",
   "metadata": {
    "editable": true,
    "slideshow": {
     "slide_type": ""
    },
    "tags": []
   },
   "source": [
    "CPython beinhaltet auch eine [standard library](https://docs.python.org/3/library/index.html) mit Funktionalitäten, die über die Sprache Python hinausgehen. Die sind entweder in C oder in Python geschrieben."
   ]
  },
  {
   "cell_type": "markdown",
   "id": "bd0afd3d-a748-443b-b529-40b6a96d8a4a",
   "metadata": {
    "editable": true,
    "slideshow": {
     "slide_type": ""
    },
    "tags": []
   },
   "source": [
    "Im Folgenden machen wir (in der Regel) keinen Unterschied mehr zwischen der Sprache Python und der Implementation CPython. Wir nennen beides *Python*."
   ]
  },
  {
   "cell_type": "markdown",
   "id": "41333f28",
   "metadata": {
    "editable": true,
    "slideshow": {
     "slide_type": ""
    },
    "tags": []
   },
   "source": [
    "#### Dokumentationen\n",
    "\n",
    "Die offiziellen [Python Docs](https://docs.python.org/3/) sind sehr umfangreich und können für Anfänger verwirrend sein. Eine guter Ort zum Lernen und Nachschlagen ist das Python-Tutorial von [W3Schools](https://www.w3schools.com/python/default.asp)"
   ]
  },
  {
   "cell_type": "markdown",
   "id": "5766e74b-3a3d-4f3c-836c-d472a622e305",
   "metadata": {
    "editable": true,
    "slideshow": {
     "slide_type": ""
    },
    "tags": []
   },
   "source": [
    "#### Interaktiver und Skript Modus\n",
    "\n",
    "Wir können Python im interaktiven oder im Skript-Modus ausführen."
   ]
  },
  {
   "cell_type": "markdown",
   "id": "b7b77ca9-9b04-4c3b-a988-5c39809453b0",
   "metadata": {
    "editable": true,
    "slideshow": {
     "slide_type": ""
    },
    "tags": []
   },
   "source": [
    "##### Interaktiver Modus\n",
    "- Wir starten Python direkt, indem wir das Programm python.exe aufrufen.\n",
    "- Wir bekommen die Eingabeaufforderung >>>.\n",
    "- Befehle werden sofort ausgeführt, und wir sehen direkt das Ergebnis.\n",
    "- Gut zum Ausprobieren oder Rechnen wie mit einem Taschenrechner.\n",
    " \n",
    "```\n",
    ">>> 2 + 3\n",
    "5\n",
    ">>> print(\"Hallo Welt\")\n",
    "Hallo Welt\n",
    "```\n",
    "\n",
    "Um den interaktiven Modus zu nutzen, verwenden wir Jupyter Notebooks (Jupyter Lab)."
   ]
  },
  {
   "cell_type": "markdown",
   "id": "bab5e0c1-c732-46b9-9fc4-fe154c9466c3",
   "metadata": {
    "editable": true,
    "slideshow": {
     "slide_type": ""
    },
    "tags": []
   },
   "source": [
    "##### Skript Modus\n",
    "\n",
    "- Wir schreiben den Python-Code in eine Datei mit der Endung .py.\n",
    "- Das Programm wird dann als Ganzes ausgeführt, z. B. mit python mein_programm.py\n",
    "- Wir bekommen die Ergebnisse erst beim Ausführen, nicht Zeile für Zeile.\n",
    "- Gut, wenn man längere Programme speichern und mehrfach verwenden möchte.\n",
    "\n",
    "Beispiel:\n",
    "\n",
    "```\n",
    "print(\"Hallo Welt\")\n",
    "for i in range(3):\n",
    "    print(\"Python macht Spaß!\")\n",
    "```\n",
    "\n",
    "Beim Ausführen erhalten wir:\n",
    "\n",
    "```\n",
    "Hallo Welt\n",
    "Python macht Spaß!\n",
    "Python macht Spaß!\n",
    "Python macht Spaß!\n",
    "```\n",
    "\n",
    "Um den Skript-Modus zu nutzen, verwenden wir Visual Studio Code oder Thonny."
   ]
  },
  {
   "cell_type": "code",
   "execution_count": null,
   "id": "34d19396-2379-4f71-a839-bccbb01220e4",
   "metadata": {},
   "outputs": [],
   "source": []
  }
 ],
 "metadata": {
  "celltoolbar": "Slideshow",
  "kernelspec": {
   "display_name": "Python 3 (ipykernel)",
   "language": "python",
   "name": "python3"
  },
  "language_info": {
   "codemirror_mode": {
    "name": "ipython",
    "version": 3
   },
   "file_extension": ".py",
   "mimetype": "text/x-python",
   "name": "python",
   "nbconvert_exporter": "python",
   "pygments_lexer": "ipython3",
   "version": "3.12.8"
  }
 },
 "nbformat": 4,
 "nbformat_minor": 5
}
