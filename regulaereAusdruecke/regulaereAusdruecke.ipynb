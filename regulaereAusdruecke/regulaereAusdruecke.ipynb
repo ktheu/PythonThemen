{
 "cells": [
  {
   "cell_type": "markdown",
   "metadata": {},
   "source": [
    "# Reguläre Ausdrücke\n",
    "\n",
    "[Videos](https://www.youtube.com/playlist?list=PLWeMgMhRDsIFk8RPO6C3DzcQfBf8mTGn7)"
   ]
  },
  {
   "cell_type": "markdown",
   "metadata": {},
   "source": [
    "Reguläre Ausdrücke sind sehr mächtig, aber eher schwierig zu lesen. Sie sind eine Art \"kompaktes Programmieren mit Zeichen\". Sie bieten die Möglichkeit, in einem String auf clevere Art zu suchen und Teilstrings zu extrahieren oder zu ersetzen."
   ]
  },
  {
   "cell_type": "code",
   "execution_count": null,
   "metadata": {},
   "outputs": [],
   "source": [
    "a     passt auf a\n",
    ".     passt auf jedes Zeichen"
   ]
  },
  {
   "cell_type": "markdown",
   "metadata": {},
   "source": [
    "Ein Match liegt auch vor, wenn ein Teilstring zu dem regulären Ausdruck passt."
   ]
  },
  {
   "cell_type": "code",
   "execution_count": 2,
   "metadata": {},
   "outputs": [
    {
     "name": "stdout",
     "output_type": "stream",
     "text": [
      "<_sre.SRE_Match object; span=(0, 2), match='ba'>\n"
     ]
    },
    {
     "data": {
      "text/plain": [
       "True"
      ]
     },
     "execution_count": 2,
     "metadata": {},
     "output_type": "execute_result"
    }
   ],
   "source": [
    "import re\n",
    "a = re.search('.a','ba')\n",
    "print(a)\n",
    "bool(a)      "
   ]
  },
  {
   "cell_type": "code",
   "execution_count": null,
   "metadata": {},
   "outputs": [],
   "source": [
    "bool(re.search('.a','bb'))"
   ]
  },
  {
   "cell_type": "code",
   "execution_count": null,
   "metadata": {},
   "outputs": [],
   "source": [
    "bool(re.search('.a','cca'))"
   ]
  },
  {
   "cell_type": "markdown",
   "metadata": {},
   "source": [
    "### Zeichenklassen"
   ]
  },
  {
   "cell_type": "code",
   "execution_count": null,
   "metadata": {},
   "outputs": [],
   "source": [
    "[0-5]         Ziffern von 0 bis 5\n",
    "[a-zA-Z0-9]   englische Buchstaben und Ziffern"
   ]
  },
  {
   "cell_type": "markdown",
   "metadata": {},
   "source": [
    "### Vordefinierte Zeichenklassen"
   ]
  },
  {
   "cell_type": "code",
   "execution_count": null,
   "metadata": {},
   "outputs": [],
   "source": [
    "\\d   Ziffer, entspricht [0-9]\n",
    "\\w   Buchstaben der meisten Sprachen, der Unterstrich und Ziffern\n",
    "\\s   whitespace (blank, tabs etc.)\n",
    "\\D, \\W, \\S  Negation der entsprechenden Klassen"
   ]
  },
  {
   "cell_type": "code",
   "execution_count": null,
   "metadata": {},
   "outputs": [],
   "source": [
    "a = ['4ab9', '0ab1', '6ab9', '0bb5']\n",
    "regex = '[0-5]ab\\d'\n",
    "for text in a:\n",
    "    print(bool(re.search(regex,text)))"
   ]
  },
  {
   "cell_type": "markdown",
   "metadata": {},
   "source": [
    "### Quantoren\n",
    "Quantoren beziehen sich auf das/die vorangegangene Zeichen/Zeichenklasse."
   ]
  },
  {
   "cell_type": "code",
   "execution_count": null,
   "metadata": {},
   "outputs": [],
   "source": [
    "?     null-  oder einmal\n",
    "*     beliebig oft (auch null)\n",
    "+     mindestens einmal\n",
    "{k}   genau k-mal\n",
    "{,k}  höchstens k-mal\n",
    "{k,}  mindestens k-mal\n",
    "{k,l} zwischen k- und l-mal"
   ]
  },
  {
   "cell_type": "code",
   "execution_count": 12,
   "metadata": {},
   "outputs": [
    {
     "name": "stdout",
     "output_type": "stream",
     "text": [
      "True\n",
      "False\n",
      "False\n",
      "True\n"
     ]
    }
   ],
   "source": [
    "a = ['8acDa 9','8abcd_9','7xxx 9','0_a6b 9']\n",
    "regex = '\\d\\w{4}\\s9'\n",
    "for text in a:\n",
    "    print(bool(re.search(regex,text)))"
   ]
  },
  {
   "cell_type": "markdown",
   "metadata": {},
   "source": [
    "### Sonstige Zeichen"
   ]
  },
  {
   "cell_type": "code",
   "execution_count": null,
   "metadata": {},
   "outputs": [],
   "source": [
    "|           Alternative\n",
    "^ oder \\A   Anfang eines Strings\n",
    "$ oder \\Z   Ende eines Strings\n",
    "\\b, \\B      Anfang, Ende eines Worts\n",
    "(....)      Gruppe"
   ]
  },
  {
   "cell_type": "code",
   "execution_count": 18,
   "metadata": {},
   "outputs": [
    {
     "name": "stdout",
     "output_type": "stream",
     "text": [
      "False\n",
      "True\n",
      "True\n",
      "True\n",
      "True\n"
     ]
    }
   ],
   "source": [
    "a = ['04','10' ,'99', '110' ,'112']\n",
    "regex = '[1-9][0-9]'\n",
    "for text in a:\n",
    "    print(bool(re.search(regex,text)))"
   ]
  },
  {
   "cell_type": "code",
   "execution_count": 19,
   "metadata": {},
   "outputs": [
    {
     "name": "stdout",
     "output_type": "stream",
     "text": [
      "False\n",
      "True\n",
      "True\n",
      "False\n",
      "False\n"
     ]
    }
   ],
   "source": [
    "a = ['04' ,'10', '99', '110' ,'112']\n",
    "regex = '^[1-9][0-9]$'                 \n",
    "for text in a:\n",
    "    print(bool(re.search(regex,text)))"
   ]
  },
  {
   "cell_type": "code",
   "execution_count": 21,
   "metadata": {},
   "outputs": [
    {
     "name": "stdout",
     "output_type": "stream",
     "text": [
      "False\n",
      "True\n",
      "True\n",
      "False\n"
     ]
    }
   ],
   "source": [
    "a = ['99','100' ,'299', '310']\n",
    "regex = '^1[0-9][0-9]|2[0-9][0-9]$'    \n",
    "for text in a:\n",
    "    print(bool(re.search(regex,text)))"
   ]
  },
  {
   "cell_type": "code",
   "execution_count": 22,
   "metadata": {},
   "outputs": [
    {
     "name": "stdout",
     "output_type": "stream",
     "text": [
      "True\n",
      "True\n",
      "True\n",
      "False\n"
     ]
    }
   ],
   "source": [
    "a = ['-3.14', '2','+000.62','4.-62']\n",
    "regex = '^[-+]?[0-9]*\\.?[0-9]+$'     \n",
    "for text in a:\n",
    "    print(bool(re.search(regex,text)))"
   ]
  },
  {
   "cell_type": "markdown",
   "metadata": {},
   "source": [
    "## Verwendung"
   ]
  },
  {
   "cell_type": "markdown",
   "metadata": {},
   "source": [
    "Um zu verhindern, dass das \\ als normales Escape-Zeichen gelesen wird, setzen wir vor den regex-String ein r. Damit wird z.B. \\b nicht als backspace, sondern als Wortgrenze interpretiert. Nach wie vor können wir die speziellen Zeichen der regulären Ausdrücke mit \\ escapen."
   ]
  },
  {
   "cell_type": "code",
   "execution_count": 23,
   "metadata": {},
   "outputs": [
    {
     "name": "stdout",
     "output_type": "stream",
     "text": [
      "False\n",
      "True\n",
      "False\n",
      "True\n"
     ]
    }
   ],
   "source": [
    "a = ['ccb.a', 'ccb.ad', 'bab', 'b.a?c']\n",
    "regex = r'b\\.a.'\n",
    "for text in a:\n",
    "    print(bool(re.search(regex,text)))"
   ]
  },
  {
   "cell_type": "markdown",
   "metadata": {},
   "source": [
    "### re.findall()\n",
    "Alle Treffer in eine Liste sammeln"
   ]
  },
  {
   "cell_type": "code",
   "execution_count": 25,
   "metadata": {},
   "outputs": [
    {
     "name": "stdout",
     "output_type": "stream",
     "text": [
      "['12', '43', '99']\n"
     ]
    }
   ],
   "source": [
    "s = 'abe 12 aa 43 4ab 113 01 99 5j'\n",
    "regex = r'\\b[1-9][0-9]\\b'\n",
    "a = re.findall(regex,s)\n",
    "print(a)"
   ]
  },
  {
   "cell_type": "markdown",
   "metadata": {},
   "source": [
    "Daten extrahieren, hier sollen jeweils die Vornamen gesammelt werden."
   ]
  },
  {
   "cell_type": "code",
   "execution_count": 27,
   "metadata": {},
   "outputs": [
    {
     "name": "stdout",
     "output_type": "stream",
     "text": [
      "Anna-Lena\n",
      "Malte\n"
     ]
    }
   ],
   "source": [
    "a = ['Nachname = Schulte, Vorname = Anna-Lena, Alter = 21',\n",
    "     'Vorname= Malte, Nachname= Riedberg,  Alter = 22']\n",
    "regex = 'Vorname\\s*=\\s*([A-Za-z-]+)'\n",
    "for s in a:\n",
    "    print(re.findall(regex,s)[0])"
   ]
  },
  {
   "cell_type": "markdown",
   "metadata": {},
   "source": [
    "### re.sub()\n",
    "Jeder Treffer im letzten String, wird durch den mittleren ersetzt."
   ]
  },
  {
   "cell_type": "code",
   "execution_count": 28,
   "metadata": {},
   "outputs": [
    {
     "name": "stdout",
     "output_type": "stream",
     "text": [
      "Python oder Python und Python\n"
     ]
    }
   ],
   "source": [
    "regex = r'[Jj]a[Vv]a'\n",
    "print(re.sub(regex,'Python', 'Java oder java und jaVa'))"
   ]
  },
  {
   "cell_type": "markdown",
   "metadata": {},
   "source": [
    "### re.split()\n",
    "Strings aufspalten. Alles was matched, ist Separator."
   ]
  },
  {
   "cell_type": "code",
   "execution_count": 29,
   "metadata": {},
   "outputs": [
    {
     "name": "stdout",
     "output_type": "stream",
     "text": [
      "['a-a', 'bbb', '', 'c', '', 'dd']\n",
      "['a-a', 'bbb', 'c', 'dd']\n"
     ]
    }
   ],
   "source": [
    " \n",
    "regex = r'[,; ]'      \n",
    "print(re.split(regex,'a-a;bbb,,c; dd'))\n",
    "regex = r'[,; ]+'     # + ist greedy\n",
    "print(re.split(regex,'a-a;bbb,,c; dd'))"
   ]
  },
  {
   "cell_type": "markdown",
   "metadata": {},
   "source": [
    "### Gruppe ( ... )\n",
    "Die Gruppenklammern kennzeichnen, was extrahiert wird. Mit (?:....) gruppiert man, ohne dass die Gruppe extrahiert wird."
   ]
  },
  {
   "cell_type": "code",
   "execution_count": 32,
   "metadata": {},
   "outputs": [
    {
     "name": "stdout",
     "output_type": "stream",
     "text": [
      "[('ab', '665'), ('ab', '91'), ('ab', '42')]\n"
     ]
    }
   ],
   "source": [
    "text = 'abab665  ab91 ababab42  abc809'\n",
    "regex = r'\\b(ab)+(\\d+)'\n",
    "print(re.findall(regex,text))\n"
   ]
  },
  {
   "cell_type": "code",
   "execution_count": 34,
   "metadata": {},
   "outputs": [
    {
     "name": "stdout",
     "output_type": "stream",
     "text": [
      "['665', '91', '42']\n"
     ]
    }
   ],
   "source": [
    "text = 'abab665  ab91 ababab42  abc809'\n",
    "regex = r'\\b(?:ab)+(\\d+)'\n",
    "print(re.findall(regex,text))"
   ]
  },
  {
   "cell_type": "markdown",
   "metadata": {},
   "source": [
    "### Greedy\n",
    "Die Quantoren ? * + sind standardmäßig greedy, d.h. sie suchen beim matching den größtmöglichen String. Mit einem angefügten ? werden die Quantoren genügsam und suchen nach dem kleinstmöglich passenden Teilstring."
   ]
  },
  {
   "cell_type": "code",
   "execution_count": 36,
   "metadata": {},
   "outputs": [
    {
     "name": "stdout",
     "output_type": "stream",
     "text": [
      "['Python Python Python']\n",
      "['Python', 'Python', 'Python']\n"
     ]
    }
   ],
   "source": [
    "print(re.findall('Py.*on','Python Python Python'))\n",
    "print(re.findall('Py.*?on','Python Python Python'))"
   ]
  },
  {
   "cell_type": "markdown",
   "metadata": {},
   "source": [
    "### Anwendungsbeispiel\n",
    "Bei der Umstellung von Processing-Programmen nach P5JS muss z.B. folgende Transformation vorgenommen werden:\n",
    "<br/>\n",
    "`... fill(#AB02F9); ...  ->  ... fill('#AB02F9'); ...`"
   ]
  },
  {
   "cell_type": "code",
   "execution_count": 4,
   "metadata": {},
   "outputs": [
    {
     "name": "stdout",
     "output_type": "stream",
     "text": [
      "fill('#AB02F9');  // Farbe setzen \n"
     ]
    }
   ],
   "source": [
    "zeile = 'fill(#AB02F9);  // Farbe setzen '\n",
    "zeile = re.sub(r\"fill\\((#[A-Fa-f0-9]{6})\\);\", r\"fill('\\1');\", zeile)\n",
    "print(zeile)"
   ]
  }
 ],
 "metadata": {
  "kernelspec": {
   "display_name": "Python 3 (ipykernel)",
   "language": "python",
   "name": "python3"
  },
  "language_info": {
   "codemirror_mode": {
    "name": "ipython",
    "version": 3
   },
   "file_extension": ".py",
   "mimetype": "text/x-python",
   "name": "python",
   "nbconvert_exporter": "python",
   "pygments_lexer": "ipython3",
   "version": "3.12.8"
  }
 },
 "nbformat": 4,
 "nbformat_minor": 4
}
