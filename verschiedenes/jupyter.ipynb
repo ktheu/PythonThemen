{
 "cells": [
  {
   "cell_type": "markdown",
   "id": "77d7568e-0f5b-49ff-bd79-5a3eb42897de",
   "metadata": {},
   "source": [
    "### Jupyter Notebooks\n",
    "\n",
    "[Video](https://youtu.be/lBOp6efj0Nc)\n",
    "\n",
    "Mit Jupyter Notebooks können wir Code, Text und Bilder in einem Dokument zusammenfassen. Jupyter Notebooks sind in Zellen organisiert. Es gibt drei Type von Zellen:\n",
    "\n",
    "    - Code (Standard) - für Python Code\n",
    "    - Markdown - für formatierten Text und Bilder\n",
    "    - Raw - Eingaben ohne Formatierung"
   ]
  },
  {
   "cell_type": "markdown",
   "id": "f6747b89-5bd6-4d79-9eee-659212a65168",
   "metadata": {},
   "source": [
    "In der Auswahl *Edit* gibt es Möglichkeiten, Zellen an andere Stellen zu bewegen, Zellen zusammenzufügen oder aufzuspalten. Ist oben beim Namen des Tabs eine schwarzer Punkt zu sehen, dann enthält die Zelle ungespeicherte Änderungen. Die Zellen werden automatisch alle 1-2 Minuten gesaved, dann wird aus dem schwarzen Punkt ein x. Auch mit der Auswahl *File - Save Notebook* können wir das Notebook sichern."
   ]
  },
  {
   "cell_type": "raw",
   "id": "8bec76b1-9e19-450e-9012-6caae9ef7c58",
   "metadata": {},
   "source": [
    "Italien - Rom\n",
    "England - London\n",
    "Frankreich - Paris"
   ]
  },
  {
   "cell_type": "code",
   "execution_count": 3,
   "id": "293698e6-7fff-4389-a00f-d2ca1b400050",
   "metadata": {},
   "outputs": [
    {
     "name": "stdout",
     "output_type": "stream",
     "text": [
      "7\n"
     ]
    }
   ],
   "source": [
    "# Eine Code-Zelle\n",
    "x = 2\n",
    "x = x + 5\n",
    "print(x)"
   ]
  },
  {
   "cell_type": "markdown",
   "id": "d3776087-f3d5-4b95-9b85-31846ccb7fc8",
   "metadata": {},
   "source": [
    "#### Code-Zellen\n",
    "\n",
    "Wenn wir eine Zelle neu erzeugen mit '+' in der Menüleiste des Tabs oder den +-Icons in einer vorhanden Zelle, wird standardmäßig eine Code-Zelle erzeugt.\n",
    "\n",
    "    - Strg + Enter - führt Code in der Zelle aus und bleibt in der Zelle\n",
    "    - Umschalt + Enter - führt Code in der Zelle aus und springt zur nächsten Zelle"
   ]
  },
  {
   "cell_type": "markdown",
   "id": "54eca1a6-94fe-4327-8b8b-e827ef4d01bb",
   "metadata": {},
   "source": [
    "Die Variablen behalten ihren Wert auch in anderen Zellen. Es kommt auf die Reihenfolge an, in der die Zellen ausgeführt werden. Die Zahl vor der Zelle gibt an, in welcher Reihenfolge die Zellen ausgeführt wurden.\n",
    "\n",
    "Mit der Auswahl *Kernel - Restart Kernel* können wir alle Zuweisungen zurücksetzen. <br>\n",
    "Mit der Auswahl *View - Show Line Number* können wir die Zeilennummern in den Zellen einblenden <br>\n",
    "Wenn die Zelle selektiert ist (d.h. blau umrandet), erhalten wir mit der rechten Maustaste eine Auswahl. Beispielsweise können wir die Ausgabe einer Zelle löschen <br>\n",
    "Wenn wir links neben der Zelle zweimal die Taste D drücken, wird die Zelle gelöscht.\n"
   ]
  },
  {
   "cell_type": "code",
   "execution_count": 6,
   "id": "4f6288a4-203f-4f6d-abdc-6e7c037a122e",
   "metadata": {},
   "outputs": [],
   "source": [
    "x = 2\n",
    "y = 5"
   ]
  },
  {
   "cell_type": "markdown",
   "id": "f9ae99fd-6dd0-4adb-bb6b-04742896e319",
   "metadata": {},
   "source": [
    "Die Auswertung des letzten Ausdrucks einer Zelle wird bei Ausführung der Zelle immer angezeigt."
   ]
  },
  {
   "cell_type": "code",
   "execution_count": 9,
   "id": "72022b82-a427-499a-a1a0-9b07d8bf8dc9",
   "metadata": {},
   "outputs": [
    {
     "name": "stdout",
     "output_type": "stream",
     "text": [
      "5\n"
     ]
    },
    {
     "data": {
      "text/plain": [
       "2"
      ]
     },
     "execution_count": 9,
     "metadata": {},
     "output_type": "execute_result"
    }
   ],
   "source": [
    "x"
   ]
  },
  {
   "cell_type": "code",
   "execution_count": 10,
   "id": "737214a4-ab82-4e16-93a1-c2dc76553ada",
   "metadata": {},
   "outputs": [
    {
     "data": {
      "text/plain": [
       "(2, 5)"
      ]
     },
     "execution_count": 10,
     "metadata": {},
     "output_type": "execute_result"
    }
   ],
   "source": [
    "x, y"
   ]
  },
  {
   "cell_type": "markdown",
   "id": "3319e4ed-e1ab-474d-84cf-d082797811ba",
   "metadata": {},
   "source": [
    "#### Markdown Zellen\n",
    "\n",
    "Eine Code Zelle können wir in eine Markdown-Zelle verwandeln, indem wir mit dem Cursor links neben die Zelle klicken und die Taste M drücken. Oder wir wählen oben in der Menüleiste des Tabs in der Auswahl des Zellentyps 'Markdown'.\n",
    "\n",
    "Unter *Help - Markdown Reference* sind die Markdown-Zeichen zur Formatierung von Text aufgelistet. .\n",
    "\n",
    "Wenn wir in eine Zelle Markdown schreiben, dann wird bei Ausführen der Zelle die Formatierung durchgeführt"
   ]
  },
  {
   "cell_type": "markdown",
   "id": "3f3be603-9c9a-4b84-aede-6ff70b9b6832",
   "metadata": {},
   "source": [
    "# Überschrift 1\n",
    "## Überschrift 2\n",
    "### Überschrift 3\n",
    "#### Überschrift 4\n",
    "##### Überschrift 5\n",
    "\n",
    "Text mit *kursiven* und **fetten** Teilen.\n",
    "\n",
    "1. Punkt1\n",
    "2. Punkt2\n",
    "3. Punkt3\n",
    "\n",
    "- Auswahl1\n",
    "- Auswahl2\n",
    "- Auswahl3\n",
    "\n",
    "Das ist Satz 1 mit einem Zeilenumbruch.\n",
    "Das ist Satz 2.\n",
    "\n",
    "Das ist ein Link zum [Python Tutorial von W3Schools](https://www.w3schools.com/python/)\n",
    "\n",
    "Wir können auch Bilder einfügen:\n",
    "\n",
    "<img src='bild1.png' width='400'>\n"
   ]
  },
  {
   "cell_type": "markdown",
   "id": "f4ecc4cf-4280-4225-8ad9-1029efd4b8e8",
   "metadata": {},
   "source": [
    "Code-Abschnitte werden in 3 Backticks eingeschlossen, oder mit Tab eingerückt.\n",
    "\n",
    "```\n",
    "# Eine Code-Zelle\n",
    "x = 2\n",
    "x = x + 5\n",
    "print(x)\n",
    "```\n",
    "\n",
    "\n",
    "    # Eine Code-Zelle\n",
    "    x = 2\n",
    "    x = x + 5\n",
    "    print(x)"
   ]
  },
  {
   "cell_type": "code",
   "execution_count": null,
   "id": "0a050209-5c6a-43a4-86c0-f0bbed3d657c",
   "metadata": {},
   "outputs": [],
   "source": []
  }
 ],
 "metadata": {
  "kernelspec": {
   "display_name": "Python 3 (ipykernel)",
   "language": "python",
   "name": "python3"
  },
  "language_info": {
   "codemirror_mode": {
    "name": "ipython",
    "version": 3
   },
   "file_extension": ".py",
   "mimetype": "text/x-python",
   "name": "python",
   "nbconvert_exporter": "python",
   "pygments_lexer": "ipython3",
   "version": "3.12.8"
  }
 },
 "nbformat": 4,
 "nbformat_minor": 5
}
