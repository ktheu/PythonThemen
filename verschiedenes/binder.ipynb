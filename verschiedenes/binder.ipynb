{
 "cells": [
  {
   "cell_type": "markdown",
   "id": "57f2f30c-2f71-41e2-96f0-375183d6ea8e",
   "metadata": {},
   "source": [
    "### Jupyter Notebook mit Binder ausführen.\n",
    "\n",
    "[Video](https://youtu.be/J1HYtE8FUT0)\n",
    "\n",
    "Ein Jupyter Notebook, das auf Github gehostet ist, können wir mit Binder ausführen. Wir können die Zellen ändern und mit der Vorlage experimentieren.\n",
    "\n",
    "https://mybinder.org/"
   ]
  },
  {
   "cell_type": "markdown",
   "id": "94d2efdd-295e-491c-a5a8-45ce7da2ac59",
   "metadata": {},
   "source": [
    "#### Beispiel:\n",
    "Ein Notebook hat in Github die URL: \n",
    "\n",
    "    https://github.com/ktheu/InfoKurs/blob/gh-pages/Sort_in_Python/sort_in_python.ipynb\n",
    "\n",
    "Dann füllen wir auf der Binder-Seite zwei Felder aus und clicken auf launch:\n",
    "\n",
    "    Github repository name: https://github.com/ktheu/InfoKurs\n",
    "    File to open: Sort_in_Python/sort_in_python.ipynb\n",
    "\n",
    "Es kann eine Weile dauern, bis das Notebook erscheint (mit Click auf show können wir die Schritte des launch verfolgen)."
   ]
  },
  {
   "cell_type": "markdown",
   "id": "d3a21588-7f88-414e-849e-c342fa6cd8ef",
   "metadata": {},
   "source": [
    "\n",
    "<img src='binder1.png' width='700'>"
   ]
  },
  {
   "cell_type": "markdown",
   "id": "84a9e272-282a-4e55-bd8b-cd37e9dadfea",
   "metadata": {},
   "source": [
    "Zusätzliche Bibliotheken können wir installieren, indem wir eine Zelle erzeugen und z.B eingeben.\n",
    "\n",
    "    !pip install matplotlib\n"
   ]
  }
 ],
 "metadata": {
  "kernelspec": {
   "display_name": "Python 3 (ipykernel)",
   "language": "python",
   "name": "python3"
  },
  "language_info": {
   "codemirror_mode": {
    "name": "ipython",
    "version": 3
   },
   "file_extension": ".py",
   "mimetype": "text/x-python",
   "name": "python",
   "nbconvert_exporter": "python",
   "pygments_lexer": "ipython3",
   "version": "3.12.8"
  }
 },
 "nbformat": 4,
 "nbformat_minor": 5
}
