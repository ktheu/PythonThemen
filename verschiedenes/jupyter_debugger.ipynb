{
 "cells": [
  {
   "cell_type": "markdown",
   "id": "ddd76aec-a225-47bb-a5ff-bd651d52d7e3",
   "metadata": {},
   "source": [
    "### Debugging mit Jupyter Lab"
   ]
  },
  {
   "cell_type": "code",
   "execution_count": 52,
   "id": "40ffd0f1-0ccf-4e30-b8e1-5ba26e9fc4f9",
   "metadata": {},
   "outputs": [
    {
     "name": "stdout",
     "output_type": "stream",
     "text": [
      "2.5\n"
     ]
    }
   ],
   "source": [
    "x = 3\n",
    "y = 2\n",
    "x = x + y\n",
    "z = (4*x + 5*y)/(20-2*x+y)\n",
    "print(z)"
   ]
  },
  {
   "cell_type": "code",
   "execution_count": 53,
   "id": "915fb7ec-631a-47bc-b644-43a8730b02ce",
   "metadata": {},
   "outputs": [
    {
     "name": "stdout",
     "output_type": "stream",
     "text": [
      "4\n"
     ]
    }
   ],
   "source": [
    "a = 124\n",
    "b = 36\n",
    "while a != b:\n",
    "    if a > b:\n",
    "        a = a - b\n",
    "    else:\n",
    "        b = b - a\n",
    "print(a)"
   ]
  },
  {
   "cell_type": "code",
   "execution_count": 54,
   "id": "8172282c-6faa-47b5-a496-1be8c14d1606",
   "metadata": {},
   "outputs": [
    {
     "name": "stdout",
     "output_type": "stream",
     "text": [
      "18\n"
     ]
    }
   ],
   "source": [
    "a = 124002\n",
    "b = 36\n",
    "while a != b:\n",
    "    if a < 100:\n",
    "        pass\n",
    "    if a > b:\n",
    "        a = a - b\n",
    "    else:\n",
    "        b = b - a\n",
    "print(a)"
   ]
  },
  {
   "cell_type": "code",
   "execution_count": 81,
   "id": "eeab2d89-0e50-4938-96b9-28ebff9c2e4a",
   "metadata": {},
   "outputs": [],
   "source": [
    "%reset -f"
   ]
  },
  {
   "cell_type": "code",
   "execution_count": 99,
   "id": "61e39a9d-6209-4b7b-abcb-231288412525",
   "metadata": {},
   "outputs": [],
   "source": [
    "def calc(x, y):\n",
    "    x = x - y\n",
    "    y = 2\n",
    "    return x + y"
   ]
  },
  {
   "cell_type": "code",
   "execution_count": null,
   "id": "846e258f-a0a6-40d0-94ff-62de118746b0",
   "metadata": {},
   "outputs": [],
   "source": [
    "x = 10\n",
    "y = 5\n",
    "calc(x,y)"
   ]
  },
  {
   "cell_type": "code",
   "execution_count": 94,
   "id": "c37ff47f-e2b0-4800-a279-124969e4cbe0",
   "metadata": {},
   "outputs": [],
   "source": [
    "def fakultaet(n):\n",
    "    if n <= 1: return 1\n",
    "    return n * fakultaet(n-1)"
   ]
  },
  {
   "cell_type": "code",
   "execution_count": 96,
   "id": "47e937d4-551c-4522-bb20-6a4a9726d289",
   "metadata": {},
   "outputs": [
    {
     "data": {
      "text/plain": [
       "120"
      ]
     },
     "execution_count": 96,
     "metadata": {},
     "output_type": "execute_result"
    }
   ],
   "source": [
    "fakultaet(5)"
   ]
  },
  {
   "cell_type": "code",
   "execution_count": null,
   "id": "74103ad9-627c-4ceb-8888-5231ce3f64eb",
   "metadata": {},
   "outputs": [],
   "source": []
  }
 ],
 "metadata": {
  "kernelspec": {
   "display_name": "Python 3 (ipykernel)",
   "language": "python",
   "name": "python3"
  },
  "language_info": {
   "codemirror_mode": {
    "name": "ipython",
    "version": 3
   },
   "file_extension": ".py",
   "mimetype": "text/x-python",
   "name": "python",
   "nbconvert_exporter": "python",
   "pygments_lexer": "ipython3",
   "version": "3.12.8"
  }
 },
 "nbformat": 4,
 "nbformat_minor": 5
}
