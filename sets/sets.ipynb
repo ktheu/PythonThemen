{
 "cells": [
  {
   "cell_type": "markdown",
   "id": "324d89b2-f708-41ef-b1ee-6522463606d0",
   "metadata": {},
   "source": [
    "## Sets\n",
    "\n",
    "\n",
    "[video](https://youtu.be/dkZy10FSQoI) - [w3Schools](https://www.w3schools.com/python/python_sets_methods.asp) \n",
    "\n",
    "In einem set (Menge) kann ein Element nur einmal vorkommen. Nur *hashable* Objekte können wir in einem set verwalten, also z.B. ints, floats, strings, tuples aber keine Listen. \n"
   ]
  },
  {
   "cell_type": "markdown",
   "id": "3d9bdf8f-62e2-4bb3-b3e0-eed8d2a99724",
   "metadata": {},
   "source": [
    "#### Sets erzeugen\n",
    "\n",
    "Sets werden (wie dictionaries) mit geschweiften Klammern erzeugt. Da innen kein Doppelpunkt vorkommt, weiß Python, dass es sich nicht\n",
    "um ein dictionary handelt."
   ]
  },
  {
   "cell_type": "code",
   "execution_count": null,
   "id": "4a8dbbed-62a6-4df4-bab8-335407263519",
   "metadata": {},
   "outputs": [],
   "source": [
    "s = {1, 4, 7, 9}        # ein set        \n",
    "type(s)"
   ]
  },
  {
   "cell_type": "code",
   "execution_count": null,
   "id": "67202115-342d-4fd4-8bf2-2e2997461227",
   "metadata": {},
   "outputs": [],
   "source": [
    "s"
   ]
  },
  {
   "cell_type": "code",
   "execution_count": null,
   "id": "8187e7a5-e256-4fa1-a462-9449cbe874a7",
   "metadata": {},
   "outputs": [],
   "source": [
    "len(s)                  # die Anzahl der Elemente"
   ]
  },
  {
   "cell_type": "code",
   "execution_count": null,
   "id": "a0d09772-6ff0-404e-81cb-1e7ef3446692",
   "metadata": {},
   "outputs": [],
   "source": [
    "s = {1, 4, 4, 4}        # Elemente kommen nur einmal vor\n",
    "s"
   ]
  },
  {
   "cell_type": "code",
   "execution_count": null,
   "id": "b9f4f341-1843-47f7-8529-cb8d5c05058a",
   "metadata": {},
   "outputs": [],
   "source": [
    "s = set()               # ein leeres set\n",
    "m = {}                  # KEIN Set, sondern ein dict"
   ]
  },
  {
   "cell_type": "code",
   "execution_count": 37,
   "id": "0cf77f31-18e8-49d5-9b7a-90c2b7b0f2bf",
   "metadata": {},
   "outputs": [
    {
     "data": {
      "text/plain": [
       "{' ', 'a', 'b', 'c', 'd'}"
      ]
     },
     "execution_count": 37,
     "metadata": {},
     "output_type": "execute_result"
    }
   ],
   "source": [
    "s = set('ababa cdcddcc')       # set mit Zeichen aus einem String\n",
    "s"
   ]
  },
  {
   "cell_type": "code",
   "execution_count": 38,
   "id": "33393f57-8435-4ced-841d-37ffb370009a",
   "metadata": {},
   "outputs": [
    {
     "data": {
      "text/plain": [
       "{1, 2, 3, 5, 6}"
      ]
     },
     "execution_count": 38,
     "metadata": {},
     "output_type": "execute_result"
    }
   ],
   "source": [
    "a = [1,2,2,3,1,1,5,6]\n",
    "set(a)"
   ]
  },
  {
   "cell_type": "code",
   "execution_count": 39,
   "id": "72d17240-f28b-49ca-8996-f43d6cdfa17d",
   "metadata": {},
   "outputs": [
    {
     "data": {
      "text/plain": [
       "[1, 4, 7]"
      ]
     },
     "execution_count": 39,
     "metadata": {},
     "output_type": "execute_result"
    }
   ],
   "source": [
    "s = {4,7,1}\n",
    "a = list(s)\n",
    "a "
   ]
  },
  {
   "cell_type": "markdown",
   "id": "20eafb30-cd60-4164-b2f1-ac56d5e79efb",
   "metadata": {},
   "source": [
    "#### Lookup\n",
    "\n",
    "Ein Set ist sehr schnell im *lookup*, also bei der Frage, ob ein gegebenes Element in ihm vorhanden ist oder nicht."
   ]
  },
  {
   "cell_type": "code",
   "execution_count": null,
   "id": "d0d235ca-edf0-4bc1-b10d-2d55b37a7007",
   "metadata": {},
   "outputs": [],
   "source": [
    "s = {1, 4, 7, 9}         \n",
    "4 in s                         "
   ]
  },
  {
   "cell_type": "code",
   "execution_count": null,
   "id": "3c17a7a5-9832-48e9-bc87-6f7ec03e0d61",
   "metadata": {},
   "outputs": [],
   "source": [
    "10 not in s                    "
   ]
  },
  {
   "cell_type": "markdown",
   "id": "6970de9c-056e-4f74-b99c-cc11fed7fe7c",
   "metadata": {},
   "source": [
    "#### Add  "
   ]
  },
  {
   "cell_type": "code",
   "execution_count": null,
   "id": "9131def7-7c92-4550-8739-bbea0aa2916a",
   "metadata": {},
   "outputs": [],
   "source": [
    "s = {1, 4, 7, 9}  \n",
    "s.add(10)\n",
    "s"
   ]
  },
  {
   "cell_type": "markdown",
   "id": "8944a6e9-1ed6-4789-ba44-232a33812cbc",
   "metadata": {},
   "source": [
    "#### Remove"
   ]
  },
  {
   "cell_type": "code",
   "execution_count": null,
   "id": "187997dd-9634-4afd-a57f-4f8e5143552c",
   "metadata": {},
   "outputs": [],
   "source": [
    "s = {1, 4, 7, 9}  \n",
    "s.remove(4)                      \n",
    "s"
   ]
  },
  {
   "cell_type": "code",
   "execution_count": null,
   "id": "d86fe71a-8fa3-4160-8210-79a55ffff902",
   "metadata": {},
   "outputs": [],
   "source": [
    "s = {1, 4, 7, 9}  \n",
    "s.remove(10)                     # KeyError, falls Element nicht im set vorhanden\n",
    "s"
   ]
  },
  {
   "cell_type": "code",
   "execution_count": null,
   "id": "78a70148-120d-4d40-9140-1c4cd93d4fdd",
   "metadata": {},
   "outputs": [],
   "source": [
    "s = {1, 4, 7, 9}  \n",
    "s.discard(10)                     # kein Fehler, falls Element nicht im set\n",
    "s"
   ]
  },
  {
   "cell_type": "markdown",
   "id": "3333a02f-b0a4-4a71-93f0-b22c4ea70a6d",
   "metadata": {},
   "source": [
    "#### Set durchlaufen\n",
    "\n",
    "Wenn wir mit einer Schleife ein set durchlaufen, ist eine bestimmte Reihenfolge nicht garantiert."
   ]
  },
  {
   "cell_type": "code",
   "execution_count": null,
   "id": "43b1e489-2dd8-4b71-8d98-704f0995b650",
   "metadata": {},
   "outputs": [],
   "source": [
    "s = {'a', 10, 's', 9}  \n",
    "for x in s:\n",
    "    print(x)"
   ]
  },
  {
   "cell_type": "markdown",
   "id": "fc5521a6-6507-4aed-873f-513aa2b4dae3",
   "metadata": {},
   "source": [
    "#### Set abarbeiten\n",
    "\n",
    "Eine Schleife, die solange ein zufälliges Element aus einem set holt, bis das set leer ist."
   ]
  },
  {
   "cell_type": "code",
   "execution_count": null,
   "id": "04a072c0-c01c-4d51-9613-0336e4a69906",
   "metadata": {},
   "outputs": [],
   "source": [
    "s = {1, 4, 7, 9} \n",
    "while s:\n",
    "    x = s.pop()\n",
    "    print(x)\n",
    "print(s)"
   ]
  },
  {
   "cell_type": "markdown",
   "id": "889626ef-7bae-4769-9f49-a8b47443bf55",
   "metadata": {},
   "source": [
    "#### Mengenoperationen\n",
    "\n",
    "Mit sets können wir die üblichen Mengenoperationen durchführen."
   ]
  },
  {
   "cell_type": "code",
   "execution_count": null,
   "id": "d5012d0c-3b6c-43ef-955f-9840dae89ef4",
   "metadata": {},
   "outputs": [],
   "source": [
    "s = {1,2,3}\n",
    "t = {2,3,4}\n",
    "s | t                  # Vereinigung"
   ]
  },
  {
   "cell_type": "code",
   "execution_count": null,
   "id": "39c14ce4-2f99-403a-bf66-35aab8e0f2ee",
   "metadata": {},
   "outputs": [],
   "source": [
    "s & t                  # Schnitt"
   ]
  },
  {
   "cell_type": "code",
   "execution_count": null,
   "id": "c0da808f-4767-4760-bf1a-8ee8921bcfdd",
   "metadata": {},
   "outputs": [],
   "source": [
    "s - t                  # Differenz"
   ]
  },
  {
   "cell_type": "code",
   "execution_count": null,
   "id": "ec37e442-918f-4023-9932-36d1ee78a945",
   "metadata": {},
   "outputs": [],
   "source": [
    "s ^ t                  # Entweder-Oder"
   ]
  },
  {
   "cell_type": "code",
   "execution_count": null,
   "id": "66e87af1-f1b9-4588-b9a5-ccef306e88f4",
   "metadata": {},
   "outputs": [],
   "source": [
    "u = {2,4,8}\n",
    "v = {4,8}\n",
    "v < u                  # echte Teilmenge"
   ]
  },
  {
   "cell_type": "code",
   "execution_count": null,
   "id": "33557cc4-9134-4f95-82c1-578ce0c2385e",
   "metadata": {},
   "outputs": [],
   "source": [
    "u = {4,8}\n",
    "v = {4,8}\n",
    "print(v < u)          # echte Teilmenge\n",
    "print(v <= u)         # Teilmenge"
   ]
  },
  {
   "cell_type": "code",
   "execution_count": null,
   "id": "0fab621d-567d-443d-85e6-3e9a4ea8517b",
   "metadata": {},
   "outputs": [],
   "source": []
  }
 ],
 "metadata": {
  "kernelspec": {
   "display_name": "Python 3 (ipykernel)",
   "language": "python",
   "name": "python3"
  },
  "language_info": {
   "codemirror_mode": {
    "name": "ipython",
    "version": 3
   },
   "file_extension": ".py",
   "mimetype": "text/x-python",
   "name": "python",
   "nbconvert_exporter": "python",
   "pygments_lexer": "ipython3",
   "version": "3.11.2"
  }
 },
 "nbformat": 4,
 "nbformat_minor": 5
}
