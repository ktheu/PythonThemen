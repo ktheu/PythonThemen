{
 "cells": [
  {
   "cell_type": "markdown",
   "id": "fc60faac-b820-445a-9335-395a4ea80114",
   "metadata": {},
   "source": [
    "## Maze\n",
    "\n",
    "Als *state* betrachten wir eine Position, d.h. ein Tuple (x,y)."
   ]
  },
  {
   "cell_type": "code",
   "execution_count": 2,
   "id": "ed39936f-ec83-416d-93c0-33afe822bdb1",
   "metadata": {},
   "outputs": [
    {
     "name": "stdout",
     "output_type": "stream",
     "text": [
      "Overwriting maze1.txt\n"
     ]
    }
   ],
   "source": [
    "%%writefile maze1.txt\n",
    "##########\n",
    "#   #    #\n",
    "#   ##   #\n",
    "# #Z#  ###\n",
    "# ## #   #\n",
    "#   S #  #\n",
    "#     #  #\n",
    "#        #\n",
    "##########"
   ]
  },
  {
   "cell_type": "code",
   "execution_count": 3,
   "id": "7eeb12b5-e780-4749-be71-f7b38f62cf4b",
   "metadata": {},
   "outputs": [
    {
     "name": "stdout",
     "output_type": "stream",
     "text": [
      "Höhe = 9, Breite = 10\n",
      "start=(5, 4), ziel=(3, 3)\n"
     ]
    }
   ],
   "source": [
    "f = open('maze1.txt')       \n",
    "grid = f.read().splitlines()\n",
    "f.close()\n",
    "height = len(grid)\n",
    "width = len(grid[0])\n",
    "for x in range(height):\n",
    "    for y in range(width):\n",
    "        if grid[x][y] == 'S':\n",
    "            start = (x,y)\n",
    "        elif grid[x][y] == 'Z':\n",
    "            ziel = (x,y)\n",
    "\n",
    "print(f'Höhe = {height}, Breite = {width}')\n",
    "print(f'{start=}, {ziel=}')\n",
    "\n",
    "dirs = [(0,-1),(0,1),(-1,0),(1,0)]    \n"
   ]
  },
  {
   "cell_type": "markdown",
   "id": "81a7c60f-fefc-42e5-87ad-072356860bd4",
   "metadata": {},
   "source": [
    "### BFS - Breitensuche\n",
    "\n",
    "Für den konkreten Anwendungsfall müssen die Funktionen *nextstates* und *goaltest* implementiert werden."
   ]
  },
  {
   "cell_type": "code",
   "execution_count": 4,
   "id": "4c9f5ab2-2cab-466e-8684-d21e828cdbd3",
   "metadata": {},
   "outputs": [
    {
     "name": "stdout",
     "output_type": "stream",
     "text": [
      "[(5, 4), (5, 3), (5, 2), (5, 1), (4, 1), (3, 1), (2, 1), (2, 2), (2, 3), (3, 3)]\n"
     ]
    }
   ],
   "source": [
    "from collections import deque\n",
    "def bfs(startstate):\n",
    "    ''' \n",
    "    returns: Tuple (prev, state) \n",
    "        prev: dictionary mit den Vorgängern der untersuchten Spielstellungen,            \n",
    "        state: Spielstellung, die den goaltest besteht\n",
    "        wenn Ziel nicht gefunden: None, None\n",
    "    '''   \n",
    "    frontier =  deque([startstate])\n",
    "    prev = {startstate:None}\n",
    "    while frontier:\n",
    "        state = frontier.popleft()  \n",
    "        if goaltest(state):\n",
    "            return prev, state\n",
    "        for v in nextstates(state):\n",
    "            if v not in prev:\n",
    "                frontier.append(v)\n",
    "                prev[v] = state\n",
    "    return None, None\n",
    "\n",
    "def reconstructPath(prev,goalstate):\n",
    "    state = goalstate\n",
    "    path = []\n",
    "    while state is not None:\n",
    "        path.append(state)\n",
    "        state = prev[state]\n",
    "    path.reverse()\n",
    "    return path\n",
    "\n",
    "def nextstates(state):\n",
    "    '''\n",
    "    returns:  Liste mit möglichen Folgestellungen zu state\n",
    "    '''\n",
    "    x, y = state\n",
    "    tmp = []\n",
    "    for xd, yd in dirs:\n",
    "        x1 = x + xd\n",
    "        y1 = y + yd\n",
    "        if 0 <= x1 < height and 0 <= y1 < width and grid[x1][y1] != '#':\n",
    "            tmp.append((x1,y1))\n",
    "    return tmp    \n",
    "    \n",
    "def goaltest(state):\n",
    "    '''\n",
    "    returns: True, wenn state eine Lösung ist\n",
    "    '''\n",
    "    return state == ziel\n",
    "\n",
    "\n",
    "# Aufruf:\n",
    "prev, goal = bfs(start)\n",
    "path = reconstructPath(prev,goal) \n",
    "print(path)"
   ]
  },
  {
   "cell_type": "code",
   "execution_count": 5,
   "id": "0b7b6464-40f2-4ce6-8a93-785e7d0dad40",
   "metadata": {},
   "outputs": [
    {
     "name": "stdout",
     "output_type": "stream",
     "text": [
      "LLLUUURRD\n"
     ]
    }
   ],
   "source": [
    "print(getMoves(path))"
   ]
  },
  {
   "cell_type": "markdown",
   "id": "f14f13dc-540f-497e-8869-fecebafa4fcf",
   "metadata": {},
   "source": [
    "### AStar"
   ]
  },
  {
   "cell_type": "code",
   "execution_count": 37,
   "id": "a987d6c4-10b9-40dd-b4c8-3b03e205fb4e",
   "metadata": {},
   "outputs": [
    {
     "name": "stdout",
     "output_type": "stream",
     "text": [
      "LLLUUURRD\n"
     ]
    }
   ],
   "source": [
    "from heapq import heappop, heappush\n",
    "def astar(s):\n",
    "    frontier =[(h(s),s)]  \n",
    "    prev = {s:None}\n",
    "    g = {s:0}                         # die Rückwärtskosten\n",
    "    while frontier:\n",
    "        _ ,state = heappop(frontier)  # die Kosten braucht man an der Stelle nicht\n",
    "        if goaltest(state):\n",
    "            return prev, state\n",
    "        for v in nextstates(state):\n",
    "            gg = g[state] + 1       \n",
    "            if v not in prev or gg < g[v]:     \n",
    "                g[v] = gg                     \n",
    "                heappush(frontier,(g[v]+h(v),v))  \n",
    "                prev[v] = state\n",
    "    return None, None\n",
    "\n",
    "def reconstructPath(prev,goalstate):\n",
    "    state = goalstate\n",
    "    path = []\n",
    "    while state is not None:\n",
    "        path.append(state)\n",
    "        state = prev[state]\n",
    "    path.reverse()\n",
    "    return path\n",
    "\n",
    "\n",
    "def nextstates(state):\n",
    "    '''\n",
    "    returns:  Liste mit möglichen Folgestellungen zu state\n",
    "    '''\n",
    "    x, y = state\n",
    "    tmp = []\n",
    "    for xd, yd in dirs:\n",
    "        x1 = x + xd\n",
    "        y1 = y + yd\n",
    "        if 0 <= x1 < height and 0 <= y1 < width and grid[x1][y1] != '#':\n",
    "            tmp.append((x1,y1))\n",
    "    return tmp   \n",
    "\n",
    "def goaltest(state):\n",
    "    '''\n",
    "    returns: True, wenn state eine Lösung ist\n",
    "    '''\n",
    "    return state == ziel\n",
    "\n",
    "def h(state):\n",
    "    '''\n",
    "    returns: Vorwärtskosten laut Heuristik\n",
    "    '''\n",
    "    x, y = state\n",
    "    x1, y1 = ziel\n",
    "    return abs(x1-x)+abs(y1-y)\n",
    "\n",
    "#Aufruf:\n",
    "prev, goal = astar(start)\n",
    "path = reconstructPath(prev,goal) \n",
    "print(getMoves(path))"
   ]
  },
  {
   "cell_type": "markdown",
   "id": "cc07f8d1-fa5d-469d-95b2-fab9be07d2ba",
   "metadata": {},
   "source": [
    "### Beamsearch\n",
    "\n",
    "Beamsearch bietet sich an, wenn wir für AStar keine zulässige Heuristik finden, die in vernünftiger Zeit eine Lösung findet. Dann machen wir eine Breitensuche aber in jeder Ebene beschränken wir uns auf eine vorgegebene Anzahl von Möglichkeiten (beamwidth), die wir weiter betrachten. Bei der Bewertung der Möglichkeiten nutzen wir auch unzulässige Heuristiken. Eine optimale Lösung ist nicht garantiert, aber häufig werden recht gute Lösungen gefunden."
   ]
  },
  {
   "cell_type": "code",
   "execution_count": 36,
   "id": "7bbb625b-1565-4d4f-b880-50d0f772e896",
   "metadata": {},
   "outputs": [
    {
     "name": "stdout",
     "output_type": "stream",
     "text": [
      "LLLUUURRD\n"
     ]
    }
   ],
   "source": [
    "def beamsearch(s, beamwidth): \n",
    "    frontier =[s]\n",
    "    prev = {s:None}\n",
    "    nextfrontier = []\n",
    "    while frontier:\n",
    "        for state in frontier:\n",
    "            if goaltest(state):\n",
    "                return prev, state\n",
    "            for v in nextstates(state):\n",
    "                if v not in prev:\n",
    "                    prev[v] = state\n",
    "                    nextfrontier.append(v)\n",
    "        \n",
    "        frontier = sorted(nextfrontier,key=lambda x: h(x)) \n",
    "        frontier = frontier[:beamwidth]\n",
    "        nextfrontier = []\n",
    "    return None, None\n",
    "\n",
    "def reconstructPath(prev,goalstate):\n",
    "    state = goalstate\n",
    "    path = []\n",
    "    while state is not None:\n",
    "        path.append(state)\n",
    "        state = prev[state]\n",
    "    path.reverse()\n",
    "    return path\n",
    "\n",
    "\n",
    "def nextstates(state):\n",
    "    '''\n",
    "    returns:  Liste mit möglichen Folgestellungen zu state\n",
    "    '''\n",
    "    x, y = state\n",
    "    tmp = []\n",
    "    for xd, yd in dirs:\n",
    "        x1 = x + xd\n",
    "        y1 = y + yd\n",
    "        if 0 <= x1 < height and 0 <= y1 < width and grid[x1][y1] != '#':\n",
    "            tmp.append((x1,y1))\n",
    "    return tmp   \n",
    "\n",
    "def goaltest(state):\n",
    "    '''\n",
    "    returns: True, wenn state eine Lösung ist\n",
    "    '''\n",
    "    return state == ziel\n",
    "\n",
    "def h(state):\n",
    "    '''\n",
    "    returns: Vorwärtskosten laut Heuristik\n",
    "    '''\n",
    "    x, y = state\n",
    "    x1, y1 = ziel\n",
    "    return abs(x1-x)+abs(y1-y)\n",
    "    \n",
    "#Aufruf:\n",
    "BEAMWIDTH = 10\n",
    "prev, goal = beamsearch(start,BEAMWIDTH)\n",
    "path = reconstructPath(prev,goal) \n",
    "print(getMoves(path))"
   ]
  },
  {
   "cell_type": "markdown",
   "id": "705ca2dd-a883-4633-9f62-800a0bb1bf02",
   "metadata": {},
   "source": [
    "### Pfad und Aktionen\n",
    "\n",
    "Häufig will man nicht nur den Pfad ausgeben, sondern die Beschreibung der Aktionen, mit der dieser Pfad durchlaufen wird. Dazu muss die Funktion *getMove* implementiert werden."
   ]
  },
  {
   "cell_type": "code",
   "execution_count": 1,
   "id": "d960a7f4-f006-445f-99c6-66eeaf09861b",
   "metadata": {},
   "outputs": [],
   "source": [
    "def getMove(s1, s2):\n",
    "    '''\n",
    "    returns: die Beschreibung des Übergangs von state s1 zu state s2\n",
    "    '''\n",
    "    x1,y1 = s1\n",
    "    x2,y2 = s2\n",
    "    if x1 < x2: return 'D'   # down\n",
    "    if x1 > x2: return 'U'   # up\n",
    "    if y1 < y2: return 'R'   # right\n",
    "    if y1 > y2: return 'L'   # left\n",
    "\n",
    "def getMoves(path):\n",
    "    '''\n",
    "    returns: Beschreibung des Pfads als eine Folge von Aktionen (Moves)\n",
    "    '''\n",
    "    moves = ''\n",
    "    for i in range(len(path)-1):\n",
    "        moves+=getMove(path[i],path[i+1])\n",
    "    return moves\n",
    "\n",
    "#Aufruf\n",
    "#print(getMoves(path))"
   ]
  },
  {
   "cell_type": "code",
   "execution_count": null,
   "id": "9a3d838d-22ab-424f-b0b2-2790584d6a90",
   "metadata": {},
   "outputs": [],
   "source": []
  }
 ],
 "metadata": {
  "kernelspec": {
   "display_name": "Python 3 (ipykernel)",
   "language": "python",
   "name": "python3"
  },
  "language_info": {
   "codemirror_mode": {
    "name": "ipython",
    "version": 3
   },
   "file_extension": ".py",
   "mimetype": "text/x-python",
   "name": "python",
   "nbconvert_exporter": "python",
   "pygments_lexer": "ipython3",
   "version": "3.12.8"
  }
 },
 "nbformat": 4,
 "nbformat_minor": 5
}
