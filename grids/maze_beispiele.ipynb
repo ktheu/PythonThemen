{
 "cells": [
  {
   "cell_type": "markdown",
   "id": "019de41a-a8e3-451c-b07f-6ebd980c0ec8",
   "metadata": {},
   "source": [
    "## Maze Beispiele\n"
   ]
  },
  {
   "cell_type": "code",
   "execution_count": 3,
   "id": "ef962ecb-dc47-4f63-bf17-e60c4b9c831a",
   "metadata": {},
   "outputs": [
    {
     "name": "stdout",
     "output_type": "stream",
     "text": [
      "Overwriting maze1.txt\n"
     ]
    }
   ],
   "source": [
    "%%writefile maze1.txt\n",
    "XXXXXXXXXX\n",
    "X   X    X\n",
    "X   XX   X\n",
    "X XEX  XXX\n",
    "X XX X   X\n",
    "X   S X  X\n",
    "X     X  X\n",
    "X        X\n",
    "XXXXXXXXXX"
   ]
  },
  {
   "cell_type": "code",
   "execution_count": 4,
   "id": "4d366761-49c9-4870-8a41-8523badd9cf8",
   "metadata": {},
   "outputs": [
    {
     "name": "stdout",
     "output_type": "stream",
     "text": [
      "Writing maze2.txt\n"
     ]
    }
   ],
   "source": [
    "%%writefile maze2.txt\n",
    "XXXXXXXXXXXXXXXXXXXXXXXXXXXXXXXXXXXXXXXXXXXXXXXXXXXXXXXXXXXXXXXXXXX\n",
    "X                                                                 X\n",
    "X                                                                 X\n",
    "X                                                                 X\n",
    "X                                       X                         X\n",
    "X                                       X                         X\n",
    "X                                       X                         X\n",
    "X                                       X                         X\n",
    "X                                       XXXXXXXXXXXXX             X\n",
    "X                                       X                         X\n",
    "X                                       X                         X\n",
    "X                                       X                         X\n",
    "X                                       X                         X\n",
    "X                                       X                         X\n",
    "X                                       X                         X  \n",
    "X                                       X                         X\n",
    "X        XXXXXXXXXXXXXXXXXXXXXXXXXXXXXXXX   E                     X\n",
    "X                                       X                         X\n",
    "X                                       X                         X\n",
    "X                                       X                         X\n",
    "X                            S          X                         X\n",
    "X                                       X                         X\n",
    "X        XXXXXXXXXXXXXXXXXXXXXXXXXXXXXXXX                         X                         \n",
    "X                                                                 X\n",
    "X                                                                 X\n",
    "XXXXXXXXXXXXXXXXXXXXXXXXXXXXXXXXXXXXXXXXXXXXXXXXXXXXXXXXXXXXXXXXXXX"
   ]
  },
  {
   "cell_type": "code",
   "execution_count": null,
   "id": "1706c9e6-2721-4e46-a308-8565ec3691a9",
   "metadata": {},
   "outputs": [],
   "source": []
  }
 ],
 "metadata": {
  "kernelspec": {
   "display_name": "Python 3 (ipykernel)",
   "language": "python",
   "name": "python3"
  },
  "language_info": {
   "codemirror_mode": {
    "name": "ipython",
    "version": 3
   },
   "file_extension": ".py",
   "mimetype": "text/x-python",
   "name": "python",
   "nbconvert_exporter": "python",
   "pygments_lexer": "ipython3",
   "version": "3.11.2"
  }
 },
 "nbformat": 4,
 "nbformat_minor": 5
}
