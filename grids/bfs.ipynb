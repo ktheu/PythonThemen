{
 "cells": [
  {
   "cell_type": "markdown",
   "id": "fc60faac-b820-445a-9335-395a4ea80114",
   "metadata": {},
   "source": [
    "## Search"
   ]
  },
  {
   "cell_type": "markdown",
   "id": "81a7c60f-fefc-42e5-87ad-072356860bd4",
   "metadata": {
    "editable": true,
    "slideshow": {
     "slide_type": ""
    },
    "tags": []
   },
   "source": [
    "Beispiel 1:\n",
    "\n",
    "    ##########\n",
    "    #   #    #\n",
    "    #   ##   #\n",
    "    # #Z#  ###\n",
    "    # ## #   #\n",
    "    #   S #  #\n",
    "    #     #  #\n",
    "    #        #\n",
    "    ##########\n",
    "\n",
    "\n",
    "Wir sind in einem Labyrinth an Position S. Wir haben können eine Schritt horizontal oder vertikal machen, sofern wir nicht an eine Wand ('#') stoßen. Unser Ziel ist es, auf kürzestem Weg zur Zielposition Z zu gelangen. \n"
   ]
  },
  {
   "cell_type": "markdown",
   "id": "c4317b4a-38f1-4fab-a8d5-c9435ada0604",
   "metadata": {},
   "source": [
    "Beispiel 2:\n",
    "\n",
    "Wir möchten durch Verschieben der Kacheln im 8Puzzle den Zielzustand erreichen.\n",
    "\n",
    "<img src='such_bild1.png' width='400'>"
   ]
  },
  {
   "cell_type": "markdown",
   "id": "50c26ae2-8dc8-48fe-b68e-84e8875ae785",
   "metadata": {},
   "source": [
    "### Search Space"
   ]
  },
  {
   "cell_type": "markdown",
   "id": "ca926a96-2b42-4add-ab90-7c801d45e04e",
   "metadata": {},
   "source": [
    "\n",
    "In beiden Fälle beginnen wir mit einem Anfangszustand (startstate). Von einem Zustand können wir durch erlaubte Aktionen in verschiedene Folgezustände gelangen. Wir stellen uns dies als einen Graphen vor, die Zustände sind die Knoten und die Kanten die erlaubten Übergänge zwischen zwei Zuständen. Wir nennen das zu durchsuchende Gebilde *Search Space*.\n",
    "\n",
    "<img src='search1.png' width='400'>"
   ]
  },
  {
   "cell_type": "markdown",
   "id": "442c423c-34a9-405c-bee7-1aa2ca1748cd",
   "metadata": {},
   "source": [
    "Aus der Ferne stellen wir uns den *Search Space* wie einen breiter werdenden Raum vor, in dem wir einen Pfad (=eine Folge von Aktionen) zum Ziel suchen.\n",
    "\n",
    "<img src='search2.png' width='500'>"
   ]
  },
  {
   "cell_type": "markdown",
   "id": "3b1facb9-44b2-44bf-9b94-df6aa8a31c2a",
   "metadata": {},
   "source": [
    "Wir können den Search Space in drei Teile unterteilen. Einen Teil mit den Zuständen, die wir schon daraufhin untersucht haben, ob sie Ziel sind (*explored*). Einen Teil mit Zuständen, die wir als Nachbarzustände schon gesehen haben, aber noch untersuchen müssen (*frontier*). Und einen unbekannten Raum von Zuständen, die wir noch nicht gesehen haben (*unknown*).\n",
    "\n",
    "<img src='search3.png' width='600'>"
   ]
  },
  {
   "cell_type": "markdown",
   "id": "3ac0efc9-920d-47ab-bb6f-b79473fa16f1",
   "metadata": {},
   "source": [
    "Die einzelnen Algorithmen unterscheiden sich dadurch, welche Zustände sie als nächstes zur Überprüfung aus der frontier entnehmen.\n",
    "\n",
    "In unseren Implementationen nutzen wir statt der *explored*-Menge  ein dictionary *prev*, in dem wir uns die Vorgänger von allen Zuständen merken, die uns begegnen. *prev* umfasst die beiden Bereiche *explored* und *frontier*. Wenn wir am Ziel angekommen sind, können wir mittels *prev* den Weg zurück zum Start rekonstruieren."
   ]
  },
  {
   "cell_type": "markdown",
   "id": "9fe46ea8-b488-4d74-b1d8-96d7eadaed12",
   "metadata": {},
   "source": [
    "### Breitensuche (bfs = breadth first search)\n",
    "\n",
    "Die *frontier* ist eine Schlange (queue). Wenn wir etwas zur Schlange hinzufügen (*append*), wird es hinten angehängt. Wenn wir etwas herausholen,\n",
    "wird es vorne weggenommen (*popleft*). \n",
    "\n",
    "<img src='bfs.png' width='700'>\n",
    "\n",
    "Bei der Breitensuche schieben wir die frontier horizontal ins unbekannt Gebiet weiter.\n",
    "<img src='bfs1.png'>"
   ]
  },
  {
   "cell_type": "code",
   "execution_count": 22,
   "id": "4c9f5ab2-2cab-466e-8684-d21e828cdbd3",
   "metadata": {
    "editable": true,
    "slideshow": {
     "slide_type": ""
    },
    "tags": []
   },
   "outputs": [],
   "source": [
    "from collections import deque\n",
    "def bfs(startstate):\n",
    "    ''' \n",
    "    returns: Tuple (prev, state) \n",
    "        prev: dictionary mit den Vorgängern der untersuchten Spielstellungen,            \n",
    "        state: Spielstellung, die den goaltest besteht\n",
    "        wenn Ziel nicht gefunden: None, None\n",
    "    '''   \n",
    "    frontier =  deque([startstate])\n",
    "    prev = {startstate:None}\n",
    "    while frontier:\n",
    "        state = frontier.popleft()  \n",
    "        if goaltest(state):\n",
    "            return prev, state\n",
    "        for v in nextstates(state):\n",
    "            if v not in prev:\n",
    "                frontier.append(v)\n",
    "                prev[v] = state\n",
    "    return None, None\n",
    "\n",
    "def reconstructPath(prev,goalstate):\n",
    "    state = goalstate\n",
    "    path = []\n",
    "    while state is not None:\n",
    "        path.append(state)\n",
    "        state = prev[state]\n",
    "    path.reverse()\n",
    "    return path\n",
    "\n",
    "def getMoves(path):\n",
    "    '''\n",
    "    returns: Beschreibung des Pfads als eine Folge von Aktionen (Moves)\n",
    "    '''\n",
    "    moves = ''\n",
    "    for i in range(len(path)-1):\n",
    "        moves+=getMove(path[i],path[i+1])\n",
    "    return moves\n",
    "\n",
    "def nextstates(state):\n",
    "    '''\n",
    "    returns:  Liste mit möglichen Folgestellungen zu state\n",
    "    '''\n",
    "    pass\n",
    "\n",
    "def goaltest(state):\n",
    "    '''\n",
    "    returns: True, wenn state eine Lösung ist\n",
    "    '''\n",
    "    pass\n",
    "\n",
    "def getMove(s1, s2):\n",
    "    '''\n",
    "    returns: die Beschreibung des Übergangs von state s1 zu state s2\n",
    "    '''\n",
    "    pass\n",
    "   \n",
    "#Aufruf:\n",
    "#prev, goal = bfs(startstate)\n",
    "#path = reconstructPath(prev,goal) \n",
    "#print(getMoves(path))"
   ]
  },
  {
   "cell_type": "markdown",
   "id": "fefd5b77-bed4-4202-896a-1f39ae196db9",
   "metadata": {},
   "source": [
    "#### Beispiel 1: Maze\n",
    "\n",
    "Wir modellieren einen Zustand als eine Koordinate (x,y) mit (0,0) an der linken oberen Ecke. Die erste Koordinate gibt den Index der Zeile, die zweite den Index der Spalte an."
   ]
  },
  {
   "cell_type": "code",
   "execution_count": 50,
   "id": "de9ccf9a-ef63-4817-8cb0-aef9fe578c4a",
   "metadata": {},
   "outputs": [
    {
     "name": "stdout",
     "output_type": "stream",
     "text": [
      "Overwriting maze1.txt\n"
     ]
    }
   ],
   "source": [
    "%%writefile maze1.txt\n",
    "##########\n",
    "#   #    #\n",
    "#   ##   #\n",
    "# #Z#  ###\n",
    "# ## #   #\n",
    "#   S #  #\n",
    "#     #  #\n",
    "#        #\n",
    "##########"
   ]
  },
  {
   "cell_type": "code",
   "execution_count": 55,
   "id": "85a938d2-3b15-444f-9e92-fe9841fadd72",
   "metadata": {},
   "outputs": [
    {
     "data": {
      "text/plain": [
       "['##########',\n",
       " '#   #    #',\n",
       " '#   ##   #',\n",
       " '# #Z#  ###',\n",
       " '# ## #   #',\n",
       " '#   S #  #',\n",
       " '#     #  #',\n",
       " '#        #',\n",
       " '##########']"
      ]
     },
     "execution_count": 55,
     "metadata": {},
     "output_type": "execute_result"
    }
   ],
   "source": [
    "f = open('maze1.txt')       \n",
    "grid = f.read().splitlines()  \n",
    "f.close()\n",
    "grid"
   ]
  },
  {
   "cell_type": "code",
   "execution_count": null,
   "id": "9fd682e2-7318-45c0-9b11-827968abb16f",
   "metadata": {},
   "outputs": [
    {
     "name": "stdout",
     "output_type": "stream",
     "text": [
      "Höhe = 9, Breite = 10\n",
      "start=(5, 4), ziel=(3, 3)\n"
     ]
    }
   ],
   "source": [
    "height = len(grid)\n",
    "width = len(grid[0])\n",
    "for x in range(height):\n",
    "    for y in range(width):\n",
    "        if grid[x][y] == 'S':\n",
    "            start = (x,y)\n",
    "        elif grid[x][y] == 'Z':\n",
    "            ziel = (x,y)\n",
    "\n",
    "print(f'Höhe = {height}, Breite = {width}')\n",
    "print(f'{start=}, {ziel=}')\n",
    "\n",
    "dirs = [(0,-1),(0,1),(-1,0),(1,0)]   "
   ]
  },
  {
   "cell_type": "code",
   "execution_count": 52,
   "id": "b04dc56a-cfff-4f9e-b5b8-b345c53ed9aa",
   "metadata": {},
   "outputs": [],
   "source": [
    "def nextstates(state):\n",
    "    x, y = state\n",
    "    tmp = []\n",
    "    for xd, yd in dirs:\n",
    "        x1 = x + xd\n",
    "        y1 = y + yd\n",
    "        if 0 <= x1 < height and 0 <= y1 < width and grid[x1][y1] != '#':\n",
    "            tmp.append((x1,y1))\n",
    "    return tmp    \n",
    "    \n",
    "def goaltest(state):\n",
    "    return state == ziel\n",
    "\n",
    "def getMove(s1, s2):\n",
    "    x1,y1 = s1\n",
    "    x2,y2 = s2\n",
    "    if x1 < x2: return 'D'   # down\n",
    "    if x1 > x2: return 'U'   # up\n",
    "    if y1 < y2: return 'R'   # right\n",
    "    if y1 > y2: return 'L'   # left"
   ]
  },
  {
   "cell_type": "code",
   "execution_count": 56,
   "id": "7822ec2f-f7fe-4e31-9fde-f91e7f92d50c",
   "metadata": {},
   "outputs": [
    {
     "name": "stdout",
     "output_type": "stream",
     "text": [
      "[(5, 4), (5, 3), (5, 2), (5, 1), (4, 1), (3, 1), (2, 1), (2, 2), (2, 3), (3, 3)]\n",
      "Anzahl Aktionen = 9\n",
      "LLLUUURRD\n"
     ]
    }
   ],
   "source": [
    "prev, goal = bfs(start)\n",
    "path = reconstructPath(prev,goal) \n",
    "print(path)\n",
    "print(f'Anzahl Aktionen = {len(path)-1}') \n",
    "print(getMoves(path))"
   ]
  },
  {
   "cell_type": "markdown",
   "id": "0f9facd5-34a1-4312-8261-6ebaafc2eac9",
   "metadata": {},
   "source": [
    "#### Beispiel 2: 8Puzzle\n",
    "\n",
    "<img src='such_bild1.png' width='400'>\n",
    "\n",
    "Wir modellieren eine Spielstellung mit einem Tupel. Wir beschreiben die Aktionen durch die Bewegung der Leerstelle."
   ]
  },
  {
   "cell_type": "code",
   "execution_count": 58,
   "id": "88d3a4d2-55dc-4a38-81d0-a810f7fe8a1d",
   "metadata": {},
   "outputs": [],
   "source": [
    "start = (7,2,4,5,0,6,8,3,1)\n",
    "ziel  = (0,1,2,3,4,5,6,7,8)"
   ]
  },
  {
   "cell_type": "code",
   "execution_count": 59,
   "id": "1851c8db-204b-42d6-a3a9-eb051b331d43",
   "metadata": {},
   "outputs": [],
   "source": [
    "def nextstates(state):\n",
    "    tmp = []\n",
    "    i = state.index(0)\n",
    "    for d in [-3,3,-1,1]:\n",
    "        j = i+d\n",
    "        if 0 <= j < 9 and (i%3==j%3 or i//3==j//3):  # bleibt auf gleicher Zeile oder Spalte\n",
    "            a = list(state)\n",
    "            a[i],a[j] = a[j],a[i]\n",
    "            tmp.append(tuple(a))\n",
    "    return tmp  \n",
    "    \n",
    "def goaltest(state):\n",
    "    '''\n",
    "    returns: True, wenn state eine Lösung ist\n",
    "    '''\n",
    "    return state == ziel\n",
    "\n",
    "def getMove(s1, s2):\n",
    "    i1 = s1.index(0)   # Position der 0 in state s1  \n",
    "    i2 = s2.index(0)   # Position der 0 in state s2    \n",
    "    if i2 == i1-1: return 'L'   #left\n",
    "    if i2 == i1+1: return 'R'   #right\n",
    "    if i2 == i1+3: return 'D'   #down\n",
    "    if i2 == i1-3: return 'U'   #up"
   ]
  },
  {
   "cell_type": "code",
   "execution_count": 60,
   "id": "5839af31-758c-4a4a-86fa-7d3a980608a2",
   "metadata": {},
   "outputs": [
    {
     "name": "stdout",
     "output_type": "stream",
     "text": [
      "[(7, 2, 4, 5, 0, 6, 8, 3, 1), (7, 2, 4, 0, 5, 6, 8, 3, 1), (0, 2, 4, 7, 5, 6, 8, 3, 1), (2, 0, 4, 7, 5, 6, 8, 3, 1), (2, 5, 4, 7, 0, 6, 8, 3, 1), (2, 5, 4, 7, 3, 6, 8, 0, 1), (2, 5, 4, 7, 3, 6, 0, 8, 1), (2, 5, 4, 0, 3, 6, 7, 8, 1), (2, 5, 4, 3, 0, 6, 7, 8, 1), (2, 5, 4, 3, 6, 0, 7, 8, 1), (2, 5, 0, 3, 6, 4, 7, 8, 1), (2, 0, 5, 3, 6, 4, 7, 8, 1), (0, 2, 5, 3, 6, 4, 7, 8, 1), (3, 2, 5, 0, 6, 4, 7, 8, 1), (3, 2, 5, 6, 0, 4, 7, 8, 1), (3, 2, 5, 6, 4, 0, 7, 8, 1), (3, 2, 5, 6, 4, 1, 7, 8, 0), (3, 2, 5, 6, 4, 1, 7, 0, 8), (3, 2, 5, 6, 0, 1, 7, 4, 8), (3, 2, 5, 6, 1, 0, 7, 4, 8), (3, 2, 0, 6, 1, 5, 7, 4, 8), (3, 0, 2, 6, 1, 5, 7, 4, 8), (3, 1, 2, 6, 0, 5, 7, 4, 8), (3, 1, 2, 6, 4, 5, 7, 0, 8), (3, 1, 2, 6, 4, 5, 0, 7, 8), (3, 1, 2, 0, 4, 5, 6, 7, 8), (0, 1, 2, 3, 4, 5, 6, 7, 8)]\n",
      "Anzahl Aktionen = 26\n",
      "LURDDLURRULLDRRDLURULDDLUU\n"
     ]
    }
   ],
   "source": [
    "prev, goal = bfs(start)\n",
    "path = reconstructPath(prev,goal) \n",
    "print(path)\n",
    "print(f'Anzahl Aktionen = {len(path)-1}') \n",
    "print(getMoves(path))"
   ]
  },
  {
   "cell_type": "code",
   "execution_count": null,
   "id": "1c3ccf73-1445-4e43-a867-4971d670f742",
   "metadata": {},
   "outputs": [],
   "source": []
  }
 ],
 "metadata": {
  "kernelspec": {
   "display_name": "Python 3 (ipykernel)",
   "language": "python",
   "name": "python3"
  },
  "language_info": {
   "codemirror_mode": {
    "name": "ipython",
    "version": 3
   },
   "file_extension": ".py",
   "mimetype": "text/x-python",
   "name": "python",
   "nbconvert_exporter": "python",
   "pygments_lexer": "ipython3",
   "version": "3.12.8"
  }
 },
 "nbformat": 4,
 "nbformat_minor": 5
}
