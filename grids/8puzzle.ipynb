{
 "cells": [
  {
   "cell_type": "markdown",
   "id": "fc60faac-b820-445a-9335-395a4ea80114",
   "metadata": {},
   "source": [
    "## 8Puzzle\n",
    "\n",
    "<img src='such_bild1.png'>\n",
    "\n",
    "Wir modellieren eine Spielstellung mit einem Tupel.\n"
   ]
  },
  {
   "cell_type": "code",
   "execution_count": 25,
   "id": "ed39936f-ec83-416d-93c0-33afe822bdb1",
   "metadata": {},
   "outputs": [],
   "source": [
    "start = (7,2,4,5,0,6,8,3,1)\n",
    "ziel  = (0,1,2,3,4,5,6,7,8)"
   ]
  },
  {
   "cell_type": "markdown",
   "id": "81a7c60f-fefc-42e5-87ad-072356860bd4",
   "metadata": {},
   "source": [
    "### BFS - Breitensuche"
   ]
  },
  {
   "cell_type": "code",
   "execution_count": 26,
   "id": "4c9f5ab2-2cab-466e-8684-d21e828cdbd3",
   "metadata": {},
   "outputs": [
    {
     "name": "stdout",
     "output_type": "stream",
     "text": [
      "len(prev)=177809\n",
      "len(path)=27\n",
      "LURDDLURRULLDRRDLURULDDLUU\n",
      "CPU times: total: 281 ms\n",
      "Wall time: 356 ms\n"
     ]
    }
   ],
   "source": [
    "%%time\n",
    "from collections import deque\n",
    "def bfs(startstate):\n",
    "    ''' \n",
    "    returns: Tuple (prev, state) \n",
    "        prev: dictionary mit den Vorgängern der untersuchten Spielstellungen,            \n",
    "        state: Spielstellung, die den goaltest besteht\n",
    "        wenn Ziel nicht gefunden: None, None\n",
    "    '''   \n",
    "    frontier =  deque([startstate])\n",
    "    prev = {startstate:None}\n",
    "    while frontier:\n",
    "        state = frontier.popleft()  \n",
    "        if goaltest(state):\n",
    "            return prev, state\n",
    "        for v in nextstates(state):\n",
    "            if v not in prev:\n",
    "                frontier.append(v)\n",
    "                prev[v] = state\n",
    "    return None, None\n",
    "\n",
    "\n",
    "def reconstructPath(prev,goalstate):\n",
    "    state = goalstate\n",
    "    path = []\n",
    "    while state is not None:\n",
    "        path.append(state)\n",
    "        state = prev[state]\n",
    "    path.reverse()\n",
    "    return path\n",
    "\n",
    "def nextstates(state):\n",
    "    tmp = []\n",
    "    i = state.index(0)\n",
    "    for d in [-3,3,-1,1]:\n",
    "        j = i+d\n",
    "        if 0 <= j < 9 and (i%3==j%3 or i//3==j//3):  # bleibt auf gleicher Zeile oder Spalte\n",
    "            a = list(state)\n",
    "            a[i],a[j] = a[j],a[i]\n",
    "            tmp.append(tuple(a))\n",
    "    return tmp  \n",
    "    \n",
    "def goaltest(state):\n",
    "    '''\n",
    "    returns: True, wenn state eine Lösung ist\n",
    "    '''\n",
    "    return state == ziel\n",
    "\n",
    "\n",
    "# Aufruf:\n",
    "prev, goal = bfs(start)\n",
    "print(f'{len(prev)=}')\n",
    "path = reconstructPath(prev,goal) \n",
    "print(f'{len(path)=}')\n",
    "print(getMoves(path))"
   ]
  },
  {
   "cell_type": "markdown",
   "id": "f14f13dc-540f-497e-8869-fecebafa4fcf",
   "metadata": {},
   "source": [
    "### A*\n",
    "\n"
   ]
  },
  {
   "cell_type": "code",
   "execution_count": 27,
   "id": "a987d6c4-10b9-40dd-b4c8-3b03e205fb4e",
   "metadata": {},
   "outputs": [
    {
     "name": "stdout",
     "output_type": "stream",
     "text": [
      "len(prev)=46968\n",
      "len(path)=27\n",
      "LURDRDLLURRDLLURRULLDRRULL\n",
      "CPU times: total: 172 ms\n",
      "Wall time: 200 ms\n"
     ]
    }
   ],
   "source": [
    "%%time\n",
    "from heapq import heappop, heappush\n",
    "def astar(s):\n",
    "    frontier =[(h(s),s)]  \n",
    "    prev = {s:None}\n",
    "    g = {s:0}                         # die Rückwärtskosten\n",
    "    while frontier:\n",
    "        _ ,state = heappop(frontier)  # die Kosten braucht man an der Stelle nicht\n",
    "        if goaltest(state):\n",
    "            return prev, state\n",
    "        for v in nextstates(state):\n",
    "            gg = g[state] + 1       \n",
    "            if v not in prev or gg < g[v]:     \n",
    "                g[v] = gg                     \n",
    "                heappush(frontier,(g[v]+h(v),v))  \n",
    "                prev[v] = state\n",
    "    return None, None\n",
    "\n",
    "def reconstructPath(prev,goalstate):\n",
    "    state = goalstate\n",
    "    path = []\n",
    "    while state is not None:\n",
    "        path.append(state)\n",
    "        state = prev[state]\n",
    "    path.reverse()\n",
    "    return path\n",
    "\n",
    "def h(state):\n",
    "    '''\n",
    "    state: Spielstellung\n",
    "    returns: Vorwärtskosten laut Heuristik\n",
    "    '''\n",
    "    return sum(a!=b for a,b in zip((0,1,2,3,4,5,6,7,8),state))\n",
    "\n",
    "#Aufruf:\n",
    "prev, goal = astar(start)\n",
    "print(f'{len(prev)=}')\n",
    "path = reconstructPath(prev,goal) \n",
    "print(f'{len(path)=}')\n",
    "print(getMoves(path))\n",
    " "
   ]
  },
  {
   "cell_type": "markdown",
   "id": "cc07f8d1-fa5d-469d-95b2-fab9be07d2ba",
   "metadata": {},
   "source": [
    "### Beamsearch"
   ]
  },
  {
   "cell_type": "code",
   "execution_count": 31,
   "id": "7bbb625b-1565-4d4f-b880-50d0f772e896",
   "metadata": {},
   "outputs": [
    {
     "name": "stdout",
     "output_type": "stream",
     "text": [
      "len(prev)=23923\n",
      "len(path)=27\n",
      "LURDRDLLURRDLLURRULLDRRULL\n",
      "CPU times: total: 15.6 ms\n",
      "Wall time: 60.2 ms\n"
     ]
    }
   ],
   "source": [
    "%%time\n",
    "def beamsearch(startstate, beamwidth): \n",
    "    frontier =[startstate]\n",
    "    prev = {startstate:None}\n",
    "    nextfrontier = []\n",
    "    while frontier:\n",
    "        for state in frontier:\n",
    "            if goaltest(state):\n",
    "                return prev, state\n",
    "            for v in nextstates(state):\n",
    "                if v not in prev:\n",
    "                    prev[v] = state\n",
    "                    nextfrontier.append(v)\n",
    "        \n",
    "        frontier = sorted(nextfrontier,key=lambda x: h(x)) \n",
    "        frontier = frontier[:beamwidth]\n",
    "        nextfrontier = []\n",
    "    return None, None\n",
    "\n",
    "def reconstructPath(prev,goalstate):\n",
    "    state = goalstate\n",
    "    path = []\n",
    "    while state is not None:\n",
    "        path.append(state)\n",
    "        state = prev[state]\n",
    "    path.reverse()\n",
    "    return path\n",
    "\n",
    "    \n",
    "#Aufruf:\n",
    "BEAMWIDTH = 1000                        # bei BEAMWIDTH=900 wird nicht mehr die optimale Lösung gefunden\n",
    "prev, goal = beamsearch(start,BEAMWIDTH)\n",
    "print(f'{len(prev)=}')\n",
    "path = reconstructPath(prev,goal) \n",
    "print(f'{len(path)=}')\n",
    "print(getMoves(path))\n"
   ]
  },
  {
   "cell_type": "code",
   "execution_count": 3,
   "id": "d960a7f4-f006-445f-99c6-66eeaf09861b",
   "metadata": {},
   "outputs": [],
   "source": [
    "def getMove(s1, s2):\n",
    "    i1 = s1.index(0)   # Position der 0 in state s1  \n",
    "    i2 = s2.index(0)   # Position der 0 in state s2    \n",
    "    if i2 == i1-1: return 'L'   #left\n",
    "    if i2 == i1+1: return 'R'   #right\n",
    "    if i2 == i1+3: return 'D'   #down\n",
    "    if i2 == i1-3: return 'U'   #up\n",
    "\n",
    "def getMoves(path):\n",
    "    '''\n",
    "    returns: Beschreibung des Pfads als eine Folge von Aktionen (Moves)\n",
    "    '''\n",
    "    moves = ''\n",
    "    for i in range(len(path)-1):\n",
    "        moves+=getMove(path[i],path[i+1])\n",
    "    return moves"
   ]
  },
  {
   "cell_type": "code",
   "execution_count": null,
   "id": "63ab54d9-a287-43b1-bc1f-e2df65c88af3",
   "metadata": {},
   "outputs": [],
   "source": []
  }
 ],
 "metadata": {
  "kernelspec": {
   "display_name": "Python 3 (ipykernel)",
   "language": "python",
   "name": "python3"
  },
  "language_info": {
   "codemirror_mode": {
    "name": "ipython",
    "version": 3
   },
   "file_extension": ".py",
   "mimetype": "text/x-python",
   "name": "python",
   "nbconvert_exporter": "python",
   "pygments_lexer": "ipython3",
   "version": "3.12.8"
  }
 },
 "nbformat": 4,
 "nbformat_minor": 5
}
