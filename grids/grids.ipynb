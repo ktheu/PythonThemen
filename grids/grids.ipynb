{
 "cells": [
  {
   "cell_type": "markdown",
   "id": "57b6a3ca-d92f-4a64-b70c-7d52b0824175",
   "metadata": {},
   "source": [
    "## Grids\n",
    "\n",
    "Es gibt viele Problemstellungen, bei denen wir durch eine 2D-Spielfeld (grid) navigieren müssen.\n",
    "\n",
    "Beispiel: Wir wollen den kürzesten Pfad vom Start zum Ziel finden.\n",
    "\n",
    "    #:  Wand\n",
    "    S:  Start\n",
    "    G:  Ziel (goal)\n"
   ]
  },
  {
   "cell_type": "code",
   "execution_count": 103,
   "id": "ed3e4e31-2677-4e50-80d0-27c7f2cae798",
   "metadata": {},
   "outputs": [
    {
     "name": "stdout",
     "output_type": "stream",
     "text": [
      "Overwriting maze1.txt\n"
     ]
    }
   ],
   "source": [
    "%%writefile maze1.txt\n",
    "##########\n",
    "#   #    #\n",
    "#   ##   #\n",
    "# #Z#  ###\n",
    "# ## #   #\n",
    "#   S #  #\n",
    "#     #  #\n",
    "#        #\n",
    "##########"
   ]
  },
  {
   "cell_type": "markdown",
   "id": "9edc9348-e227-4a31-9708-0640acd3e6de",
   "metadata": {},
   "source": [
    "#### Einlesen des Grids\n",
    "\n",
    "Wenn wir das grid nicht verändern wollen, können wir die grid-Daten als eine Liste von Strings einlesen."
   ]
  },
  {
   "cell_type": "code",
   "execution_count": 105,
   "id": "a08e0b13-e1ce-4bcd-a38a-f74de6413217",
   "metadata": {},
   "outputs": [
    {
     "data": {
      "text/plain": [
       "['###################################################################',\n",
       " '#                                                                 #',\n",
       " '#                                                                 #',\n",
       " '#                                                                 #',\n",
       " '#                                                                 #',\n",
       " '#                                                                 #',\n",
       " '#                                                                 #',\n",
       " '#                                                                 #',\n",
       " '#                                                                 #',\n",
       " '#                                                                 #',\n",
       " '#                                                                 #',\n",
       " '#                                                                 #',\n",
       " '#S                                                               Z#',\n",
       " '#                                                                 #',\n",
       " '#                                                                 # ',\n",
       " '#                                                                 #',\n",
       " '#                                                                 #',\n",
       " '#                                                                 #',\n",
       " '#                                                                 #',\n",
       " '#                                                                 #',\n",
       " '#                                                                 #',\n",
       " '#                                                                 #',\n",
       " '#                                                                 #                         ',\n",
       " '#                                                                 #',\n",
       " '#                                                                 #',\n",
       " '###################################################################']"
      ]
     },
     "execution_count": 105,
     "metadata": {},
     "output_type": "execute_result"
    }
   ],
   "source": [
    "f = open('maze3.txt')       \n",
    "grid = f.read().splitlines()\n",
    "f.close()\n",
    "grid"
   ]
  },
  {
   "cell_type": "markdown",
   "id": "191b37d4-d798-411c-9ee8-5ea30d4bd4fb",
   "metadata": {},
   "source": [
    "Wir ermitteln die Höhe und Breite des Grids."
   ]
  },
  {
   "cell_type": "code",
   "execution_count": 106,
   "id": "8b3f3ee6-d120-437b-aead-8945e525959c",
   "metadata": {},
   "outputs": [
    {
     "name": "stdout",
     "output_type": "stream",
     "text": [
      "Höhe = 26, Breite = 67\n"
     ]
    }
   ],
   "source": [
    "height = len(grid)\n",
    "width = len(grid[0])\n",
    "print(f'Höhe = {height}, Breite = {width}')"
   ]
  },
  {
   "cell_type": "markdown",
   "id": "d5108068-45bb-45a7-b26f-e07c8fe83c6a",
   "metadata": {},
   "source": [
    "#### Koordinaten im Grid"
   ]
  },
  {
   "cell_type": "markdown",
   "id": "63443991-516c-4b7b-a43c-1c01932cab36",
   "metadata": {},
   "source": [
    "Der Startpunkt ist in der Zeile mit Index 5, Spalte mit Index 4"
   ]
  },
  {
   "cell_type": "code",
   "execution_count": 32,
   "id": "d2b78a0b-66e7-4365-ba6f-7af31434ed7e",
   "metadata": {},
   "outputs": [
    {
     "data": {
      "text/plain": [
       "'S'"
      ]
     },
     "execution_count": 32,
     "metadata": {},
     "output_type": "execute_result"
    }
   ],
   "source": [
    "grid[5][4]             # Zeile mit Index 5, Spalte mit Index 4"
   ]
  },
  {
   "cell_type": "markdown",
   "id": "494d17ca-2f0a-4bca-af39-d9fdafce6251",
   "metadata": {},
   "source": [
    "Die Koordinaten können je nach Problemstellung unterschiedliche Positionen bedeuten, je nachdem wo der Nullpunkt liegt und in welche Richtung die Achsen zeigen. \n",
    "\n",
    "Häufig ist folgendes Setting: Der Nullpunkt liegt oben links und wird mit (0,0) bezeichnet. Die x-Achse zeigt nach rechts, die y-Achse nach unten. Damit hat der Punkt S die Koordinaten (4,5). \n",
    "Für dieses Setting gilt dann: An der Koordinate (x,y) steht der Wert grid[y][x].\n",
    "\n",
    "Zur Vereinfachung der folgenden Überlegungen vereinbaren wir:\n",
    "Mit *Zeile x* bezeichnen wir die Zeile mit Index x. Mit *Spalte y* bezeichnen wir die Spalte mit Index y. Die Koordinate (x,y) oder Position (x,y) bezeichnet die Stelle in Zeile x und Spalte y.\n",
    "Damit zeigt also die x-Achse nach unten und die y-Achse nach rechts. An der Koordinate (x,y) steht der Wert grid[x][y].\n"
   ]
  },
  {
   "cell_type": "markdown",
   "id": "e0c7e69a-38d4-4025-b7c2-5af89c4f6406",
   "metadata": {},
   "source": [
    "#### Start und Ziel ermitteln    "
   ]
  },
  {
   "cell_type": "code",
   "execution_count": 107,
   "id": "9c7298cf-d074-48c1-a83b-6085eb41e095",
   "metadata": {},
   "outputs": [
    {
     "name": "stdout",
     "output_type": "stream",
     "text": [
      "start=(12, 1), ziel=(12, 65)\n"
     ]
    }
   ],
   "source": [
    "for x in range(height):\n",
    "    for y in range(width):\n",
    "        if grid[x][y] == 'S':\n",
    "            start = (x,y)\n",
    "        elif grid[x][y] == 'Z':\n",
    "            ziel = (x,y)\n",
    "\n",
    "print(f'{start=}, {ziel=}')"
   ]
  },
  {
   "cell_type": "markdown",
   "id": "c3961ab8-8270-4951-9876-8219bae67b7b",
   "metadata": {},
   "source": [
    "#### Nachbarschaft\n",
    "\n",
    "In unseren Algorithmen benötigen wir immer wieder die Nachbarn zu einer bestimmten Position (=Koordinate).\n",
    "Wir schreiben uns dazu eine Funktion *nb*. Wir gehen im folgenden davon aus, dass das grid sich nicht verändert. Deshalb nutzen wir (zur Vereinfachung) *grid*, *height* und *width* als globale Variablen. Außerdem spendieren wir uns noch eine globale Variable *dirs* mit den möglichen Bewegungsrichtungen\n"
   ]
  },
  {
   "cell_type": "code",
   "execution_count": 34,
   "id": "3d9d3855-180e-402c-beb4-7214327ba510",
   "metadata": {},
   "outputs": [],
   "source": [
    "dirs = [(0,-1),(0,1),(-1,0),(1,0)]     # NSWE = hoch,runter,links,rechts\n",
    "\n",
    "def nb(pos):\n",
    "    '''\n",
    "    pos: Tuple (x,y) - die Position im grid\n",
    "    returns: Liste mit den möglichen Nachbarpositionen\n",
    "    '''\n",
    "    x, y = pos\n",
    "    tmp = []\n",
    "    for xd, yd in dirs:\n",
    "        x1 = x + xd\n",
    "        y1 = y + yd\n",
    "        if 0 <= x1 < height and 0 <= y1 < width and grid[x1][y1] != '#':\n",
    "            tmp.append((x1,y1))\n",
    "    return tmp    "
   ]
  },
  {
   "cell_type": "code",
   "execution_count": 35,
   "id": "54c19070-44a7-4ae0-9d85-c8e8bd759b31",
   "metadata": {},
   "outputs": [
    {
     "name": "stdout",
     "output_type": "stream",
     "text": [
      "[(3, 1), (5, 1)]\n",
      "[(5, 2), (4, 1), (6, 1)]\n"
     ]
    }
   ],
   "source": [
    "# Beispiele\n",
    "print(nb((4,1)))\n",
    "print(nb((5,1)))"
   ]
  },
  {
   "cell_type": "markdown",
   "id": "96b0af13-fc9c-4cab-af47-58bd7ee06d1b",
   "metadata": {},
   "source": [
    "### BFS Breitensuche\n",
    "\n",
    "Die Breitensuche findet einen kürzesten Weg vom startstate zu einem goalstate. Das allgemeine Muster für die Breitensuche:"
   ]
  },
  {
   "cell_type": "code",
   "execution_count": 36,
   "id": "0ccc21da-6da1-4c90-8131-d8928f6aa4d8",
   "metadata": {},
   "outputs": [],
   "source": [
    "from collections import deque\n",
    "def bfs(startstate):\n",
    "    ''' \n",
    "    returns: Tuple (prev, state) \n",
    "        prev: dictionary mit den Vorgängern der untersuchten Spielstellungen,            \n",
    "        state: Spielstellung, die den goaltest besteht\n",
    "        wenn Ziel nicht gefunden: None, None\n",
    "    '''   \n",
    "    frontier =  deque([startstate])\n",
    "    prev = {startstate:None}\n",
    "    while frontier:\n",
    "        state = frontier.popleft()  \n",
    "        if goaltest(state):\n",
    "            return prev, state\n",
    "        for v in nextstates(state):\n",
    "            if v not in prev:\n",
    "                frontier.append(v)\n",
    "                prev[v] = state\n",
    "    return None, None\n",
    "\n",
    "def reconstructPath(prev,goalstate):\n",
    "    state = goalstate\n",
    "    path = []\n",
    "    while state is not None:\n",
    "        path.append(state)\n",
    "        state = prev[state]\n",
    "    path.reverse()\n",
    "    return path\n",
    "\n",
    "def nextstates(state):\n",
    "    '''\n",
    "    state: Spielstellung\n",
    "    returns:  Liste mit möglichen Folgestellungen zu state\n",
    "    '''\n",
    "\n",
    "def goaltest(state):\n",
    "    '''\n",
    "    state: Spielstellung\n",
    "    returns: True, wenn state eine Lösung ist\n",
    "    '''\n",
    "    \n",
    "#Aufruf:\n",
    "#start = ...\n",
    "#prev, goal = bfs(start)\n",
    "#path = reconstructPath(prev,goal) "
   ]
  },
  {
   "cell_type": "markdown",
   "id": "3b3632e2-68a9-4bdf-9ff1-6ed8b1c7b5cc",
   "metadata": {},
   "source": [
    "#### Breitensuche für das Grid\n",
    "\n",
    "Im konkreten Fall sehen die zu implementieren Funktionen wie folgt aus:"
   ]
  },
  {
   "cell_type": "code",
   "execution_count": 37,
   "id": "63409baf-4084-41a3-8e88-4f85f879ced4",
   "metadata": {},
   "outputs": [
    {
     "name": "stdout",
     "output_type": "stream",
     "text": [
      "[(5, 4), (5, 3), (5, 2), (5, 1), (4, 1), (3, 1), (2, 1), (2, 2), (2, 3), (3, 3)]\n"
     ]
    }
   ],
   "source": [
    "def nextstates(state):\n",
    "    return nb(state)\n",
    "\n",
    "def goaltest(state):\n",
    "    return state == ziel\n",
    "\n",
    "\n",
    "prev, goal = bfs(start)\n",
    "path = reconstructPath(prev,goal)\n",
    "print(path)"
   ]
  },
  {
   "cell_type": "markdown",
   "id": "b97c5986-8a7d-4081-bf9a-d7873501bdb9",
   "metadata": {},
   "source": [
    "Häufig möchte man die Folge von Aktionen nennen, die diesem Weg entspricht. Dazu implementieren wir noch die Funktion *getMove*"
   ]
  },
  {
   "cell_type": "code",
   "execution_count": 38,
   "id": "6ef0ca50-d2a1-4a2f-8798-51d8b86ab7bc",
   "metadata": {},
   "outputs": [],
   "source": [
    "def getMove(s1, s2):\n",
    "    '''\n",
    "    returns: die Beschreibung des Übergangs von state s1 zu state s2\n",
    "    '''\n",
    "    x1,y1 = s1\n",
    "    x2,y2 = s2\n",
    "    if x1 < x2: return 'D'   # down\n",
    "    if x1 > x2: return 'U'   # up\n",
    "    if y1 < y2: return 'R'   # right\n",
    "    if y1 > y2: return 'L'   # left\n",
    "\n",
    "def getMoves(path):\n",
    "    '''\n",
    "    returns: Beschreibung des Pfads als eine Folge von Aktionen (Moves)\n",
    "    '''\n",
    "    moves = ''\n",
    "    for i in range(len(path)-1):\n",
    "        moves+=getMove(path[i],path[i+1])\n",
    "    return moves"
   ]
  },
  {
   "cell_type": "code",
   "execution_count": 39,
   "id": "95bbffaa-fb26-406e-8415-f7fad8db6a20",
   "metadata": {},
   "outputs": [
    {
     "name": "stdout",
     "output_type": "stream",
     "text": [
      "LLLUUURRD\n"
     ]
    }
   ],
   "source": [
    "prev, goal = bfs(start)\n",
    "path = reconstructPath(prev,goal)\n",
    "print(getMoves(path))"
   ]
  },
  {
   "cell_type": "markdown",
   "id": "8a00ba8d-64f6-40b6-bb96-e258ebf42734",
   "metadata": {},
   "source": [
    "Wir lassen uns den gefunden Weg im Grid anzeigen. Die untersuchten Koordinaten in prev werden mit '.' bezeichnet."
   ]
  },
  {
   "cell_type": "code",
   "execution_count": 77,
   "id": "53a46826-261d-42c1-b868-8cac187bf826",
   "metadata": {},
   "outputs": [
    {
     "name": "stdout",
     "output_type": "stream",
     "text": [
      "##########\n",
      "#...#    #\n",
      "#ooo##   #\n",
      "#o#Z#  ###\n",
      "#o##.#...#\n",
      "#oooS.#..#\n",
      "#.....#..#\n",
      "#........#\n",
      "##########\n",
      "prev = 35, weglänge = 9\n",
      "gefundener Weg: 'o', prev: '.'\n"
     ]
    }
   ],
   "source": [
    "def showPath(grid, path):\n",
    "    grid0 = [list(s) for s in grid]\n",
    "    for x,y in prev:\n",
    "        grid0[x][y]='.'\n",
    "    for x,y in path:\n",
    "        grid0[x][y] = 'o'\n",
    "    x,y = path[0]\n",
    "    grid0[x][y] = 'S'\n",
    "    x,y = path[-1]\n",
    "    grid0[x][y] = 'Z'\n",
    "    for row in grid0:\n",
    "        print(''.join(row))\n",
    " \n",
    "    print(f'prev = {len(prev)}, weglänge = {len(path)-1}')\n",
    "    print(\"gefundener Weg: 'o', prev: '.'\")\n",
    "\n",
    "showPath(grid, path)"
   ]
  },
  {
   "cell_type": "markdown",
   "id": "34ba0d6e-6e86-41d4-955e-baf9683e798b",
   "metadata": {},
   "source": [
    "#### Breitensuche fürs Grid - kompakte Version"
   ]
  },
  {
   "cell_type": "code",
   "execution_count": 71,
   "id": "49274bf3-4e2c-4373-b76c-e8d49e50c9b7",
   "metadata": {},
   "outputs": [],
   "source": [
    "from collections import deque\n",
    "def bfsPath(grid,startChar='S',goalChars='Z',wallChar='#'):\n",
    "    def bfs(startstate):\n",
    "        frontier =  deque([startstate])\n",
    "        prev = {startstate:None}\n",
    "        while frontier:\n",
    "            x, y = frontier.popleft()  \n",
    "            if grid[x][y] in goalChars:\n",
    "                return prev, (x,y)\n",
    "            for xd, yd in dirs:\n",
    "                x1 = x + xd\n",
    "                y1 = y + yd\n",
    "                if 0 <= x1 < height and 0 <= y1 < width and grid[x1][y1] != wallChar:\n",
    "                    if (x1,y1) not in prev:\n",
    "                        frontier.append((x1,y1))\n",
    "                        prev[(x1,y1)] = (x,y)\n",
    "        return None, None\n",
    "    \n",
    "    def reconstructPath(prev,goalstate):\n",
    "        state = goalstate\n",
    "        path = []\n",
    "        while state is not None:\n",
    "            path.append(state)\n",
    "            state = prev[state]\n",
    "        path.reverse()\n",
    "        return path\n",
    "\n",
    "    dirs = [(0,-1),(0,1),(-1,0),(1,0)]\n",
    "    height = len(grid)\n",
    "    width = len(grid[0])\n",
    "    for x in range(height):\n",
    "        for y in range(width):\n",
    "            if grid[x][y] == startChar:\n",
    "                start = (x,y)\n",
    " \n",
    "    prev, goal = bfs(start)\n",
    "    if not prev: return []                    # kein Pfad zum Ziel gefunden\n",
    "    return reconstructPath(prev,goal)"
   ]
  },
  {
   "cell_type": "code",
   "execution_count": 95,
   "id": "35d688fe-8076-4361-946c-30a66a8cd0b6",
   "metadata": {},
   "outputs": [
    {
     "name": "stdout",
     "output_type": "stream",
     "text": [
      "LLLLLLLLLLLLLLLLLLLLLDDDRRRRRRRRRRRRRRRRRRRRRRRRRRRRRRRRRRRRUUUUUUU\n"
     ]
    }
   ],
   "source": [
    "f = open('maze2.txt')       \n",
    "grid = f.read().splitlines()\n",
    "f.close()\n",
    "path = bfsPath(grid)\n",
    "print(getMoves(path))"
   ]
  },
  {
   "cell_type": "markdown",
   "id": "50f38627-8369-4c14-818e-5a9a81a6043c",
   "metadata": {},
   "source": [
    "Die folgende Funktion dient nur zu Verdeutlichung des Ablaufs"
   ]
  },
  {
   "cell_type": "code",
   "execution_count": 97,
   "id": "baf14db8-00bb-4aad-9023-d65bdc2bd974",
   "metadata": {},
   "outputs": [],
   "source": [
    "from collections import deque\n",
    "def bfsPathShow(grid,startChar='S',goalChars='Z',wallChar='#'):\n",
    "    def bfs(startstate):\n",
    "        frontier =  deque([startstate])\n",
    "        prev = {startstate:None}\n",
    "        while frontier:\n",
    "            x, y = frontier.popleft()  \n",
    "            if grid[x][y] in goalChars:\n",
    "                return prev, (x,y), frontier\n",
    "            for xd, yd in dirs:\n",
    "                x1 = x + xd\n",
    "                y1 = y + yd\n",
    "                if 0 <= x1 < height and 0 <= y1 < width and grid[x1][y1] != wallChar:\n",
    "                    if (x1,y1) not in prev:\n",
    "                        frontier.append((x1,y1))\n",
    "                        prev[(x1,y1)] = (x,y)\n",
    "        return None, None, None\n",
    "    \n",
    "    def reconstructPath(prev,goalstate):\n",
    "        state = goalstate\n",
    "        path = []\n",
    "        while state is not None:\n",
    "            path.append(state)\n",
    "            state = prev[state]\n",
    "        path.reverse()\n",
    "        return path\n",
    "\n",
    "    dirs = [(0,-1),(0,1),(-1,0),(1,0)]\n",
    "    height = len(grid)\n",
    "    width = len(grid[0])\n",
    "    for x in range(height):\n",
    "        for y in range(width):\n",
    "            if grid[x][y] == startChar:\n",
    "                start = (x,y)\n",
    " \n",
    "    prev, goal, frontier = bfs(start)\n",
    "    if not prev: return                # kein Pfad zum Ziel gefunden\n",
    "    path = reconstructPath(prev,goal)\n",
    "\n",
    "    grid0 = [list(s) for s in grid]\n",
    "    for x,y in prev:\n",
    "        grid0[x][y]='.'\n",
    "    for x,y in frontier:\n",
    "        grid0[x][y]='~'\n",
    "    for x,y in path:\n",
    "        grid0[x][y] = 'o'\n",
    "    x,y = path[0]\n",
    "    grid0[x][y] = 'S'\n",
    "    x,y = path[-1]\n",
    "    grid0[x][y] = 'Z'\n",
    "    for row in grid0:\n",
    "        print(''.join(row))\n",
    " \n",
    "    print(f'weglänge = {len(path)-1}, prev = {len(prev)}, frontier = {len(frontier)}')\n",
    "    print(\"gefundener Weg: 'o', prev: '.', frontier: '~'\")"
   ]
  },
  {
   "cell_type": "code",
   "execution_count": 90,
   "id": "ef52e274-4c72-46c1-acc6-580176ee1784",
   "metadata": {},
   "outputs": [
    {
     "name": "stdout",
     "output_type": "stream",
     "text": [
      "###################################################################\n",
      "#...................................~                             #\n",
      "#....................................~                            #\n",
      "#.....................................~                           #\n",
      "#......................................~#                         #\n",
      "#.......................................#                         #\n",
      "#.......................................#                         #\n",
      "#.......................................#                         #\n",
      "#.......................................#############             #\n",
      "#.......................................#                         #\n",
      "#.......................................#                         #\n",
      "#.......................................#                         #\n",
      "#.......................................#                         #\n",
      "#.......................................#~                        #\n",
      "#.......................................#.~                       # \n",
      "#.......................................#..~                      #\n",
      "#........################################...Z~                    #\n",
      "#.......................................#...o.~                   #\n",
      "#.......................................#...o..~                  #\n",
      "#.......................................#...o...~                 #\n",
      "#.......oooooooooooooooooooooS..........#...o....~                #\n",
      "#.......o...............................#...o.....~               #\n",
      "#.......o################################...o......~              #                         \n",
      "#.......ooooooooooooooooooooooooooooooooooooo.......~             #\n",
      "#..................................................~              #\n",
      "###################################################################\n",
      "weglänge = 67, prev = 955, frontier = 16\n",
      "gefundener Weg: 'o', prev: '.', frontier: '~'\n"
     ]
    }
   ],
   "source": [
    "bfsPathShow(grid)"
   ]
  },
  {
   "cell_type": "code",
   "execution_count": 146,
   "id": "f037d275-9445-45e1-9118-4fad91d1133e",
   "metadata": {},
   "outputs": [
    {
     "name": "stdout",
     "output_type": "stream",
     "text": [
      "RRRRRRRRRRRRRRRRRRRRRRRRRRUURRRRRRRRRRRRRRRRRRRRRRRRRRRRRRRRRRRRRRDD\n",
      "\n",
      "###################################################################\n",
      "#.........................................................~       #\n",
      "#..........................................................~      #\n",
      "#...........................................................~     #\n",
      "#............................................................~    #\n",
      "#.............................................................~   #\n",
      "#..............................................................~  #\n",
      "#...............................................................~~#\n",
      "#.................................................................#\n",
      "#.................................................................#\n",
      "#..........................ooooooooooooooooooooooooooooooooooooooo#\n",
      "#..........................o#....................................o#\n",
      "#Soooooooooooooooooooooooooo#....................................Z#\n",
      "#...........................#.....................................#\n",
      "#.................................................................# \n",
      "#.................................................................#\n",
      "#................................................................~#\n",
      "#...............................................................~ #\n",
      "#..............................................................~  #\n",
      "#.............................................................~   #\n",
      "#............................................................~    #\n",
      "#...........................................................~     #\n",
      "#..........................................................~      #                         \n",
      "#.........................................................~       #\n",
      "#........................................................~        #\n",
      "###################################################################\n",
      "weglänge = 68, prev = 1494, frontier = 17\n",
      "gefundener Weg: 'o', prev: '.', frontier: '~'\n"
     ]
    }
   ],
   "source": [
    "f = open('maze3.txt')       \n",
    "grid = f.read().splitlines()\n",
    "f.close()\n",
    "path = bfsPath(grid)\n",
    "print(getMoves(path))\n",
    "print()\n",
    "bfsPathShow(grid)"
   ]
  },
  {
   "cell_type": "markdown",
   "id": "8bf7c892-64c7-4613-9dcc-19375ccac899",
   "metadata": {},
   "source": [
    "### AStar\n",
    "\n",
    "Der A*-Algorithmus gehört zu den *informed search*-Algorithmen. Das bedeutet, wir haben eine Heuristik zur Verfügung, die uns angibt, wie weit wir vermutlich vom Ziel entfernt sind. Wenn die Heuristik die tatsächlichen Kosten für den noch zurückzulegenden Weg nicht überschätzt, findet A* einen optimalen Weg.\n",
    "\n",
    "Einem state wird ein A*-value zugeordnet, das ist die Summe aus den Kosten für den schon zurückgelegten Weg und den noch vermuteten Kosten laut Heuristik. Da wir immer den state mit dem niedrigsten A*-value aus der frontier holen wollen, ist die frontier als Heap organisiert.\n",
    "\n",
    "In dem Beispiel nehmen wir an, das (wie im grid) jeder Schritt die Kosten 1 hat.\n",
    "Als Heuristik nehmen wir die Manhattendistanz zwischen einer Position und dem Ziel."
   ]
  },
  {
   "cell_type": "code",
   "execution_count": 116,
   "id": "50e055e9-0353-491e-b6fc-c0cad0eafb00",
   "metadata": {},
   "outputs": [],
   "source": [
    "from heapq import heappop, heappush\n",
    "def astar(s):\n",
    "    frontier =[(h(s),s)]  \n",
    "    prev = {s:None}\n",
    "    g = {s:0}                         # die Rückwärtskosten\n",
    "    while frontier:\n",
    "        _ ,state = heappop(frontier)  # die Kosten braucht man an der Stelle nicht\n",
    "        if goaltest(state):\n",
    "            return prev, state\n",
    "        for v in nextstates(state):\n",
    "            gg = g[state] + 1         # statt 1 könnten hier auch die Kosten von state nach v stehen\n",
    "            if v not in prev or gg < g[v]:     # vielleicht waren wir schon bei v, aber mit höheren Kosten\n",
    "                g[v] = gg                      # die (evtl neuen) Rückwärtskosten für v\n",
    "                heappush(frontier,(g[v]+h(v),v))  \n",
    "                prev[v] = state\n",
    "    return None, None\n",
    "\n",
    "def nextstates(state):\n",
    "    return nb(state)\n",
    "\n",
    "def goaltest(state):\n",
    "    return state == ziel\n",
    "\n",
    "def h(state):\n",
    "    '''\n",
    "    state: Spielstellung\n",
    "    returns: Vorwärtskosten laut Heuristik\n",
    "    '''\n",
    "    x1, y1 = state\n",
    "    x2, y2 = ziel\n",
    "    return abs(x1-x2) + abs(y1-y2)"
   ]
  },
  {
   "cell_type": "code",
   "execution_count": null,
   "id": "38043c9a-8489-48fb-9fdb-dc247c781c59",
   "metadata": {},
   "outputs": [],
   "source": []
  },
  {
   "cell_type": "markdown",
   "id": "652362c7-9ac8-49f6-a31c-58c6b63f151c",
   "metadata": {},
   "source": [
    "#### AStar für Grids - kompakte Version"
   ]
  },
  {
   "cell_type": "code",
   "execution_count": 118,
   "id": "80797b9c-0acd-4c82-9504-6bff9667afaa",
   "metadata": {},
   "outputs": [
    {
     "name": "stdout",
     "output_type": "stream",
     "text": [
      "start=(12, 1), ziel=(12, 65)\n",
      "RRRRRRRRRRRRRRRRRRRRRRRRRRRRRRRRRRRRRRRRRRRRRRRRRRRRRRRRRRRRRRRR\n"
     ]
    }
   ],
   "source": [
    "f = open('maze3.txt')       \n",
    "grid = f.read().splitlines()\n",
    "f.close()\n",
    "for x in range(height):\n",
    "    for y in range(width):\n",
    "        if grid[x][y] == 'S':\n",
    "            start = (x,y)\n",
    "        elif grid[x][y] == 'Z':\n",
    "            ziel = (x,y)\n",
    "\n",
    "print(f'{start=}, {ziel=}')\n",
    "\n",
    "prev, goal = astar(start)\n",
    "print(getMoves(path))"
   ]
  },
  {
   "cell_type": "code",
   "execution_count": 147,
   "id": "e3eeac4d-aec3-44d2-b82b-7510b26c5f73",
   "metadata": {},
   "outputs": [],
   "source": [
    "from heapq import heappop, heappush\n",
    "def astarPathShow(grid,startChar='S',goalChar='Z',wallChar='#'):\n",
    "    def astar(s):\n",
    "        frontier =[(h(s),s)]  \n",
    "        prev = {s:None}\n",
    "        g = {s:0}                         # die Rückwärtskosten\n",
    "        while frontier:\n",
    "            _ ,state = heappop(frontier)  # die Kosten braucht man an der Stelle nicht\n",
    "            if goaltest(state):\n",
    "                return prev, state, frontier\n",
    "            for v in nb(state):\n",
    "                gg = g[state] + 1         # statt 1 könnten hier auch die Kosten von state nach v stehen\n",
    "                if v not in prev or gg < g[v]:     # vielleicht waren wir schon bei v, aber mit höheren Kosten\n",
    "                    g[v] = gg                      # die (evtl neuen) Rückwärtskosten für v\n",
    "                    heappush(frontier,(g[v]+h(v),v))  \n",
    "                    prev[v] = state\n",
    "        return None, None, None\n",
    "\n",
    "    def h(state):\n",
    "        x1, y1 = state\n",
    "        x2, y2 = ziel\n",
    "        return abs(x1-x2) + abs(y1-y2)\n",
    "    \n",
    "    def reconstructPath(prev,goalstate):\n",
    "        state = goalstate\n",
    "        path = []\n",
    "        while state is not None:\n",
    "            path.append(state)\n",
    "            state = prev[state]\n",
    "        path.reverse()\n",
    "        return path\n",
    "\n",
    "    dirs = [(0,-1),(0,1),(-1,0),(1,0)]\n",
    "    height = len(grid)\n",
    "    width = len(grid[0])\n",
    "    for x in range(height):\n",
    "        for y in range(width):\n",
    "            if grid[x][y] == startChar:\n",
    "                start = (x,y)\n",
    "            if grid[x][y] == goalChar:\n",
    "                ziel = (x,y)\n",
    " \n",
    "    prev, goal, frontier = astar(start)\n",
    "    if not prev: return                # kein Pfad zum Ziel gefunden\n",
    "    path = reconstructPath(prev,goal)\n",
    " \n",
    "\n",
    "    grid0 = [list(s) for s in grid]\n",
    "    for x,y in prev:\n",
    "        grid0[x][y]='.'\n",
    "    for _,(x,y) in frontier:\n",
    "        grid0[x][y]='~'\n",
    "    for x,y in path:\n",
    "        grid0[x][y] = 'o'\n",
    "    x,y = path[0]\n",
    "    grid0[x][y] = 'S'\n",
    "    x,y = path[-1]\n",
    "    grid0[x][y] = 'Z'\n",
    "    for row in grid0:\n",
    "        print(''.join(row))\n",
    " \n",
    "    print(f'weglänge = {len(path)-1}, prev = {len(prev)}, frontier = {len(frontier)}')\n",
    "    print(\"gefundener Weg: 'o', prev: '.', frontier: '~'\")"
   ]
  },
  {
   "cell_type": "code",
   "execution_count": 148,
   "id": "e07664ad-fbf3-4fd9-97b4-65211b2857cf",
   "metadata": {},
   "outputs": [
    {
     "name": "stdout",
     "output_type": "stream",
     "text": [
      "###################################################################\n",
      "#                                                                 #\n",
      "#                                                                 #\n",
      "#                                                                 #\n",
      "#                                                                 #\n",
      "#                                                                 #\n",
      "#                                                                 #\n",
      "#                                                                 #\n",
      "#                                                                 #\n",
      "#~~~~~~~~~~~~~~~~~~~~~~~~~~~~~~~~~~~~~~~~~~~~~~~~~~~~~~~~~~~~~~~~~#\n",
      "#..........................ooooooooooooooooooooooooooooooooooooooo#\n",
      "#..........................o#....................................o#\n",
      "#Soooooooooooooooooooooooooo#....................................Z#\n",
      "#...........................#~~~~~~~~~~~~~~~~~~~~~~~~~~~~~~~~~~~~ #\n",
      "#~~~~~~~~~~~~~~~~~~~~~~~~~~~                                      #\n",
      "#                                                                 #\n",
      "#                                                                 #\n",
      "#                                                                 #\n",
      "#                                                                 #\n",
      "#                                                                 #\n",
      "#                                                                 #\n",
      "#                                                                 #\n",
      "#                                                                 #\n",
      "#                                                                 #\n",
      "#                                                                 #\n",
      "###################################################################\n",
      "weglänge = 68, prev = 348, frontier = 128\n",
      "gefundener Weg: 'o', prev: '.', frontier: '~'\n"
     ]
    }
   ],
   "source": [
    "f = open('maze3.txt')       \n",
    "grid = f.read().splitlines()\n",
    "grid = [s.strip() for s in grid]\n",
    "f.close()\n",
    "astarPathShow(grid)\n",
    "\n",
    " "
   ]
  },
  {
   "cell_type": "code",
   "execution_count": null,
   "id": "e58d570f-c683-4f3f-9de3-6dfa4e54eeca",
   "metadata": {},
   "outputs": [],
   "source": []
  },
  {
   "cell_type": "code",
   "execution_count": null,
   "id": "7a04e04a-eb9b-4056-a350-a7e31a5ccef9",
   "metadata": {},
   "outputs": [],
   "source": []
  }
 ],
 "metadata": {
  "kernelspec": {
   "display_name": "Python 3 (ipykernel)",
   "language": "python",
   "name": "python3"
  },
  "language_info": {
   "codemirror_mode": {
    "name": "ipython",
    "version": 3
   },
   "file_extension": ".py",
   "mimetype": "text/x-python",
   "name": "python",
   "nbconvert_exporter": "python",
   "pygments_lexer": "ipython3",
   "version": "3.12.8"
  }
 },
 "nbformat": 4,
 "nbformat_minor": 5
}
