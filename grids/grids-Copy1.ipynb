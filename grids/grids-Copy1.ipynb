{
 "cells": [
  {
   "cell_type": "markdown",
   "id": "57b6a3ca-d92f-4a64-b70c-7d52b0824175",
   "metadata": {},
   "source": [
    "## Grids\n",
    "\n",
    "Es gibt viele Problemstellungen, bei denen wir durch eine 2D-Spielfeld (grid) navigieren müssen.\n",
    "\n",
    "Beispiel: Wir wollen den kürzesten Pfad vom Start zum Ziel finden.\n",
    "\n",
    "    #:  Wand\n",
    "    S:  Start\n",
    "    G:  Ziel (goal)\n"
   ]
  },
  {
   "cell_type": "code",
   "execution_count": 29,
   "id": "ed3e4e31-2677-4e50-80d0-27c7f2cae798",
   "metadata": {},
   "outputs": [
    {
     "name": "stdout",
     "output_type": "stream",
     "text": [
      "Overwriting maze1.txt\n"
     ]
    }
   ],
   "source": [
    "%%writefile maze1.txt\n",
    "##########\n",
    "#   #    #\n",
    "#   ##   #\n",
    "# #Z#  ###\n",
    "# ## #   #\n",
    "#   S #  #\n",
    "#     #  #\n",
    "#        #\n",
    "##########"
   ]
  },
  {
   "cell_type": "markdown",
   "id": "9edc9348-e227-4a31-9708-0640acd3e6de",
   "metadata": {},
   "source": [
    "#### Einlesen des Grids\n",
    "\n",
    "Wenn wir das grid nicht verändern wollen, können wir die grid-Daten als eine Liste von Strings einlesen."
   ]
  },
  {
   "cell_type": "code",
   "execution_count": 30,
   "id": "a08e0b13-e1ce-4bcd-a38a-f74de6413217",
   "metadata": {},
   "outputs": [
    {
     "data": {
      "text/plain": [
       "['##########',\n",
       " '#   #    #',\n",
       " '#   ##   #',\n",
       " '# #Z#  ###',\n",
       " '# ## #   #',\n",
       " '#   S #  #',\n",
       " '#     #  #',\n",
       " '#        #',\n",
       " '##########']"
      ]
     },
     "execution_count": 30,
     "metadata": {},
     "output_type": "execute_result"
    }
   ],
   "source": [
    "f = open('maze1.txt')       \n",
    "grid = f.read().splitlines()\n",
    "f.close()\n",
    "grid"
   ]
  },
  {
   "cell_type": "markdown",
   "id": "191b37d4-d798-411c-9ee8-5ea30d4bd4fb",
   "metadata": {},
   "source": [
    "Wir ermitteln die Höhe und Breite des Grids."
   ]
  },
  {
   "cell_type": "code",
   "execution_count": 31,
   "id": "8b3f3ee6-d120-437b-aead-8945e525959c",
   "metadata": {},
   "outputs": [
    {
     "name": "stdout",
     "output_type": "stream",
     "text": [
      "Höhe = 9, Breite = 10\n"
     ]
    }
   ],
   "source": [
    "height = len(grid)\n",
    "width = len(grid[0])\n",
    "print(f'Höhe = {height}, Breite = {width}')"
   ]
  },
  {
   "cell_type": "markdown",
   "id": "d5108068-45bb-45a7-b26f-e07c8fe83c6a",
   "metadata": {},
   "source": [
    "#### Koordinaten im Grid"
   ]
  },
  {
   "cell_type": "markdown",
   "id": "63443991-516c-4b7b-a43c-1c01932cab36",
   "metadata": {},
   "source": [
    "Der Startpunkt ist in der Zeile mit Index 5, Spalte mit Index 4"
   ]
  },
  {
   "cell_type": "code",
   "execution_count": 32,
   "id": "d2b78a0b-66e7-4365-ba6f-7af31434ed7e",
   "metadata": {},
   "outputs": [
    {
     "data": {
      "text/plain": [
       "'S'"
      ]
     },
     "execution_count": 32,
     "metadata": {},
     "output_type": "execute_result"
    }
   ],
   "source": [
    "grid[5][4]             # Zeile mit Index 5, Spalte mit Index 4"
   ]
  },
  {
   "cell_type": "markdown",
   "id": "494d17ca-2f0a-4bca-af39-d9fdafce6251",
   "metadata": {},
   "source": [
    "Die Koordinaten können je nach Problemstellung unterschiedliche Positionen bedeuten, je nachdem wo der Nullpunkt liegt und in welche Richtung die Achsen zeigen. \n",
    "\n",
    "Häufig ist folgendes Setting: Der Nullpunkt liegt oben links und wird mit (0,0) bezeichnet. Die x-Achse zeigt nach rechts, die y-Achse nach unten. Damit hat der Punkt S die Koordinaten (4,5). \n",
    "Für dieses Setting gilt dann: An der Koordinate (x,y) steht der Wert grid[y][x].\n",
    "\n",
    "Zur Vereinfachung der folgenden Überlegungen vereinbaren wir:\n",
    "Mit *Zeile x* bezeichnen wir die Zeile mit Index x. Mit *Spalte y* bezeichnen wir die Spalte mit Index y. Die Koordinate (x,y) oder Position (x,y) bezeichnet die Stelle in Zeile x und Spalte y.\n",
    "Damit zeigt also die x-Achse nach unten und die y-Achse nach rechts. An der Koordinate (x,y) steht der Wert grid[x][y].\n"
   ]
  },
  {
   "cell_type": "markdown",
   "id": "e0c7e69a-38d4-4025-b7c2-5af89c4f6406",
   "metadata": {},
   "source": [
    "#### Start und Ziel ermitteln    "
   ]
  },
  {
   "cell_type": "code",
   "execution_count": 33,
   "id": "9c7298cf-d074-48c1-a83b-6085eb41e095",
   "metadata": {},
   "outputs": [
    {
     "name": "stdout",
     "output_type": "stream",
     "text": [
      "start=(5, 4), ziel=(3, 3)\n"
     ]
    }
   ],
   "source": [
    "for x in range(height):\n",
    "    for y in range(width):\n",
    "        if grid[x][y] == 'S':\n",
    "            start = (x,y)\n",
    "        elif grid[x][y] == 'Z':\n",
    "            ziel = (x,y)\n",
    "\n",
    "print(f'{start=}, {ziel=}')"
   ]
  },
  {
   "cell_type": "markdown",
   "id": "c3961ab8-8270-4951-9876-8219bae67b7b",
   "metadata": {},
   "source": [
    "#### Nachbarschaft\n",
    "\n",
    "In unseren Algorithmen benötigen wir immer wieder die Nachbarn zu einer bestimmten Position (=Koordinate).\n",
    "Wir schreiben uns dazu eine Funktion *nb*. Wir gehen im folgenden davon aus, dass das grid sich nicht verändert. Deshalb nutzen wir (zur Vereinfachung) *grid*, *height* und *width* als globale Variablen. Außerdem spendieren wir uns noch eine globale Variable *dirs* mit den möglichen Bewegungsrichtungen\n"
   ]
  },
  {
   "cell_type": "code",
   "execution_count": 34,
   "id": "3d9d3855-180e-402c-beb4-7214327ba510",
   "metadata": {},
   "outputs": [],
   "source": [
    "dirs = [(0,-1),(0,1),(-1,0),(1,0)]     # NSWE = hoch,runter,links,rechts\n",
    "\n",
    "def nb(pos):\n",
    "    '''\n",
    "    pos: Tuple (x,y) - die Position im grid\n",
    "    returns: Liste mit den möglichen Nachbarpositionen\n",
    "    '''\n",
    "    x, y = pos\n",
    "    tmp = []\n",
    "    for xd, yd in dirs:\n",
    "        x1 = x + xd\n",
    "        y1 = y + yd\n",
    "        if 0 <= x1 < height and 0 <= y1 < width and grid[x1][y1] != '#':\n",
    "            tmp.append((x1,y1))\n",
    "    return tmp    "
   ]
  },
  {
   "cell_type": "code",
   "execution_count": 35,
   "id": "54c19070-44a7-4ae0-9d85-c8e8bd759b31",
   "metadata": {},
   "outputs": [
    {
     "name": "stdout",
     "output_type": "stream",
     "text": [
      "[(3, 1), (5, 1)]\n",
      "[(5, 2), (4, 1), (6, 1)]\n"
     ]
    }
   ],
   "source": [
    "# Beispiele\n",
    "print(nb((4,1)))\n",
    "print(nb((5,1)))"
   ]
  },
  {
   "cell_type": "markdown",
   "id": "96b0af13-fc9c-4cab-af47-58bd7ee06d1b",
   "metadata": {},
   "source": [
    "### BFS Breitensuche\n",
    "\n",
    "Die Breitensuche findet einen kürzesten Weg vom startstate zu einem goalstate. Das allgemeine Muster für die Breitensuche:"
   ]
  },
  {
   "cell_type": "code",
   "execution_count": 36,
   "id": "0ccc21da-6da1-4c90-8131-d8928f6aa4d8",
   "metadata": {},
   "outputs": [],
   "source": [
    "from collections import deque\n",
    "def bfs(startstate):\n",
    "    ''' \n",
    "    returns: Tuple (prev, state) \n",
    "        prev: dictionary mit den Vorgängern der untersuchten Spielstellungen,            \n",
    "        state: Spielstellung, die den goaltest besteht\n",
    "        wenn Ziel nicht gefunden: None, None\n",
    "    '''   \n",
    "    frontier =  deque([startstate])\n",
    "    prev = {startstate:None}\n",
    "    while frontier:\n",
    "        state = frontier.popleft()  \n",
    "        if goaltest(state):\n",
    "            return prev, state\n",
    "        for v in nextstates(state):\n",
    "            if v not in prev:\n",
    "                frontier.append(v)\n",
    "                prev[v] = state\n",
    "    return None, None\n",
    "\n",
    "def reconstructPath(prev,goalstate):\n",
    "    state = goalstate\n",
    "    path = []\n",
    "    while state is not None:\n",
    "        path.append(state)\n",
    "        state = prev[state]\n",
    "    path.reverse()\n",
    "    return path\n",
    "\n",
    "def nextstates(state):\n",
    "    '''\n",
    "    state: Spielstellung\n",
    "    returns:  Liste mit möglichen Folgestellungen zu state\n",
    "    '''\n",
    "\n",
    "def goaltest(state):\n",
    "    '''\n",
    "    state: Spielstellung\n",
    "    returns: True, wenn state eine Lösung ist\n",
    "    '''\n",
    "    \n",
    "#Aufruf:\n",
    "#start = ...\n",
    "#prev, goal = bfs(start)\n",
    "#path = reconstructPath(prev,goal) "
   ]
  },
  {
   "cell_type": "markdown",
   "id": "3b3632e2-68a9-4bdf-9ff1-6ed8b1c7b5cc",
   "metadata": {},
   "source": [
    "#### Breitensuche für das Grid\n",
    "\n",
    "Im konkreten Fall sehen die zu implementieren Funktionen wie folgt aus:"
   ]
  },
  {
   "cell_type": "code",
   "execution_count": 37,
   "id": "63409baf-4084-41a3-8e88-4f85f879ced4",
   "metadata": {},
   "outputs": [
    {
     "name": "stdout",
     "output_type": "stream",
     "text": [
      "[(5, 4), (5, 3), (5, 2), (5, 1), (4, 1), (3, 1), (2, 1), (2, 2), (2, 3), (3, 3)]\n"
     ]
    }
   ],
   "source": [
    "def nextstates(state):\n",
    "    return nb(state)\n",
    "\n",
    "def goaltest(state):\n",
    "    return state == ziel\n",
    "\n",
    "\n",
    "prev, goal = bfs(start)\n",
    "path = reconstructPath(prev,goal)\n",
    "print(path)"
   ]
  },
  {
   "cell_type": "markdown",
   "id": "b97c5986-8a7d-4081-bf9a-d7873501bdb9",
   "metadata": {},
   "source": [
    "Häufig möchte man die Folge von Aktionen nennen, die diesem Weg entspricht. Dazu implementieren wir noch die Funktion *getMove*"
   ]
  },
  {
   "cell_type": "code",
   "execution_count": 38,
   "id": "6ef0ca50-d2a1-4a2f-8798-51d8b86ab7bc",
   "metadata": {},
   "outputs": [],
   "source": [
    "def getMove(s1, s2):\n",
    "    '''\n",
    "    returns: die Beschreibung des Übergangs von state s1 zu state s2\n",
    "    '''\n",
    "    x1,y1 = s1\n",
    "    x2,y2 = s2\n",
    "    if x1 < x2: return 'D'   # down\n",
    "    if x1 > x2: return 'U'   # up\n",
    "    if y1 < y2: return 'R'   # right\n",
    "    if y1 > y2: return 'L'   # left\n",
    "\n",
    "def getMoves(path):\n",
    "    '''\n",
    "    returns: Beschreibung des Pfads als eine Folge von Aktionen (Moves)\n",
    "    '''\n",
    "    moves = ''\n",
    "    for i in range(len(path)-1):\n",
    "        moves+=getMove(path[i],path[i+1])\n",
    "    return moves"
   ]
  },
  {
   "cell_type": "code",
   "execution_count": 39,
   "id": "95bbffaa-fb26-406e-8415-f7fad8db6a20",
   "metadata": {},
   "outputs": [
    {
     "name": "stdout",
     "output_type": "stream",
     "text": [
      "LLLUUURRD\n"
     ]
    }
   ],
   "source": [
    "prev, goal = bfs(start)\n",
    "path = reconstructPath(prev,goal)\n",
    "print(getMoves(path))"
   ]
  },
  {
   "cell_type": "markdown",
   "id": "8a00ba8d-64f6-40b6-bb96-e258ebf42734",
   "metadata": {},
   "source": [
    "Wir lassen uns den gefunden Weg im Grid anzeigen. Die untersuchten Koordinaten in prev werden mit '.' bezeichnet."
   ]
  },
  {
   "cell_type": "code",
   "execution_count": 40,
   "id": "53a46826-261d-42c1-b868-8cac187bf826",
   "metadata": {},
   "outputs": [
    {
     "name": "stdout",
     "output_type": "stream",
     "text": [
      "##########\n",
      "#...#    #\n",
      "#ooo##   #\n",
      "#o#Z#  ###\n",
      "#o##.#...#\n",
      "#oooS.#..#\n",
      "#.....#..#\n",
      "#........#\n",
      "##########\n",
      "prev = 35, weglänge = 9\n",
      "gefundener Weg: 'o', prev: '.'\n"
     ]
    }
   ],
   "source": [
    "def showGrid(path, prev):\n",
    "    grid0 = [list(s) for s in grid]\n",
    "    for x,y in prev:\n",
    "        grid0[x][y]='.'\n",
    "    for x,y in path:\n",
    "        grid0[x][y] = 'o'\n",
    "    x,y = path[0]\n",
    "    grid0[x][y] = 'S'\n",
    "    x,y = path[-1]\n",
    "    grid0[x][y] = 'Z'\n",
    "    for row in grid0:\n",
    "        print(''.join(row))\n",
    " \n",
    "    print(f'prev = {len(prev)}, weglänge = {len(path)-1}')\n",
    "    print(\"gefundener Weg: 'o', prev: '.'\")\n",
    "\n",
    "showGrid(path,prev)"
   ]
  },
  {
   "cell_type": "markdown",
   "id": "34ba0d6e-6e86-41d4-955e-baf9683e798b",
   "metadata": {},
   "source": [
    "#### Breitensuche fürs Grid - kompakte Version"
   ]
  },
  {
   "cell_type": "code",
   "execution_count": 64,
   "id": "49274bf3-4e2c-4373-b76c-e8d49e50c9b7",
   "metadata": {},
   "outputs": [
    {
     "data": {
      "text/plain": [
       "[(5, 4),\n",
       " (5, 3),\n",
       " (5, 2),\n",
       " (5, 1),\n",
       " (4, 1),\n",
       " (3, 1),\n",
       " (2, 1),\n",
       " (2, 2),\n",
       " (2, 3),\n",
       " (3, 3)]"
      ]
     },
     "execution_count": 64,
     "metadata": {},
     "output_type": "execute_result"
    }
   ],
   "source": [
    "from collections import deque\n",
    "def bfsPath(grid,startChar='S',goalChars='Z',wallChar='#'):\n",
    "    def bfs(startstate):\n",
    "        frontier =  deque([startstate])\n",
    "        prev = {startstate:None}\n",
    "        while frontier:\n",
    "            x, y = frontier.popleft()  \n",
    "            if grid[x][y] in goalChars:\n",
    "                return prev, (x,y)\n",
    "            for xd, yd in dirs:\n",
    "                x1 = x + xd\n",
    "                y1 = y + yd\n",
    "                if 0 <= x1 < height and 0 <= y1 < width and grid[x1][y1] != wallChar:\n",
    "                    if (x1,y1) not in prev:\n",
    "                        frontier.append((x1,y1))\n",
    "                        prev[(x1,y1)] = (x,y)\n",
    "        return None, None\n",
    "    \n",
    "    def reconstructPath(prev,goalstate):\n",
    "        state = goalstate\n",
    "        path = []\n",
    "        while state is not None:\n",
    "            path.append(state)\n",
    "            state = prev[state]\n",
    "        path.reverse()\n",
    "        return path\n",
    "\n",
    "    dirs = [(0,-1),(0,1),(-1,0),(1,0)]\n",
    "    height = len(grid)\n",
    "    width = len(grid[0])\n",
    "    for x in range(height):\n",
    "        for y in range(width):\n",
    "            if grid[x][y] == startChar:\n",
    "                start = (x,y)\n",
    " \n",
    "    prev, goal = bfs(start)\n",
    "    if not prev: return []                    # kein Pfad zum Ziel gefunden\n",
    "    return reconstructPath(prev,goal)\n",
    "\n",
    "bfsPath(grid) "
   ]
  },
  {
   "cell_type": "code",
   "execution_count": 63,
   "id": "6708e2e7-8c8a-410a-8453-7b549bb0f44e",
   "metadata": {},
   "outputs": [
    {
     "name": "stdout",
     "output_type": "stream",
     "text": [
      "(5, 4)\n"
     ]
    },
    {
     "data": {
      "text/plain": [
       "[]"
      ]
     },
     "execution_count": 63,
     "metadata": {},
     "output_type": "execute_result"
    }
   ],
   "source": []
  },
  {
   "cell_type": "code",
   "execution_count": 61,
   "id": "ce78c280-7d06-4e34-99a5-b9fce9a12026",
   "metadata": {},
   "outputs": [
    {
     "data": {
      "text/plain": [
       "True"
      ]
     },
     "execution_count": 61,
     "metadata": {},
     "output_type": "execute_result"
    }
   ],
   "source": [
    "grid[3][3] in 'Z'"
   ]
  },
  {
   "cell_type": "code",
   "execution_count": 41,
   "id": "ddf4819b-fd91-49f5-a614-21e90918b6da",
   "metadata": {},
   "outputs": [],
   "source": [
    "def bfsLevels(startstate):\n",
    "    frontier =  [startstate]\n",
    "    next_frontier = []\n",
    "    prev = {startstate:None}\n",
    "    zaehl = 0\n",
    "    while frontier:\n",
    "        while frontier:\n",
    "            state = frontier.pop()  \n",
    "            grid0[state[0]][state[1]] = zaehl\n",
    "            if goaltest(state):\n",
    "                return grid0\n",
    "            for v in nextstates(state):\n",
    "                if v not in prev:\n",
    "                    next_frontier.append(v)\n",
    "                    \n",
    "                    prev[v] = state\n",
    "        frontier = next_frontier\n",
    "        next_frontier = []\n",
    "        zaehl = (zaehl+1)%10\n",
    "    return None"
   ]
  },
  {
   "cell_type": "code",
   "execution_count": 42,
   "id": "94faff63-e9d6-4c25-b553-dd06d08b0615",
   "metadata": {},
   "outputs": [
    {
     "name": "stdout",
     "output_type": "stream",
     "text": [
      "##########\n",
      "#...#    #\n",
      "#ooo##   #\n",
      "#o#Z#  ###\n",
      "#o##.#...#\n",
      "#oooS.#..#\n",
      "#.....#..#\n",
      "#........#\n",
      "##########\n",
      "prev = 35, weglänge = 9\n",
      "gefundener Weg: 'o', prev: '.'\n"
     ]
    }
   ],
   "source": [
    "showGrid(path,prev)"
   ]
  },
  {
   "cell_type": "markdown",
   "id": "e8b96644-a162-4d93-a8f7-d44d2b8ab24b",
   "metadata": {},
   "source": []
  },
  {
   "cell_type": "code",
   "execution_count": null,
   "id": "6006b99f-9baa-48e9-ac5a-9553936679f9",
   "metadata": {},
   "outputs": [],
   "source": [
    "def bfsPath(grid,startchar='S',goalChar='Z',wallChar='#'):\n",
    "    "
   ]
  },
  {
   "cell_type": "code",
   "execution_count": 75,
   "id": "0468deba-b261-4093-9bc2-2a98bad771d9",
   "metadata": {},
   "outputs": [],
   "source": [
    "def showBfs(grid,startChar='S',goalChars='Z',wallChar='#'):\n",
    "\n",
    "    def bfs(startstate):\n",
    "        \n",
    "        frontier = [startstate]\n",
    "        next_frontier = []\n",
    "        prev = {startstate:None}\n",
    "        level = 0\n",
    "        while frontier:\n",
    "            while frontier:\n",
    "                pos = frontier.pop()  \n",
    "                x, y = pos\n",
    "                if grid1[x][y] in goalChars:\n",
    "                    print(f'frontier level = {level} = {chr(ord(\"a\")+level)}')\n",
    "                    for (x1,y1) in frontier:                        \n",
    "                        grid1[x1][y1] = '~'\n",
    "                    return pos, prev, grid1, frontier\n",
    "                if (x,y) != startstate:\n",
    "                    grid1[x][y] = chr(ord('a')+level)\n",
    "                for xd, yd in dirs:\n",
    "                    x1 = x + xd\n",
    "                    y1 = y + yd\n",
    "                    if 0 <= x1 < height and 0 <= y1 < width and grid1[x1][y1] != wallChar and (x1,y1) not in prev:\n",
    "                        next_frontier.append((x1,y1))\n",
    "                        prev[(x1,y1)] = pos\n",
    "            frontier = next_frontier\n",
    "            next_frontier = []\n",
    "            level = (level+1)%26\n",
    "        return None, None, None, None\n",
    "\n",
    "    def reconstructPath(prev,goalstate):\n",
    "        state = goalstate\n",
    "        path = []\n",
    "        while state is not None:\n",
    "            path.append(state)\n",
    "            state = prev[state]\n",
    "        path.reverse()\n",
    "        return path\n",
    "\n",
    "    grid1 = [list(s) for s in grid]\n",
    "    dirs =  [(0,-1),(0,1),(-1,0),(1,0)]\n",
    "\n",
    "    # Höhe und Breite und Startposition ermitteln\n",
    "    height = len(grid)\n",
    "    width = len(grid[0])\n",
    "    for x in range(height):\n",
    "        for y in range(width):\n",
    "            if grid1[x][y] == startChar:\n",
    "                start = (x,y)\n",
    "\n",
    "    goal, prev, grid1, frontier = bfs(start)\n",
    "    path = reconstructPath(prev,goal)\n",
    " \n",
    "    for zeile in grid1:\n",
    "        print(*zeile,sep='')\n",
    "\n",
    "    grid2 = [list(s) for s in grid]\n",
    "    for x in range(height):\n",
    "        for y in range(width):\n",
    "            if (x,y) in prev:\n",
    "                grid2[x][y] = '.'\n",
    "            if (x,y) in frontier:\n",
    "                grid2[x][y] = '~'\n",
    "            if (x,y) in path:\n",
    "                grid2[x][y] = 'o'\n",
    "            x1,y1 = start\n",
    "            grid2[x1][y1] = 'S'\n",
    "            x2,y2 = goal\n",
    "            grid2[x2][y2] = 'Z'\n",
    "\n",
    "    print()\n",
    "    for zeile in grid2:\n",
    "        print(*zeile,sep='')\n",
    "\n"
   ]
  },
  {
   "cell_type": "code",
   "execution_count": 78,
   "id": "ed758b65-b223-486b-a4a6-ca3e854d6cd5",
   "metadata": {},
   "outputs": [
    {
     "name": "stdout",
     "output_type": "stream",
     "text": [
      "frontier level = 9 = j\n",
      "###################################################################\n",
      "#Sbcdefghijklmnopqrstuvwxyzabcdefghijklmnopqrstuvwxyzabcdefghijklm#\n",
      "#bcdefghijklmnopqrstuvwxyzabcdefghijklmnopqrstuvwxyzabcdefghijklmn#\n",
      "#cdefghijklmnopqrstuvwxyzabcdefghijklmnopqrstuvwxyzabcdefghijklmno#\n",
      "#defghijklmnopqrstuvwxyzabcdefghijklmnop#rstuvwxyzabcdefghijklmnop#\n",
      "#efghijklmnopqrstuvwxyzabcdefghijklmnopq#stuvwxyzabcdefghijklmnopq#\n",
      "#fghijklmnopqrstuvwxyzabcdefghijklmnopqr#tuvwxyzabcdefghijklmnopqr#\n",
      "#ghijklmnopqrstuvwxyzabcdefghijklmnopqrs#uvwxyzabcdefghijklmnopqrs#\n",
      "#hijklmnopqrstuvwxyzabcdefghijklmnopqrst#############hijklmnopqrst#\n",
      "#ijklmnopqrstuvwxyzabcdefghijklmnopqrstu#utsrqponmlkjijklmnopqrstu#\n",
      "#jklmnopqrstuvwxyzabcdefghijklmnopqrstuv#vutsrqponmlkjklmnopqrstuv#\n",
      "#klmnopqrstuvwxyzabcdefghijklmnopqrstuvw#wvutsrqponmlklmnopqrstuvw#\n",
      "#lmnopqrstuvwxyzabcdefghijklmnopqrstuvwx#vwvutsrqponmlmnopqrstuvwx#\n",
      "#mnopqrstuvwxyzabcdefghijklmnopqrstuvwxy#uvwvutsrqponmnopqrstuvwxy#\n",
      "#nopqrstuvwxyzabcdefghijklmnopqrstuvwxyz#tuvwvutsrqponopqrstuvwxyz# \n",
      "#opqrstuvwxyzabcdefghijklmnopqrstuvwxyza#stuvwvutsrqpopqrstuvwxyza#\n",
      "#pqrstuvw################################rstuvwvutsrqpqrstuvwxyzab#\n",
      "#qrstuvwxyzabcdefghijklmnopqrstuvwxyzabc#qrstuvwvutsrqrstuvwxyzabc#\n",
      "#rstuvwxyzabcdefghijklmnopqrstuvwxyzabcd#pqrstuvwvutsrstuvwxyzabcd#\n",
      "#stuvwxyzabcdefghijklmnopqrstuvwxyzabcde#opqrstuvwvutstuvwxyzabcde#\n",
      "#tuvwxyzabcdefghijklmnopqrstuvwxyzabcdef#nopqrstuvwvutuvwxyzabcdef#\n",
      "#uvwxyzabcdefghijklmnopqrstuvwxyzabcdefg#mnopqrstuvwvuvwxyzabcdefg#\n",
      "#vwxyzabc################################lmnopqrstuvwvwxyzabcdefgh#                         \n",
      "#wxyzabcdefghijklmnopqrstuvwxyzabcdefghijklmnopqrstuvwxyzabcdefghi#\n",
      "#xyzabcdefghijklmnopqrstuvwxyzabcdefghijklmnopqrstuvwxyzabcdefghiZ#\n",
      "###################################################################\n",
      "\n",
      "###################################################################\n",
      "#Soooooooooooooooooooooooooooooooooooooooooooooo..................#\n",
      "#..............................................oo.................#\n",
      "#...............................................oo................#\n",
      "#.......................................#........oo...............#\n",
      "#.......................................#.........oo..............#\n",
      "#.......................................#..........oo.............#\n",
      "#.......................................#...........oo............#\n",
      "#.......................................#############o............#\n",
      "#.......................................#............o............#\n",
      "#.......................................#............o............#\n",
      "#.......................................#............o............#\n",
      "#.......................................#............o............#\n",
      "#.......................................#............ooo..........#\n",
      "#.......................................#..............oo.........# \n",
      "#.......................................#...............oo........#\n",
      "#........################################................oo.......#\n",
      "#.......................................#.................oo......#\n",
      "#.......................................#..................oo.....#\n",
      "#.......................................#...................oo....#\n",
      "#.......................................#....................oo...#\n",
      "#.......................................#.....................oo..#\n",
      "#........################################......................oo.#                         \n",
      "#...............................................................oo#\n",
      "#................................................................Z#\n",
      "###################################################################\n"
     ]
    }
   ],
   "source": [
    "\n",
    "f = open('maze3.txt')       \n",
    "grid = f.read().splitlines()\n",
    "f.close()\n",
    "showBfs(grid)"
   ]
  },
  {
   "cell_type": "code",
   "execution_count": 162,
   "id": "41cf62bb-9c5f-42e9-95ec-2289c4958fbf",
   "metadata": {},
   "outputs": [],
   "source": [
    "def getPath(grid,startChar='S',goalChars='Z',wallChar='#'):\n",
    "\n",
    "    def bfs(startstate):\n",
    "        frontier = [startstate]\n",
    "        next_frontier = []\n",
    "        prev = {startstate:None}\n",
    "        while frontier:\n",
    "            while frontier:\n",
    "                x, y = frontier.pop()  \n",
    "                if grid[x][y] in goalChars:\n",
    "                    return prev, (x,y)\n",
    "                for xd, yd in dirs:\n",
    "                    x1 = x + xd\n",
    "                    y1 = y + yd\n",
    "                    if 0 <= x1 < height and 0 <= y1 < width and grid[x1][y1] != wallChar and (x1,y1) not in prev:\n",
    "                        next_frontier.append((x1,y1))\n",
    "                        prev[(x1,y1)] = (x,y)\n",
    "            frontier = next_frontier\n",
    "            next_frontier = []\n",
    "        return None, None \n",
    "\n",
    "    def reconstructPath(prev,goalstate):\n",
    "        state = goalstate\n",
    "        path = []\n",
    "        while state is not None:\n",
    "            path.append(state)\n",
    "            state = prev[state]\n",
    "        path.reverse()\n",
    "        return path\n",
    "\n",
    "    dirs =  [(0,-1),(0,1),(-1,0),(1,0)]\n",
    "   \n",
    "    \n",
    "    height = len(grid)\n",
    "    width = len(grid[0])\n",
    "    for x in range(height):\n",
    "        for y in range(width):\n",
    "            if grid[x][y] == startChar:\n",
    "                start = (x,y)\n",
    "\n",
    "    prev, goal = bfs(start)\n",
    "    return reconstructPath(prev,goal)"
   ]
  },
  {
   "cell_type": "code",
   "execution_count": 163,
   "id": "469d3ebf-7461-409a-986e-a66338b66b2d",
   "metadata": {},
   "outputs": [
    {
     "data": {
      "text/plain": [
       "[(1, 1),\n",
       " (1, 2),\n",
       " (1, 3),\n",
       " (1, 4),\n",
       " (1, 5),\n",
       " (1, 6),\n",
       " (1, 7),\n",
       " (1, 8),\n",
       " (1, 9),\n",
       " (1, 10),\n",
       " (1, 11),\n",
       " (1, 12),\n",
       " (1, 13),\n",
       " (1, 14),\n",
       " (1, 15),\n",
       " (1, 16),\n",
       " (1, 17),\n",
       " (1, 18),\n",
       " (1, 19),\n",
       " (1, 20),\n",
       " (1, 21),\n",
       " (1, 22),\n",
       " (1, 23),\n",
       " (1, 24),\n",
       " (1, 25),\n",
       " (1, 26),\n",
       " (1, 27),\n",
       " (1, 28),\n",
       " (1, 29),\n",
       " (1, 30),\n",
       " (1, 31),\n",
       " (1, 32),\n",
       " (1, 33),\n",
       " (1, 34),\n",
       " (1, 35),\n",
       " (1, 36),\n",
       " (1, 37),\n",
       " (1, 38),\n",
       " (1, 39),\n",
       " (1, 40),\n",
       " (1, 41),\n",
       " (1, 42),\n",
       " (1, 43),\n",
       " (1, 44),\n",
       " (1, 45),\n",
       " (1, 46),\n",
       " (1, 47),\n",
       " (2, 47),\n",
       " (2, 48),\n",
       " (3, 48),\n",
       " (3, 49),\n",
       " (4, 49),\n",
       " (4, 50),\n",
       " (5, 50),\n",
       " (5, 51),\n",
       " (6, 51),\n",
       " (6, 52),\n",
       " (7, 52),\n",
       " (7, 53),\n",
       " (8, 53),\n",
       " (9, 53),\n",
       " (10, 53),\n",
       " (11, 53),\n",
       " (12, 53),\n",
       " (13, 53),\n",
       " (13, 54),\n",
       " (13, 55),\n",
       " (14, 55),\n",
       " (14, 56),\n",
       " (15, 56),\n",
       " (15, 57),\n",
       " (16, 57),\n",
       " (16, 58),\n",
       " (17, 58),\n",
       " (17, 59),\n",
       " (18, 59),\n",
       " (18, 60),\n",
       " (19, 60),\n",
       " (19, 61),\n",
       " (20, 61),\n",
       " (20, 62),\n",
       " (21, 62),\n",
       " (21, 63),\n",
       " (22, 63),\n",
       " (22, 64),\n",
       " (23, 64),\n",
       " (23, 65),\n",
       " (24, 65)]"
      ]
     },
     "execution_count": 163,
     "metadata": {},
     "output_type": "execute_result"
    }
   ],
   "source": [
    "f = open('maze3.txt')       \n",
    "grid = f.read().splitlines()\n",
    "f.close()\n",
    "getPath(grid)"
   ]
  },
  {
   "cell_type": "code",
   "execution_count": 252,
   "id": "1ea5e439-020f-4b02-9ec9-f7385d950c0e",
   "metadata": {},
   "outputs": [],
   "source": [
    "def bfs(start,ziel):\n",
    "    frontier = [start]\n",
    "    next_frontier = []\n",
    "    prev = {start:None}\n",
    "    while frontier:\n",
    "        while frontier:\n",
    "            x, y = frontier.pop()  \n",
    "            if (x,y) == ziel:\n",
    "                return prev \n",
    "            for xd, yd in dirs:\n",
    "                x1 = x + xd\n",
    "                y1 = y + yd\n",
    "                if 0 <= x1 < height and 0 <= y1 < width and grid[x1][y1] != '#' and (x1,y1) not in prev:\n",
    "                    next_frontier.append((x1,y1))\n",
    "                    prev[(x1,y1)] = (x,y)\n",
    "        frontier = next_frontier\n",
    "        next_frontier = []\n",
    "    return None\n",
    "\n",
    "def bibfs(start,ziel):\n",
    "    frontier = [start]\n",
    "    frontier2 = [ziel]\n",
    "    next_frontier = []\n",
    "    next_frontier2 = []\n",
    "    prev = {start:None}\n",
    "    prev2 = {ziel:None}\n",
    "    while frontier or frontier2:\n",
    "        while frontier:\n",
    "            x, y = frontier.pop()  \n",
    "\n",
    "            for xd, yd in dirs:\n",
    "                x1 = x + xd\n",
    "                y1 = y + yd\n",
    "                if 0 <= x1 < height and 0 <= y1 < width and grid[x1][y1] != '#' and (x1,y1) not in prev:\n",
    "                    next_frontier.append((x1,y1))\n",
    "\n",
    "                    prev[(x1,y1)] = (x,y)\n",
    "\n",
    "        frontier = next_frontier\n",
    "        next_frontier = []\n",
    "\n",
    "        while frontier2:\n",
    "            x, y = frontier2.pop()  \n",
    "            for xd, yd in dirs:\n",
    "                x1 = x + xd\n",
    "                y1 = y + yd\n",
    "                if 0 <= x1 < height and 0 <= y1 < width and grid[x1][y1] != '#' and (x1,y1) not in prev2:\n",
    "                    next_frontier2.append((x1,y1))\n",
    "                    prev2[(x1,y1)] = (x,y)\n",
    "                    if (x1,y1) in prev:\n",
    "                        return prev, prev2, (x1,y1) \n",
    "        frontier2 = next_frontier2\n",
    "        next_frontier2 = []\n",
    "    return None\n",
    "\n",
    "def reconstructPath(prev,goalstate):\n",
    "    state = goalstate\n",
    "    path = []\n",
    "    while state is not None:\n",
    "        path.append(state)\n",
    "        state = prev[state]\n",
    "    path.reverse()\n",
    "    return path"
   ]
  },
  {
   "cell_type": "code",
   "execution_count": 253,
   "id": "5709e25f-68d8-4e00-9037-b739da28a70a",
   "metadata": {},
   "outputs": [
    {
     "name": "stdout",
     "output_type": "stream",
     "text": [
      "###################################################################\n",
      "#S                                                                #\n",
      "#                                                                 #\n",
      "#                                                                 #\n",
      "#                                       #                         #\n",
      "#                                       #                         #\n",
      "#                                       #                         #\n",
      "#                                       #                         #\n",
      "#                                       #############             #\n",
      "#                                       #                         #\n",
      "#                                       #                         #\n",
      "#                                       #                         #\n",
      "#                                       #                         #\n",
      "#                                       #                         #\n",
      "#                                       #                         # \n",
      "#                                       #                         #\n",
      "#        ################################                         #\n",
      "#                                       #                         #\n",
      "#                                       #                         #\n",
      "#                                       #                         #\n",
      "#                                       #                         #\n",
      "#                                       #                         #\n",
      "#        ################################                         #                         \n",
      "#                                                                 #\n",
      "#                                                                Z#\n",
      "###################################################################\n"
     ]
    },
    {
     "data": {
      "text/plain": [
       "(26, 67, (1, 1), (24, 65))"
      ]
     },
     "execution_count": 253,
     "metadata": {},
     "output_type": "execute_result"
    }
   ],
   "source": [
    "f = open('maze3.txt')       \n",
    "grid = f.read().splitlines()\n",
    "f.close()\n",
    "for zeile in grid:\n",
    "    print(zeile)\n",
    "dirs =  [(0,-1),(0,1),(-1,0),(1,0)]\n",
    "\n",
    "startChar = 'S'\n",
    "goalChar = 'Z'\n",
    "\n",
    "height = len(grid)\n",
    "width = len(grid[0])\n",
    "for x in range(height):\n",
    "    for y in range(width):\n",
    "        if grid[x][y] == startChar:\n",
    "            start = (x,y)\n",
    "        elif grid[x][y] == goalChar:\n",
    "            ziel = (x,y)\n",
    "height, width, start, ziel          "
   ]
  },
  {
   "cell_type": "code",
   "execution_count": 254,
   "id": "4e852349-de8c-4fc3-b279-021716a15382",
   "metadata": {},
   "outputs": [
    {
     "name": "stdout",
     "output_type": "stream",
     "text": [
      "start=(1, 1), ziel=(24, 65)\n",
      "mid=(1, 44)\n",
      "prev=1379\n",
      "[(1, 1), (1, 2), (1, 3), (1, 4), (1, 5), (1, 6), (1, 7), (1, 8), (1, 9), (1, 10), (1, 11), (1, 12), (1, 13), (1, 14), (1, 15), (1, 16), (1, 17), (1, 18), (1, 19), (1, 20), (1, 21), (1, 22), (1, 23), (1, 24), (1, 25), (1, 26), (1, 27), (1, 28), (1, 29), (1, 30), (1, 31), (1, 32), (1, 33), (1, 34), (1, 35), (1, 36), (1, 37), (1, 38), (1, 39), (1, 40), (1, 41), (1, 42), (1, 43), (1, 44), (1, 45), (2, 45), (2, 46), (3, 46), (3, 47), (4, 47), (4, 48), (5, 48), (5, 49), (6, 49), (6, 50), (7, 50), (7, 51), (7, 52), (7, 53), (8, 53), (8, 54), (9, 54), (9, 55), (10, 55), (10, 56), (11, 56), (11, 57), (12, 57), (12, 58), (13, 58), (13, 59), (14, 59), (14, 60), (15, 60), (15, 61), (16, 61), (16, 62), (17, 62), (17, 63), (18, 63), (18, 64), (18, 65), (19, 65), (20, 65), (21, 65), (22, 65), (23, 65), (24, 65)]\n",
      "88\n"
     ]
    }
   ],
   "source": [
    "print(f'{start=}, {ziel=}')\n",
    "prev, prev2, mid = bibfs(start,ziel)\n",
    "print(f'{mid=}')\n",
    "path1 = reconstructPath(prev, mid)\n",
    "path2 = reconstructPath(prev2,mid)\n",
    "print(f'prev={len(prev)+len(prev2)}')\n",
    "pathA = path1 + path2[::-1][1:]\n",
    "print(pathA)\n",
    "print(len(pathA))"
   ]
  },
  {
   "cell_type": "code",
   "execution_count": 255,
   "id": "8f96b314-e270-40be-8df0-518a64083296",
   "metadata": {},
   "outputs": [
    {
     "name": "stdout",
     "output_type": "stream",
     "text": [
      "start=(1, 1), ziel=(24, 65)\n",
      "prev=1467\n",
      "[(1, 1), (1, 2), (1, 3), (1, 4), (1, 5), (1, 6), (1, 7), (1, 8), (1, 9), (1, 10), (1, 11), (1, 12), (1, 13), (1, 14), (1, 15), (1, 16), (1, 17), (1, 18), (1, 19), (1, 20), (1, 21), (1, 22), (1, 23), (1, 24), (1, 25), (1, 26), (1, 27), (1, 28), (1, 29), (1, 30), (1, 31), (1, 32), (1, 33), (1, 34), (1, 35), (1, 36), (1, 37), (1, 38), (1, 39), (1, 40), (1, 41), (1, 42), (1, 43), (1, 44), (1, 45), (1, 46), (1, 47), (2, 47), (2, 48), (3, 48), (3, 49), (4, 49), (4, 50), (5, 50), (5, 51), (6, 51), (6, 52), (7, 52), (7, 53), (8, 53), (9, 53), (10, 53), (11, 53), (12, 53), (13, 53), (13, 54), (13, 55), (14, 55), (14, 56), (15, 56), (15, 57), (16, 57), (16, 58), (17, 58), (17, 59), (18, 59), (18, 60), (19, 60), (19, 61), (20, 61), (20, 62), (21, 62), (21, 63), (22, 63), (22, 64), (23, 64), (23, 65), (24, 65)]\n",
      "88\n"
     ]
    }
   ],
   "source": [
    "print(f'{start=}, {ziel=}')\n",
    "prev  = bfs(start,ziel)\n",
    "pathB = reconstructPath(prev, ziel)\n",
    "print(f'prev={len(prev)}')\n",
    "print(pathB)\n",
    "print(len(pathB))"
   ]
  },
  {
   "cell_type": "code",
   "execution_count": 249,
   "id": "407ab3e8-2181-4446-bcba-392bb8a90aaa",
   "metadata": {},
   "outputs": [
    {
     "data": {
      "text/plain": [
       "True"
      ]
     },
     "execution_count": 249,
     "metadata": {},
     "output_type": "execute_result"
    }
   ],
   "source": [
    "pathA == pathB"
   ]
  },
  {
   "cell_type": "code",
   "execution_count": 250,
   "id": "74a5c262-1f6f-4374-b5a0-b6760e77c52c",
   "metadata": {},
   "outputs": [],
   "source": [
    "for i in range(len(path)):\n",
    "    if pathA[i] != pathB[i]:\n",
    "        print(i,pathA[i], pathB[i])"
   ]
  },
  {
   "cell_type": "code",
   "execution_count": 251,
   "id": "1b93959d-2b85-4fea-9bc0-c890e094f63b",
   "metadata": {},
   "outputs": [
    {
     "name": "stdout",
     "output_type": "stream",
     "text": [
      "###################################################################\n",
      "#ooooooooooooooooooooooooooooooooooooooooooooooo                  #\n",
      "#                                              oo                 #\n",
      "#                                               oo                #\n",
      "#                                       #        oo               #\n",
      "#                                       #         oo              #\n",
      "#                                       #          oo             #\n",
      "#                                       #           oo            #\n",
      "#                                       #############o            #\n",
      "#                                       #            o            #\n",
      "#                                       #            o            #\n",
      "#                                       #            o            #\n",
      "#                                       #            o            #\n",
      "#                                       #            ooo          #\n",
      "#                                       #              oo         # \n",
      "#                                       #               oo        #\n",
      "#        ################################                oo       #\n",
      "#                                       #                 oo      #\n",
      "#                                       #                  oo     #\n",
      "#                                       #                   oo    #\n",
      "#                                       #                    oo   #\n",
      "#                                       #                     oo  #\n",
      "#        ################################                      oo #                         \n",
      "#                                                               oo#\n",
      "#                                                                o#\n",
      "###################################################################\n"
     ]
    }
   ],
   "source": [
    "showPath(grid,pathA)"
   ]
  },
  {
   "cell_type": "code",
   "execution_count": 244,
   "id": "6c1118f7-5e97-4290-92a8-61c63284314a",
   "metadata": {},
   "outputs": [],
   "source": [
    "def showPath(grid,path):\n",
    "    grid0 = [list(s) for s in grid] \n",
    "    for (x,y) in path:\n",
    "        grid0[x][y] = 'o'\n",
    "    for zeile in grid0:\n",
    "        print(*zeile,sep='')\n",
    "    "
   ]
  },
  {
   "cell_type": "code",
   "execution_count": 245,
   "id": "98ab66f5-51b6-4e4c-b8c5-eb4a4a0c487b",
   "metadata": {},
   "outputs": [
    {
     "name": "stdout",
     "output_type": "stream",
     "text": [
      "###################################################################\n",
      "#                                                                 #\n",
      "#                                                                 #\n",
      "#                                                                 #\n",
      "#                                       #                         #\n",
      "#                                       #                         #\n",
      "#                                       #                         #\n",
      "#                                       #                         #\n",
      "#                                       #############             #\n",
      "#                                       #                         #\n",
      "#                                       #                         #\n",
      "#                                       #                         #\n",
      "#                                       #                         #\n",
      "#                                       #                         #\n",
      "#                                       #                         # \n",
      "#                                       #                         #\n",
      "#        ################################  oo                     #\n",
      "#                                       #ooo                      #\n",
      "#                                       #o                        #\n",
      "#                                       #o                        #\n",
      "#        ooooooooooooooooooooo          #o                        #\n",
      "#       oo                              #o                        #\n",
      "#       o################################o                        #                         \n",
      "#       oooooooooooooooooooooooooooooooooo                        #\n",
      "#                                                                 #\n",
      "###################################################################\n"
     ]
    }
   ],
   "source": [
    "showPath(grid,pathB)"
   ]
  },
  {
   "cell_type": "code",
   "execution_count": null,
   "id": "35d688fe-8076-4361-946c-30a66a8cd0b6",
   "metadata": {},
   "outputs": [],
   "source": []
  },
  {
   "cell_type": "code",
   "execution_count": null,
   "id": "baf14db8-00bb-4aad-9023-d65bdc2bd974",
   "metadata": {},
   "outputs": [],
   "source": []
  }
 ],
 "metadata": {
  "kernelspec": {
   "display_name": "Python 3 (ipykernel)",
   "language": "python",
   "name": "python3"
  },
  "language_info": {
   "codemirror_mode": {
    "name": "ipython",
    "version": 3
   },
   "file_extension": ".py",
   "mimetype": "text/x-python",
   "name": "python",
   "nbconvert_exporter": "python",
   "pygments_lexer": "ipython3",
   "version": "3.12.8"
  }
 },
 "nbformat": 4,
 "nbformat_minor": 5
}
