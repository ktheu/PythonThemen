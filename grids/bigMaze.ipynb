{
 "cells": [
  {
   "cell_type": "markdown",
   "id": "fc60faac-b820-445a-9335-395a4ea80114",
   "metadata": {},
   "source": [
    "## BigMaze\n",
    "\n",
    "Als *state* betrachten wir eine Position, d.h. ein Tuple (x,y).\n",
    "Wir legen nur die Höhe und Breite fest und lassen uns per Zufall Wände generieren."
   ]
  },
  {
   "cell_type": "code",
   "execution_count": 67,
   "id": "ed39936f-ec83-416d-93c0-33afe822bdb1",
   "metadata": {},
   "outputs": [
    {
     "name": "stdout",
     "output_type": "stream",
     "text": [
      "1801461\n"
     ]
    }
   ],
   "source": [
    "import random\n",
    "random.seed(1)\n",
    "height = width = 3000\n",
    "anteilWaende = 0.2\n",
    "walls = {(x,y) for x in range(height) for y in range(width) if random.random() < anteilWaende}\n",
    "print(len(walls))\n",
    "start = (height//2,0)\n",
    "ziel = (height//2,width-1)"
   ]
  },
  {
   "cell_type": "markdown",
   "id": "81a7c60f-fefc-42e5-87ad-072356860bd4",
   "metadata": {},
   "source": [
    "### BFS - Breitensuche"
   ]
  },
  {
   "cell_type": "code",
   "execution_count": 89,
   "id": "4c9f5ab2-2cab-466e-8684-d21e828cdbd3",
   "metadata": {},
   "outputs": [
    {
     "name": "stdout",
     "output_type": "stream",
     "text": [
      "len(prev)=6217435\n",
      "len(path)=3430\n",
      "CPU times: total: 16.2 s\n",
      "Wall time: 17.8 s\n"
     ]
    }
   ],
   "source": [
    "%%time\n",
    "from collections import deque\n",
    "def bfs(startstate):\n",
    "    ''' \n",
    "    returns: Tuple (prev, state) \n",
    "        prev: dictionary mit den Vorgängern der untersuchten Spielstellungen,            \n",
    "        state: Spielstellung, die den goaltest besteht\n",
    "        wenn Ziel nicht gefunden: None, None\n",
    "    '''   \n",
    "    frontier =  deque([startstate])\n",
    "    prev = {startstate:None}\n",
    "    while frontier:\n",
    "        state = frontier.popleft()  \n",
    "        if goaltest(state):\n",
    "            return prev, state\n",
    "        for v in nextstates(state):\n",
    "            if v not in prev:\n",
    "                frontier.append(v)\n",
    "                prev[v] = state\n",
    "    return None, None\n",
    "\n",
    "def reconstructPath(prev,goalstate):\n",
    "    state = goalstate\n",
    "    path = []\n",
    "    while state is not None:\n",
    "        path.append(state)\n",
    "        state = prev[state]\n",
    "    path.reverse()\n",
    "    return path\n",
    "\n",
    "def nextstates(state):\n",
    "    '''\n",
    "    returns:  Liste mit möglichen Folgestellungen zu state\n",
    "    '''\n",
    "    x, y = state\n",
    "    tmp = []\n",
    "    for xd, yd in dirs:\n",
    "        x1 = x + xd\n",
    "        y1 = y + yd\n",
    "        if 0 <= x1 < height and 0 <= y1 < width and (x1,y1) not in walls:\n",
    "            tmp.append((x1,y1))\n",
    "    return tmp    \n",
    "    \n",
    "def goaltest(state):\n",
    "    '''\n",
    "    returns: True, wenn state eine Lösung ist\n",
    "    '''\n",
    "    return state == ziel\n",
    "\n",
    "\n",
    "# Aufruf:\n",
    "prev, goal = bfs(start)\n",
    "print(f'{len(prev)=}')\n",
    "path = reconstructPath(prev,goal) \n",
    "print(f'{len(path)=}')"
   ]
  },
  {
   "cell_type": "markdown",
   "id": "f14f13dc-540f-497e-8869-fecebafa4fcf",
   "metadata": {},
   "source": [
    "### A*\n",
    "\n"
   ]
  },
  {
   "cell_type": "code",
   "execution_count": 80,
   "id": "a987d6c4-10b9-40dd-b4c8-3b03e205fb4e",
   "metadata": {},
   "outputs": [
    {
     "name": "stdout",
     "output_type": "stream",
     "text": [
      "len(prev)=719913\n",
      "len(path)=3430\n",
      "CPU times: total: 3.81 s\n",
      "Wall time: 3.89 s\n"
     ]
    }
   ],
   "source": [
    "%%time\n",
    "from heapq import heappop, heappush\n",
    "def astar(s):\n",
    "    frontier =[(h(s),s)]  \n",
    "    prev = {s:None}\n",
    "    g = {s:0}                         # die Rückwärtskosten\n",
    "    while frontier:\n",
    "        _ ,state = heappop(frontier)  # die Kosten braucht man an der Stelle nicht\n",
    "        if goaltest(state):\n",
    "            return prev, state\n",
    "        for v in nextstates(state):\n",
    "            gg = g[state] + 1       \n",
    "            if v not in prev or gg < g[v]:     \n",
    "                g[v] = gg                     \n",
    "                heappush(frontier,(g[v]+h(v),v))  \n",
    "                prev[v] = state\n",
    "    return None, None\n",
    "\n",
    "def reconstructPath(prev,goalstate):\n",
    "    state = goalstate\n",
    "    path = []\n",
    "    while state is not None:\n",
    "        path.append(state)\n",
    "        state = prev[state]\n",
    "    path.reverse()\n",
    "    return path\n",
    "\n",
    "def h(state):\n",
    "    '''\n",
    "    returns: Vorwärtskosten laut Heuristik\n",
    "    '''\n",
    "    x, y = state\n",
    "    x1, y1 = ziel\n",
    "    return abs(x1-x)+abs(y1-y)\n",
    "\n",
    "#Aufruf:\n",
    "prev, goal = astar(start)\n",
    "print(f'{len(prev)=}')\n",
    "path = reconstructPath(prev,goal) \n",
    "print(f'{len(path)=}')\n",
    " "
   ]
  },
  {
   "cell_type": "markdown",
   "id": "cc07f8d1-fa5d-469d-95b2-fab9be07d2ba",
   "metadata": {},
   "source": [
    "### Beamsearch"
   ]
  },
  {
   "cell_type": "code",
   "execution_count": 84,
   "id": "7bbb625b-1565-4d4f-b880-50d0f772e896",
   "metadata": {},
   "outputs": [
    {
     "name": "stdout",
     "output_type": "stream",
     "text": [
      "len(prev)=102918\n",
      "len(path)=3430\n",
      "CPU times: total: 438 ms\n",
      "Wall time: 518 ms\n"
     ]
    }
   ],
   "source": [
    "%%time\n",
    "def beamsearch(startstate, beamwidth): \n",
    "    frontier =[startstate]\n",
    "    prev = {startstate:None}\n",
    "    nextfrontier = []\n",
    "    while frontier:\n",
    "        for state in frontier:\n",
    "            if goaltest(state):\n",
    "                return prev, state\n",
    "            for v in nextstates(state):\n",
    "                if v not in prev:\n",
    "                    prev[v] = state\n",
    "                    nextfrontier.append(v)\n",
    "        \n",
    "        frontier = sorted(nextfrontier,key=lambda x: h(x)) \n",
    "        frontier = frontier[:beamwidth]\n",
    "        nextfrontier = []\n",
    "    return None, None\n",
    "\n",
    "def reconstructPath(prev,goalstate):\n",
    "    state = goalstate\n",
    "    path = []\n",
    "    while state is not None:\n",
    "        path.append(state)\n",
    "        state = prev[state]\n",
    "    path.reverse()\n",
    "    return path\n",
    "\n",
    "def h(state):\n",
    "    '''\n",
    "    returns: Vorwärtskosten laut Heuristik\n",
    "    '''\n",
    "    x, y = state\n",
    "    x1, y1 = ziel\n",
    "    return abs(x1-x)+abs(y1-y)\n",
    "    \n",
    "#Aufruf:\n",
    "BEAMWIDTH = 30                    # bei BEAMWIDTH=26 wird nicht mehr die optimale Lösung gefunden\n",
    "prev, goal = beamsearch(start,BEAMWIDTH)\n",
    "print(f'{len(prev)=}')\n",
    "path = reconstructPath(prev,goal) \n",
    "print(f'{len(path)=}')\n"
   ]
  },
  {
   "cell_type": "code",
   "execution_count": 1,
   "id": "d960a7f4-f006-445f-99c6-66eeaf09861b",
   "metadata": {},
   "outputs": [],
   "source": [
    "def getMove(s1, s2):\n",
    "    '''\n",
    "    returns: die Beschreibung des Übergangs von state s1 zu state s2\n",
    "    '''\n",
    "    pass\n",
    "\n",
    "def getMoves(path):\n",
    "    '''\n",
    "    returns: Beschreibung des Pfads als eine Folge von Aktionen (Moves)\n",
    "    '''\n",
    "    moves = ''\n",
    "    for i in range(len(path)-1):\n",
    "        moves+=getMove(path[i],path[i+1])\n",
    "    return moves\n",
    "\n",
    "#Aufruf\n",
    "#print(getMoves(path))"
   ]
  }
 ],
 "metadata": {
  "kernelspec": {
   "display_name": "Python 3 (ipykernel)",
   "language": "python",
   "name": "python3"
  },
  "language_info": {
   "codemirror_mode": {
    "name": "ipython",
    "version": 3
   },
   "file_extension": ".py",
   "mimetype": "text/x-python",
   "name": "python",
   "nbconvert_exporter": "python",
   "pygments_lexer": "ipython3",
   "version": "3.12.8"
  }
 },
 "nbformat": 4,
 "nbformat_minor": 5
}
