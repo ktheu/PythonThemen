{
 "cells": [
  {
   "cell_type": "code",
   "execution_count": null,
   "id": "65a9aee2-0a82-4c59-b385-dafc68a4add8",
   "metadata": {},
   "outputs": [],
   "source": [
    "f = open('input.txt')\n",
    "data = f.readlines()               # alle Zeilen in einen String lesen\n",
    "f.close()\n",
    "grid = [list(s.strip()) for s in data if len(s.strip())>0]\n",
    "grid"
   ]
  }
 ],
 "metadata": {
  "kernelspec": {
   "display_name": "Python 3 (ipykernel)",
   "language": "python",
   "name": "python3"
  },
  "language_info": {
   "codemirror_mode": {
    "name": "ipython",
    "version": 3
   },
   "file_extension": ".py",
   "mimetype": "text/x-python",
   "name": "python",
   "nbconvert_exporter": "python",
   "pygments_lexer": "ipython3",
   "version": "3.11.2"
  }
 },
 "nbformat": 4,
 "nbformat_minor": 5
}
