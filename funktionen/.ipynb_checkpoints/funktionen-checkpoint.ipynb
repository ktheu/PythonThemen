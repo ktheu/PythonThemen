{
 "cells": [
  {
   "cell_type": "markdown",
   "metadata": {
    "slideshow": {
     "slide_type": "slide"
    }
   },
   "source": [
    "# Funktionen\n",
    "\n",
    "[Video](https://youtu.be/IqV7TBp3-gE?si=Ls5wNqKfym8A6qLE)\n",
    "\n",
    "In Funktionen fassen wir Codeabschnitte, die eine definierte Aufgabe erfüllen, zu einer Einheit zusammen.\n",
    "\n",
    "![](bild1.png)          "
   ]
  },
  {
   "cell_type": "code",
   "execution_count": 1,
   "metadata": {},
   "outputs": [],
   "source": [
    "def calc(x, y):\n",
    "    z = x + y\n",
    "    z = 3*z + 1\n",
    "    return z"
   ]
  },
  {
   "cell_type": "code",
   "execution_count": 2,
   "metadata": {},
   "outputs": [
    {
     "name": "stdout",
     "output_type": "stream",
     "text": [
      "19\n"
     ]
    }
   ],
   "source": [
    "a = calc(2,4)\n",
    "print(a)"
   ]
  },
  {
   "cell_type": "markdown",
   "metadata": {},
   "source": [
    "Wir müssen das Ergebnis nicht in einer Variable auffangen, sondern können es auch sofort printen."
   ]
  },
  {
   "cell_type": "code",
   "execution_count": 3,
   "metadata": {},
   "outputs": [
    {
     "name": "stdout",
     "output_type": "stream",
     "text": [
      "19\n"
     ]
    }
   ],
   "source": [
    "print(calc(2,4))"
   ]
  },
  {
   "cell_type": "markdown",
   "metadata": {},
   "source": [
    "In Jupyter-Notebooks wird die Auswertung der letzten Zeile einer Zelle auch ohne print angezeigt."
   ]
  },
  {
   "cell_type": "code",
   "execution_count": 4,
   "metadata": {},
   "outputs": [
    {
     "data": {
      "text/plain": [
       "19"
      ]
     },
     "execution_count": 4,
     "metadata": {},
     "output_type": "execute_result"
    }
   ],
   "source": [
    "calc(2,4)"
   ]
  },
  {
   "cell_type": "markdown",
   "metadata": {
    "slideshow": {
     "slide_type": "slide"
    }
   },
   "source": [
    "####  Eine Funktion ohne Parameter\n"
   ]
  },
  {
   "cell_type": "code",
   "execution_count": 5,
   "metadata": {
    "slideshow": {
     "slide_type": "fragment"
    }
   },
   "outputs": [],
   "source": [
    "def sterne():\n",
    "    return '*****'"
   ]
  },
  {
   "cell_type": "code",
   "execution_count": 6,
   "metadata": {},
   "outputs": [
    {
     "data": {
      "text/plain": [
       "'*****'"
      ]
     },
     "execution_count": 6,
     "metadata": {},
     "output_type": "execute_result"
    }
   ],
   "source": [
    "sterne()                            "
   ]
  },
  {
   "cell_type": "markdown",
   "metadata": {
    "slideshow": {
     "slide_type": "slide"
    }
   },
   "source": [
    "####  Eine Funktionen mit einem Parameter\n",
    "Beim Aufruf der Funktion wird der Parameter durch einen konkreten Wert (das Argument) ersetzt."
   ]
  },
  {
   "cell_type": "code",
   "execution_count": 7,
   "metadata": {
    "slideshow": {
     "slide_type": "fragment"
    }
   },
   "outputs": [],
   "source": [
    "def sterne(k):          # k ist ein Parameter\n",
    "    return k * '*'      "
   ]
  },
  {
   "cell_type": "code",
   "execution_count": 8,
   "metadata": {},
   "outputs": [
    {
     "data": {
      "text/plain": [
       "'****************************************************************************************************'"
      ]
     },
     "execution_count": 8,
     "metadata": {},
     "output_type": "execute_result"
    }
   ],
   "source": [
    "sterne(100)"
   ]
  },
  {
   "cell_type": "markdown",
   "metadata": {},
   "source": [
    "Wenn die Funktion einen Parameter verlangt und wir übergeben beim Aufruf kein Argument, dann bekommen wir einen Fehler"
   ]
  },
  {
   "cell_type": "code",
   "execution_count": 9,
   "metadata": {},
   "outputs": [
    {
     "ename": "TypeError",
     "evalue": "sterne() missing 1 required positional argument: 'k'",
     "output_type": "error",
     "traceback": [
      "\u001b[1;31m---------------------------------------------------------------------------\u001b[0m",
      "\u001b[1;31mTypeError\u001b[0m                                 Traceback (most recent call last)",
      "Cell \u001b[1;32mIn[9], line 1\u001b[0m\n\u001b[1;32m----> 1\u001b[0m \u001b[43msterne\u001b[49m\u001b[43m(\u001b[49m\u001b[43m)\u001b[49m\n",
      "\u001b[1;31mTypeError\u001b[0m: sterne() missing 1 required positional argument: 'k'"
     ]
    }
   ],
   "source": [
    "sterne()"
   ]
  },
  {
   "cell_type": "markdown",
   "metadata": {},
   "source": [
    "#### Ein optionaler Parameter\n",
    "Ein optionaler Parameter ist ein Parameter, für den wir beim Aufruf nicht unbedingt ein Argument mitgeben müssen. Wenn wir kein Argument mitgeben, wird ein default-Wert genommen."
   ]
  },
  {
   "cell_type": "code",
   "execution_count": 10,
   "metadata": {
    "slideshow": {
     "slide_type": "slide"
    }
   },
   "outputs": [],
   "source": [
    "def sterne(k = 3):       # k ist optionaler Paramenter mit default 3 \n",
    "    return k * '*' "
   ]
  },
  {
   "cell_type": "code",
   "execution_count": 11,
   "metadata": {
    "slideshow": {
     "slide_type": "slide"
    }
   },
   "outputs": [
    {
     "data": {
      "text/plain": [
       "'************'"
      ]
     },
     "execution_count": 11,
     "metadata": {},
     "output_type": "execute_result"
    }
   ],
   "source": [
    "sterne(12)"
   ]
  },
  {
   "cell_type": "code",
   "execution_count": 12,
   "metadata": {
    "slideshow": {
     "slide_type": "slide"
    }
   },
   "outputs": [
    {
     "data": {
      "text/plain": [
       "'***'"
      ]
     },
     "execution_count": 12,
     "metadata": {},
     "output_type": "execute_result"
    }
   ],
   "source": [
    "sterne()          # k erhält den default-Wert 3"
   ]
  },
  {
   "cell_type": "markdown",
   "metadata": {},
   "source": [
    "#### Parameterliste\n",
    "Wenn eine Funktion mehrere Parameter hat, nennt man die Reihe der Parameter *Parameterliste*. Optionale Parameter müssen immer am Ende der Parameterliste stehen."
   ]
  },
  {
   "cell_type": "code",
   "execution_count": 13,
   "metadata": {},
   "outputs": [],
   "source": [
    "def zeichen(k, s='*'):     \n",
    "    return k * s"
   ]
  },
  {
   "cell_type": "code",
   "execution_count": 14,
   "metadata": {},
   "outputs": [
    {
     "data": {
      "text/plain": [
       "'abiabiabiabiabi'"
      ]
     },
     "execution_count": 14,
     "metadata": {},
     "output_type": "execute_result"
    }
   ],
   "source": [
    "zeichen(5,'abi')"
   ]
  },
  {
   "cell_type": "code",
   "execution_count": 15,
   "metadata": {},
   "outputs": [
    {
     "data": {
      "text/plain": [
       "'********************'"
      ]
     },
     "execution_count": 15,
     "metadata": {},
     "output_type": "execute_result"
    }
   ],
   "source": [
    "zeichen(20)"
   ]
  },
  {
   "cell_type": "markdown",
   "metadata": {},
   "source": [
    "#### Docstring"
   ]
  },
  {
   "cell_type": "markdown",
   "metadata": {
    "slideshow": {
     "slide_type": "slide"
    }
   },
   "source": [
    "Der *docstring* beschreibt die Anforderungen an die Eingabeparameter und was die Funktion zurückgibt."
   ]
  },
  {
   "cell_type": "code",
   "execution_count": 16,
   "metadata": {
    "slideshow": {
     "slide_type": "fragment"
    }
   },
   "outputs": [],
   "source": [
    "def zeichen(k, s):       \n",
    "    '''\n",
    "    k: positive ganze Zahl\n",
    "    s: String \n",
    "    returns: k mal den String s\n",
    "    '''\n",
    "    return k * s"
   ]
  },
  {
   "cell_type": "code",
   "execution_count": 17,
   "metadata": {},
   "outputs": [
    {
     "data": {
      "text/plain": [
       "'abiabiabiabi'"
      ]
     },
     "execution_count": 17,
     "metadata": {},
     "output_type": "execute_result"
    }
   ],
   "source": [
    "zeichen(4,'abi')"
   ]
  },
  {
   "cell_type": "markdown",
   "metadata": {},
   "source": [
    "Der *docstring* kann mit *help* angezeigt werden."
   ]
  },
  {
   "cell_type": "code",
   "execution_count": 18,
   "metadata": {
    "slideshow": {
     "slide_type": "fragment"
    }
   },
   "outputs": [
    {
     "name": "stdout",
     "output_type": "stream",
     "text": [
      "Help on function zeichen in module __main__:\n",
      "\n",
      "zeichen(k, s)\n",
      "    k: positive ganze Zahl\n",
      "    s: String \n",
      "    returns: k mal den String s\n",
      "\n"
     ]
    }
   ],
   "source": [
    "help(zeichen)"
   ]
  },
  {
   "cell_type": "markdown",
   "metadata": {},
   "source": [
    "#### Mehrere return-Anweisungen"
   ]
  },
  {
   "cell_type": "markdown",
   "metadata": {
    "slideshow": {
     "slide_type": "slide"
    }
   },
   "source": [
    "In einer Funktion kann es mehrere return Anweisungen geben. Die Funktion wird beim ersten Ausführen eines return statements verlassen."
   ]
  },
  {
   "cell_type": "code",
   "execution_count": 21,
   "metadata": {
    "slideshow": {
     "slide_type": "fragment"
    }
   },
   "outputs": [],
   "source": [
    "def temperatur(k):\n",
    "    if k >= 30: return 'heiß'\n",
    "    if k >= 15: return 'warm'\n",
    "    return 'kalt'"
   ]
  },
  {
   "cell_type": "code",
   "execution_count": 22,
   "metadata": {
    "slideshow": {
     "slide_type": "fragment"
    }
   },
   "outputs": [
    {
     "data": {
      "text/plain": [
       "'heiß'"
      ]
     },
     "execution_count": 22,
     "metadata": {},
     "output_type": "execute_result"
    }
   ],
   "source": [
    "temperatur(45)"
   ]
  },
  {
   "cell_type": "markdown",
   "metadata": {},
   "source": [
    "#### Funktionen ohne Rückgabewert\n",
    "\n",
    "Wird die Funktion nicht über eine return Anweisung verlassen, oder über ein return ohne Rückgabewert, dann gibt sie *None* zurück."
   ]
  },
  {
   "cell_type": "code",
   "execution_count": 40,
   "metadata": {},
   "outputs": [],
   "source": [
    "def sterne():           # Diese Funktion tut etwas, aber sie gibt nichts zurück\n",
    "    print('*****') "
   ]
  },
  {
   "cell_type": "code",
   "execution_count": 41,
   "metadata": {},
   "outputs": [
    {
     "name": "stdout",
     "output_type": "stream",
     "text": [
      "*****\n",
      "None\n"
     ]
    }
   ],
   "source": [
    "a = sterne()\n",
    "print(a)"
   ]
  },
  {
   "cell_type": "markdown",
   "metadata": {
    "slideshow": {
     "slide_type": "slide"
    }
   },
   "source": [
    "#### Mehrere Rückgabewerte\n",
    "\n",
    "Wir können mit Komma getrennt mehrere Werte zurückgeben. Was zurückgegeben wird ist ein Tupel, das wir beim Aufruf sofort unpacken können."
   ]
  },
  {
   "cell_type": "code",
   "execution_count": 42,
   "metadata": {
    "slideshow": {
     "slide_type": "fragment"
    }
   },
   "outputs": [],
   "source": [
    "def calc(a, b):                  \n",
    "    return a + b, a - b"
   ]
  },
  {
   "cell_type": "code",
   "execution_count": 45,
   "metadata": {
    "slideshow": {
     "slide_type": "fragment"
    }
   },
   "outputs": [
    {
     "data": {
      "text/plain": [
       "(12, 8)"
      ]
     },
     "execution_count": 45,
     "metadata": {},
     "output_type": "execute_result"
    }
   ],
   "source": [
    "calc(10,2)"
   ]
  },
  {
   "cell_type": "code",
   "execution_count": 46,
   "metadata": {},
   "outputs": [
    {
     "name": "stdout",
     "output_type": "stream",
     "text": [
      "12 8\n"
     ]
    }
   ],
   "source": [
    "a, b = calc(10,2)        # Aufruf mit unpacking\n",
    "print(a, b)"
   ]
  },
  {
   "cell_type": "markdown",
   "metadata": {
    "slideshow": {
     "slide_type": "slide"
    }
   },
   "source": [
    "#### Wie wir Funktionen schreiben\n",
    "Für die meisten Fälle gilt: **Funktionen sollten alles, was sie für ihre Arbeit benötigen, über Parameter erhalten und alle Ergebnisse mittels return zurückgeben.** Wir werden in der Regel keine input- oder print-Anweisungen innerhalb von Funktionen verwenden. (Ausnahme: Funktionen, deren alleiniger Zweck die Ein- oder Ausgabe ist)."
   ]
  },
  {
   "cell_type": "code",
   "execution_count": 49,
   "metadata": {
    "slideshow": {
     "slide_type": "slide"
    }
   },
   "outputs": [
    {
     "name": "stdout",
     "output_type": "stream",
     "text": [
      "Bitte eine positive ganze Zahl eingeben:  14\n",
      "Bitte noch eine positive ganze Zahl eingeben:  24\n"
     ]
    },
    {
     "name": "stdout",
     "output_type": "stream",
     "text": [
      "Der größte gemeinsame Teiler beider Zahlen ist 2.\n"
     ]
    }
   ],
   "source": [
    "# SO NICHT:\n",
    "def ggt():\n",
    "    a = int(input('Bitte eine positive ganze Zahl eingeben: '))\n",
    "    b = int(input('Bitte noch eine positive ganze Zahl eingeben: '))\n",
    "    while a != b:\n",
    "        if a > b:\n",
    "            a = a - b\n",
    "        else:\n",
    "            b = b - a\n",
    "\n",
    "    print(f'Der größte gemeinsame Teiler beider Zahlen ist {a}.')\n",
    "    \n",
    "ggt()"
   ]
  },
  {
   "cell_type": "code",
   "execution_count": null,
   "metadata": {
    "slideshow": {
     "slide_type": "slide"
    }
   },
   "outputs": [],
   "source": [
    "# SONDERN SO:\n",
    "def ggt(a, b):\n",
    "    '''\n",
    "    a, b: positive ganze Zahl\n",
    "    returns: größten gemeinsamen Teiler von a und b\n",
    "    '''\n",
    "    while a != b:\n",
    "        if a > b:\n",
    "            a = a - b\n",
    "        else:\n",
    "            b = b - a\n",
    "    return a\n",
    "\n",
    "\n",
    "a = int(input('Bitte eine positive ganze Zahl eingeben: '))\n",
    "b = int(input('Bitte noch eine positive ganze Zahl eingeben: '))\n",
    "c = ggt(a,b)\n",
    "print(f'Der größte gemeinsame Teiler beider Zahlen ist {c}.')"
   ]
  },
  {
   "cell_type": "markdown",
   "metadata": {
    "slideshow": {
     "slide_type": "slide"
    }
   },
   "source": [
    "## Lokale und globale Variablen\n"
   ]
  },
  {
   "cell_type": "markdown",
   "metadata": {
    "slideshow": {
     "slide_type": "fragment"
    }
   },
   "source": [
    "Variablen, die außerhalb der Funktionen definiert werden, heißen *globale Variablen* und gehören zum *global frame*. Beim Aufruf einer Funktion entsteht ein neuer *frame* für die *lokalen Variablen*. Dies lässt sich gut im \n",
    "[Python Tutor](http://www.pythontutor.com/visualize.html#mode=edit) verfolgen."
   ]
  },
  {
   "cell_type": "markdown",
   "metadata": {
    "slideshow": {
     "slide_type": "slide"
    }
   },
   "source": [
    "Funktionen können auf globale Variablen lesend zugreifen."
   ]
  },
  {
   "cell_type": "code",
   "execution_count": 2,
   "metadata": {
    "slideshow": {
     "slide_type": "fragment"
    }
   },
   "outputs": [
    {
     "name": "stdout",
     "output_type": "stream",
     "text": [
      "10 12\n"
     ]
    }
   ],
   "source": [
    "def doit():\n",
    "    y = x + 2\n",
    "    return y\n",
    "\n",
    "x = 10          # globale Variable\n",
    "z = doit()\n",
    "\n",
    "print(x, z) "
   ]
  },
  {
   "cell_type": "markdown",
   "metadata": {
    "slideshow": {
     "slide_type": "slide"
    }
   },
   "source": [
    "Lokale Variablen verdecken gleichnamige globale Variablen."
   ]
  },
  {
   "cell_type": "code",
   "execution_count": 4,
   "metadata": {
    "slideshow": {
     "slide_type": "fragment"
    }
   },
   "outputs": [
    {
     "name": "stdout",
     "output_type": "stream",
     "text": [
      "10 7\n"
     ]
    }
   ],
   "source": [
    "def doit():\n",
    "    x = 5  \n",
    "    y = x + 2\n",
    "    return y\n",
    "\n",
    "x = 10   \n",
    "z = doit()\n",
    "\n",
    "print(x, z) "
   ]
  },
  {
   "cell_type": "markdown",
   "metadata": {
    "slideshow": {
     "slide_type": "slide"
    }
   },
   "source": [
    "Ein Parameter wirkt wie eine lokale Variable"
   ]
  },
  {
   "cell_type": "code",
   "execution_count": 5,
   "metadata": {
    "slideshow": {
     "slide_type": "fragment"
    }
   },
   "outputs": [
    {
     "name": "stdout",
     "output_type": "stream",
     "text": [
      "10 7\n"
     ]
    }
   ],
   "source": [
    "def doit(x):\n",
    "    y = x + 2\n",
    "    return y\n",
    "\n",
    "x = 10      \n",
    "z = doit(5)\n",
    "\n",
    "print(x,z)"
   ]
  },
  {
   "cell_type": "markdown",
   "metadata": {
    "slideshow": {
     "slide_type": "slide"
    }
   },
   "source": [
    "Um eine globale Variable in einer Funktion zu verändern, müssen wir diese Variable als global deklarieren."
   ]
  },
  {
   "cell_type": "code",
   "execution_count": 6,
   "metadata": {
    "slideshow": {
     "slide_type": "fragment"
    }
   },
   "outputs": [
    {
     "name": "stdout",
     "output_type": "stream",
     "text": [
      "7 9\n"
     ]
    }
   ],
   "source": [
    "def doit():\n",
    "    global x\n",
    "    x = 7\n",
    "    return x + 2\n",
    "    \n",
    "x = 10 \n",
    "z = doit()  \n",
    "\n",
    "print(x,z)"
   ]
  },
  {
   "cell_type": "markdown",
   "metadata": {
    "slideshow": {
     "slide_type": "slide"
    }
   },
   "source": [
    "In der Regel gilt: **Funktionen sollten für ihre Arbeit keine globalen Variablen benötigen, sondern nur ihre Parameter.**"
   ]
  },
  {
   "cell_type": "markdown",
   "metadata": {},
   "source": [
    "Manchmal erlauben wir uns (aus Bequemlichkeitsgründen) auch Ausnahmen von dieser Regel."
   ]
  },
  {
   "cell_type": "markdown",
   "metadata": {},
   "source": [
    "## Zusammenfassung\n",
    "\n",
    "- Funktionen sollten alles, was sie für ihre Arbeit benötigen, über Parameter erhalten und alle Ergebnisse mittels return zurückgeben.\n",
    "- Beim Aufruf einer Funktion werden den Parametern die Argumente des Aufrufs zugewiesen. Optionale Parameter kommen ans Ende der Parameterliste.\n",
    "- Wir können innerhalb von Funktionen lokale Variablen erstellen. Diese leben nur solange, bis die Funktion zum Ende gekommen ist.\n",
    "- Auf globale Variablen können wir innerhalb von Funktionen lesend zugreifen, sofern sie nicht durch Parameter oder lokale Variablen verdeckt sind.\n",
    "- Wenn wir innerhalb von Funktionen eine globale Variable ändern wollen, müssen wir sie in der Funktion mit dem Schlüsselwort *global* als global deklarieren.\n",
    "- Wenn wir beim Durchlaufen einer Funktion auf ein return stoßen, wird die Funktion sofort verlassen.\n",
    "- Mit return können wir mehrere Werte zurückgeben."
   ]
  },
  {
   "cell_type": "markdown",
   "metadata": {},
   "source": [
    "Wir erstellen Funktionen weil \n",
    "\n",
    "- wir einzelne Codeabschnitte besser testen können.\n",
    "- mit sprechenden Funktionsnamen die Programme, in denen wir die Funktionen aufrufen, besser lesbar werden.\n",
    "- wir die Codeabschnitte an anderen Stellen wiederverwenden können."
   ]
  },
  {
   "cell_type": "markdown",
   "metadata": {},
   "source": [
    "## Aufgaben\n",
    "\n",
    "Bei den meisten Aufgaben sind nur der doc-String und Beispielaufrufe gegeben. Die Kopfzeile und der Rumpf der Funktion sollen ergänzt werden.\n"
   ]
  },
  {
   "cell_type": "code",
   "execution_count": null,
   "metadata": {},
   "outputs": [],
   "source": [
    "'''\n",
    "Aufgabe 1:  \n",
    "'''\n",
    "#your code\n",
    "    '''\n",
    "    returns: None,  Gibt die Zeichenfolge 'x.' aus   \n",
    "\n",
    "    >>> func1()\n",
    "    x.\n",
    "    '''\n",
    "    #your code\n",
    " \n"
   ]
  },
  {
   "cell_type": "code",
   "execution_count": null,
   "metadata": {},
   "outputs": [],
   "source": [
    "'''\n",
    "Aufgabe 2:  \n",
    "'''\n",
    "#your code\n",
    "    '''\n",
    "    returns: string, die Zeichenfolge 'x.'\n",
    "\n",
    "    >>> s = func2()\n",
    "    >>> print(s)\n",
    "    x.\n",
    "    '''\n",
    "    #your code\n"
   ]
  },
  {
   "cell_type": "code",
   "execution_count": null,
   "metadata": {},
   "outputs": [],
   "source": [
    "'''\n",
    "Aufgabe 3:  \n",
    "'''\n",
    "#your code\n",
    "    '''\n",
    "    k: int, k > 0\n",
    "    returns: string, k-mal die Zeichenfolge '.x'\n",
    "\n",
    "    >>> s = func3(5)\n",
    "    >>> print(s)\n",
    "    x.x.x.x.x.\n",
    "    '''\n",
    "    #your code\n",
    " \n",
    "func3(5)"
   ]
  },
  {
   "cell_type": "code",
   "execution_count": null,
   "metadata": {},
   "outputs": [],
   "source": [
    "'''\n",
    "Aufgabe 4:  \n",
    "'''\n",
    "#your code\n",
    "    '''\n",
    "    k: int, k > 0\n",
    "    c: str, ein Zeichen\n",
    "    returns: string k-mal die Zeichenfolge: Punkt, gefolgt vom Zeichen c\n",
    "    \n",
    "    >>> func4(3,'#')\n",
    "    .#.#.#\n",
    "    '''\n",
    "    #your code"
   ]
  },
  {
   "cell_type": "code",
   "execution_count": null,
   "metadata": {},
   "outputs": [],
   "source": [
    "'''\n",
    "Aufgabe 5:  \n",
    "Hinweis: der default-Wert ist der Wert, der angenommen wird, wenn für den Parameter kein Wert übergeben wird.\n",
    "'''\n",
    "#your code\n",
    "    '''\n",
    "    k: int, k > 0  \n",
    "    c: string, ein Zeichen mit default 'x'\n",
    "    returns: string k-mal die Zeichenfolge: Punkt, gefolgt vom Zeichen c\n",
    "    \n",
    "    >>> func5(3,'#')\n",
    "    .#.#.#\n",
    "\n",
    "    >>> func5(4)\n",
    "    '.x.x.x.x'\n",
    "    '''\n",
    "    #your code "
   ]
  },
  {
   "cell_type": "code",
   "execution_count": null,
   "metadata": {},
   "outputs": [],
   "source": [
    "'''\n",
    "Aufgabe 6: Nutze mehrere return-Anweisungen\n",
    "'''\n",
    "# your code\n",
    "    '''\n",
    "    x: int\n",
    "    returns 'A' falls x < 20\n",
    "            'B' falls 20 <= x < 30\n",
    "            'C' falls 30 <= x\n",
    "\n",
    "    >>> func6(15)\n",
    "    A\n",
    "    >>> func6(25)\n",
    "    B\n",
    "    >>> func6(35)\n",
    "    C\n",
    "\n",
    "    '''\n",
    "    #your code\n"
   ]
  },
  {
   "cell_type": "code",
   "execution_count": null,
   "metadata": {},
   "outputs": [],
   "source": [
    "'''\n",
    "Aufgabe 7:  \n",
    "'''\n",
    "#your code\n",
    "    '''\n",
    "    a, b: ints\n",
    "    returns: Tupel aus a-b und a+b \n",
    "    >>> x1, x2 = func7(10,1)\n",
    "    print(x1, x2)\n",
    "    9 11\n",
    "    '''\n",
    "    #your code\n"
   ]
  },
  {
   "cell_type": "code",
   "execution_count": null,
   "metadata": {},
   "outputs": [],
   "source": [
    "'''\n",
    "Aufgabe 8:  \n",
    "Erläutere am Beispiel die folgenden Begriffe:\n",
    "globale Variable, lokale Variable, Parameter, Argument\n",
    "Welchen Wert hat z am Ende des Programms?\n",
    "'''\n",
    "k = 10       \n",
    "def doit(y):\n",
    "    r = 5\n",
    "    w = k + y + r\n",
    "    return w\n",
    "\n",
    "z = doit(3) + k\n",
    "#print(z)"
   ]
  },
  {
   "cell_type": "code",
   "execution_count": null,
   "metadata": {},
   "outputs": [],
   "source": [
    "'''\n",
    "Aufgabe 9:  \n",
    "Welchen Wert hat z am Ende des Programms?\n",
    "'''\n",
    "x = 10 \n",
    "def doit(k):\n",
    "    global x\n",
    "    x = 5\n",
    "    z = 7\n",
    "    w = k + z\n",
    "    return w\n",
    "\n",
    "z = doit(3) + x\n",
    "#print(z) "
   ]
  }
 ],
 "metadata": {
  "celltoolbar": "Slideshow",
  "kernelspec": {
   "display_name": "Python 3 (ipykernel)",
   "language": "python",
   "name": "python3"
  },
  "language_info": {
   "codemirror_mode": {
    "name": "ipython",
    "version": 3
   },
   "file_extension": ".py",
   "mimetype": "text/x-python",
   "name": "python",
   "nbconvert_exporter": "python",
   "pygments_lexer": "ipython3",
   "version": "3.11.2"
  }
 },
 "nbformat": 4,
 "nbformat_minor": 4
}
