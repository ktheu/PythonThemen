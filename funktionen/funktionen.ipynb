{
 "cells": [
  {
   "cell_type": "markdown",
   "metadata": {
    "editable": true,
    "slideshow": {
     "slide_type": "slide"
    },
    "tags": []
   },
   "source": [
    "# Funktionen\n",
    "\n",
    "[Video](https://youtu.be/IqV7TBp3-gE?si=Ls5wNqKfym8A6qLE)\n",
    "\n",
    "In Funktionen fassen wir Codeabschnitte, die eine definierte Aufgabe erfüllen, zu einer Einheit zusammen.\n",
    "\n",
    "![](bild1.png)          "
   ]
  },
  {
   "cell_type": "code",
   "execution_count": 3,
   "metadata": {},
   "outputs": [],
   "source": [
    "def calc(x, y):\n",
    "    z = x + y\n",
    "    z = 3*z + 1\n",
    "    return z"
   ]
  },
  {
   "cell_type": "code",
   "execution_count": 4,
   "metadata": {},
   "outputs": [
    {
     "name": "stdout",
     "output_type": "stream",
     "text": [
      "19\n"
     ]
    }
   ],
   "source": [
    "a = calc(2,4)\n",
    "print(a)"
   ]
  },
  {
   "cell_type": "markdown",
   "metadata": {},
   "source": [
    "Wir müssen das Ergebnis nicht in einer Variable auffangen, sondern können es auch sofort printen."
   ]
  },
  {
   "cell_type": "code",
   "execution_count": 5,
   "metadata": {},
   "outputs": [
    {
     "name": "stdout",
     "output_type": "stream",
     "text": [
      "19\n"
     ]
    }
   ],
   "source": [
    "print(calc(2,4))"
   ]
  },
  {
   "cell_type": "markdown",
   "metadata": {},
   "source": [
    "In Jupyter-Notebooks wird die Auswertung der letzten Zeile einer Zelle auch ohne print angezeigt."
   ]
  },
  {
   "cell_type": "code",
   "execution_count": 6,
   "metadata": {},
   "outputs": [
    {
     "data": {
      "text/plain": [
       "19"
      ]
     },
     "execution_count": 6,
     "metadata": {},
     "output_type": "execute_result"
    }
   ],
   "source": [
    "calc(2,4)"
   ]
  },
  {
   "cell_type": "markdown",
   "metadata": {
    "slideshow": {
     "slide_type": "slide"
    }
   },
   "source": [
    "####  Eine Funktion ohne Parameter\n"
   ]
  },
  {
   "cell_type": "code",
   "execution_count": 7,
   "metadata": {
    "slideshow": {
     "slide_type": "fragment"
    }
   },
   "outputs": [],
   "source": [
    "def sterne():\n",
    "    return '*****'"
   ]
  },
  {
   "cell_type": "code",
   "execution_count": 8,
   "metadata": {},
   "outputs": [
    {
     "data": {
      "text/plain": [
       "'*****'"
      ]
     },
     "execution_count": 8,
     "metadata": {},
     "output_type": "execute_result"
    }
   ],
   "source": [
    "sterne()                            "
   ]
  },
  {
   "cell_type": "markdown",
   "metadata": {
    "slideshow": {
     "slide_type": "slide"
    }
   },
   "source": [
    "####  Eine Funktionen mit einem Parameter\n",
    "Beim Aufruf der Funktion wird der Parameter durch einen konkreten Wert (das Argument) ersetzt."
   ]
  },
  {
   "cell_type": "code",
   "execution_count": 9,
   "metadata": {
    "slideshow": {
     "slide_type": "fragment"
    }
   },
   "outputs": [],
   "source": [
    "def sterne(k):          # k ist ein Parameter\n",
    "    return k * '*'      "
   ]
  },
  {
   "cell_type": "code",
   "execution_count": 10,
   "metadata": {},
   "outputs": [
    {
     "data": {
      "text/plain": [
       "'****************************************************************************************************'"
      ]
     },
     "execution_count": 10,
     "metadata": {},
     "output_type": "execute_result"
    }
   ],
   "source": [
    "sterne(100)"
   ]
  },
  {
   "cell_type": "markdown",
   "metadata": {},
   "source": [
    "Wenn die Funktion einen Parameter verlangt und wir übergeben beim Aufruf kein Argument, dann bekommen wir einen Fehler"
   ]
  },
  {
   "cell_type": "code",
   "execution_count": 11,
   "metadata": {},
   "outputs": [
    {
     "ename": "TypeError",
     "evalue": "sterne() missing 1 required positional argument: 'k'",
     "output_type": "error",
     "traceback": [
      "\u001b[1;31m---------------------------------------------------------------------------\u001b[0m",
      "\u001b[1;31mTypeError\u001b[0m                                 Traceback (most recent call last)",
      "Cell \u001b[1;32mIn[11], line 1\u001b[0m\n\u001b[1;32m----> 1\u001b[0m \u001b[43msterne\u001b[49m\u001b[43m(\u001b[49m\u001b[43m)\u001b[49m\n",
      "\u001b[1;31mTypeError\u001b[0m: sterne() missing 1 required positional argument: 'k'"
     ]
    }
   ],
   "source": [
    "sterne()"
   ]
  },
  {
   "cell_type": "markdown",
   "metadata": {},
   "source": [
    "#### Ein optionaler Parameter\n",
    "Ein optionaler Parameter ist ein Parameter, für den wir beim Aufruf nicht unbedingt ein Argument mitgeben müssen. Wenn wir kein Argument mitgeben, wird ein default-Wert genommen."
   ]
  },
  {
   "cell_type": "code",
   "execution_count": null,
   "metadata": {
    "slideshow": {
     "slide_type": "slide"
    }
   },
   "outputs": [],
   "source": [
    "def sterne(k = 3):       # k ist optionaler Paramenter mit default 3 \n",
    "    return k * '*' "
   ]
  },
  {
   "cell_type": "code",
   "execution_count": null,
   "metadata": {
    "slideshow": {
     "slide_type": "slide"
    }
   },
   "outputs": [],
   "source": [
    "sterne(12)"
   ]
  },
  {
   "cell_type": "code",
   "execution_count": null,
   "metadata": {
    "slideshow": {
     "slide_type": "slide"
    }
   },
   "outputs": [],
   "source": [
    "sterne()          # k erhält den default-Wert 3"
   ]
  },
  {
   "cell_type": "markdown",
   "metadata": {},
   "source": [
    "#### Parameterliste\n",
    "Wenn eine Funktion mehrere Parameter hat, nennt man die Reihe der Parameter *Parameterliste*. Optionale Parameter müssen immer am Ende der Parameterliste stehen."
   ]
  },
  {
   "cell_type": "code",
   "execution_count": null,
   "metadata": {},
   "outputs": [],
   "source": [
    "def zeichen(k, s='*'):     \n",
    "    return k * s"
   ]
  },
  {
   "cell_type": "code",
   "execution_count": null,
   "metadata": {},
   "outputs": [],
   "source": [
    "zeichen(5,'abi')"
   ]
  },
  {
   "cell_type": "code",
   "execution_count": null,
   "metadata": {},
   "outputs": [],
   "source": [
    "zeichen(20)"
   ]
  },
  {
   "cell_type": "markdown",
   "metadata": {},
   "source": [
    "#### Docstring"
   ]
  },
  {
   "cell_type": "markdown",
   "metadata": {
    "slideshow": {
     "slide_type": "slide"
    }
   },
   "source": [
    "Der *docstring* beschreibt die Anforderungen an die Eingabeparameter und was die Funktion zurückgibt."
   ]
  },
  {
   "cell_type": "code",
   "execution_count": null,
   "metadata": {
    "slideshow": {
     "slide_type": "fragment"
    }
   },
   "outputs": [],
   "source": [
    "def zeichen(k, s):       \n",
    "    '''\n",
    "    k: positive ganze Zahl\n",
    "    s: String \n",
    "    returns: k mal den String s\n",
    "    '''\n",
    "    return k * s"
   ]
  },
  {
   "cell_type": "code",
   "execution_count": null,
   "metadata": {},
   "outputs": [],
   "source": [
    "zeichen(4,'abi')"
   ]
  },
  {
   "cell_type": "markdown",
   "metadata": {},
   "source": [
    "Der *docstring* kann mit *help* angezeigt werden."
   ]
  },
  {
   "cell_type": "code",
   "execution_count": null,
   "metadata": {
    "slideshow": {
     "slide_type": "fragment"
    }
   },
   "outputs": [],
   "source": [
    "help(zeichen)"
   ]
  },
  {
   "cell_type": "markdown",
   "metadata": {},
   "source": [
    "#### Mehrere return-Anweisungen"
   ]
  },
  {
   "cell_type": "markdown",
   "metadata": {
    "slideshow": {
     "slide_type": "slide"
    }
   },
   "source": [
    "In einer Funktion kann es mehrere return Anweisungen geben. Die Funktion wird beim ersten Ausführen eines return statements verlassen."
   ]
  },
  {
   "cell_type": "code",
   "execution_count": null,
   "metadata": {
    "slideshow": {
     "slide_type": "fragment"
    }
   },
   "outputs": [],
   "source": [
    "def temperatur(k):\n",
    "    if k >= 30: return 'heiß'\n",
    "    if k >= 15: return 'warm'\n",
    "    return 'kalt'"
   ]
  },
  {
   "cell_type": "code",
   "execution_count": null,
   "metadata": {
    "slideshow": {
     "slide_type": "fragment"
    }
   },
   "outputs": [],
   "source": [
    "temperatur(45)"
   ]
  },
  {
   "cell_type": "markdown",
   "metadata": {},
   "source": [
    "#### Funktionen ohne Rückgabewert\n",
    "\n",
    "Wird die Funktion nicht über eine return Anweisung verlassen, oder über ein return ohne Rückgabewert, dann gibt sie *None* zurück."
   ]
  },
  {
   "cell_type": "code",
   "execution_count": null,
   "metadata": {},
   "outputs": [],
   "source": [
    "def sterne():           # Diese Funktion tut etwas, aber sie gibt nichts zurück\n",
    "    print('*****') "
   ]
  },
  {
   "cell_type": "code",
   "execution_count": null,
   "metadata": {},
   "outputs": [],
   "source": [
    "a = sterne()\n",
    "print(a)"
   ]
  },
  {
   "cell_type": "markdown",
   "metadata": {
    "slideshow": {
     "slide_type": "slide"
    }
   },
   "source": [
    "#### Mehrere Rückgabewerte\n",
    "\n",
    "Wir können mit Komma getrennt mehrere Werte zurückgeben. Was zurückgegeben wird ist ein Tupel, das wir beim Aufruf sofort unpacken können."
   ]
  },
  {
   "cell_type": "code",
   "execution_count": null,
   "metadata": {
    "slideshow": {
     "slide_type": "fragment"
    }
   },
   "outputs": [],
   "source": [
    "def calc(a, b):                  \n",
    "    return a + b, a - b"
   ]
  },
  {
   "cell_type": "code",
   "execution_count": null,
   "metadata": {
    "slideshow": {
     "slide_type": "fragment"
    }
   },
   "outputs": [],
   "source": [
    "calc(10,2)"
   ]
  },
  {
   "cell_type": "code",
   "execution_count": null,
   "metadata": {},
   "outputs": [],
   "source": [
    "a, b = calc(10,2)        # Aufruf mit unpacking\n",
    "print(a, b)"
   ]
  },
  {
   "cell_type": "markdown",
   "metadata": {
    "slideshow": {
     "slide_type": "slide"
    }
   },
   "source": [
    "#### Wie wir Funktionen schreiben\n",
    "Für die meisten Fälle gilt: **Funktionen sollten alles, was sie für ihre Arbeit benötigen, über Parameter erhalten und alle Ergebnisse mittels return zurückgeben.** Wir werden in der Regel keine input- oder print-Anweisungen innerhalb von Funktionen verwenden. (Ausnahme: Funktionen, deren alleiniger Zweck die Ein- oder Ausgabe ist)."
   ]
  },
  {
   "cell_type": "code",
   "execution_count": null,
   "metadata": {
    "slideshow": {
     "slide_type": "slide"
    }
   },
   "outputs": [
    {
     "name": "stdout",
     "output_type": "stream",
     "text": [
      "Der größte gemeinsame Teiler beider Zahlen ist 2.\n"
     ]
    }
   ],
   "source": [
    "# SO NICHT:\n",
    "def ggt():\n",
    "    a = int(input('Bitte eine positive ganze Zahl eingeben: '))\n",
    "    b = int(input('Bitte noch eine positive ganze Zahl eingeben: '))\n",
    "    while a != b:\n",
    "        if a > b:\n",
    "            a = a - b\n",
    "        else:\n",
    "            b = b - a\n",
    "\n",
    "    print(f'Der größte gemeinsame Teiler beider Zahlen ist {a}.')\n",
    "    \n",
    "ggt()"
   ]
  },
  {
   "cell_type": "code",
   "execution_count": null,
   "metadata": {
    "slideshow": {
     "slide_type": "slide"
    }
   },
   "outputs": [],
   "source": [
    "# SONDERN SO:\n",
    "def ggt(a, b):\n",
    "    '''\n",
    "    a, b: positive ganze Zahl\n",
    "    returns: größten gemeinsamen Teiler von a und b\n",
    "    '''\n",
    "    while a != b:\n",
    "        if a > b:\n",
    "            a = a - b\n",
    "        else:\n",
    "            b = b - a\n",
    "    return a\n",
    "\n",
    "\n",
    "a = int(input('Bitte eine positive ganze Zahl eingeben: '))\n",
    "b = int(input('Bitte noch eine positive ganze Zahl eingeben: '))\n",
    "c = ggt(a,b)\n",
    "print(f'Der größte gemeinsame Teiler beider Zahlen ist {c}.')"
   ]
  },
  {
   "cell_type": "markdown",
   "metadata": {
    "slideshow": {
     "slide_type": "slide"
    }
   },
   "source": [
    "## Lokale und globale Variablen\n"
   ]
  },
  {
   "cell_type": "markdown",
   "metadata": {
    "slideshow": {
     "slide_type": "fragment"
    }
   },
   "source": [
    "Variablen, die außerhalb der Funktionen definiert werden, heißen *globale Variablen* und gehören zum *global frame*. Beim Aufruf einer Funktion entsteht ein neuer *frame* für die *lokalen Variablen*. Dies lässt sich gut im \n",
    "[Python Tutor](http://www.pythontutor.com/visualize.html#mode=edit) verfolgen."
   ]
  },
  {
   "cell_type": "markdown",
   "metadata": {
    "slideshow": {
     "slide_type": "slide"
    }
   },
   "source": [
    "Funktionen können auf globale Variablen lesend zugreifen."
   ]
  },
  {
   "cell_type": "code",
   "execution_count": null,
   "metadata": {
    "slideshow": {
     "slide_type": "fragment"
    }
   },
   "outputs": [],
   "source": [
    "def doit():\n",
    "    y = x + 2\n",
    "    return y\n",
    "\n",
    "x = 10          # globale Variable\n",
    "z = doit()\n",
    "\n",
    "print(x, z) "
   ]
  },
  {
   "cell_type": "markdown",
   "metadata": {
    "slideshow": {
     "slide_type": "slide"
    }
   },
   "source": [
    "Lokale Variablen verdecken gleichnamige globale Variablen."
   ]
  },
  {
   "cell_type": "code",
   "execution_count": null,
   "metadata": {
    "slideshow": {
     "slide_type": "fragment"
    }
   },
   "outputs": [],
   "source": [
    "def doit():\n",
    "    x = 5  \n",
    "    y = x + 2\n",
    "    return y\n",
    "\n",
    "x = 10   \n",
    "z = doit()\n",
    "\n",
    "print(x, z) "
   ]
  },
  {
   "cell_type": "markdown",
   "metadata": {
    "slideshow": {
     "slide_type": "slide"
    }
   },
   "source": [
    "Ein Parameter wirkt wie eine lokale Variable"
   ]
  },
  {
   "cell_type": "code",
   "execution_count": null,
   "metadata": {
    "slideshow": {
     "slide_type": "fragment"
    }
   },
   "outputs": [],
   "source": [
    "def doit(x):\n",
    "    y = x + 2\n",
    "    return y\n",
    "\n",
    "x = 10      \n",
    "z = doit(5)\n",
    "\n",
    "print(x,z)"
   ]
  },
  {
   "cell_type": "markdown",
   "metadata": {
    "slideshow": {
     "slide_type": "slide"
    }
   },
   "source": [
    "Um eine globale Variable in einer Funktion zu verändern, müssen wir diese Variable als global deklarieren."
   ]
  },
  {
   "cell_type": "code",
   "execution_count": null,
   "metadata": {
    "slideshow": {
     "slide_type": "fragment"
    }
   },
   "outputs": [],
   "source": [
    "def doit():\n",
    "    global x\n",
    "    x = 7\n",
    "    return x + 2\n",
    "    \n",
    "x = 10 \n",
    "z = doit()  \n",
    "\n",
    "print(x,z)"
   ]
  },
  {
   "cell_type": "markdown",
   "metadata": {
    "slideshow": {
     "slide_type": "slide"
    }
   },
   "source": [
    "In der Regel gilt: **Funktionen sollten für ihre Arbeit keine globalen Variablen benötigen, sondern nur ihre Parameter.**"
   ]
  },
  {
   "cell_type": "markdown",
   "metadata": {},
   "source": [
    "Manchmal erlauben wir uns (aus Bequemlichkeitsgründen) auch Ausnahmen von dieser Regel."
   ]
  },
  {
   "cell_type": "markdown",
   "metadata": {},
   "source": [
    "## Doctest\n",
    "\n",
    "Doctests sind automatisierte Tests für unsere Funktionen. In den docstring werden Beispielaufrufe mit den erwarteten Ausgaben geschrieben.\n",
    "Die doctest-Funktion vergleicht das, was unsere Funktionen zurückgibt, mit der erwarteten Ausgabe und meldet sich bei Abweichungen."
   ]
  },
  {
   "cell_type": "code",
   "execution_count": null,
   "metadata": {},
   "outputs": [],
   "source": [
    "def ggt(a,b):\n",
    "    '''\n",
    "    a, b: positive ganze Zahlen\n",
    "    returns: größter gemeinsamer Teiler von a und b\n",
    "\n",
    "    >>> ggt(24,16)\n",
    "    8\n",
    "    \n",
    "    >>> ggt(17,4)\n",
    "    1\n",
    "\n",
    "    >>> ggt(5,5)\n",
    "    5\n",
    "    '''\n",
    "    while a != b:\n",
    "        if (a > b):\n",
    "            a = a - b\n",
    "        else:\n",
    "            b = b - a\n",
    "    return a\n",
    "\n",
    "import doctest\n",
    "doctest.run_docstring_examples(ggt,globals(),optionflags=doctest.NORMALIZE_WHITESPACE) "
   ]
  },
  {
   "cell_type": "markdown",
   "metadata": {},
   "source": [
    "## Zusammenfassung\n",
    "\n",
    "- Funktionen sollten alles, was sie für ihre Arbeit benötigen, über Parameter erhalten und alle Ergebnisse mittels return zurückgeben.\n",
    "- Beim Aufruf einer Funktion werden den Parametern die Argumente des Aufrufs zugewiesen. Optionale Parameter kommen ans Ende der Parameterliste.\n",
    "- Wir können innerhalb von Funktionen lokale Variablen erstellen. Diese leben nur solange, bis die Funktion zum Ende gekommen ist.\n",
    "- Auf globale Variablen können wir innerhalb von Funktionen lesend zugreifen, sofern sie nicht durch Parameter oder lokale Variablen verdeckt sind.\n",
    "- Wenn wir innerhalb von Funktionen eine globale Variable ändern wollen, müssen wir sie in der Funktion mit dem Schlüsselwort *global* als global deklarieren.\n",
    "- Wenn wir beim Durchlaufen einer Funktion auf ein return stoßen, wird die Funktion sofort verlassen.\n",
    "- Mit return können wir mehrere Werte zurückgeben."
   ]
  },
  {
   "cell_type": "markdown",
   "metadata": {},
   "source": [
    "Wir erstellen Funktionen weil \n",
    "\n",
    "- wir einzelne Codeabschnitte besser testen können.\n",
    "- mit sprechenden Funktionsnamen die Programme, in denen wir die Funktionen aufrufen, besser lesbar werden.\n",
    "- wir die Codeabschnitte an anderen Stellen wiederverwenden können."
   ]
  }
 ],
 "metadata": {
  "celltoolbar": "Slideshow",
  "kernelspec": {
   "display_name": "Python 3 (ipykernel)",
   "language": "python",
   "name": "python3"
  },
  "language_info": {
   "codemirror_mode": {
    "name": "ipython",
    "version": 3
   },
   "file_extension": ".py",
   "mimetype": "text/x-python",
   "name": "python",
   "nbconvert_exporter": "python",
   "pygments_lexer": "ipython3",
   "version": "3.12.8"
  }
 },
 "nbformat": 4,
 "nbformat_minor": 4
}
